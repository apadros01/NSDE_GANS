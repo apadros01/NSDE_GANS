{
 "cells": [
  {
   "cell_type": "code",
   "execution_count": 2,
   "id": "6eaeab05",
   "metadata": {},
   "outputs": [],
   "source": [
    "import numpy as np\n",
    "import pandas as pd\n",
    "import fire\n",
    "import matplotlib.pyplot as plt\n",
    "import torch\n",
    "import torch.optim.swa_utils as swa_utils\n",
    "import torchcde\n",
    "import torchsde\n",
    "import tqdm\n",
    "import model1\n",
    "from model1 import Generator, Discriminator\n",
    "import json"
   ]
  },
  {
   "cell_type": "code",
   "execution_count": 3,
   "id": "eaa3fcc2",
   "metadata": {},
   "outputs": [],
   "source": [
    "demographic = pd.read_csv('demographic.csv')\n",
    "labs = pd.read_csv('labs.csv')"
   ]
  },
  {
   "cell_type": "markdown",
   "id": "8418f847",
   "metadata": {},
   "source": [
    "*Next step:* Hem de triar, pel dataset de demographic i pel de labs, algunes de les columnes. Pel de demographic, a vista, i pel de labs, les de l'excel amb les components d'un blood test."
   ]
  },
  {
   "cell_type": "code",
   "execution_count": 4,
   "id": "b1aaea45",
   "metadata": {
    "scrolled": true
   },
   "outputs": [
    {
     "data": {
      "text/html": [
       "<div>\n",
       "<style scoped>\n",
       "    .dataframe tbody tr th:only-of-type {\n",
       "        vertical-align: middle;\n",
       "    }\n",
       "\n",
       "    .dataframe tbody tr th {\n",
       "        vertical-align: top;\n",
       "    }\n",
       "\n",
       "    .dataframe thead th {\n",
       "        text-align: right;\n",
       "    }\n",
       "</style>\n",
       "<table border=\"1\" class=\"dataframe\">\n",
       "  <thead>\n",
       "    <tr style=\"text-align: right;\">\n",
       "      <th></th>\n",
       "      <th>SEQN</th>\n",
       "      <th>SDDSRVYR</th>\n",
       "      <th>RIDSTATR</th>\n",
       "      <th>RIAGENDR</th>\n",
       "      <th>RIDAGEYR</th>\n",
       "      <th>RIDAGEMN</th>\n",
       "      <th>RIDRETH1</th>\n",
       "      <th>RIDRETH3</th>\n",
       "      <th>RIDEXMON</th>\n",
       "      <th>RIDEXAGM</th>\n",
       "      <th>...</th>\n",
       "      <th>DMDHREDU</th>\n",
       "      <th>DMDHRMAR</th>\n",
       "      <th>DMDHSEDU</th>\n",
       "      <th>WTINT2YR</th>\n",
       "      <th>WTMEC2YR</th>\n",
       "      <th>SDMVPSU</th>\n",
       "      <th>SDMVSTRA</th>\n",
       "      <th>INDHHIN2</th>\n",
       "      <th>INDFMIN2</th>\n",
       "      <th>INDFMPIR</th>\n",
       "    </tr>\n",
       "  </thead>\n",
       "  <tbody>\n",
       "    <tr>\n",
       "      <th>0</th>\n",
       "      <td>73557</td>\n",
       "      <td>8</td>\n",
       "      <td>2</td>\n",
       "      <td>1</td>\n",
       "      <td>69</td>\n",
       "      <td>NaN</td>\n",
       "      <td>4</td>\n",
       "      <td>4</td>\n",
       "      <td>1.0</td>\n",
       "      <td>NaN</td>\n",
       "      <td>...</td>\n",
       "      <td>3.0</td>\n",
       "      <td>4.0</td>\n",
       "      <td>NaN</td>\n",
       "      <td>13281.237386</td>\n",
       "      <td>13481.042095</td>\n",
       "      <td>1</td>\n",
       "      <td>112</td>\n",
       "      <td>4.0</td>\n",
       "      <td>4.0</td>\n",
       "      <td>0.84</td>\n",
       "    </tr>\n",
       "    <tr>\n",
       "      <th>1</th>\n",
       "      <td>73558</td>\n",
       "      <td>8</td>\n",
       "      <td>2</td>\n",
       "      <td>1</td>\n",
       "      <td>54</td>\n",
       "      <td>NaN</td>\n",
       "      <td>3</td>\n",
       "      <td>3</td>\n",
       "      <td>1.0</td>\n",
       "      <td>NaN</td>\n",
       "      <td>...</td>\n",
       "      <td>3.0</td>\n",
       "      <td>1.0</td>\n",
       "      <td>1.0</td>\n",
       "      <td>23682.057386</td>\n",
       "      <td>24471.769625</td>\n",
       "      <td>1</td>\n",
       "      <td>108</td>\n",
       "      <td>7.0</td>\n",
       "      <td>7.0</td>\n",
       "      <td>1.78</td>\n",
       "    </tr>\n",
       "    <tr>\n",
       "      <th>2</th>\n",
       "      <td>73559</td>\n",
       "      <td>8</td>\n",
       "      <td>2</td>\n",
       "      <td>1</td>\n",
       "      <td>72</td>\n",
       "      <td>NaN</td>\n",
       "      <td>3</td>\n",
       "      <td>3</td>\n",
       "      <td>2.0</td>\n",
       "      <td>NaN</td>\n",
       "      <td>...</td>\n",
       "      <td>4.0</td>\n",
       "      <td>1.0</td>\n",
       "      <td>3.0</td>\n",
       "      <td>57214.803319</td>\n",
       "      <td>57193.285376</td>\n",
       "      <td>1</td>\n",
       "      <td>109</td>\n",
       "      <td>10.0</td>\n",
       "      <td>10.0</td>\n",
       "      <td>4.51</td>\n",
       "    </tr>\n",
       "    <tr>\n",
       "      <th>3</th>\n",
       "      <td>73560</td>\n",
       "      <td>8</td>\n",
       "      <td>2</td>\n",
       "      <td>1</td>\n",
       "      <td>9</td>\n",
       "      <td>NaN</td>\n",
       "      <td>3</td>\n",
       "      <td>3</td>\n",
       "      <td>1.0</td>\n",
       "      <td>119.0</td>\n",
       "      <td>...</td>\n",
       "      <td>3.0</td>\n",
       "      <td>1.0</td>\n",
       "      <td>4.0</td>\n",
       "      <td>55201.178592</td>\n",
       "      <td>55766.512438</td>\n",
       "      <td>2</td>\n",
       "      <td>109</td>\n",
       "      <td>9.0</td>\n",
       "      <td>9.0</td>\n",
       "      <td>2.52</td>\n",
       "    </tr>\n",
       "    <tr>\n",
       "      <th>4</th>\n",
       "      <td>73561</td>\n",
       "      <td>8</td>\n",
       "      <td>2</td>\n",
       "      <td>2</td>\n",
       "      <td>73</td>\n",
       "      <td>NaN</td>\n",
       "      <td>3</td>\n",
       "      <td>3</td>\n",
       "      <td>1.0</td>\n",
       "      <td>NaN</td>\n",
       "      <td>...</td>\n",
       "      <td>5.0</td>\n",
       "      <td>1.0</td>\n",
       "      <td>5.0</td>\n",
       "      <td>63709.667069</td>\n",
       "      <td>65541.871229</td>\n",
       "      <td>2</td>\n",
       "      <td>116</td>\n",
       "      <td>15.0</td>\n",
       "      <td>15.0</td>\n",
       "      <td>5.00</td>\n",
       "    </tr>\n",
       "    <tr>\n",
       "      <th>...</th>\n",
       "      <td>...</td>\n",
       "      <td>...</td>\n",
       "      <td>...</td>\n",
       "      <td>...</td>\n",
       "      <td>...</td>\n",
       "      <td>...</td>\n",
       "      <td>...</td>\n",
       "      <td>...</td>\n",
       "      <td>...</td>\n",
       "      <td>...</td>\n",
       "      <td>...</td>\n",
       "      <td>...</td>\n",
       "      <td>...</td>\n",
       "      <td>...</td>\n",
       "      <td>...</td>\n",
       "      <td>...</td>\n",
       "      <td>...</td>\n",
       "      <td>...</td>\n",
       "      <td>...</td>\n",
       "      <td>...</td>\n",
       "      <td>...</td>\n",
       "    </tr>\n",
       "    <tr>\n",
       "      <th>10170</th>\n",
       "      <td>83727</td>\n",
       "      <td>8</td>\n",
       "      <td>2</td>\n",
       "      <td>1</td>\n",
       "      <td>26</td>\n",
       "      <td>NaN</td>\n",
       "      <td>2</td>\n",
       "      <td>2</td>\n",
       "      <td>2.0</td>\n",
       "      <td>NaN</td>\n",
       "      <td>...</td>\n",
       "      <td>3.0</td>\n",
       "      <td>NaN</td>\n",
       "      <td>NaN</td>\n",
       "      <td>27141.631824</td>\n",
       "      <td>28115.568221</td>\n",
       "      <td>1</td>\n",
       "      <td>104</td>\n",
       "      <td>77.0</td>\n",
       "      <td>77.0</td>\n",
       "      <td>NaN</td>\n",
       "    </tr>\n",
       "    <tr>\n",
       "      <th>10171</th>\n",
       "      <td>83728</td>\n",
       "      <td>8</td>\n",
       "      <td>2</td>\n",
       "      <td>2</td>\n",
       "      <td>2</td>\n",
       "      <td>24.0</td>\n",
       "      <td>1</td>\n",
       "      <td>1</td>\n",
       "      <td>2.0</td>\n",
       "      <td>24.0</td>\n",
       "      <td>...</td>\n",
       "      <td>3.0</td>\n",
       "      <td>1.0</td>\n",
       "      <td>3.0</td>\n",
       "      <td>15274.475360</td>\n",
       "      <td>16512.138781</td>\n",
       "      <td>1</td>\n",
       "      <td>107</td>\n",
       "      <td>8.0</td>\n",
       "      <td>8.0</td>\n",
       "      <td>1.95</td>\n",
       "    </tr>\n",
       "    <tr>\n",
       "      <th>10172</th>\n",
       "      <td>83729</td>\n",
       "      <td>8</td>\n",
       "      <td>2</td>\n",
       "      <td>2</td>\n",
       "      <td>42</td>\n",
       "      <td>NaN</td>\n",
       "      <td>4</td>\n",
       "      <td>4</td>\n",
       "      <td>2.0</td>\n",
       "      <td>NaN</td>\n",
       "      <td>...</td>\n",
       "      <td>5.0</td>\n",
       "      <td>3.0</td>\n",
       "      <td>NaN</td>\n",
       "      <td>24122.248900</td>\n",
       "      <td>26902.344381</td>\n",
       "      <td>1</td>\n",
       "      <td>104</td>\n",
       "      <td>7.0</td>\n",
       "      <td>7.0</td>\n",
       "      <td>3.66</td>\n",
       "    </tr>\n",
       "    <tr>\n",
       "      <th>10173</th>\n",
       "      <td>83730</td>\n",
       "      <td>8</td>\n",
       "      <td>2</td>\n",
       "      <td>1</td>\n",
       "      <td>7</td>\n",
       "      <td>NaN</td>\n",
       "      <td>2</td>\n",
       "      <td>2</td>\n",
       "      <td>1.0</td>\n",
       "      <td>84.0</td>\n",
       "      <td>...</td>\n",
       "      <td>4.0</td>\n",
       "      <td>1.0</td>\n",
       "      <td>3.0</td>\n",
       "      <td>25521.878546</td>\n",
       "      <td>26686.025573</td>\n",
       "      <td>2</td>\n",
       "      <td>109</td>\n",
       "      <td>6.0</td>\n",
       "      <td>6.0</td>\n",
       "      <td>1.05</td>\n",
       "    </tr>\n",
       "    <tr>\n",
       "      <th>10174</th>\n",
       "      <td>83731</td>\n",
       "      <td>8</td>\n",
       "      <td>2</td>\n",
       "      <td>1</td>\n",
       "      <td>11</td>\n",
       "      <td>NaN</td>\n",
       "      <td>5</td>\n",
       "      <td>6</td>\n",
       "      <td>1.0</td>\n",
       "      <td>140.0</td>\n",
       "      <td>...</td>\n",
       "      <td>5.0</td>\n",
       "      <td>1.0</td>\n",
       "      <td>5.0</td>\n",
       "      <td>8930.180154</td>\n",
       "      <td>9700.873491</td>\n",
       "      <td>2</td>\n",
       "      <td>106</td>\n",
       "      <td>15.0</td>\n",
       "      <td>15.0</td>\n",
       "      <td>5.00</td>\n",
       "    </tr>\n",
       "  </tbody>\n",
       "</table>\n",
       "<p>10175 rows × 47 columns</p>\n",
       "</div>"
      ],
      "text/plain": [
       "        SEQN  SDDSRVYR  RIDSTATR  RIAGENDR  RIDAGEYR  RIDAGEMN  RIDRETH1  \\\n",
       "0      73557         8         2         1        69       NaN         4   \n",
       "1      73558         8         2         1        54       NaN         3   \n",
       "2      73559         8         2         1        72       NaN         3   \n",
       "3      73560         8         2         1         9       NaN         3   \n",
       "4      73561         8         2         2        73       NaN         3   \n",
       "...      ...       ...       ...       ...       ...       ...       ...   \n",
       "10170  83727         8         2         1        26       NaN         2   \n",
       "10171  83728         8         2         2         2      24.0         1   \n",
       "10172  83729         8         2         2        42       NaN         4   \n",
       "10173  83730         8         2         1         7       NaN         2   \n",
       "10174  83731         8         2         1        11       NaN         5   \n",
       "\n",
       "       RIDRETH3  RIDEXMON  RIDEXAGM  ...  DMDHREDU  DMDHRMAR  DMDHSEDU  \\\n",
       "0             4       1.0       NaN  ...       3.0       4.0       NaN   \n",
       "1             3       1.0       NaN  ...       3.0       1.0       1.0   \n",
       "2             3       2.0       NaN  ...       4.0       1.0       3.0   \n",
       "3             3       1.0     119.0  ...       3.0       1.0       4.0   \n",
       "4             3       1.0       NaN  ...       5.0       1.0       5.0   \n",
       "...         ...       ...       ...  ...       ...       ...       ...   \n",
       "10170         2       2.0       NaN  ...       3.0       NaN       NaN   \n",
       "10171         1       2.0      24.0  ...       3.0       1.0       3.0   \n",
       "10172         4       2.0       NaN  ...       5.0       3.0       NaN   \n",
       "10173         2       1.0      84.0  ...       4.0       1.0       3.0   \n",
       "10174         6       1.0     140.0  ...       5.0       1.0       5.0   \n",
       "\n",
       "           WTINT2YR      WTMEC2YR  SDMVPSU  SDMVSTRA  INDHHIN2  INDFMIN2  \\\n",
       "0      13281.237386  13481.042095        1       112       4.0       4.0   \n",
       "1      23682.057386  24471.769625        1       108       7.0       7.0   \n",
       "2      57214.803319  57193.285376        1       109      10.0      10.0   \n",
       "3      55201.178592  55766.512438        2       109       9.0       9.0   \n",
       "4      63709.667069  65541.871229        2       116      15.0      15.0   \n",
       "...             ...           ...      ...       ...       ...       ...   \n",
       "10170  27141.631824  28115.568221        1       104      77.0      77.0   \n",
       "10171  15274.475360  16512.138781        1       107       8.0       8.0   \n",
       "10172  24122.248900  26902.344381        1       104       7.0       7.0   \n",
       "10173  25521.878546  26686.025573        2       109       6.0       6.0   \n",
       "10174   8930.180154   9700.873491        2       106      15.0      15.0   \n",
       "\n",
       "       INDFMPIR  \n",
       "0          0.84  \n",
       "1          1.78  \n",
       "2          4.51  \n",
       "3          2.52  \n",
       "4          5.00  \n",
       "...         ...  \n",
       "10170       NaN  \n",
       "10171      1.95  \n",
       "10172      3.66  \n",
       "10173      1.05  \n",
       "10174      5.00  \n",
       "\n",
       "[10175 rows x 47 columns]"
      ]
     },
     "execution_count": 4,
     "metadata": {},
     "output_type": "execute_result"
    }
   ],
   "source": [
    "demographic"
   ]
  },
  {
   "cell_type": "code",
   "execution_count": 5,
   "id": "b529a777",
   "metadata": {},
   "outputs": [
    {
     "data": {
      "text/html": [
       "<div>\n",
       "<style scoped>\n",
       "    .dataframe tbody tr th:only-of-type {\n",
       "        vertical-align: middle;\n",
       "    }\n",
       "\n",
       "    .dataframe tbody tr th {\n",
       "        vertical-align: top;\n",
       "    }\n",
       "\n",
       "    .dataframe thead th {\n",
       "        text-align: right;\n",
       "    }\n",
       "</style>\n",
       "<table border=\"1\" class=\"dataframe\">\n",
       "  <thead>\n",
       "    <tr style=\"text-align: right;\">\n",
       "      <th></th>\n",
       "      <th>SEQN</th>\n",
       "      <th>DMDBORN4</th>\n",
       "      <th>RIDAGEYR</th>\n",
       "      <th>RIAGENDR</th>\n",
       "      <th>RIDEXPRG</th>\n",
       "      <th>RIDRETH3</th>\n",
       "    </tr>\n",
       "  </thead>\n",
       "  <tbody>\n",
       "    <tr>\n",
       "      <th>0</th>\n",
       "      <td>73557</td>\n",
       "      <td>1</td>\n",
       "      <td>69</td>\n",
       "      <td>1</td>\n",
       "      <td>NaN</td>\n",
       "      <td>4</td>\n",
       "    </tr>\n",
       "    <tr>\n",
       "      <th>1</th>\n",
       "      <td>73558</td>\n",
       "      <td>1</td>\n",
       "      <td>54</td>\n",
       "      <td>1</td>\n",
       "      <td>NaN</td>\n",
       "      <td>3</td>\n",
       "    </tr>\n",
       "    <tr>\n",
       "      <th>2</th>\n",
       "      <td>73559</td>\n",
       "      <td>1</td>\n",
       "      <td>72</td>\n",
       "      <td>1</td>\n",
       "      <td>NaN</td>\n",
       "      <td>3</td>\n",
       "    </tr>\n",
       "    <tr>\n",
       "      <th>3</th>\n",
       "      <td>73560</td>\n",
       "      <td>1</td>\n",
       "      <td>9</td>\n",
       "      <td>1</td>\n",
       "      <td>NaN</td>\n",
       "      <td>3</td>\n",
       "    </tr>\n",
       "    <tr>\n",
       "      <th>4</th>\n",
       "      <td>73561</td>\n",
       "      <td>1</td>\n",
       "      <td>73</td>\n",
       "      <td>2</td>\n",
       "      <td>NaN</td>\n",
       "      <td>3</td>\n",
       "    </tr>\n",
       "    <tr>\n",
       "      <th>...</th>\n",
       "      <td>...</td>\n",
       "      <td>...</td>\n",
       "      <td>...</td>\n",
       "      <td>...</td>\n",
       "      <td>...</td>\n",
       "      <td>...</td>\n",
       "    </tr>\n",
       "    <tr>\n",
       "      <th>10170</th>\n",
       "      <td>83727</td>\n",
       "      <td>1</td>\n",
       "      <td>26</td>\n",
       "      <td>1</td>\n",
       "      <td>NaN</td>\n",
       "      <td>2</td>\n",
       "    </tr>\n",
       "    <tr>\n",
       "      <th>10171</th>\n",
       "      <td>83728</td>\n",
       "      <td>1</td>\n",
       "      <td>2</td>\n",
       "      <td>2</td>\n",
       "      <td>NaN</td>\n",
       "      <td>1</td>\n",
       "    </tr>\n",
       "    <tr>\n",
       "      <th>10172</th>\n",
       "      <td>83729</td>\n",
       "      <td>2</td>\n",
       "      <td>42</td>\n",
       "      <td>2</td>\n",
       "      <td>2.0</td>\n",
       "      <td>4</td>\n",
       "    </tr>\n",
       "    <tr>\n",
       "      <th>10173</th>\n",
       "      <td>83730</td>\n",
       "      <td>1</td>\n",
       "      <td>7</td>\n",
       "      <td>1</td>\n",
       "      <td>NaN</td>\n",
       "      <td>2</td>\n",
       "    </tr>\n",
       "    <tr>\n",
       "      <th>10174</th>\n",
       "      <td>83731</td>\n",
       "      <td>1</td>\n",
       "      <td>11</td>\n",
       "      <td>1</td>\n",
       "      <td>NaN</td>\n",
       "      <td>6</td>\n",
       "    </tr>\n",
       "  </tbody>\n",
       "</table>\n",
       "<p>10175 rows × 6 columns</p>\n",
       "</div>"
      ],
      "text/plain": [
       "        SEQN  DMDBORN4  RIDAGEYR  RIAGENDR  RIDEXPRG  RIDRETH3\n",
       "0      73557         1        69         1       NaN         4\n",
       "1      73558         1        54         1       NaN         3\n",
       "2      73559         1        72         1       NaN         3\n",
       "3      73560         1         9         1       NaN         3\n",
       "4      73561         1        73         2       NaN         3\n",
       "...      ...       ...       ...       ...       ...       ...\n",
       "10170  83727         1        26         1       NaN         2\n",
       "10171  83728         1         2         2       NaN         1\n",
       "10172  83729         2        42         2       2.0         4\n",
       "10173  83730         1         7         1       NaN         2\n",
       "10174  83731         1        11         1       NaN         6\n",
       "\n",
       "[10175 rows x 6 columns]"
      ]
     },
     "execution_count": 5,
     "metadata": {},
     "output_type": "execute_result"
    }
   ],
   "source": [
    "demographic = demographic[['SEQN','DMDBORN4','RIDAGEYR','RIAGENDR','RIDEXPRG','RIDRETH3']]\n",
    "demographic"
   ]
  },
  {
   "cell_type": "code",
   "execution_count": 6,
   "id": "cc2da061",
   "metadata": {},
   "outputs": [
    {
     "data": {
      "text/html": [
       "<div>\n",
       "<style scoped>\n",
       "    .dataframe tbody tr th:only-of-type {\n",
       "        vertical-align: middle;\n",
       "    }\n",
       "\n",
       "    .dataframe tbody tr th {\n",
       "        vertical-align: top;\n",
       "    }\n",
       "\n",
       "    .dataframe thead th {\n",
       "        text-align: right;\n",
       "    }\n",
       "</style>\n",
       "<table border=\"1\" class=\"dataframe\">\n",
       "  <thead>\n",
       "    <tr style=\"text-align: right;\">\n",
       "      <th></th>\n",
       "      <th>SEQN</th>\n",
       "      <th>DMDBORN4</th>\n",
       "      <th>RIDAGEYR</th>\n",
       "      <th>RIAGENDR</th>\n",
       "      <th>RIDEXPRG</th>\n",
       "      <th>RIDRETH3</th>\n",
       "    </tr>\n",
       "  </thead>\n",
       "  <tbody>\n",
       "    <tr>\n",
       "      <th>0</th>\n",
       "      <td>73557</td>\n",
       "      <td>1</td>\n",
       "      <td>69</td>\n",
       "      <td>1</td>\n",
       "      <td>NaN</td>\n",
       "      <td>4</td>\n",
       "    </tr>\n",
       "    <tr>\n",
       "      <th>1</th>\n",
       "      <td>73558</td>\n",
       "      <td>1</td>\n",
       "      <td>54</td>\n",
       "      <td>1</td>\n",
       "      <td>NaN</td>\n",
       "      <td>3</td>\n",
       "    </tr>\n",
       "    <tr>\n",
       "      <th>2</th>\n",
       "      <td>73559</td>\n",
       "      <td>1</td>\n",
       "      <td>72</td>\n",
       "      <td>1</td>\n",
       "      <td>NaN</td>\n",
       "      <td>3</td>\n",
       "    </tr>\n",
       "    <tr>\n",
       "      <th>3</th>\n",
       "      <td>73560</td>\n",
       "      <td>1</td>\n",
       "      <td>9</td>\n",
       "      <td>1</td>\n",
       "      <td>NaN</td>\n",
       "      <td>3</td>\n",
       "    </tr>\n",
       "    <tr>\n",
       "      <th>4</th>\n",
       "      <td>73561</td>\n",
       "      <td>1</td>\n",
       "      <td>73</td>\n",
       "      <td>2</td>\n",
       "      <td>NaN</td>\n",
       "      <td>3</td>\n",
       "    </tr>\n",
       "    <tr>\n",
       "      <th>...</th>\n",
       "      <td>...</td>\n",
       "      <td>...</td>\n",
       "      <td>...</td>\n",
       "      <td>...</td>\n",
       "      <td>...</td>\n",
       "      <td>...</td>\n",
       "    </tr>\n",
       "    <tr>\n",
       "      <th>10170</th>\n",
       "      <td>83727</td>\n",
       "      <td>1</td>\n",
       "      <td>26</td>\n",
       "      <td>1</td>\n",
       "      <td>NaN</td>\n",
       "      <td>2</td>\n",
       "    </tr>\n",
       "    <tr>\n",
       "      <th>10171</th>\n",
       "      <td>83728</td>\n",
       "      <td>1</td>\n",
       "      <td>2</td>\n",
       "      <td>2</td>\n",
       "      <td>NaN</td>\n",
       "      <td>1</td>\n",
       "    </tr>\n",
       "    <tr>\n",
       "      <th>10172</th>\n",
       "      <td>83729</td>\n",
       "      <td>2</td>\n",
       "      <td>42</td>\n",
       "      <td>2</td>\n",
       "      <td>2.0</td>\n",
       "      <td>4</td>\n",
       "    </tr>\n",
       "    <tr>\n",
       "      <th>10173</th>\n",
       "      <td>83730</td>\n",
       "      <td>1</td>\n",
       "      <td>7</td>\n",
       "      <td>1</td>\n",
       "      <td>NaN</td>\n",
       "      <td>2</td>\n",
       "    </tr>\n",
       "    <tr>\n",
       "      <th>10174</th>\n",
       "      <td>83731</td>\n",
       "      <td>1</td>\n",
       "      <td>11</td>\n",
       "      <td>1</td>\n",
       "      <td>NaN</td>\n",
       "      <td>6</td>\n",
       "    </tr>\n",
       "  </tbody>\n",
       "</table>\n",
       "<p>10175 rows × 6 columns</p>\n",
       "</div>"
      ],
      "text/plain": [
       "        SEQN  DMDBORN4  RIDAGEYR  RIAGENDR  RIDEXPRG  RIDRETH3\n",
       "0      73557         1        69         1       NaN         4\n",
       "1      73558         1        54         1       NaN         3\n",
       "2      73559         1        72         1       NaN         3\n",
       "3      73560         1         9         1       NaN         3\n",
       "4      73561         1        73         2       NaN         3\n",
       "...      ...       ...       ...       ...       ...       ...\n",
       "10170  83727         1        26         1       NaN         2\n",
       "10171  83728         1         2         2       NaN         1\n",
       "10172  83729         2        42         2       2.0         4\n",
       "10173  83730         1         7         1       NaN         2\n",
       "10174  83731         1        11         1       NaN         6\n",
       "\n",
       "[10175 rows x 6 columns]"
      ]
     },
     "execution_count": 6,
     "metadata": {},
     "output_type": "execute_result"
    }
   ],
   "source": [
    "demographic"
   ]
  },
  {
   "cell_type": "code",
   "execution_count": 7,
   "id": "5ecd5283",
   "metadata": {},
   "outputs": [
    {
     "name": "stderr",
     "output_type": "stream",
     "text": [
      "C:\\Users\\alex.padros\\AppData\\Local\\Temp\\4\\ipykernel_1444\\357610968.py:1: SettingWithCopyWarning: \n",
      "A value is trying to be set on a copy of a slice from a DataFrame\n",
      "\n",
      "See the caveats in the documentation: https://pandas.pydata.org/pandas-docs/stable/user_guide/indexing.html#returning-a-view-versus-a-copy\n",
      "  demographic.rename(columns={'SEQN':'id','DMDBORN4':'country','RIDAGEYR':'age_years','RIAGENDR':'gender',\n"
     ]
    }
   ],
   "source": [
    "demographic.rename(columns={'SEQN':'id','DMDBORN4':'country','RIDAGEYR':'age_years','RIAGENDR':'gender',\n",
    "                    'RIDEXPRG':'pregnancy_status','RIDRETH3':'race'},inplace=True)"
   ]
  },
  {
   "cell_type": "code",
   "execution_count": 8,
   "id": "be17dfae",
   "metadata": {},
   "outputs": [
    {
     "data": {
      "text/plain": [
       "id                     0\n",
       "country                0\n",
       "age_years              0\n",
       "gender                 0\n",
       "pregnancy_status    8866\n",
       "race                   0\n",
       "dtype: int64"
      ]
     },
     "execution_count": 8,
     "metadata": {},
     "output_type": "execute_result"
    }
   ],
   "source": [
    "demographic.isnull().sum()"
   ]
  },
  {
   "cell_type": "code",
   "execution_count": 9,
   "id": "50c01c92",
   "metadata": {
    "scrolled": true
   },
   "outputs": [
    {
     "data": {
      "text/plain": [
       "id                    int64\n",
       "country               int64\n",
       "age_years             int64\n",
       "gender                int64\n",
       "pregnancy_status    float64\n",
       "race                  int64\n",
       "dtype: object"
      ]
     },
     "execution_count": 9,
     "metadata": {},
     "output_type": "execute_result"
    }
   ],
   "source": [
    "demographic.dtypes"
   ]
  },
  {
   "cell_type": "code",
   "execution_count": 10,
   "id": "0bfa3c84",
   "metadata": {},
   "outputs": [
    {
     "name": "stderr",
     "output_type": "stream",
     "text": [
      "C:\\Users\\alex.padros\\AppData\\Local\\Temp\\4\\ipykernel_1444\\1475092732.py:1: SettingWithCopyWarning: \n",
      "A value is trying to be set on a copy of a slice from a DataFrame.\n",
      "Try using .loc[row_indexer,col_indexer] = value instead\n",
      "\n",
      "See the caveats in the documentation: https://pandas.pydata.org/pandas-docs/stable/user_guide/indexing.html#returning-a-view-versus-a-copy\n",
      "  demographic['pregnancy_status']=demographic['pregnancy_status'].fillna(0)\n",
      "C:\\Users\\alex.padros\\AppData\\Local\\Temp\\4\\ipykernel_1444\\1475092732.py:2: SettingWithCopyWarning: \n",
      "A value is trying to be set on a copy of a slice from a DataFrame.\n",
      "Try using .loc[row_indexer,col_indexer] = value instead\n",
      "\n",
      "See the caveats in the documentation: https://pandas.pydata.org/pandas-docs/stable/user_guide/indexing.html#returning-a-view-versus-a-copy\n",
      "  demographic['pregnancy_status']=demographic['pregnancy_status'].astype(np.int64)\n"
     ]
    }
   ],
   "source": [
    "demographic['pregnancy_status']=demographic['pregnancy_status'].fillna(0)\n",
    "demographic['pregnancy_status']=demographic['pregnancy_status'].astype(np.int64)"
   ]
  },
  {
   "cell_type": "code",
   "execution_count": 46,
   "id": "5e48943a",
   "metadata": {},
   "outputs": [],
   "source": [
    "labs = pd.read_csv('labs.csv')"
   ]
  },
  {
   "cell_type": "code",
   "execution_count": 47,
   "id": "80da2cbd",
   "metadata": {},
   "outputs": [
    {
     "data": {
      "text/plain": [
       "SEQN           0\n",
       "URXUMA      1761\n",
       "URXUMS      1761\n",
       "URXUCR.x    1761\n",
       "URXCRS      1761\n",
       "            ... \n",
       "URDUURLC    7149\n",
       "URXPREG     8552\n",
       "URXUAS      7151\n",
       "LBDB12      4497\n",
       "LBDB12SI    4497\n",
       "Length: 424, dtype: int64"
      ]
     },
     "execution_count": 47,
     "metadata": {},
     "output_type": "execute_result"
    }
   ],
   "source": [
    "labs.isnull().sum()"
   ]
  },
  {
   "cell_type": "code",
   "execution_count": 48,
   "id": "df8de39f",
   "metadata": {},
   "outputs": [
    {
     "data": {
      "text/html": [
       "<div>\n",
       "<style scoped>\n",
       "    .dataframe tbody tr th:only-of-type {\n",
       "        vertical-align: middle;\n",
       "    }\n",
       "\n",
       "    .dataframe tbody tr th {\n",
       "        vertical-align: top;\n",
       "    }\n",
       "\n",
       "    .dataframe thead th {\n",
       "        text-align: right;\n",
       "    }\n",
       "</style>\n",
       "<table border=\"1\" class=\"dataframe\">\n",
       "  <thead>\n",
       "    <tr style=\"text-align: right;\">\n",
       "      <th></th>\n",
       "      <th>SEQN</th>\n",
       "      <th>LBDHDDSI</th>\n",
       "      <th>LBDTCSI</th>\n",
       "      <th>LBXSUA</th>\n",
       "      <th>LBXSATSI</th>\n",
       "      <th>LBXSASSI</th>\n",
       "      <th>LBDSTPSI</th>\n",
       "      <th>LBDSALSI</th>\n",
       "      <th>LBXSTB</th>\n",
       "      <th>LBXHGB</th>\n",
       "      <th>...</th>\n",
       "      <th>LBXMCHSI</th>\n",
       "      <th>LBXMC</th>\n",
       "      <th>LBXWBCSI</th>\n",
       "      <th>LBDNENO</th>\n",
       "      <th>LBDLYMNO</th>\n",
       "      <th>LBDMONO</th>\n",
       "      <th>LBDEONO</th>\n",
       "      <th>LBDBANO</th>\n",
       "      <th>LBDSIRSI</th>\n",
       "      <th>LBXPLTSI</th>\n",
       "    </tr>\n",
       "  </thead>\n",
       "  <tbody>\n",
       "    <tr>\n",
       "      <th>0</th>\n",
       "      <td>73557</td>\n",
       "      <td>1.68</td>\n",
       "      <td>4.32</td>\n",
       "      <td>3.3</td>\n",
       "      <td>16.0</td>\n",
       "      <td>16.0</td>\n",
       "      <td>65.0</td>\n",
       "      <td>41.0</td>\n",
       "      <td>0.8</td>\n",
       "      <td>15.2</td>\n",
       "      <td>...</td>\n",
       "      <td>29.9</td>\n",
       "      <td>33.4</td>\n",
       "      <td>4.7</td>\n",
       "      <td>2.0</td>\n",
       "      <td>2.0</td>\n",
       "      <td>0.5</td>\n",
       "      <td>0.2</td>\n",
       "      <td>0.1</td>\n",
       "      <td>10.4</td>\n",
       "      <td>204.0</td>\n",
       "    </tr>\n",
       "    <tr>\n",
       "      <th>1</th>\n",
       "      <td>73558</td>\n",
       "      <td>1.29</td>\n",
       "      <td>4.40</td>\n",
       "      <td>4.7</td>\n",
       "      <td>29.0</td>\n",
       "      <td>18.0</td>\n",
       "      <td>78.0</td>\n",
       "      <td>47.0</td>\n",
       "      <td>0.9</td>\n",
       "      <td>11.9</td>\n",
       "      <td>...</td>\n",
       "      <td>31.0</td>\n",
       "      <td>32.5</td>\n",
       "      <td>12.6</td>\n",
       "      <td>7.4</td>\n",
       "      <td>3.4</td>\n",
       "      <td>1.0</td>\n",
       "      <td>0.8</td>\n",
       "      <td>0.1</td>\n",
       "      <td>14.1</td>\n",
       "      <td>314.0</td>\n",
       "    </tr>\n",
       "    <tr>\n",
       "      <th>2</th>\n",
       "      <td>73559</td>\n",
       "      <td>1.55</td>\n",
       "      <td>3.26</td>\n",
       "      <td>5.7</td>\n",
       "      <td>16.0</td>\n",
       "      <td>22.0</td>\n",
       "      <td>59.0</td>\n",
       "      <td>37.0</td>\n",
       "      <td>0.6</td>\n",
       "      <td>17.2</td>\n",
       "      <td>...</td>\n",
       "      <td>31.1</td>\n",
       "      <td>34.3</td>\n",
       "      <td>7.2</td>\n",
       "      <td>4.9</td>\n",
       "      <td>1.0</td>\n",
       "      <td>0.8</td>\n",
       "      <td>0.4</td>\n",
       "      <td>0.1</td>\n",
       "      <td>17.6</td>\n",
       "      <td>237.0</td>\n",
       "    </tr>\n",
       "    <tr>\n",
       "      <th>3</th>\n",
       "      <td>73560</td>\n",
       "      <td>1.58</td>\n",
       "      <td>4.34</td>\n",
       "      <td>NaN</td>\n",
       "      <td>NaN</td>\n",
       "      <td>NaN</td>\n",
       "      <td>NaN</td>\n",
       "      <td>NaN</td>\n",
       "      <td>NaN</td>\n",
       "      <td>12.9</td>\n",
       "      <td>...</td>\n",
       "      <td>28.0</td>\n",
       "      <td>34.0</td>\n",
       "      <td>7.8</td>\n",
       "      <td>4.6</td>\n",
       "      <td>2.3</td>\n",
       "      <td>0.7</td>\n",
       "      <td>0.1</td>\n",
       "      <td>0.0</td>\n",
       "      <td>NaN</td>\n",
       "      <td>240.0</td>\n",
       "    </tr>\n",
       "    <tr>\n",
       "      <th>4</th>\n",
       "      <td>73561</td>\n",
       "      <td>2.20</td>\n",
       "      <td>5.20</td>\n",
       "      <td>4.2</td>\n",
       "      <td>28.0</td>\n",
       "      <td>36.0</td>\n",
       "      <td>71.0</td>\n",
       "      <td>43.0</td>\n",
       "      <td>0.5</td>\n",
       "      <td>14.5</td>\n",
       "      <td>...</td>\n",
       "      <td>30.6</td>\n",
       "      <td>33.0</td>\n",
       "      <td>6.6</td>\n",
       "      <td>4.5</td>\n",
       "      <td>1.4</td>\n",
       "      <td>0.5</td>\n",
       "      <td>0.2</td>\n",
       "      <td>0.1</td>\n",
       "      <td>16.3</td>\n",
       "      <td>300.0</td>\n",
       "    </tr>\n",
       "    <tr>\n",
       "      <th>...</th>\n",
       "      <td>...</td>\n",
       "      <td>...</td>\n",
       "      <td>...</td>\n",
       "      <td>...</td>\n",
       "      <td>...</td>\n",
       "      <td>...</td>\n",
       "      <td>...</td>\n",
       "      <td>...</td>\n",
       "      <td>...</td>\n",
       "      <td>...</td>\n",
       "      <td>...</td>\n",
       "      <td>...</td>\n",
       "      <td>...</td>\n",
       "      <td>...</td>\n",
       "      <td>...</td>\n",
       "      <td>...</td>\n",
       "      <td>...</td>\n",
       "      <td>...</td>\n",
       "      <td>...</td>\n",
       "      <td>...</td>\n",
       "      <td>...</td>\n",
       "    </tr>\n",
       "    <tr>\n",
       "      <th>9808</th>\n",
       "      <td>83727</td>\n",
       "      <td>1.42</td>\n",
       "      <td>4.91</td>\n",
       "      <td>5.3</td>\n",
       "      <td>26.0</td>\n",
       "      <td>27.0</td>\n",
       "      <td>75.0</td>\n",
       "      <td>49.0</td>\n",
       "      <td>0.9</td>\n",
       "      <td>14.9</td>\n",
       "      <td>...</td>\n",
       "      <td>29.3</td>\n",
       "      <td>32.9</td>\n",
       "      <td>5.1</td>\n",
       "      <td>2.9</td>\n",
       "      <td>1.6</td>\n",
       "      <td>0.3</td>\n",
       "      <td>0.2</td>\n",
       "      <td>0.0</td>\n",
       "      <td>13.1</td>\n",
       "      <td>226.0</td>\n",
       "    </tr>\n",
       "    <tr>\n",
       "      <th>9809</th>\n",
       "      <td>83728</td>\n",
       "      <td>NaN</td>\n",
       "      <td>NaN</td>\n",
       "      <td>NaN</td>\n",
       "      <td>NaN</td>\n",
       "      <td>NaN</td>\n",
       "      <td>NaN</td>\n",
       "      <td>NaN</td>\n",
       "      <td>NaN</td>\n",
       "      <td>12.2</td>\n",
       "      <td>...</td>\n",
       "      <td>28.9</td>\n",
       "      <td>35.0</td>\n",
       "      <td>6.6</td>\n",
       "      <td>1.4</td>\n",
       "      <td>4.4</td>\n",
       "      <td>0.5</td>\n",
       "      <td>0.2</td>\n",
       "      <td>0.0</td>\n",
       "      <td>NaN</td>\n",
       "      <td>441.0</td>\n",
       "    </tr>\n",
       "    <tr>\n",
       "      <th>9810</th>\n",
       "      <td>83729</td>\n",
       "      <td>1.24</td>\n",
       "      <td>3.93</td>\n",
       "      <td>5.3</td>\n",
       "      <td>13.0</td>\n",
       "      <td>26.0</td>\n",
       "      <td>67.0</td>\n",
       "      <td>41.0</td>\n",
       "      <td>0.2</td>\n",
       "      <td>12.2</td>\n",
       "      <td>...</td>\n",
       "      <td>29.2</td>\n",
       "      <td>32.8</td>\n",
       "      <td>6.4</td>\n",
       "      <td>3.2</td>\n",
       "      <td>2.5</td>\n",
       "      <td>0.6</td>\n",
       "      <td>0.1</td>\n",
       "      <td>0.0</td>\n",
       "      <td>8.8</td>\n",
       "      <td>213.0</td>\n",
       "    </tr>\n",
       "    <tr>\n",
       "      <th>9811</th>\n",
       "      <td>83730</td>\n",
       "      <td>1.32</td>\n",
       "      <td>4.32</td>\n",
       "      <td>NaN</td>\n",
       "      <td>NaN</td>\n",
       "      <td>NaN</td>\n",
       "      <td>NaN</td>\n",
       "      <td>NaN</td>\n",
       "      <td>NaN</td>\n",
       "      <td>13.7</td>\n",
       "      <td>...</td>\n",
       "      <td>27.2</td>\n",
       "      <td>33.7</td>\n",
       "      <td>9.9</td>\n",
       "      <td>4.0</td>\n",
       "      <td>5.0</td>\n",
       "      <td>0.6</td>\n",
       "      <td>0.3</td>\n",
       "      <td>0.0</td>\n",
       "      <td>NaN</td>\n",
       "      <td>352.0</td>\n",
       "    </tr>\n",
       "    <tr>\n",
       "      <th>9812</th>\n",
       "      <td>83731</td>\n",
       "      <td>NaN</td>\n",
       "      <td>NaN</td>\n",
       "      <td>NaN</td>\n",
       "      <td>NaN</td>\n",
       "      <td>NaN</td>\n",
       "      <td>NaN</td>\n",
       "      <td>NaN</td>\n",
       "      <td>NaN</td>\n",
       "      <td>NaN</td>\n",
       "      <td>...</td>\n",
       "      <td>NaN</td>\n",
       "      <td>NaN</td>\n",
       "      <td>NaN</td>\n",
       "      <td>NaN</td>\n",
       "      <td>NaN</td>\n",
       "      <td>NaN</td>\n",
       "      <td>NaN</td>\n",
       "      <td>NaN</td>\n",
       "      <td>NaN</td>\n",
       "      <td>NaN</td>\n",
       "    </tr>\n",
       "  </tbody>\n",
       "</table>\n",
       "<p>9813 rows × 23 columns</p>\n",
       "</div>"
      ],
      "text/plain": [
       "       SEQN  LBDHDDSI  LBDTCSI  LBXSUA  LBXSATSI  LBXSASSI  LBDSTPSI  \\\n",
       "0     73557      1.68     4.32     3.3      16.0      16.0      65.0   \n",
       "1     73558      1.29     4.40     4.7      29.0      18.0      78.0   \n",
       "2     73559      1.55     3.26     5.7      16.0      22.0      59.0   \n",
       "3     73560      1.58     4.34     NaN       NaN       NaN       NaN   \n",
       "4     73561      2.20     5.20     4.2      28.0      36.0      71.0   \n",
       "...     ...       ...      ...     ...       ...       ...       ...   \n",
       "9808  83727      1.42     4.91     5.3      26.0      27.0      75.0   \n",
       "9809  83728       NaN      NaN     NaN       NaN       NaN       NaN   \n",
       "9810  83729      1.24     3.93     5.3      13.0      26.0      67.0   \n",
       "9811  83730      1.32     4.32     NaN       NaN       NaN       NaN   \n",
       "9812  83731       NaN      NaN     NaN       NaN       NaN       NaN   \n",
       "\n",
       "      LBDSALSI  LBXSTB  LBXHGB  ...  LBXMCHSI  LBXMC  LBXWBCSI  LBDNENO  \\\n",
       "0         41.0     0.8    15.2  ...      29.9   33.4       4.7      2.0   \n",
       "1         47.0     0.9    11.9  ...      31.0   32.5      12.6      7.4   \n",
       "2         37.0     0.6    17.2  ...      31.1   34.3       7.2      4.9   \n",
       "3          NaN     NaN    12.9  ...      28.0   34.0       7.8      4.6   \n",
       "4         43.0     0.5    14.5  ...      30.6   33.0       6.6      4.5   \n",
       "...        ...     ...     ...  ...       ...    ...       ...      ...   \n",
       "9808      49.0     0.9    14.9  ...      29.3   32.9       5.1      2.9   \n",
       "9809       NaN     NaN    12.2  ...      28.9   35.0       6.6      1.4   \n",
       "9810      41.0     0.2    12.2  ...      29.2   32.8       6.4      3.2   \n",
       "9811       NaN     NaN    13.7  ...      27.2   33.7       9.9      4.0   \n",
       "9812       NaN     NaN     NaN  ...       NaN    NaN       NaN      NaN   \n",
       "\n",
       "      LBDLYMNO  LBDMONO  LBDEONO  LBDBANO  LBDSIRSI  LBXPLTSI  \n",
       "0          2.0      0.5      0.2      0.1      10.4     204.0  \n",
       "1          3.4      1.0      0.8      0.1      14.1     314.0  \n",
       "2          1.0      0.8      0.4      0.1      17.6     237.0  \n",
       "3          2.3      0.7      0.1      0.0       NaN     240.0  \n",
       "4          1.4      0.5      0.2      0.1      16.3     300.0  \n",
       "...        ...      ...      ...      ...       ...       ...  \n",
       "9808       1.6      0.3      0.2      0.0      13.1     226.0  \n",
       "9809       4.4      0.5      0.2      0.0       NaN     441.0  \n",
       "9810       2.5      0.6      0.1      0.0       8.8     213.0  \n",
       "9811       5.0      0.6      0.3      0.0       NaN     352.0  \n",
       "9812       NaN      NaN      NaN      NaN       NaN       NaN  \n",
       "\n",
       "[9813 rows x 23 columns]"
      ]
     },
     "execution_count": 48,
     "metadata": {},
     "output_type": "execute_result"
    }
   ],
   "source": [
    "labs = labs[['SEQN','LBDHDDSI','LBDTCSI',\n",
    "      'LBXSUA','LBXSATSI','LBXSASSI','LBDSTPSI','LBDSALSI','LBXSTB','LBXHGB','LBXHCT',\n",
    "      'LBXRBCSI','LBXMCVSI','LBXMCHSI','LBXMC','LBXWBCSI','LBDNENO','LBDLYMNO','LBDMONO',\n",
    "      'LBDEONO','LBDBANO','LBDSIRSI','LBXPLTSI']]\n",
    "labs"
   ]
  },
  {
   "cell_type": "code",
   "execution_count": 36,
   "id": "df9e3f08",
   "metadata": {},
   "outputs": [
    {
     "data": {
      "text/plain": [
       "SEQN         0\n",
       "LBDHDDSI     1\n",
       "LBDTCSI      1\n",
       "LBXSUA       2\n",
       "LBXSATSI     2\n",
       "LBXSASSI     2\n",
       "LBDSTPSI     8\n",
       "LBDSALSI     0\n",
       "LBXSTB       4\n",
       "LBXHGB       0\n",
       "LBXHCT       0\n",
       "LBXRBCSI     0\n",
       "LBXMCVSI     0\n",
       "LBXMCHSI     0\n",
       "LBXMC        0\n",
       "LBXWBCSI     0\n",
       "LBDNENO     19\n",
       "LBDLYMNO    19\n",
       "LBDMONO     19\n",
       "LBDEONO     19\n",
       "LBDBANO     19\n",
       "LBDSIRSI    26\n",
       "LBXPLTSI     0\n",
       "dtype: int64"
      ]
     },
     "execution_count": 36,
     "metadata": {},
     "output_type": "execute_result"
    }
   ],
   "source": [
    "# This will keep only rows which have nan's less than 6 in the dataframe, \n",
    "# and will remove all having nan's > 6.\n",
    "labs_clean = labs[labs.isnull().sum(axis=1) <= 6]\n",
    "labs_clean.isnull().sum()"
   ]
  },
  {
   "cell_type": "code",
   "execution_count": 37,
   "id": "6a9e3f3b",
   "metadata": {},
   "outputs": [
    {
     "name": "stderr",
     "output_type": "stream",
     "text": [
      "C:\\Users\\alex.padros\\AppData\\Local\\Temp\\4\\ipykernel_1444\\119071111.py:2: SettingWithCopyWarning: \n",
      "A value is trying to be set on a copy of a slice from a DataFrame.\n",
      "Try using .loc[row_indexer,col_indexer] = value instead\n",
      "\n",
      "See the caveats in the documentation: https://pandas.pydata.org/pandas-docs/stable/user_guide/indexing.html#returning-a-view-versus-a-copy\n",
      "  labs_clean[col] = labs_clean[col].fillna(labs_clean[col].mean())\n"
     ]
    }
   ],
   "source": [
    "for col in labs_clean.columns:\n",
    "    labs_clean[col] = labs_clean[col].fillna(labs_clean[col].mean())"
   ]
  },
  {
   "cell_type": "code",
   "execution_count": 38,
   "id": "a8f5e545",
   "metadata": {
    "scrolled": true
   },
   "outputs": [
    {
     "data": {
      "text/html": [
       "<div>\n",
       "<style scoped>\n",
       "    .dataframe tbody tr th:only-of-type {\n",
       "        vertical-align: middle;\n",
       "    }\n",
       "\n",
       "    .dataframe tbody tr th {\n",
       "        vertical-align: top;\n",
       "    }\n",
       "\n",
       "    .dataframe thead th {\n",
       "        text-align: right;\n",
       "    }\n",
       "</style>\n",
       "<table border=\"1\" class=\"dataframe\">\n",
       "  <thead>\n",
       "    <tr style=\"text-align: right;\">\n",
       "      <th></th>\n",
       "      <th>SEQN</th>\n",
       "      <th>LBDHDDSI</th>\n",
       "      <th>LBDTCSI</th>\n",
       "      <th>LBXSUA</th>\n",
       "      <th>LBXSATSI</th>\n",
       "      <th>LBXSASSI</th>\n",
       "      <th>LBDSTPSI</th>\n",
       "      <th>LBDSALSI</th>\n",
       "      <th>LBXSTB</th>\n",
       "      <th>LBXHGB</th>\n",
       "      <th>...</th>\n",
       "      <th>LBXMCHSI</th>\n",
       "      <th>LBXMC</th>\n",
       "      <th>LBXWBCSI</th>\n",
       "      <th>LBDNENO</th>\n",
       "      <th>LBDLYMNO</th>\n",
       "      <th>LBDMONO</th>\n",
       "      <th>LBDEONO</th>\n",
       "      <th>LBDBANO</th>\n",
       "      <th>LBDSIRSI</th>\n",
       "      <th>LBXPLTSI</th>\n",
       "    </tr>\n",
       "  </thead>\n",
       "  <tbody>\n",
       "    <tr>\n",
       "      <th>0</th>\n",
       "      <td>73557</td>\n",
       "      <td>1.68</td>\n",
       "      <td>4.32</td>\n",
       "      <td>3.3</td>\n",
       "      <td>16.0</td>\n",
       "      <td>16.0</td>\n",
       "      <td>65.0</td>\n",
       "      <td>41.0</td>\n",
       "      <td>0.8</td>\n",
       "      <td>15.2</td>\n",
       "      <td>...</td>\n",
       "      <td>29.9</td>\n",
       "      <td>33.4</td>\n",
       "      <td>4.7</td>\n",
       "      <td>2.0</td>\n",
       "      <td>2.0</td>\n",
       "      <td>0.5</td>\n",
       "      <td>0.2</td>\n",
       "      <td>0.1</td>\n",
       "      <td>10.4</td>\n",
       "      <td>204.0</td>\n",
       "    </tr>\n",
       "    <tr>\n",
       "      <th>1</th>\n",
       "      <td>73558</td>\n",
       "      <td>1.29</td>\n",
       "      <td>4.40</td>\n",
       "      <td>4.7</td>\n",
       "      <td>29.0</td>\n",
       "      <td>18.0</td>\n",
       "      <td>78.0</td>\n",
       "      <td>47.0</td>\n",
       "      <td>0.9</td>\n",
       "      <td>11.9</td>\n",
       "      <td>...</td>\n",
       "      <td>31.0</td>\n",
       "      <td>32.5</td>\n",
       "      <td>12.6</td>\n",
       "      <td>7.4</td>\n",
       "      <td>3.4</td>\n",
       "      <td>1.0</td>\n",
       "      <td>0.8</td>\n",
       "      <td>0.1</td>\n",
       "      <td>14.1</td>\n",
       "      <td>314.0</td>\n",
       "    </tr>\n",
       "    <tr>\n",
       "      <th>2</th>\n",
       "      <td>73559</td>\n",
       "      <td>1.55</td>\n",
       "      <td>3.26</td>\n",
       "      <td>5.7</td>\n",
       "      <td>16.0</td>\n",
       "      <td>22.0</td>\n",
       "      <td>59.0</td>\n",
       "      <td>37.0</td>\n",
       "      <td>0.6</td>\n",
       "      <td>17.2</td>\n",
       "      <td>...</td>\n",
       "      <td>31.1</td>\n",
       "      <td>34.3</td>\n",
       "      <td>7.2</td>\n",
       "      <td>4.9</td>\n",
       "      <td>1.0</td>\n",
       "      <td>0.8</td>\n",
       "      <td>0.4</td>\n",
       "      <td>0.1</td>\n",
       "      <td>17.6</td>\n",
       "      <td>237.0</td>\n",
       "    </tr>\n",
       "    <tr>\n",
       "      <th>4</th>\n",
       "      <td>73561</td>\n",
       "      <td>2.20</td>\n",
       "      <td>5.20</td>\n",
       "      <td>4.2</td>\n",
       "      <td>28.0</td>\n",
       "      <td>36.0</td>\n",
       "      <td>71.0</td>\n",
       "      <td>43.0</td>\n",
       "      <td>0.5</td>\n",
       "      <td>14.5</td>\n",
       "      <td>...</td>\n",
       "      <td>30.6</td>\n",
       "      <td>33.0</td>\n",
       "      <td>6.6</td>\n",
       "      <td>4.5</td>\n",
       "      <td>1.4</td>\n",
       "      <td>0.5</td>\n",
       "      <td>0.2</td>\n",
       "      <td>0.1</td>\n",
       "      <td>16.3</td>\n",
       "      <td>300.0</td>\n",
       "    </tr>\n",
       "    <tr>\n",
       "      <th>5</th>\n",
       "      <td>73562</td>\n",
       "      <td>0.98</td>\n",
       "      <td>5.84</td>\n",
       "      <td>9.1</td>\n",
       "      <td>16.0</td>\n",
       "      <td>24.0</td>\n",
       "      <td>73.0</td>\n",
       "      <td>43.0</td>\n",
       "      <td>0.5</td>\n",
       "      <td>14.2</td>\n",
       "      <td>...</td>\n",
       "      <td>28.8</td>\n",
       "      <td>34.2</td>\n",
       "      <td>9.4</td>\n",
       "      <td>6.5</td>\n",
       "      <td>1.6</td>\n",
       "      <td>0.6</td>\n",
       "      <td>0.6</td>\n",
       "      <td>0.1</td>\n",
       "      <td>9.3</td>\n",
       "      <td>249.0</td>\n",
       "    </tr>\n",
       "    <tr>\n",
       "      <th>...</th>\n",
       "      <td>...</td>\n",
       "      <td>...</td>\n",
       "      <td>...</td>\n",
       "      <td>...</td>\n",
       "      <td>...</td>\n",
       "      <td>...</td>\n",
       "      <td>...</td>\n",
       "      <td>...</td>\n",
       "      <td>...</td>\n",
       "      <td>...</td>\n",
       "      <td>...</td>\n",
       "      <td>...</td>\n",
       "      <td>...</td>\n",
       "      <td>...</td>\n",
       "      <td>...</td>\n",
       "      <td>...</td>\n",
       "      <td>...</td>\n",
       "      <td>...</td>\n",
       "      <td>...</td>\n",
       "      <td>...</td>\n",
       "      <td>...</td>\n",
       "    </tr>\n",
       "    <tr>\n",
       "      <th>9802</th>\n",
       "      <td>83721</td>\n",
       "      <td>1.42</td>\n",
       "      <td>3.57</td>\n",
       "      <td>5.7</td>\n",
       "      <td>47.0</td>\n",
       "      <td>24.0</td>\n",
       "      <td>70.0</td>\n",
       "      <td>44.0</td>\n",
       "      <td>0.7</td>\n",
       "      <td>14.4</td>\n",
       "      <td>...</td>\n",
       "      <td>32.2</td>\n",
       "      <td>34.4</td>\n",
       "      <td>6.8</td>\n",
       "      <td>4.4</td>\n",
       "      <td>1.4</td>\n",
       "      <td>0.6</td>\n",
       "      <td>0.3</td>\n",
       "      <td>0.1</td>\n",
       "      <td>16.1</td>\n",
       "      <td>152.0</td>\n",
       "    </tr>\n",
       "    <tr>\n",
       "      <th>9804</th>\n",
       "      <td>83723</td>\n",
       "      <td>1.27</td>\n",
       "      <td>4.81</td>\n",
       "      <td>4.2</td>\n",
       "      <td>23.0</td>\n",
       "      <td>24.0</td>\n",
       "      <td>78.0</td>\n",
       "      <td>41.0</td>\n",
       "      <td>0.7</td>\n",
       "      <td>14.3</td>\n",
       "      <td>...</td>\n",
       "      <td>35.2</td>\n",
       "      <td>35.5</td>\n",
       "      <td>7.7</td>\n",
       "      <td>3.9</td>\n",
       "      <td>2.9</td>\n",
       "      <td>0.8</td>\n",
       "      <td>0.1</td>\n",
       "      <td>0.0</td>\n",
       "      <td>15.8</td>\n",
       "      <td>181.0</td>\n",
       "    </tr>\n",
       "    <tr>\n",
       "      <th>9805</th>\n",
       "      <td>83724</td>\n",
       "      <td>1.32</td>\n",
       "      <td>4.06</td>\n",
       "      <td>6.1</td>\n",
       "      <td>12.0</td>\n",
       "      <td>20.0</td>\n",
       "      <td>60.0</td>\n",
       "      <td>38.0</td>\n",
       "      <td>0.5</td>\n",
       "      <td>11.8</td>\n",
       "      <td>...</td>\n",
       "      <td>31.8</td>\n",
       "      <td>33.9</td>\n",
       "      <td>6.1</td>\n",
       "      <td>4.2</td>\n",
       "      <td>1.2</td>\n",
       "      <td>0.6</td>\n",
       "      <td>0.1</td>\n",
       "      <td>0.1</td>\n",
       "      <td>15.0</td>\n",
       "      <td>180.0</td>\n",
       "    </tr>\n",
       "    <tr>\n",
       "      <th>9808</th>\n",
       "      <td>83727</td>\n",
       "      <td>1.42</td>\n",
       "      <td>4.91</td>\n",
       "      <td>5.3</td>\n",
       "      <td>26.0</td>\n",
       "      <td>27.0</td>\n",
       "      <td>75.0</td>\n",
       "      <td>49.0</td>\n",
       "      <td>0.9</td>\n",
       "      <td>14.9</td>\n",
       "      <td>...</td>\n",
       "      <td>29.3</td>\n",
       "      <td>32.9</td>\n",
       "      <td>5.1</td>\n",
       "      <td>2.9</td>\n",
       "      <td>1.6</td>\n",
       "      <td>0.3</td>\n",
       "      <td>0.2</td>\n",
       "      <td>0.0</td>\n",
       "      <td>13.1</td>\n",
       "      <td>226.0</td>\n",
       "    </tr>\n",
       "    <tr>\n",
       "      <th>9810</th>\n",
       "      <td>83729</td>\n",
       "      <td>1.24</td>\n",
       "      <td>3.93</td>\n",
       "      <td>5.3</td>\n",
       "      <td>13.0</td>\n",
       "      <td>26.0</td>\n",
       "      <td>67.0</td>\n",
       "      <td>41.0</td>\n",
       "      <td>0.2</td>\n",
       "      <td>12.2</td>\n",
       "      <td>...</td>\n",
       "      <td>29.2</td>\n",
       "      <td>32.8</td>\n",
       "      <td>6.4</td>\n",
       "      <td>3.2</td>\n",
       "      <td>2.5</td>\n",
       "      <td>0.6</td>\n",
       "      <td>0.1</td>\n",
       "      <td>0.0</td>\n",
       "      <td>8.8</td>\n",
       "      <td>213.0</td>\n",
       "    </tr>\n",
       "  </tbody>\n",
       "</table>\n",
       "<p>6547 rows × 23 columns</p>\n",
       "</div>"
      ],
      "text/plain": [
       "       SEQN  LBDHDDSI  LBDTCSI  LBXSUA  LBXSATSI  LBXSASSI  LBDSTPSI  \\\n",
       "0     73557      1.68     4.32     3.3      16.0      16.0      65.0   \n",
       "1     73558      1.29     4.40     4.7      29.0      18.0      78.0   \n",
       "2     73559      1.55     3.26     5.7      16.0      22.0      59.0   \n",
       "4     73561      2.20     5.20     4.2      28.0      36.0      71.0   \n",
       "5     73562      0.98     5.84     9.1      16.0      24.0      73.0   \n",
       "...     ...       ...      ...     ...       ...       ...       ...   \n",
       "9802  83721      1.42     3.57     5.7      47.0      24.0      70.0   \n",
       "9804  83723      1.27     4.81     4.2      23.0      24.0      78.0   \n",
       "9805  83724      1.32     4.06     6.1      12.0      20.0      60.0   \n",
       "9808  83727      1.42     4.91     5.3      26.0      27.0      75.0   \n",
       "9810  83729      1.24     3.93     5.3      13.0      26.0      67.0   \n",
       "\n",
       "      LBDSALSI  LBXSTB  LBXHGB  ...  LBXMCHSI  LBXMC  LBXWBCSI  LBDNENO  \\\n",
       "0         41.0     0.8    15.2  ...      29.9   33.4       4.7      2.0   \n",
       "1         47.0     0.9    11.9  ...      31.0   32.5      12.6      7.4   \n",
       "2         37.0     0.6    17.2  ...      31.1   34.3       7.2      4.9   \n",
       "4         43.0     0.5    14.5  ...      30.6   33.0       6.6      4.5   \n",
       "5         43.0     0.5    14.2  ...      28.8   34.2       9.4      6.5   \n",
       "...        ...     ...     ...  ...       ...    ...       ...      ...   \n",
       "9802      44.0     0.7    14.4  ...      32.2   34.4       6.8      4.4   \n",
       "9804      41.0     0.7    14.3  ...      35.2   35.5       7.7      3.9   \n",
       "9805      38.0     0.5    11.8  ...      31.8   33.9       6.1      4.2   \n",
       "9808      49.0     0.9    14.9  ...      29.3   32.9       5.1      2.9   \n",
       "9810      41.0     0.2    12.2  ...      29.2   32.8       6.4      3.2   \n",
       "\n",
       "      LBDLYMNO  LBDMONO  LBDEONO  LBDBANO  LBDSIRSI  LBXPLTSI  \n",
       "0          2.0      0.5      0.2      0.1      10.4     204.0  \n",
       "1          3.4      1.0      0.8      0.1      14.1     314.0  \n",
       "2          1.0      0.8      0.4      0.1      17.6     237.0  \n",
       "4          1.4      0.5      0.2      0.1      16.3     300.0  \n",
       "5          1.6      0.6      0.6      0.1       9.3     249.0  \n",
       "...        ...      ...      ...      ...       ...       ...  \n",
       "9802       1.4      0.6      0.3      0.1      16.1     152.0  \n",
       "9804       2.9      0.8      0.1      0.0      15.8     181.0  \n",
       "9805       1.2      0.6      0.1      0.1      15.0     180.0  \n",
       "9808       1.6      0.3      0.2      0.0      13.1     226.0  \n",
       "9810       2.5      0.6      0.1      0.0       8.8     213.0  \n",
       "\n",
       "[6547 rows x 23 columns]"
      ]
     },
     "execution_count": 38,
     "metadata": {},
     "output_type": "execute_result"
    }
   ],
   "source": [
    "labs_clean"
   ]
  },
  {
   "cell_type": "code",
   "execution_count": 39,
   "id": "06dede91",
   "metadata": {},
   "outputs": [
    {
     "data": {
      "text/html": [
       "<div>\n",
       "<style scoped>\n",
       "    .dataframe tbody tr th:only-of-type {\n",
       "        vertical-align: middle;\n",
       "    }\n",
       "\n",
       "    .dataframe tbody tr th {\n",
       "        vertical-align: top;\n",
       "    }\n",
       "\n",
       "    .dataframe thead th {\n",
       "        text-align: right;\n",
       "    }\n",
       "</style>\n",
       "<table border=\"1\" class=\"dataframe\">\n",
       "  <thead>\n",
       "    <tr style=\"text-align: right;\">\n",
       "      <th></th>\n",
       "      <th>LBDHDDSI</th>\n",
       "      <th>LBDTCSI</th>\n",
       "      <th>LBXSUA</th>\n",
       "      <th>LBXSATSI</th>\n",
       "      <th>LBXSASSI</th>\n",
       "      <th>LBDSTPSI</th>\n",
       "      <th>LBDSALSI</th>\n",
       "      <th>LBXSTB</th>\n",
       "      <th>LBXHGB</th>\n",
       "      <th>LBXHCT</th>\n",
       "      <th>...</th>\n",
       "      <th>LBXMCHSI</th>\n",
       "      <th>LBXMC</th>\n",
       "      <th>LBXWBCSI</th>\n",
       "      <th>LBDNENO</th>\n",
       "      <th>LBDLYMNO</th>\n",
       "      <th>LBDMONO</th>\n",
       "      <th>LBDEONO</th>\n",
       "      <th>LBDBANO</th>\n",
       "      <th>LBDSIRSI</th>\n",
       "      <th>LBXPLTSI</th>\n",
       "    </tr>\n",
       "  </thead>\n",
       "  <tbody>\n",
       "    <tr>\n",
       "      <th>0</th>\n",
       "      <td>1.68</td>\n",
       "      <td>4.32</td>\n",
       "      <td>3.3</td>\n",
       "      <td>16.0</td>\n",
       "      <td>16.0</td>\n",
       "      <td>65.0</td>\n",
       "      <td>41.0</td>\n",
       "      <td>0.8</td>\n",
       "      <td>15.2</td>\n",
       "      <td>45.4</td>\n",
       "      <td>...</td>\n",
       "      <td>29.9</td>\n",
       "      <td>33.4</td>\n",
       "      <td>4.7</td>\n",
       "      <td>2.0</td>\n",
       "      <td>2.0</td>\n",
       "      <td>0.5</td>\n",
       "      <td>0.2</td>\n",
       "      <td>0.1</td>\n",
       "      <td>10.4</td>\n",
       "      <td>204.0</td>\n",
       "    </tr>\n",
       "    <tr>\n",
       "      <th>1</th>\n",
       "      <td>1.29</td>\n",
       "      <td>4.40</td>\n",
       "      <td>4.7</td>\n",
       "      <td>29.0</td>\n",
       "      <td>18.0</td>\n",
       "      <td>78.0</td>\n",
       "      <td>47.0</td>\n",
       "      <td>0.9</td>\n",
       "      <td>11.9</td>\n",
       "      <td>36.7</td>\n",
       "      <td>...</td>\n",
       "      <td>31.0</td>\n",
       "      <td>32.5</td>\n",
       "      <td>12.6</td>\n",
       "      <td>7.4</td>\n",
       "      <td>3.4</td>\n",
       "      <td>1.0</td>\n",
       "      <td>0.8</td>\n",
       "      <td>0.1</td>\n",
       "      <td>14.1</td>\n",
       "      <td>314.0</td>\n",
       "    </tr>\n",
       "    <tr>\n",
       "      <th>2</th>\n",
       "      <td>1.55</td>\n",
       "      <td>3.26</td>\n",
       "      <td>5.7</td>\n",
       "      <td>16.0</td>\n",
       "      <td>22.0</td>\n",
       "      <td>59.0</td>\n",
       "      <td>37.0</td>\n",
       "      <td>0.6</td>\n",
       "      <td>17.2</td>\n",
       "      <td>49.9</td>\n",
       "      <td>...</td>\n",
       "      <td>31.1</td>\n",
       "      <td>34.3</td>\n",
       "      <td>7.2</td>\n",
       "      <td>4.9</td>\n",
       "      <td>1.0</td>\n",
       "      <td>0.8</td>\n",
       "      <td>0.4</td>\n",
       "      <td>0.1</td>\n",
       "      <td>17.6</td>\n",
       "      <td>237.0</td>\n",
       "    </tr>\n",
       "    <tr>\n",
       "      <th>4</th>\n",
       "      <td>2.20</td>\n",
       "      <td>5.20</td>\n",
       "      <td>4.2</td>\n",
       "      <td>28.0</td>\n",
       "      <td>36.0</td>\n",
       "      <td>71.0</td>\n",
       "      <td>43.0</td>\n",
       "      <td>0.5</td>\n",
       "      <td>14.5</td>\n",
       "      <td>43.8</td>\n",
       "      <td>...</td>\n",
       "      <td>30.6</td>\n",
       "      <td>33.0</td>\n",
       "      <td>6.6</td>\n",
       "      <td>4.5</td>\n",
       "      <td>1.4</td>\n",
       "      <td>0.5</td>\n",
       "      <td>0.2</td>\n",
       "      <td>0.1</td>\n",
       "      <td>16.3</td>\n",
       "      <td>300.0</td>\n",
       "    </tr>\n",
       "    <tr>\n",
       "      <th>5</th>\n",
       "      <td>0.98</td>\n",
       "      <td>5.84</td>\n",
       "      <td>9.1</td>\n",
       "      <td>16.0</td>\n",
       "      <td>24.0</td>\n",
       "      <td>73.0</td>\n",
       "      <td>43.0</td>\n",
       "      <td>0.5</td>\n",
       "      <td>14.2</td>\n",
       "      <td>41.5</td>\n",
       "      <td>...</td>\n",
       "      <td>28.8</td>\n",
       "      <td>34.2</td>\n",
       "      <td>9.4</td>\n",
       "      <td>6.5</td>\n",
       "      <td>1.6</td>\n",
       "      <td>0.6</td>\n",
       "      <td>0.6</td>\n",
       "      <td>0.1</td>\n",
       "      <td>9.3</td>\n",
       "      <td>249.0</td>\n",
       "    </tr>\n",
       "    <tr>\n",
       "      <th>...</th>\n",
       "      <td>...</td>\n",
       "      <td>...</td>\n",
       "      <td>...</td>\n",
       "      <td>...</td>\n",
       "      <td>...</td>\n",
       "      <td>...</td>\n",
       "      <td>...</td>\n",
       "      <td>...</td>\n",
       "      <td>...</td>\n",
       "      <td>...</td>\n",
       "      <td>...</td>\n",
       "      <td>...</td>\n",
       "      <td>...</td>\n",
       "      <td>...</td>\n",
       "      <td>...</td>\n",
       "      <td>...</td>\n",
       "      <td>...</td>\n",
       "      <td>...</td>\n",
       "      <td>...</td>\n",
       "      <td>...</td>\n",
       "      <td>...</td>\n",
       "    </tr>\n",
       "    <tr>\n",
       "      <th>9802</th>\n",
       "      <td>1.42</td>\n",
       "      <td>3.57</td>\n",
       "      <td>5.7</td>\n",
       "      <td>47.0</td>\n",
       "      <td>24.0</td>\n",
       "      <td>70.0</td>\n",
       "      <td>44.0</td>\n",
       "      <td>0.7</td>\n",
       "      <td>14.4</td>\n",
       "      <td>41.9</td>\n",
       "      <td>...</td>\n",
       "      <td>32.2</td>\n",
       "      <td>34.4</td>\n",
       "      <td>6.8</td>\n",
       "      <td>4.4</td>\n",
       "      <td>1.4</td>\n",
       "      <td>0.6</td>\n",
       "      <td>0.3</td>\n",
       "      <td>0.1</td>\n",
       "      <td>16.1</td>\n",
       "      <td>152.0</td>\n",
       "    </tr>\n",
       "    <tr>\n",
       "      <th>9804</th>\n",
       "      <td>1.27</td>\n",
       "      <td>4.81</td>\n",
       "      <td>4.2</td>\n",
       "      <td>23.0</td>\n",
       "      <td>24.0</td>\n",
       "      <td>78.0</td>\n",
       "      <td>41.0</td>\n",
       "      <td>0.7</td>\n",
       "      <td>14.3</td>\n",
       "      <td>40.1</td>\n",
       "      <td>...</td>\n",
       "      <td>35.2</td>\n",
       "      <td>35.5</td>\n",
       "      <td>7.7</td>\n",
       "      <td>3.9</td>\n",
       "      <td>2.9</td>\n",
       "      <td>0.8</td>\n",
       "      <td>0.1</td>\n",
       "      <td>0.0</td>\n",
       "      <td>15.8</td>\n",
       "      <td>181.0</td>\n",
       "    </tr>\n",
       "    <tr>\n",
       "      <th>9805</th>\n",
       "      <td>1.32</td>\n",
       "      <td>4.06</td>\n",
       "      <td>6.1</td>\n",
       "      <td>12.0</td>\n",
       "      <td>20.0</td>\n",
       "      <td>60.0</td>\n",
       "      <td>38.0</td>\n",
       "      <td>0.5</td>\n",
       "      <td>11.8</td>\n",
       "      <td>34.8</td>\n",
       "      <td>...</td>\n",
       "      <td>31.8</td>\n",
       "      <td>33.9</td>\n",
       "      <td>6.1</td>\n",
       "      <td>4.2</td>\n",
       "      <td>1.2</td>\n",
       "      <td>0.6</td>\n",
       "      <td>0.1</td>\n",
       "      <td>0.1</td>\n",
       "      <td>15.0</td>\n",
       "      <td>180.0</td>\n",
       "    </tr>\n",
       "    <tr>\n",
       "      <th>9808</th>\n",
       "      <td>1.42</td>\n",
       "      <td>4.91</td>\n",
       "      <td>5.3</td>\n",
       "      <td>26.0</td>\n",
       "      <td>27.0</td>\n",
       "      <td>75.0</td>\n",
       "      <td>49.0</td>\n",
       "      <td>0.9</td>\n",
       "      <td>14.9</td>\n",
       "      <td>45.1</td>\n",
       "      <td>...</td>\n",
       "      <td>29.3</td>\n",
       "      <td>32.9</td>\n",
       "      <td>5.1</td>\n",
       "      <td>2.9</td>\n",
       "      <td>1.6</td>\n",
       "      <td>0.3</td>\n",
       "      <td>0.2</td>\n",
       "      <td>0.0</td>\n",
       "      <td>13.1</td>\n",
       "      <td>226.0</td>\n",
       "    </tr>\n",
       "    <tr>\n",
       "      <th>9810</th>\n",
       "      <td>1.24</td>\n",
       "      <td>3.93</td>\n",
       "      <td>5.3</td>\n",
       "      <td>13.0</td>\n",
       "      <td>26.0</td>\n",
       "      <td>67.0</td>\n",
       "      <td>41.0</td>\n",
       "      <td>0.2</td>\n",
       "      <td>12.2</td>\n",
       "      <td>37.1</td>\n",
       "      <td>...</td>\n",
       "      <td>29.2</td>\n",
       "      <td>32.8</td>\n",
       "      <td>6.4</td>\n",
       "      <td>3.2</td>\n",
       "      <td>2.5</td>\n",
       "      <td>0.6</td>\n",
       "      <td>0.1</td>\n",
       "      <td>0.0</td>\n",
       "      <td>8.8</td>\n",
       "      <td>213.0</td>\n",
       "    </tr>\n",
       "  </tbody>\n",
       "</table>\n",
       "<p>6547 rows × 22 columns</p>\n",
       "</div>"
      ],
      "text/plain": [
       "      LBDHDDSI  LBDTCSI  LBXSUA  LBXSATSI  LBXSASSI  LBDSTPSI  LBDSALSI  \\\n",
       "0         1.68     4.32     3.3      16.0      16.0      65.0      41.0   \n",
       "1         1.29     4.40     4.7      29.0      18.0      78.0      47.0   \n",
       "2         1.55     3.26     5.7      16.0      22.0      59.0      37.0   \n",
       "4         2.20     5.20     4.2      28.0      36.0      71.0      43.0   \n",
       "5         0.98     5.84     9.1      16.0      24.0      73.0      43.0   \n",
       "...        ...      ...     ...       ...       ...       ...       ...   \n",
       "9802      1.42     3.57     5.7      47.0      24.0      70.0      44.0   \n",
       "9804      1.27     4.81     4.2      23.0      24.0      78.0      41.0   \n",
       "9805      1.32     4.06     6.1      12.0      20.0      60.0      38.0   \n",
       "9808      1.42     4.91     5.3      26.0      27.0      75.0      49.0   \n",
       "9810      1.24     3.93     5.3      13.0      26.0      67.0      41.0   \n",
       "\n",
       "      LBXSTB  LBXHGB  LBXHCT  ...  LBXMCHSI  LBXMC  LBXWBCSI  LBDNENO  \\\n",
       "0        0.8    15.2    45.4  ...      29.9   33.4       4.7      2.0   \n",
       "1        0.9    11.9    36.7  ...      31.0   32.5      12.6      7.4   \n",
       "2        0.6    17.2    49.9  ...      31.1   34.3       7.2      4.9   \n",
       "4        0.5    14.5    43.8  ...      30.6   33.0       6.6      4.5   \n",
       "5        0.5    14.2    41.5  ...      28.8   34.2       9.4      6.5   \n",
       "...      ...     ...     ...  ...       ...    ...       ...      ...   \n",
       "9802     0.7    14.4    41.9  ...      32.2   34.4       6.8      4.4   \n",
       "9804     0.7    14.3    40.1  ...      35.2   35.5       7.7      3.9   \n",
       "9805     0.5    11.8    34.8  ...      31.8   33.9       6.1      4.2   \n",
       "9808     0.9    14.9    45.1  ...      29.3   32.9       5.1      2.9   \n",
       "9810     0.2    12.2    37.1  ...      29.2   32.8       6.4      3.2   \n",
       "\n",
       "      LBDLYMNO  LBDMONO  LBDEONO  LBDBANO  LBDSIRSI  LBXPLTSI  \n",
       "0          2.0      0.5      0.2      0.1      10.4     204.0  \n",
       "1          3.4      1.0      0.8      0.1      14.1     314.0  \n",
       "2          1.0      0.8      0.4      0.1      17.6     237.0  \n",
       "4          1.4      0.5      0.2      0.1      16.3     300.0  \n",
       "5          1.6      0.6      0.6      0.1       9.3     249.0  \n",
       "...        ...      ...      ...      ...       ...       ...  \n",
       "9802       1.4      0.6      0.3      0.1      16.1     152.0  \n",
       "9804       2.9      0.8      0.1      0.0      15.8     181.0  \n",
       "9805       1.2      0.6      0.1      0.1      15.0     180.0  \n",
       "9808       1.6      0.3      0.2      0.0      13.1     226.0  \n",
       "9810       2.5      0.6      0.1      0.0       8.8     213.0  \n",
       "\n",
       "[6547 rows x 22 columns]"
      ]
     },
     "execution_count": 39,
     "metadata": {},
     "output_type": "execute_result"
    }
   ],
   "source": [
    "labs_clean.iloc[:,1:]"
   ]
  },
  {
   "cell_type": "code",
   "execution_count": null,
   "id": "40da4d29",
   "metadata": {},
   "outputs": [],
   "source": []
  },
  {
   "cell_type": "code",
   "execution_count": null,
   "id": "92290b40",
   "metadata": {},
   "outputs": [],
   "source": []
  },
  {
   "cell_type": "code",
   "execution_count": null,
   "id": "e12e3f3c",
   "metadata": {},
   "outputs": [],
   "source": []
  },
  {
   "cell_type": "code",
   "execution_count": null,
   "id": "ec9653dc",
   "metadata": {},
   "outputs": [],
   "source": []
  },
  {
   "cell_type": "code",
   "execution_count": null,
   "id": "c1ae7d77",
   "metadata": {},
   "outputs": [],
   "source": []
  },
  {
   "cell_type": "code",
   "execution_count": null,
   "id": "d4b8af3c",
   "metadata": {},
   "outputs": [],
   "source": []
  },
  {
   "cell_type": "code",
   "execution_count": null,
   "id": "f4ee234f",
   "metadata": {},
   "outputs": [],
   "source": []
  },
  {
   "cell_type": "code",
   "execution_count": 40,
   "id": "d0e3e5e4",
   "metadata": {},
   "outputs": [
    {
     "data": {
      "text/plain": [
       "array([[1.68e+00, 4.32e+00, 3.30e+00, ..., 1.00e-01, 1.04e+01, 2.04e+02],\n",
       "       [1.29e+00, 4.40e+00, 4.70e+00, ..., 1.00e-01, 1.41e+01, 3.14e+02],\n",
       "       [1.55e+00, 3.26e+00, 5.70e+00, ..., 1.00e-01, 1.76e+01, 2.37e+02],\n",
       "       ...,\n",
       "       [1.32e+00, 4.06e+00, 6.10e+00, ..., 1.00e-01, 1.50e+01, 1.80e+02],\n",
       "       [1.42e+00, 4.91e+00, 5.30e+00, ..., 0.00e+00, 1.31e+01, 2.26e+02],\n",
       "       [1.24e+00, 3.93e+00, 5.30e+00, ..., 0.00e+00, 8.80e+00, 2.13e+02]])"
      ]
     },
     "execution_count": 40,
     "metadata": {},
     "output_type": "execute_result"
    }
   ],
   "source": [
    "X = labs_clean.iloc[:,1:].values\n",
    "X"
   ]
  },
  {
   "cell_type": "code",
   "execution_count": null,
   "id": "19e73861",
   "metadata": {},
   "outputs": [],
   "source": []
  },
  {
   "cell_type": "code",
   "execution_count": null,
   "id": "d9c6e50d",
   "metadata": {},
   "outputs": [],
   "source": []
  },
  {
   "cell_type": "code",
   "execution_count": null,
   "id": "627e87b8",
   "metadata": {},
   "outputs": [],
   "source": []
  },
  {
   "cell_type": "code",
   "execution_count": null,
   "id": "f671a563",
   "metadata": {},
   "outputs": [],
   "source": []
  },
  {
   "cell_type": "markdown",
   "id": "85d8bdc9",
   "metadata": {},
   "source": [
    "# MAIN"
   ]
  },
  {
   "cell_type": "code",
   "execution_count": 19,
   "id": "5a27e8ff",
   "metadata": {
    "scrolled": true
   },
   "outputs": [
    {
     "name": "stdout",
     "output_type": "stream",
     "text": [
      "{'initial_noise_size': 15, 'noise_size': 10, 'hidden_size': 16, 'mlp_size': 32, 'num_layers': 2, 'generator_lr': 0.01, 'discriminator_lr': 0.01, 'batch_size': 128, 'steps': 3000, 'init_mult1': 3, 'init_mult2': 0.5, 'weight_decay': 0.01, 'swa_step_start': 500, 'steps_per_print': 10, 't_size': 10}\n"
     ]
    }
   ],
   "source": [
    "with open('./Params/model1.json') as f:\n",
    "    params = json.load(f)\n",
    "initial_noise_size = params['initial_noise_size'] # How many noise dimensions to sample at the start of the SDE.\n",
    "noise_size = params['noise_size'] # How many dimensions the Brownian motion has.\n",
    "hidden_size = params['hidden_size'] # How big the hidden size of the generator SDE and the discriminator CDE are.\n",
    "mlp_size = params['mlp_size'] # How big the layers in the various MLPs are.\n",
    "num_layers = params['num_layers'] # How many hidden layers to have in the various MLPs.\n",
    "# Training hyperparameters. Be prepared to tune these very carefully, as with any GAN.\n",
    "generator_lr = params['generator_lr'] # Learning rate often needs careful tuning to the problem.\n",
    "discriminator_lr = params['discriminator_lr'] # Learning rate often needs careful tuning to the problem.\n",
    "batch_size = params['batch_size'] # Batch size.\n",
    "steps = params['steps'] # How many steps to train both generator and discriminator for.\n",
    "init_mult1 = params['init_mult1'] # Changing the initial parameter size can help.\n",
    "init_mult2 = params['init_mult2']\n",
    "weight_decay = params['weight_decay'] # Weight decay.\n",
    "swa_step_start = params['swa_step_start'] # When to start using stochastic weight averaging.\n",
    "steps_per_print = params['steps_per_print'] # How often to print the loss.\n",
    "t_size = params['t_size'] \n",
    "print(params)"
   ]
  },
  {
   "cell_type": "code",
   "execution_count": 20,
   "id": "561ea67f",
   "metadata": {},
   "outputs": [],
   "source": [
    "# plotting hyperparameters\n",
    "# num_plot_samples=50                  # How many samples to use on the plots at the end.\n",
    "# plot_locs=(0.1, 0.3, 0.5, 0.7, 0.9)  # Plot some marginal distributions at this proportion of the way along."
   ]
  },
  {
   "cell_type": "code",
   "execution_count": 21,
   "id": "6ec22b85",
   "metadata": {},
   "outputs": [
    {
     "name": "stdout",
     "output_type": "stream",
     "text": [
      "Warning: CUDA not available; falling back to CPU but this is likely to be very slow.\n"
     ]
    }
   ],
   "source": [
    "is_cuda = torch.cuda.is_available()\n",
    "device = 'cuda' if is_cuda else 'cpu'\n",
    "if not is_cuda:\n",
    "    print(\"Warning: CUDA not available; falling back to CPU but this is likely to be very slow.\")\n",
    "\n",
    "ts = torch.linspace(0, t_size - 1, t_size, device=device)\n",
    "data_size = X.shape[1]"
   ]
  },
  {
   "cell_type": "code",
   "execution_count": 22,
   "id": "40a2615d",
   "metadata": {},
   "outputs": [],
   "source": [
    "# dataloader\n",
    "ys_coeffs = torch.from_numpy(X)\n",
    "ys_coeffs = ys_coeffs.to(torch.float32)\n",
    "ys_coeffs = torch.reshape(ys_coeffs,(X.shape[0],1,X.shape[1]))\n",
    "dataset = torch.utils.data.TensorDataset(ys_coeffs)\n",
    "train_dataloader = torch.utils.data.DataLoader(dataset, batch_size=batch_size, shuffle=True)"
   ]
  },
  {
   "cell_type": "code",
   "execution_count": 23,
   "id": "577310cc",
   "metadata": {},
   "outputs": [],
   "source": [
    "infinite_train_dataloader = (elem for it in iter(lambda: train_dataloader, None) for elem in it)"
   ]
  },
  {
   "cell_type": "code",
   "execution_count": 24,
   "id": "56d8ae37",
   "metadata": {},
   "outputs": [],
   "source": [
    "# Models\n",
    "generator = Generator(data_size, initial_noise_size, noise_size, hidden_size, mlp_size, num_layers).to(device)\n",
    "discriminator = Discriminator(data_size, hidden_size, mlp_size, num_layers).to(device)"
   ]
  },
  {
   "cell_type": "code",
   "execution_count": 25,
   "id": "2a54ac47",
   "metadata": {},
   "outputs": [
    {
     "data": {
      "text/plain": [
       "Generator(\n",
       "  (_initial): MLP(\n",
       "    (_model): Sequential(\n",
       "      (0): Linear(in_features=15, out_features=32, bias=True)\n",
       "      (1): ReLU()\n",
       "      (2): Linear(in_features=32, out_features=32, bias=True)\n",
       "      (3): ReLU()\n",
       "      (4): Linear(in_features=32, out_features=16, bias=True)\n",
       "    )\n",
       "  )\n",
       "  (_func): GeneratorFunc(\n",
       "    (_drift): MLP(\n",
       "      (_model): Sequential(\n",
       "        (0): Linear(in_features=17, out_features=32, bias=True)\n",
       "        (1): ReLU()\n",
       "        (2): Linear(in_features=32, out_features=32, bias=True)\n",
       "        (3): ReLU()\n",
       "        (4): Linear(in_features=32, out_features=16, bias=True)\n",
       "        (5): Tanh()\n",
       "      )\n",
       "    )\n",
       "    (_diffusion): MLP(\n",
       "      (_model): Sequential(\n",
       "        (0): Linear(in_features=17, out_features=32, bias=True)\n",
       "        (1): ReLU()\n",
       "        (2): Linear(in_features=32, out_features=32, bias=True)\n",
       "        (3): ReLU()\n",
       "        (4): Linear(in_features=32, out_features=160, bias=True)\n",
       "        (5): Tanh()\n",
       "      )\n",
       "    )\n",
       "  )\n",
       "  (_readout): Linear(in_features=16, out_features=22, bias=True)\n",
       ")"
      ]
     },
     "execution_count": 25,
     "metadata": {},
     "output_type": "execute_result"
    }
   ],
   "source": [
    "generator"
   ]
  },
  {
   "cell_type": "code",
   "execution_count": 26,
   "id": "7e4f3165",
   "metadata": {},
   "outputs": [
    {
     "data": {
      "text/plain": [
       "Discriminator(\n",
       "  (_initial): MLP(\n",
       "    (_model): Sequential(\n",
       "      (0): Linear(in_features=22, out_features=32, bias=True)\n",
       "      (1): ReLU()\n",
       "      (2): Linear(in_features=32, out_features=32, bias=True)\n",
       "      (3): ReLU()\n",
       "      (4): Linear(in_features=32, out_features=16, bias=True)\n",
       "    )\n",
       "  )\n",
       "  (_readout): Linear(in_features=16, out_features=1, bias=True)\n",
       ")"
      ]
     },
     "execution_count": 26,
     "metadata": {},
     "output_type": "execute_result"
    }
   ],
   "source": [
    "discriminator"
   ]
  },
  {
   "cell_type": "code",
   "execution_count": 42,
   "id": "302ae39b",
   "metadata": {},
   "outputs": [],
   "source": [
    "# Weight averaging really helps with GAN training.\n",
    "averaged_generator = swa_utils.AveragedModel(generator)\n",
    "averaged_discriminator = swa_utils.AveragedModel(discriminator)"
   ]
  },
  {
   "cell_type": "code",
   "execution_count": 34,
   "id": "8acf3488",
   "metadata": {},
   "outputs": [],
   "source": [
    "# Picking a good initialisation is important!\n",
    "# In this case these were picked by making the parameters for the t=0 part of the generator be roughly the right\n",
    "# size that the untrained t=0 distribution has a similar variance to the t=0 data distribution.\n",
    "# Then the func parameters were adjusted so that the t>0 distribution looked like it had about the right variance.\n",
    "# What we're doing here is very crude -- one can definitely imagine smarter ways of doing things.\n",
    "# (e.g. pretraining the t=0 distribution)\n",
    "with torch.no_grad():\n",
    "    for param in generator._initial.parameters():\n",
    "        param *= init_mult1\n",
    "    for param in generator._func.parameters():\n",
    "        param *= init_mult2\n"
   ]
  },
  {
   "cell_type": "code",
   "execution_count": 35,
   "id": "703f13a6",
   "metadata": {},
   "outputs": [],
   "source": [
    "# Optimisers. Adadelta turns out to be a much better choice than SGD or Adam, interestingly.\n",
    "generator_optimiser = torch.optim.Adadelta(generator.parameters(), lr=generator_lr, weight_decay=weight_decay)\n",
    "discriminator_optimiser = torch.optim.Adadelta(discriminator.parameters(), lr=discriminator_lr,\n",
    "                                               weight_decay=weight_decay)"
   ]
  },
  {
   "cell_type": "code",
   "execution_count": 36,
   "id": "7169f48e",
   "metadata": {},
   "outputs": [],
   "source": [
    "def evaluate_loss(ts, batch_size, dataloader, generator, discriminator):\n",
    "    with torch.no_grad():\n",
    "        total_samples = 0\n",
    "        total_loss = 0\n",
    "        for real_samples, in dataloader:\n",
    "            generated_samples = generator(ts, batch_size)\n",
    "            generated_score = discriminator(generated_samples)\n",
    "            real_score = discriminator(real_samples)\n",
    "            loss = generated_score - real_score\n",
    "            total_samples += batch_size\n",
    "            total_loss += loss.item() * batch_size\n",
    "    return total_loss / total_samples"
   ]
  },
  {
   "cell_type": "code",
   "execution_count": 37,
   "id": "6f18f783",
   "metadata": {
    "scrolled": true
   },
   "outputs": [
    {
     "name": "stderr",
     "output_type": "stream",
     "text": [
      "                                                                                                                       \r"
     ]
    },
    {
     "name": "stdout",
     "output_type": "stream",
     "text": [
      "Step:   0 Loss (unaveraged): -0.0350\n"
     ]
    },
    {
     "name": "stderr",
     "output_type": "stream",
     "text": [
      "                                                                                                                       \r"
     ]
    },
    {
     "name": "stdout",
     "output_type": "stream",
     "text": [
      "Step:  10 Loss (unaveraged): -0.0512\n"
     ]
    },
    {
     "name": "stderr",
     "output_type": "stream",
     "text": [
      "                                                                                                                       \r"
     ]
    },
    {
     "name": "stdout",
     "output_type": "stream",
     "text": [
      "Step:  20 Loss (unaveraged): -0.0681\n"
     ]
    },
    {
     "name": "stderr",
     "output_type": "stream",
     "text": [
      "                                                                                                                       \r"
     ]
    },
    {
     "name": "stdout",
     "output_type": "stream",
     "text": [
      "Step:  30 Loss (unaveraged): -0.0859\n"
     ]
    },
    {
     "name": "stderr",
     "output_type": "stream",
     "text": [
      "                                                                                                                       \r"
     ]
    },
    {
     "name": "stdout",
     "output_type": "stream",
     "text": [
      "Step:  40 Loss (unaveraged): -0.1046\n"
     ]
    },
    {
     "name": "stderr",
     "output_type": "stream",
     "text": [
      "                                                                                                                       \r"
     ]
    },
    {
     "name": "stdout",
     "output_type": "stream",
     "text": [
      "Step:  50 Loss (unaveraged): -0.1248\n"
     ]
    },
    {
     "name": "stderr",
     "output_type": "stream",
     "text": [
      "                                                                                                                       \r"
     ]
    },
    {
     "name": "stdout",
     "output_type": "stream",
     "text": [
      "Step:  60 Loss (unaveraged): -0.1472\n"
     ]
    },
    {
     "name": "stderr",
     "output_type": "stream",
     "text": [
      "                                                                                                                       \r"
     ]
    },
    {
     "name": "stdout",
     "output_type": "stream",
     "text": [
      "Step:  70 Loss (unaveraged): -0.1725\n"
     ]
    },
    {
     "name": "stderr",
     "output_type": "stream",
     "text": [
      "                                                                                                                       \r"
     ]
    },
    {
     "name": "stdout",
     "output_type": "stream",
     "text": [
      "Step:  80 Loss (unaveraged): -0.2024\n"
     ]
    },
    {
     "name": "stderr",
     "output_type": "stream",
     "text": [
      "                                                                                                                       \r"
     ]
    },
    {
     "name": "stdout",
     "output_type": "stream",
     "text": [
      "Step:  90 Loss (unaveraged): -0.2396\n"
     ]
    },
    {
     "name": "stderr",
     "output_type": "stream",
     "text": [
      "                                                                                                                       \r"
     ]
    },
    {
     "name": "stdout",
     "output_type": "stream",
     "text": [
      "Step: 100 Loss (unaveraged): -0.2875\n"
     ]
    },
    {
     "name": "stderr",
     "output_type": "stream",
     "text": [
      "                                                                                                                       \r"
     ]
    },
    {
     "name": "stdout",
     "output_type": "stream",
     "text": [
      "Step: 110 Loss (unaveraged): -0.3502\n"
     ]
    },
    {
     "name": "stderr",
     "output_type": "stream",
     "text": [
      "                                                                                                                       \r"
     ]
    },
    {
     "name": "stdout",
     "output_type": "stream",
     "text": [
      "Step: 120 Loss (unaveraged): -0.4363\n"
     ]
    },
    {
     "name": "stderr",
     "output_type": "stream",
     "text": [
      "                                                                                                                       \r"
     ]
    },
    {
     "name": "stdout",
     "output_type": "stream",
     "text": [
      "Step: 130 Loss (unaveraged): -0.5580\n"
     ]
    },
    {
     "name": "stderr",
     "output_type": "stream",
     "text": [
      "                                                                                                                       \r"
     ]
    },
    {
     "name": "stdout",
     "output_type": "stream",
     "text": [
      "Step: 140 Loss (unaveraged): -0.7225\n"
     ]
    },
    {
     "name": "stderr",
     "output_type": "stream",
     "text": [
      "                                                                                                                       \r"
     ]
    },
    {
     "name": "stdout",
     "output_type": "stream",
     "text": [
      "Step: 150 Loss (unaveraged): -0.9142\n"
     ]
    },
    {
     "name": "stderr",
     "output_type": "stream",
     "text": [
      "                                                                                                                       \r"
     ]
    },
    {
     "name": "stdout",
     "output_type": "stream",
     "text": [
      "Step: 160 Loss (unaveraged): -1.1017\n"
     ]
    },
    {
     "name": "stderr",
     "output_type": "stream",
     "text": [
      "                                                                                                                       \r"
     ]
    },
    {
     "name": "stdout",
     "output_type": "stream",
     "text": [
      "Step: 170 Loss (unaveraged): -1.2791\n"
     ]
    },
    {
     "name": "stderr",
     "output_type": "stream",
     "text": [
      "                                                                                                                       \r"
     ]
    },
    {
     "name": "stdout",
     "output_type": "stream",
     "text": [
      "Step: 180 Loss (unaveraged): -1.4339\n"
     ]
    },
    {
     "name": "stderr",
     "output_type": "stream",
     "text": [
      "                                                                                                                       \r"
     ]
    },
    {
     "name": "stdout",
     "output_type": "stream",
     "text": [
      "Step: 190 Loss (unaveraged): -1.5696\n"
     ]
    },
    {
     "name": "stderr",
     "output_type": "stream",
     "text": [
      "                                                                                                                       \r"
     ]
    },
    {
     "name": "stdout",
     "output_type": "stream",
     "text": [
      "Step: 200 Loss (unaveraged): -1.6947\n"
     ]
    },
    {
     "name": "stderr",
     "output_type": "stream",
     "text": [
      "                                                                                                                       \r"
     ]
    },
    {
     "name": "stdout",
     "output_type": "stream",
     "text": [
      "Step: 210 Loss (unaveraged): -1.8164\n"
     ]
    },
    {
     "name": "stderr",
     "output_type": "stream",
     "text": [
      "                                                                                                                       \r"
     ]
    },
    {
     "name": "stdout",
     "output_type": "stream",
     "text": [
      "Step: 220 Loss (unaveraged): -1.9376\n"
     ]
    },
    {
     "name": "stderr",
     "output_type": "stream",
     "text": [
      "                                                                                                                       \r"
     ]
    },
    {
     "name": "stdout",
     "output_type": "stream",
     "text": [
      "Step: 230 Loss (unaveraged): -2.0551\n"
     ]
    },
    {
     "name": "stderr",
     "output_type": "stream",
     "text": [
      "                                                                                                                       \r"
     ]
    },
    {
     "name": "stdout",
     "output_type": "stream",
     "text": [
      "Step: 240 Loss (unaveraged): -2.1691\n"
     ]
    },
    {
     "name": "stderr",
     "output_type": "stream",
     "text": [
      "                                                                                                                       \r"
     ]
    },
    {
     "name": "stdout",
     "output_type": "stream",
     "text": [
      "Step: 250 Loss (unaveraged): -2.2745\n"
     ]
    },
    {
     "name": "stderr",
     "output_type": "stream",
     "text": [
      "                                                                                                                       \r"
     ]
    },
    {
     "name": "stdout",
     "output_type": "stream",
     "text": [
      "Step: 260 Loss (unaveraged): -2.3735\n"
     ]
    },
    {
     "name": "stderr",
     "output_type": "stream",
     "text": [
      "                                                                                                                       \r"
     ]
    },
    {
     "name": "stdout",
     "output_type": "stream",
     "text": [
      "Step: 270 Loss (unaveraged): -2.4713\n"
     ]
    },
    {
     "name": "stderr",
     "output_type": "stream",
     "text": [
      "                                                                                                                       \r"
     ]
    },
    {
     "name": "stdout",
     "output_type": "stream",
     "text": [
      "Step: 280 Loss (unaveraged): -2.5677\n"
     ]
    },
    {
     "name": "stderr",
     "output_type": "stream",
     "text": [
      "                                                                                                                       \r"
     ]
    },
    {
     "name": "stdout",
     "output_type": "stream",
     "text": [
      "Step: 290 Loss (unaveraged): -2.6629\n"
     ]
    },
    {
     "name": "stderr",
     "output_type": "stream",
     "text": [
      "                                                                                                                       \r"
     ]
    },
    {
     "name": "stdout",
     "output_type": "stream",
     "text": [
      "Step: 300 Loss (unaveraged): -2.7594\n"
     ]
    },
    {
     "name": "stderr",
     "output_type": "stream",
     "text": [
      "                                                                                                                       \r"
     ]
    },
    {
     "name": "stdout",
     "output_type": "stream",
     "text": [
      "Step: 310 Loss (unaveraged): -2.8555\n"
     ]
    },
    {
     "name": "stderr",
     "output_type": "stream",
     "text": [
      "                                                                                                                       \r"
     ]
    },
    {
     "name": "stdout",
     "output_type": "stream",
     "text": [
      "Step: 320 Loss (unaveraged): -2.9532\n"
     ]
    },
    {
     "name": "stderr",
     "output_type": "stream",
     "text": [
      "                                                                                                                       \r"
     ]
    },
    {
     "name": "stdout",
     "output_type": "stream",
     "text": [
      "Step: 330 Loss (unaveraged): -3.0510\n"
     ]
    },
    {
     "name": "stderr",
     "output_type": "stream",
     "text": [
      "                                                                                                                       \r"
     ]
    },
    {
     "name": "stdout",
     "output_type": "stream",
     "text": [
      "Step: 340 Loss (unaveraged): -3.1508\n"
     ]
    },
    {
     "name": "stderr",
     "output_type": "stream",
     "text": [
      "                                                                                                                       \r"
     ]
    },
    {
     "name": "stdout",
     "output_type": "stream",
     "text": [
      "Step: 350 Loss (unaveraged): -3.2524\n"
     ]
    },
    {
     "name": "stderr",
     "output_type": "stream",
     "text": [
      "                                                                                                                       \r"
     ]
    },
    {
     "name": "stdout",
     "output_type": "stream",
     "text": [
      "Step: 360 Loss (unaveraged): -3.3558\n"
     ]
    },
    {
     "name": "stderr",
     "output_type": "stream",
     "text": [
      "                                                                                                                       \r"
     ]
    },
    {
     "name": "stdout",
     "output_type": "stream",
     "text": [
      "Step: 370 Loss (unaveraged): -3.4610\n"
     ]
    },
    {
     "name": "stderr",
     "output_type": "stream",
     "text": [
      "                                                                                                                       \r"
     ]
    },
    {
     "name": "stdout",
     "output_type": "stream",
     "text": [
      "Step: 380 Loss (unaveraged): -3.5689\n"
     ]
    },
    {
     "name": "stderr",
     "output_type": "stream",
     "text": [
      "                                                                                                                       \r"
     ]
    },
    {
     "name": "stdout",
     "output_type": "stream",
     "text": [
      "Step: 390 Loss (unaveraged): -3.6783\n"
     ]
    },
    {
     "name": "stderr",
     "output_type": "stream",
     "text": [
      "                                                                                                                       \r"
     ]
    },
    {
     "name": "stdout",
     "output_type": "stream",
     "text": [
      "Step: 400 Loss (unaveraged): -3.7893\n"
     ]
    },
    {
     "name": "stderr",
     "output_type": "stream",
     "text": [
      "                                                                                                                       \r"
     ]
    },
    {
     "name": "stdout",
     "output_type": "stream",
     "text": [
      "Step: 410 Loss (unaveraged): -3.9032\n"
     ]
    },
    {
     "name": "stderr",
     "output_type": "stream",
     "text": [
      "                                                                                                                       \r"
     ]
    },
    {
     "name": "stdout",
     "output_type": "stream",
     "text": [
      "Step: 420 Loss (unaveraged): -4.0192\n"
     ]
    },
    {
     "name": "stderr",
     "output_type": "stream",
     "text": [
      "                                                                                                                       \r"
     ]
    },
    {
     "name": "stdout",
     "output_type": "stream",
     "text": [
      "Step: 430 Loss (unaveraged): -4.1372\n"
     ]
    },
    {
     "name": "stderr",
     "output_type": "stream",
     "text": [
      "                                                                                                                       \r"
     ]
    },
    {
     "name": "stdout",
     "output_type": "stream",
     "text": [
      "Step: 440 Loss (unaveraged): -4.2583\n"
     ]
    },
    {
     "name": "stderr",
     "output_type": "stream",
     "text": [
      "                                                                                                                       \r"
     ]
    },
    {
     "name": "stdout",
     "output_type": "stream",
     "text": [
      "Step: 450 Loss (unaveraged): -4.3802\n"
     ]
    },
    {
     "name": "stderr",
     "output_type": "stream",
     "text": [
      "                                                                                                                       \r"
     ]
    },
    {
     "name": "stdout",
     "output_type": "stream",
     "text": [
      "Step: 460 Loss (unaveraged): -4.5069\n"
     ]
    },
    {
     "name": "stderr",
     "output_type": "stream",
     "text": [
      "                                                                                                                       \r"
     ]
    },
    {
     "name": "stdout",
     "output_type": "stream",
     "text": [
      "Step: 470 Loss (unaveraged): -4.6349\n"
     ]
    },
    {
     "name": "stderr",
     "output_type": "stream",
     "text": [
      "                                                                                                                       \r"
     ]
    },
    {
     "name": "stdout",
     "output_type": "stream",
     "text": [
      "Step: 480 Loss (unaveraged): -4.7649\n"
     ]
    },
    {
     "name": "stderr",
     "output_type": "stream",
     "text": [
      "                                                                                                                       \r"
     ]
    },
    {
     "name": "stdout",
     "output_type": "stream",
     "text": [
      "Step: 490 Loss (unaveraged): -4.8962\n"
     ]
    },
    {
     "name": "stderr",
     "output_type": "stream",
     "text": [
      "                                                                                                                       \r"
     ]
    },
    {
     "name": "stdout",
     "output_type": "stream",
     "text": [
      "Step: 500 Loss (unaveraged): -5.0300\n"
     ]
    },
    {
     "name": "stderr",
     "output_type": "stream",
     "text": [
      "                                                                                                                       \r"
     ]
    },
    {
     "name": "stdout",
     "output_type": "stream",
     "text": [
      "Step: 510 Loss (unaveraged): -5.1654 Loss (averaged): -5.1044\n"
     ]
    },
    {
     "name": "stderr",
     "output_type": "stream",
     "text": [
      "                                                                                                                       \r"
     ]
    },
    {
     "name": "stdout",
     "output_type": "stream",
     "text": [
      "Step: 520 Loss (unaveraged): -5.3018 Loss (averaged): -5.1717\n"
     ]
    },
    {
     "name": "stderr",
     "output_type": "stream",
     "text": [
      "                                                                                                                       \r"
     ]
    },
    {
     "name": "stdout",
     "output_type": "stream",
     "text": [
      "Step: 530 Loss (unaveraged): -5.4395 Loss (averaged): -5.2399\n"
     ]
    },
    {
     "name": "stderr",
     "output_type": "stream",
     "text": [
      "                                                                                                                       \r"
     ]
    },
    {
     "name": "stdout",
     "output_type": "stream",
     "text": [
      "Step: 540 Loss (unaveraged): -5.5737 Loss (averaged): -5.3085\n"
     ]
    },
    {
     "name": "stderr",
     "output_type": "stream",
     "text": [
      "                                                                                                                       \r"
     ]
    },
    {
     "name": "stdout",
     "output_type": "stream",
     "text": [
      "Step: 550 Loss (unaveraged): -5.7099 Loss (averaged): -5.3763\n"
     ]
    },
    {
     "name": "stderr",
     "output_type": "stream",
     "text": [
      "                                                                                                                       \r"
     ]
    },
    {
     "name": "stdout",
     "output_type": "stream",
     "text": [
      "Step: 560 Loss (unaveraged): -5.8423 Loss (averaged): -5.4452\n"
     ]
    },
    {
     "name": "stderr",
     "output_type": "stream",
     "text": [
      "                                                                                                                       \r"
     ]
    },
    {
     "name": "stdout",
     "output_type": "stream",
     "text": [
      "Step: 570 Loss (unaveraged): -5.9783 Loss (averaged): -5.5129\n"
     ]
    },
    {
     "name": "stderr",
     "output_type": "stream",
     "text": [
      "                                                                                                                       \r"
     ]
    },
    {
     "name": "stdout",
     "output_type": "stream",
     "text": [
      "Step: 580 Loss (unaveraged): -6.1099 Loss (averaged): -5.5800\n"
     ]
    },
    {
     "name": "stderr",
     "output_type": "stream",
     "text": [
      "                                                                                                                       \r"
     ]
    },
    {
     "name": "stdout",
     "output_type": "stream",
     "text": [
      "Step: 590 Loss (unaveraged): -6.2363 Loss (averaged): -5.6443\n"
     ]
    },
    {
     "name": "stderr",
     "output_type": "stream",
     "text": [
      "                                                                                                                       \r"
     ]
    },
    {
     "name": "stdout",
     "output_type": "stream",
     "text": [
      "Step: 600 Loss (unaveraged): -6.3777 Loss (averaged): -5.7102\n"
     ]
    },
    {
     "name": "stderr",
     "output_type": "stream",
     "text": [
      "                                                                                                                       \r"
     ]
    },
    {
     "name": "stdout",
     "output_type": "stream",
     "text": [
      "Step: 610 Loss (unaveraged): -6.5257 Loss (averaged): -5.7754\n"
     ]
    },
    {
     "name": "stderr",
     "output_type": "stream",
     "text": [
      "                                                                                                                       \r"
     ]
    },
    {
     "name": "stdout",
     "output_type": "stream",
     "text": [
      "Step: 620 Loss (unaveraged): -6.6532 Loss (averaged): -5.8421\n"
     ]
    },
    {
     "name": "stderr",
     "output_type": "stream",
     "text": [
      "                                                                                                                       \r"
     ]
    },
    {
     "name": "stdout",
     "output_type": "stream",
     "text": [
      "Step: 630 Loss (unaveraged): -6.7202 Loss (averaged): -5.9052\n"
     ]
    },
    {
     "name": "stderr",
     "output_type": "stream",
     "text": [
      "                                                                                                                       \r"
     ]
    },
    {
     "name": "stdout",
     "output_type": "stream",
     "text": [
      "Step: 640 Loss (unaveraged): -6.7444 Loss (averaged): -5.9706\n"
     ]
    },
    {
     "name": "stderr",
     "output_type": "stream",
     "text": [
      "                                                                                                                       \r"
     ]
    },
    {
     "name": "stdout",
     "output_type": "stream",
     "text": [
      "Step: 650 Loss (unaveraged): -6.7434 Loss (averaged): -6.0309\n"
     ]
    },
    {
     "name": "stderr",
     "output_type": "stream",
     "text": [
      "                                                                                                                       \r"
     ]
    },
    {
     "name": "stdout",
     "output_type": "stream",
     "text": [
      "Step: 660 Loss (unaveraged): -6.7195 Loss (averaged): -6.0869\n"
     ]
    },
    {
     "name": "stderr",
     "output_type": "stream",
     "text": [
      "                                                                                                                       \r"
     ]
    },
    {
     "name": "stdout",
     "output_type": "stream",
     "text": [
      "Step: 670 Loss (unaveraged): -6.6929 Loss (averaged): -6.1398\n"
     ]
    },
    {
     "name": "stderr",
     "output_type": "stream",
     "text": [
      "                                                                                                                       \r"
     ]
    },
    {
     "name": "stdout",
     "output_type": "stream",
     "text": [
      "Step: 680 Loss (unaveraged): -6.7257 Loss (averaged): -6.1854\n"
     ]
    },
    {
     "name": "stderr",
     "output_type": "stream",
     "text": [
      "                                                                                                                       \r"
     ]
    },
    {
     "name": "stdout",
     "output_type": "stream",
     "text": [
      "Step: 690 Loss (unaveraged): -6.7433 Loss (averaged): -6.2228\n"
     ]
    },
    {
     "name": "stderr",
     "output_type": "stream",
     "text": [
      "                                                                                                                       \r"
     ]
    },
    {
     "name": "stdout",
     "output_type": "stream",
     "text": [
      "Step: 700 Loss (unaveraged): -6.6637 Loss (averaged): -6.2575\n"
     ]
    },
    {
     "name": "stderr",
     "output_type": "stream",
     "text": [
      "                                                                                                                       \r"
     ]
    },
    {
     "name": "stdout",
     "output_type": "stream",
     "text": [
      "Step: 710 Loss (unaveraged): -6.6251 Loss (averaged): -6.2851\n"
     ]
    },
    {
     "name": "stderr",
     "output_type": "stream",
     "text": [
      "                                                                                                                       \r"
     ]
    },
    {
     "name": "stdout",
     "output_type": "stream",
     "text": [
      "Step: 720 Loss (unaveraged): -6.8824 Loss (averaged): -6.3053\n"
     ]
    },
    {
     "name": "stderr",
     "output_type": "stream",
     "text": [
      "                                                                                                                       \r"
     ]
    },
    {
     "name": "stdout",
     "output_type": "stream",
     "text": [
      "Step: 730 Loss (unaveraged): -7.1563 Loss (averaged): -6.3315\n"
     ]
    },
    {
     "name": "stderr",
     "output_type": "stream",
     "text": [
      "                                                                                                                       \r"
     ]
    },
    {
     "name": "stdout",
     "output_type": "stream",
     "text": [
      "Step: 740 Loss (unaveraged): -6.9552 Loss (averaged): -6.3562\n"
     ]
    },
    {
     "name": "stderr",
     "output_type": "stream",
     "text": [
      "                                                                                                                       \r"
     ]
    },
    {
     "name": "stdout",
     "output_type": "stream",
     "text": [
      "Step: 750 Loss (unaveraged): -6.5985 Loss (averaged): -6.3796\n"
     ]
    },
    {
     "name": "stderr",
     "output_type": "stream",
     "text": [
      "                                                                                                                       \r"
     ]
    },
    {
     "name": "stdout",
     "output_type": "stream",
     "text": [
      "Step: 760 Loss (unaveraged): -6.7174 Loss (averaged): -6.3920\n"
     ]
    },
    {
     "name": "stderr",
     "output_type": "stream",
     "text": [
      "                                                                                                                       \r"
     ]
    },
    {
     "name": "stdout",
     "output_type": "stream",
     "text": [
      "Step: 770 Loss (unaveraged): -6.8124 Loss (averaged): -6.4204\n"
     ]
    },
    {
     "name": "stderr",
     "output_type": "stream",
     "text": [
      "                                                                                                                       \r"
     ]
    },
    {
     "name": "stdout",
     "output_type": "stream",
     "text": [
      "Step: 780 Loss (unaveraged): -6.7683 Loss (averaged): -6.4311\n"
     ]
    },
    {
     "name": "stderr",
     "output_type": "stream",
     "text": [
      "                                                                                                                       \r"
     ]
    },
    {
     "name": "stdout",
     "output_type": "stream",
     "text": [
      "Step: 790 Loss (unaveraged): -6.8222 Loss (averaged): -6.4325\n"
     ]
    },
    {
     "name": "stderr",
     "output_type": "stream",
     "text": [
      "                                                                                                                       \r"
     ]
    },
    {
     "name": "stdout",
     "output_type": "stream",
     "text": [
      "Step: 800 Loss (unaveraged): -6.7553 Loss (averaged): -6.4544\n"
     ]
    },
    {
     "name": "stderr",
     "output_type": "stream",
     "text": [
      "                                                                                                                       \r"
     ]
    },
    {
     "name": "stdout",
     "output_type": "stream",
     "text": [
      "Step: 810 Loss (unaveraged): -6.6504 Loss (averaged): -6.4624\n"
     ]
    },
    {
     "name": "stderr",
     "output_type": "stream",
     "text": [
      "                                                                                                                       \r"
     ]
    },
    {
     "name": "stdout",
     "output_type": "stream",
     "text": [
      "Step: 820 Loss (unaveraged): -6.9053 Loss (averaged): -6.4738\n"
     ]
    },
    {
     "name": "stderr",
     "output_type": "stream",
     "text": [
      "                                                                                                                       \r"
     ]
    },
    {
     "name": "stdout",
     "output_type": "stream",
     "text": [
      "Step: 830 Loss (unaveraged): -6.4894 Loss (averaged): -6.4866\n"
     ]
    },
    {
     "name": "stderr",
     "output_type": "stream",
     "text": [
      "                                                                                                                       \r"
     ]
    },
    {
     "name": "stdout",
     "output_type": "stream",
     "text": [
      "Step: 840 Loss (unaveraged): -5.9579 Loss (averaged): -6.4888\n"
     ]
    },
    {
     "name": "stderr",
     "output_type": "stream",
     "text": [
      "                                                                                                                       \r"
     ]
    },
    {
     "name": "stdout",
     "output_type": "stream",
     "text": [
      "Step: 850 Loss (unaveraged): -6.0456 Loss (averaged): -6.4922\n"
     ]
    },
    {
     "name": "stderr",
     "output_type": "stream",
     "text": [
      "                                                                                                                       \r"
     ]
    },
    {
     "name": "stdout",
     "output_type": "stream",
     "text": [
      "Step: 860 Loss (unaveraged): -5.9026 Loss (averaged): -6.4955\n"
     ]
    },
    {
     "name": "stderr",
     "output_type": "stream",
     "text": [
      "                                                                                                                       \r"
     ]
    },
    {
     "name": "stdout",
     "output_type": "stream",
     "text": [
      "Step: 870 Loss (unaveraged): -5.7941 Loss (averaged): -6.4838\n"
     ]
    },
    {
     "name": "stderr",
     "output_type": "stream",
     "text": [
      "                                                                                                                       \r"
     ]
    },
    {
     "name": "stdout",
     "output_type": "stream",
     "text": [
      "Step: 880 Loss (unaveraged): -5.5600 Loss (averaged): -6.4700\n"
     ]
    },
    {
     "name": "stderr",
     "output_type": "stream",
     "text": [
      "                                                                                                                       \r"
     ]
    },
    {
     "name": "stdout",
     "output_type": "stream",
     "text": [
      "Step: 890 Loss (unaveraged): -5.2201 Loss (averaged): -6.4643\n"
     ]
    },
    {
     "name": "stderr",
     "output_type": "stream",
     "text": [
      "                                                                                                                       \r"
     ]
    },
    {
     "name": "stdout",
     "output_type": "stream",
     "text": [
      "Step: 900 Loss (unaveraged): -4.9132 Loss (averaged): -6.4448\n"
     ]
    },
    {
     "name": "stderr",
     "output_type": "stream",
     "text": [
      "                                                                                                                       \r"
     ]
    },
    {
     "name": "stdout",
     "output_type": "stream",
     "text": [
      "Step: 910 Loss (unaveraged): -4.7077 Loss (averaged): -6.4238\n"
     ]
    },
    {
     "name": "stderr",
     "output_type": "stream",
     "text": [
      "                                                                                                                       \r"
     ]
    },
    {
     "name": "stdout",
     "output_type": "stream",
     "text": [
      "Step: 920 Loss (unaveraged): -4.5675 Loss (averaged): -6.3992\n"
     ]
    },
    {
     "name": "stderr",
     "output_type": "stream",
     "text": [
      "                                                                                                                       \r"
     ]
    },
    {
     "name": "stdout",
     "output_type": "stream",
     "text": [
      "Step: 930 Loss (unaveraged): -4.2338 Loss (averaged): -6.3730\n"
     ]
    },
    {
     "name": "stderr",
     "output_type": "stream",
     "text": [
      "                                                                                                                       \r"
     ]
    },
    {
     "name": "stdout",
     "output_type": "stream",
     "text": [
      "Step: 940 Loss (unaveraged): -3.6886 Loss (averaged): -6.3578\n"
     ]
    },
    {
     "name": "stderr",
     "output_type": "stream",
     "text": [
      "                                                                                                                       \r"
     ]
    },
    {
     "name": "stdout",
     "output_type": "stream",
     "text": [
      "Step: 950 Loss (unaveraged): -3.0775 Loss (averaged): -6.3184\n"
     ]
    },
    {
     "name": "stderr",
     "output_type": "stream",
     "text": [
      "                                                                                                                       \r"
     ]
    },
    {
     "name": "stdout",
     "output_type": "stream",
     "text": [
      "Step: 960 Loss (unaveraged): -2.6819 Loss (averaged): -6.2844\n"
     ]
    },
    {
     "name": "stderr",
     "output_type": "stream",
     "text": [
      "                                                                                                                       \r"
     ]
    },
    {
     "name": "stdout",
     "output_type": "stream",
     "text": [
      "Step: 970 Loss (unaveraged): -2.4652 Loss (averaged): -6.2571\n"
     ]
    },
    {
     "name": "stderr",
     "output_type": "stream",
     "text": [
      "                                                                                                                       \r"
     ]
    },
    {
     "name": "stdout",
     "output_type": "stream",
     "text": [
      "Step: 980 Loss (unaveraged): -2.2924 Loss (averaged): -6.2005\n"
     ]
    },
    {
     "name": "stderr",
     "output_type": "stream",
     "text": [
      "                                                                                                                       \r"
     ]
    },
    {
     "name": "stdout",
     "output_type": "stream",
     "text": [
      "Step: 990 Loss (unaveraged): -1.7682 Loss (averaged): -6.1535\n"
     ]
    },
    {
     "name": "stderr",
     "output_type": "stream",
     "text": [
      "                                                                                                                       \r"
     ]
    },
    {
     "name": "stdout",
     "output_type": "stream",
     "text": [
      "Step: 1000 Loss (unaveraged): -1.0163 Loss (averaged): -6.1172\n"
     ]
    },
    {
     "name": "stderr",
     "output_type": "stream",
     "text": [
      "                                                                                                                       \r"
     ]
    },
    {
     "name": "stdout",
     "output_type": "stream",
     "text": [
      "Step: 1010 Loss (unaveraged): -0.4730 Loss (averaged): -6.0455\n"
     ]
    },
    {
     "name": "stderr",
     "output_type": "stream",
     "text": [
      "                                                                                                                       \r"
     ]
    },
    {
     "name": "stdout",
     "output_type": "stream",
     "text": [
      "Step: 1020 Loss (unaveraged): -0.1910 Loss (averaged): -5.9782\n"
     ]
    },
    {
     "name": "stderr",
     "output_type": "stream",
     "text": [
      "                                                                                                                       \r"
     ]
    },
    {
     "name": "stdout",
     "output_type": "stream",
     "text": [
      "Step: 1030 Loss (unaveraged): -0.0453 Loss (averaged): -5.9045\n"
     ]
    },
    {
     "name": "stderr",
     "output_type": "stream",
     "text": [
      "                                                                                                                       \r"
     ]
    },
    {
     "name": "stdout",
     "output_type": "stream",
     "text": [
      "Step: 1040 Loss (unaveraged): 0.0713 Loss (averaged): -5.8238\n"
     ]
    },
    {
     "name": "stderr",
     "output_type": "stream",
     "text": [
      "                                                                                                                       \r"
     ]
    },
    {
     "name": "stdout",
     "output_type": "stream",
     "text": [
      "Step: 1050 Loss (unaveraged): 0.1833 Loss (averaged): -5.7428\n"
     ]
    },
    {
     "name": "stderr",
     "output_type": "stream",
     "text": [
      "                                                                                                                       \r"
     ]
    },
    {
     "name": "stdout",
     "output_type": "stream",
     "text": [
      "Step: 1060 Loss (unaveraged): 0.1952 Loss (averaged): -5.6560\n"
     ]
    },
    {
     "name": "stderr",
     "output_type": "stream",
     "text": [
      "                                                                                                                       \r"
     ]
    },
    {
     "name": "stdout",
     "output_type": "stream",
     "text": [
      "Step: 1070 Loss (unaveraged): 0.1684 Loss (averaged): -5.5551\n"
     ]
    },
    {
     "name": "stderr",
     "output_type": "stream",
     "text": [
      "                                                                                                                       \r"
     ]
    },
    {
     "name": "stdout",
     "output_type": "stream",
     "text": [
      "Step: 1080 Loss (unaveraged): 0.1444 Loss (averaged): -5.4596\n"
     ]
    },
    {
     "name": "stderr",
     "output_type": "stream",
     "text": [
      "                                                                                                                       \r"
     ]
    },
    {
     "name": "stdout",
     "output_type": "stream",
     "text": [
      "Step: 1090 Loss (unaveraged): 0.1169 Loss (averaged): -5.3606\n"
     ]
    },
    {
     "name": "stderr",
     "output_type": "stream",
     "text": [
      "                                                                                                                       \r"
     ]
    },
    {
     "name": "stdout",
     "output_type": "stream",
     "text": [
      "Step: 1100 Loss (unaveraged): 0.1077 Loss (averaged): -5.2562\n"
     ]
    },
    {
     "name": "stderr",
     "output_type": "stream",
     "text": [
      "                                                                                                                       \r"
     ]
    },
    {
     "name": "stdout",
     "output_type": "stream",
     "text": [
      "Step: 1110 Loss (unaveraged): 0.0966 Loss (averaged): -5.1396\n"
     ]
    },
    {
     "name": "stderr",
     "output_type": "stream",
     "text": [
      "                                                                                                                       \r"
     ]
    },
    {
     "name": "stdout",
     "output_type": "stream",
     "text": [
      "Step: 1120 Loss (unaveraged): 0.0842 Loss (averaged): -5.0363\n"
     ]
    },
    {
     "name": "stderr",
     "output_type": "stream",
     "text": [
      "                                                                                                                       \r"
     ]
    },
    {
     "name": "stdout",
     "output_type": "stream",
     "text": [
      "Step: 1130 Loss (unaveraged): 0.0768 Loss (averaged): -4.9221\n"
     ]
    },
    {
     "name": "stderr",
     "output_type": "stream",
     "text": [
      "                                                                                                                       \r"
     ]
    },
    {
     "name": "stdout",
     "output_type": "stream",
     "text": [
      "Step: 1140 Loss (unaveraged): 0.0668 Loss (averaged): -4.8160\n"
     ]
    },
    {
     "name": "stderr",
     "output_type": "stream",
     "text": [
      "                                                                                                                       \r"
     ]
    },
    {
     "name": "stdout",
     "output_type": "stream",
     "text": [
      "Step: 1150 Loss (unaveraged): 0.0612 Loss (averaged): -4.6989\n"
     ]
    },
    {
     "name": "stderr",
     "output_type": "stream",
     "text": [
      "                                                                                                                       \r"
     ]
    },
    {
     "name": "stdout",
     "output_type": "stream",
     "text": [
      "Step: 1160 Loss (unaveraged): 0.0537 Loss (averaged): -4.5583\n"
     ]
    },
    {
     "name": "stderr",
     "output_type": "stream",
     "text": [
      "                                                                                                                       \r"
     ]
    },
    {
     "name": "stdout",
     "output_type": "stream",
     "text": [
      "Step: 1170 Loss (unaveraged): 0.0486 Loss (averaged): -4.4557\n"
     ]
    },
    {
     "name": "stderr",
     "output_type": "stream",
     "text": [
      "                                                                                                                       \r"
     ]
    },
    {
     "name": "stdout",
     "output_type": "stream",
     "text": [
      "Step: 1180 Loss (unaveraged): 0.0459 Loss (averaged): -4.3559\n"
     ]
    },
    {
     "name": "stderr",
     "output_type": "stream",
     "text": [
      "                                                                                                                       \r"
     ]
    },
    {
     "name": "stdout",
     "output_type": "stream",
     "text": [
      "Step: 1190 Loss (unaveraged): 0.0384 Loss (averaged): -4.2350\n"
     ]
    },
    {
     "name": "stderr",
     "output_type": "stream",
     "text": [
      "                                                                                                                       \r"
     ]
    },
    {
     "name": "stdout",
     "output_type": "stream",
     "text": [
      "Step: 1200 Loss (unaveraged): 0.0361 Loss (averaged): -4.1133\n"
     ]
    },
    {
     "name": "stderr",
     "output_type": "stream",
     "text": [
      "                                                                                                                       \r"
     ]
    },
    {
     "name": "stdout",
     "output_type": "stream",
     "text": [
      "Step: 1210 Loss (unaveraged): 0.0330 Loss (averaged): -3.9922\n"
     ]
    },
    {
     "name": "stderr",
     "output_type": "stream",
     "text": [
      "                                                                                                                       \r"
     ]
    },
    {
     "name": "stdout",
     "output_type": "stream",
     "text": [
      "Step: 1220 Loss (unaveraged): 0.0303 Loss (averaged): -3.8768\n"
     ]
    },
    {
     "name": "stderr",
     "output_type": "stream",
     "text": [
      "                                                                                                                       \r"
     ]
    },
    {
     "name": "stdout",
     "output_type": "stream",
     "text": [
      "Step: 1230 Loss (unaveraged): 0.0268 Loss (averaged): -3.7750\n"
     ]
    },
    {
     "name": "stderr",
     "output_type": "stream",
     "text": [
      "                                                                                                                       \r"
     ]
    },
    {
     "name": "stdout",
     "output_type": "stream",
     "text": [
      "Step: 1240 Loss (unaveraged): 0.0245 Loss (averaged): -3.6393\n"
     ]
    },
    {
     "name": "stderr",
     "output_type": "stream",
     "text": [
      "                                                                                                                       \r"
     ]
    },
    {
     "name": "stdout",
     "output_type": "stream",
     "text": [
      "Step: 1250 Loss (unaveraged): 0.0225 Loss (averaged): -3.5383\n"
     ]
    },
    {
     "name": "stderr",
     "output_type": "stream",
     "text": [
      "                                                                                                                       \r"
     ]
    },
    {
     "name": "stdout",
     "output_type": "stream",
     "text": [
      "Step: 1260 Loss (unaveraged): 0.0205 Loss (averaged): -3.4169\n"
     ]
    },
    {
     "name": "stderr",
     "output_type": "stream",
     "text": [
      "                                                                                                                       \r"
     ]
    },
    {
     "name": "stdout",
     "output_type": "stream",
     "text": [
      "Step: 1270 Loss (unaveraged): 0.0186 Loss (averaged): -3.3291\n"
     ]
    },
    {
     "name": "stderr",
     "output_type": "stream",
     "text": [
      "                                                                                                                       \r"
     ]
    },
    {
     "name": "stdout",
     "output_type": "stream",
     "text": [
      "Step: 1280 Loss (unaveraged): 0.0165 Loss (averaged): -3.2049\n"
     ]
    },
    {
     "name": "stderr",
     "output_type": "stream",
     "text": [
      "                                                                                                                       \r"
     ]
    },
    {
     "name": "stdout",
     "output_type": "stream",
     "text": [
      "Step: 1290 Loss (unaveraged): 0.0148 Loss (averaged): -3.1154\n"
     ]
    },
    {
     "name": "stderr",
     "output_type": "stream",
     "text": [
      "                                                                                                                       \r"
     ]
    },
    {
     "name": "stdout",
     "output_type": "stream",
     "text": [
      "Step: 1300 Loss (unaveraged): 0.0140 Loss (averaged): -2.9908\n"
     ]
    },
    {
     "name": "stderr",
     "output_type": "stream",
     "text": [
      "                                                                                                                       \r"
     ]
    },
    {
     "name": "stdout",
     "output_type": "stream",
     "text": [
      "Step: 1310 Loss (unaveraged): 0.0123 Loss (averaged): -2.8854\n"
     ]
    },
    {
     "name": "stderr",
     "output_type": "stream",
     "text": [
      "                                                                                                                       \r"
     ]
    },
    {
     "name": "stdout",
     "output_type": "stream",
     "text": [
      "Step: 1320 Loss (unaveraged): 0.0115 Loss (averaged): -2.7833\n"
     ]
    },
    {
     "name": "stderr",
     "output_type": "stream",
     "text": [
      "                                                                                                                       \r"
     ]
    },
    {
     "name": "stdout",
     "output_type": "stream",
     "text": [
      "Step: 1330 Loss (unaveraged): 0.0107 Loss (averaged): -2.6899\n"
     ]
    },
    {
     "name": "stderr",
     "output_type": "stream",
     "text": [
      "                                                                                                                       \r"
     ]
    },
    {
     "name": "stdout",
     "output_type": "stream",
     "text": [
      "Step: 1340 Loss (unaveraged): 0.0102 Loss (averaged): -2.5963\n"
     ]
    },
    {
     "name": "stderr",
     "output_type": "stream",
     "text": [
      "                                                                                                                       \r"
     ]
    },
    {
     "name": "stdout",
     "output_type": "stream",
     "text": [
      "Step: 1350 Loss (unaveraged): 0.0090 Loss (averaged): -2.4859\n"
     ]
    },
    {
     "name": "stderr",
     "output_type": "stream",
     "text": [
      "                                                                                                                       \r"
     ]
    },
    {
     "name": "stdout",
     "output_type": "stream",
     "text": [
      "Step: 1360 Loss (unaveraged): 0.0077 Loss (averaged): -2.4055\n"
     ]
    },
    {
     "name": "stderr",
     "output_type": "stream",
     "text": [
      "                                                                                                                       \r"
     ]
    },
    {
     "name": "stdout",
     "output_type": "stream",
     "text": [
      "Step: 1370 Loss (unaveraged): 0.0073 Loss (averaged): -2.3164\n"
     ]
    },
    {
     "name": "stderr",
     "output_type": "stream",
     "text": [
      "                                                                                                                       \r"
     ]
    },
    {
     "name": "stdout",
     "output_type": "stream",
     "text": [
      "Step: 1380 Loss (unaveraged): 0.0067 Loss (averaged): -2.2220\n"
     ]
    },
    {
     "name": "stderr",
     "output_type": "stream",
     "text": [
      "                                                                                                                       \r"
     ]
    },
    {
     "name": "stdout",
     "output_type": "stream",
     "text": [
      "Step: 1390 Loss (unaveraged): 0.0062 Loss (averaged): -2.1453\n"
     ]
    },
    {
     "name": "stderr",
     "output_type": "stream",
     "text": [
      "                                                                                                                       \r"
     ]
    },
    {
     "name": "stdout",
     "output_type": "stream",
     "text": [
      "Step: 1400 Loss (unaveraged): 0.0054 Loss (averaged): -2.0764\n"
     ]
    },
    {
     "name": "stderr",
     "output_type": "stream",
     "text": [
      "                                                                                                                       \r"
     ]
    },
    {
     "name": "stdout",
     "output_type": "stream",
     "text": [
      "Step: 1410 Loss (unaveraged): 0.0051 Loss (averaged): -1.9888\n"
     ]
    },
    {
     "name": "stderr",
     "output_type": "stream",
     "text": [
      "                                                                                                                       \r"
     ]
    },
    {
     "name": "stdout",
     "output_type": "stream",
     "text": [
      "Step: 1420 Loss (unaveraged): 0.0046 Loss (averaged): -1.9185\n"
     ]
    },
    {
     "name": "stderr",
     "output_type": "stream",
     "text": [
      "                                                                                                                       \r"
     ]
    },
    {
     "name": "stdout",
     "output_type": "stream",
     "text": [
      "Step: 1430 Loss (unaveraged): 0.0043 Loss (averaged): -1.8462\n"
     ]
    },
    {
     "name": "stderr",
     "output_type": "stream",
     "text": [
      "                                                                                                                       \r"
     ]
    },
    {
     "name": "stdout",
     "output_type": "stream",
     "text": [
      "Step: 1440 Loss (unaveraged): 0.0040 Loss (averaged): -1.7716\n"
     ]
    },
    {
     "name": "stderr",
     "output_type": "stream",
     "text": [
      "                                                                                                                       \r"
     ]
    },
    {
     "name": "stdout",
     "output_type": "stream",
     "text": [
      "Step: 1450 Loss (unaveraged): 0.0037 Loss (averaged): -1.6960\n"
     ]
    },
    {
     "name": "stderr",
     "output_type": "stream",
     "text": [
      "                                                                                                                       \r"
     ]
    },
    {
     "name": "stdout",
     "output_type": "stream",
     "text": [
      "Step: 1460 Loss (unaveraged): 0.0034 Loss (averaged): -1.6401\n"
     ]
    },
    {
     "name": "stderr",
     "output_type": "stream",
     "text": [
      "                                                                                                                       \r"
     ]
    },
    {
     "name": "stdout",
     "output_type": "stream",
     "text": [
      "Step: 1470 Loss (unaveraged): 0.0032 Loss (averaged): -1.5613\n"
     ]
    },
    {
     "name": "stderr",
     "output_type": "stream",
     "text": [
      "                                                                                                                       \r"
     ]
    },
    {
     "name": "stdout",
     "output_type": "stream",
     "text": [
      "Step: 1480 Loss (unaveraged): 0.0029 Loss (averaged): -1.5033\n"
     ]
    },
    {
     "name": "stderr",
     "output_type": "stream",
     "text": [
      "                                                                                                                       \r"
     ]
    },
    {
     "name": "stdout",
     "output_type": "stream",
     "text": [
      "Step: 1490 Loss (unaveraged): 0.0026 Loss (averaged): -1.4622\n"
     ]
    },
    {
     "name": "stderr",
     "output_type": "stream",
     "text": [
      "                                                                                                                       \r"
     ]
    },
    {
     "name": "stdout",
     "output_type": "stream",
     "text": [
      "Step: 1500 Loss (unaveraged): 0.0025 Loss (averaged): -1.3884\n"
     ]
    },
    {
     "name": "stderr",
     "output_type": "stream",
     "text": [
      "                                                                                                                       \r"
     ]
    },
    {
     "name": "stdout",
     "output_type": "stream",
     "text": [
      "Step: 1510 Loss (unaveraged): 0.0023 Loss (averaged): -1.3403\n"
     ]
    },
    {
     "name": "stderr",
     "output_type": "stream",
     "text": [
      "                                                                                                                       \r"
     ]
    },
    {
     "name": "stdout",
     "output_type": "stream",
     "text": [
      "Step: 1520 Loss (unaveraged): 0.0021 Loss (averaged): -1.2829\n"
     ]
    },
    {
     "name": "stderr",
     "output_type": "stream",
     "text": [
      "                                                                                                                       \r"
     ]
    },
    {
     "name": "stdout",
     "output_type": "stream",
     "text": [
      "Step: 1530 Loss (unaveraged): 0.0019 Loss (averaged): -1.2170\n"
     ]
    },
    {
     "name": "stderr",
     "output_type": "stream",
     "text": [
      "                                                                                                                       \r"
     ]
    },
    {
     "name": "stdout",
     "output_type": "stream",
     "text": [
      "Step: 1540 Loss (unaveraged): 0.0018 Loss (averaged): -1.1847\n"
     ]
    },
    {
     "name": "stderr",
     "output_type": "stream",
     "text": [
      "                                                                                                                       \r"
     ]
    },
    {
     "name": "stdout",
     "output_type": "stream",
     "text": [
      "Step: 1550 Loss (unaveraged): 0.0016 Loss (averaged): -1.1285\n"
     ]
    },
    {
     "name": "stderr",
     "output_type": "stream",
     "text": [
      "                                                                                                                       \r"
     ]
    },
    {
     "name": "stdout",
     "output_type": "stream",
     "text": [
      "Step: 1560 Loss (unaveraged): 0.0016 Loss (averaged): -1.0983\n"
     ]
    },
    {
     "name": "stderr",
     "output_type": "stream",
     "text": [
      "                                                                                                                       \r"
     ]
    },
    {
     "name": "stdout",
     "output_type": "stream",
     "text": [
      "Step: 1570 Loss (unaveraged): 0.0015 Loss (averaged): -1.0458\n"
     ]
    },
    {
     "name": "stderr",
     "output_type": "stream",
     "text": [
      "                                                                                                                       \r"
     ]
    },
    {
     "name": "stdout",
     "output_type": "stream",
     "text": [
      "Step: 1580 Loss (unaveraged): 0.0013 Loss (averaged): -0.9930\n"
     ]
    },
    {
     "name": "stderr",
     "output_type": "stream",
     "text": [
      "                                                                                                                       \r"
     ]
    },
    {
     "name": "stdout",
     "output_type": "stream",
     "text": [
      "Step: 1590 Loss (unaveraged): 0.0013 Loss (averaged): -0.9667\n"
     ]
    },
    {
     "name": "stderr",
     "output_type": "stream",
     "text": [
      "                                                                                                                       \r"
     ]
    },
    {
     "name": "stdout",
     "output_type": "stream",
     "text": [
      "Step: 1600 Loss (unaveraged): 0.0011 Loss (averaged): -0.9360\n"
     ]
    },
    {
     "name": "stderr",
     "output_type": "stream",
     "text": [
      "                                                                                                                       \r"
     ]
    },
    {
     "name": "stdout",
     "output_type": "stream",
     "text": [
      "Step: 1610 Loss (unaveraged): 0.0011 Loss (averaged): -0.8937\n"
     ]
    },
    {
     "name": "stderr",
     "output_type": "stream",
     "text": [
      "                                                                                                                       \r"
     ]
    },
    {
     "name": "stdout",
     "output_type": "stream",
     "text": [
      "Step: 1620 Loss (unaveraged): 0.0011 Loss (averaged): -0.8600\n"
     ]
    },
    {
     "name": "stderr",
     "output_type": "stream",
     "text": [
      "                                                                                                                       \r"
     ]
    },
    {
     "name": "stdout",
     "output_type": "stream",
     "text": [
      "Step: 1630 Loss (unaveraged): 0.0010 Loss (averaged): -0.8251\n"
     ]
    },
    {
     "name": "stderr",
     "output_type": "stream",
     "text": [
      "                                                                                                                       \r"
     ]
    },
    {
     "name": "stdout",
     "output_type": "stream",
     "text": [
      "Step: 1640 Loss (unaveraged): 0.0008 Loss (averaged): -0.7992\n"
     ]
    },
    {
     "name": "stderr",
     "output_type": "stream",
     "text": [
      "                                                                                                                       \r"
     ]
    },
    {
     "name": "stdout",
     "output_type": "stream",
     "text": [
      "Step: 1650 Loss (unaveraged): 0.0008 Loss (averaged): -0.7729\n"
     ]
    },
    {
     "name": "stderr",
     "output_type": "stream",
     "text": [
      "                                                                                                                       \r"
     ]
    },
    {
     "name": "stdout",
     "output_type": "stream",
     "text": [
      "Step: 1660 Loss (unaveraged): 0.0007 Loss (averaged): -0.7232\n"
     ]
    },
    {
     "name": "stderr",
     "output_type": "stream",
     "text": [
      "                                                                                                                       \r"
     ]
    },
    {
     "name": "stdout",
     "output_type": "stream",
     "text": [
      "Step: 1670 Loss (unaveraged): 0.0008 Loss (averaged): -0.7037\n"
     ]
    },
    {
     "name": "stderr",
     "output_type": "stream",
     "text": [
      "                                                                                                                       \r"
     ]
    },
    {
     "name": "stdout",
     "output_type": "stream",
     "text": [
      "Step: 1680 Loss (unaveraged): 0.0006 Loss (averaged): -0.6781\n"
     ]
    },
    {
     "name": "stderr",
     "output_type": "stream",
     "text": [
      "                                                                                                                       \r"
     ]
    },
    {
     "name": "stdout",
     "output_type": "stream",
     "text": [
      "Step: 1690 Loss (unaveraged): 0.0005 Loss (averaged): -0.6637\n"
     ]
    },
    {
     "name": "stderr",
     "output_type": "stream",
     "text": [
      "                                                                                                                       \r"
     ]
    },
    {
     "name": "stdout",
     "output_type": "stream",
     "text": [
      "Step: 1700 Loss (unaveraged): 0.0006 Loss (averaged): -0.6293\n"
     ]
    },
    {
     "name": "stderr",
     "output_type": "stream",
     "text": [
      "                                                                                                                       \r"
     ]
    },
    {
     "name": "stdout",
     "output_type": "stream",
     "text": [
      "Step: 1710 Loss (unaveraged): 0.0005 Loss (averaged): -0.6134\n"
     ]
    },
    {
     "name": "stderr",
     "output_type": "stream",
     "text": [
      "                                                                                                                       \r"
     ]
    },
    {
     "name": "stdout",
     "output_type": "stream",
     "text": [
      "Step: 1720 Loss (unaveraged): 0.0005 Loss (averaged): -0.5835\n"
     ]
    },
    {
     "name": "stderr",
     "output_type": "stream",
     "text": [
      "                                                                                                                       \r"
     ]
    },
    {
     "name": "stdout",
     "output_type": "stream",
     "text": [
      "Step: 1730 Loss (unaveraged): 0.0004 Loss (averaged): -0.5756\n"
     ]
    },
    {
     "name": "stderr",
     "output_type": "stream",
     "text": [
      "                                                                                                                       \r"
     ]
    },
    {
     "name": "stdout",
     "output_type": "stream",
     "text": [
      "Step: 1740 Loss (unaveraged): 0.0003 Loss (averaged): -0.5378\n"
     ]
    },
    {
     "name": "stderr",
     "output_type": "stream",
     "text": [
      "                                                                                                                       \r"
     ]
    },
    {
     "name": "stdout",
     "output_type": "stream",
     "text": [
      "Step: 1750 Loss (unaveraged): 0.0004 Loss (averaged): -0.5332\n"
     ]
    },
    {
     "name": "stderr",
     "output_type": "stream",
     "text": [
      "                                                                                                                       \r"
     ]
    },
    {
     "name": "stdout",
     "output_type": "stream",
     "text": [
      "Step: 1760 Loss (unaveraged): 0.0003 Loss (averaged): -0.5141\n"
     ]
    },
    {
     "name": "stderr",
     "output_type": "stream",
     "text": [
      "                                                                                                                       \r"
     ]
    },
    {
     "name": "stdout",
     "output_type": "stream",
     "text": [
      "Step: 1770 Loss (unaveraged): 0.0003 Loss (averaged): -0.4888\n"
     ]
    },
    {
     "name": "stderr",
     "output_type": "stream",
     "text": [
      "                                                                                                                       \r"
     ]
    },
    {
     "name": "stdout",
     "output_type": "stream",
     "text": [
      "Step: 1780 Loss (unaveraged): 0.0003 Loss (averaged): -0.4700\n"
     ]
    },
    {
     "name": "stderr",
     "output_type": "stream",
     "text": [
      "                                                                                                                       \r"
     ]
    },
    {
     "name": "stdout",
     "output_type": "stream",
     "text": [
      "Step: 1790 Loss (unaveraged): 0.0002 Loss (averaged): -0.4648\n"
     ]
    },
    {
     "name": "stderr",
     "output_type": "stream",
     "text": [
      "                                                                                                                       \r"
     ]
    },
    {
     "name": "stdout",
     "output_type": "stream",
     "text": [
      "Step: 1800 Loss (unaveraged): 0.0001 Loss (averaged): -0.4444\n"
     ]
    },
    {
     "name": "stderr",
     "output_type": "stream",
     "text": [
      "                                                                                                                       \r"
     ]
    },
    {
     "name": "stdout",
     "output_type": "stream",
     "text": [
      "Step: 1810 Loss (unaveraged): 0.0002 Loss (averaged): -0.4253\n"
     ]
    },
    {
     "name": "stderr",
     "output_type": "stream",
     "text": [
      "                                                                                                                       \r"
     ]
    },
    {
     "name": "stdout",
     "output_type": "stream",
     "text": [
      "Step: 1820 Loss (unaveraged): 0.0001 Loss (averaged): -0.4153\n"
     ]
    },
    {
     "name": "stderr",
     "output_type": "stream",
     "text": [
      "                                                                                                                       \r"
     ]
    },
    {
     "name": "stdout",
     "output_type": "stream",
     "text": [
      "Step: 1830 Loss (unaveraged): -0.0000 Loss (averaged): -0.4064\n"
     ]
    },
    {
     "name": "stderr",
     "output_type": "stream",
     "text": [
      "                                                                                                                       \r"
     ]
    },
    {
     "name": "stdout",
     "output_type": "stream",
     "text": [
      "Step: 1840 Loss (unaveraged): 0.0000 Loss (averaged): -0.3919\n"
     ]
    },
    {
     "name": "stderr",
     "output_type": "stream",
     "text": [
      "                                                                                                                       \r"
     ]
    },
    {
     "name": "stdout",
     "output_type": "stream",
     "text": [
      "Step: 1850 Loss (unaveraged): -0.0000 Loss (averaged): -0.3773\n"
     ]
    },
    {
     "name": "stderr",
     "output_type": "stream",
     "text": [
      "                                                                                                                       \r"
     ]
    },
    {
     "name": "stdout",
     "output_type": "stream",
     "text": [
      "Step: 1860 Loss (unaveraged): -0.0001 Loss (averaged): -0.3690\n"
     ]
    },
    {
     "name": "stderr",
     "output_type": "stream",
     "text": [
      "                                                                                                                       \r"
     ]
    },
    {
     "name": "stdout",
     "output_type": "stream",
     "text": [
      "Step: 1870 Loss (unaveraged): -0.0002 Loss (averaged): -0.3588\n"
     ]
    },
    {
     "name": "stderr",
     "output_type": "stream",
     "text": [
      "                                                                                                                       \r"
     ]
    },
    {
     "name": "stdout",
     "output_type": "stream",
     "text": [
      "Step: 1880 Loss (unaveraged): -0.0002 Loss (averaged): -0.3438\n"
     ]
    },
    {
     "name": "stderr",
     "output_type": "stream",
     "text": [
      "                                                                                                                       \r"
     ]
    },
    {
     "name": "stdout",
     "output_type": "stream",
     "text": [
      "Step: 1890 Loss (unaveraged): -0.0003 Loss (averaged): -0.3359\n"
     ]
    },
    {
     "name": "stderr",
     "output_type": "stream",
     "text": [
      "                                                                                                                       \r"
     ]
    },
    {
     "name": "stdout",
     "output_type": "stream",
     "text": [
      "Step: 1900 Loss (unaveraged): -0.0003 Loss (averaged): -0.3327\n"
     ]
    },
    {
     "name": "stderr",
     "output_type": "stream",
     "text": [
      "                                                                                                                       \r"
     ]
    },
    {
     "name": "stdout",
     "output_type": "stream",
     "text": [
      "Step: 1910 Loss (unaveraged): -0.0006 Loss (averaged): -0.3206\n"
     ]
    },
    {
     "name": "stderr",
     "output_type": "stream",
     "text": [
      "                                                                                                                       \r"
     ]
    },
    {
     "name": "stdout",
     "output_type": "stream",
     "text": [
      "Step: 1920 Loss (unaveraged): -0.0007 Loss (averaged): -0.3100\n"
     ]
    },
    {
     "name": "stderr",
     "output_type": "stream",
     "text": [
      "                                                                                                                       \r"
     ]
    },
    {
     "name": "stdout",
     "output_type": "stream",
     "text": [
      "Step: 1930 Loss (unaveraged): -0.0010 Loss (averaged): -0.3034\n"
     ]
    },
    {
     "name": "stderr",
     "output_type": "stream",
     "text": [
      "                                                                                                                       \r"
     ]
    },
    {
     "name": "stdout",
     "output_type": "stream",
     "text": [
      "Step: 1940 Loss (unaveraged): -0.0012 Loss (averaged): -0.2962\n"
     ]
    },
    {
     "name": "stderr",
     "output_type": "stream",
     "text": [
      "                                                                                                                       \r"
     ]
    },
    {
     "name": "stdout",
     "output_type": "stream",
     "text": [
      "Step: 1950 Loss (unaveraged): -0.0012 Loss (averaged): -0.2861\n"
     ]
    },
    {
     "name": "stderr",
     "output_type": "stream",
     "text": [
      "                                                                                                                       \r"
     ]
    },
    {
     "name": "stdout",
     "output_type": "stream",
     "text": [
      "Step: 1960 Loss (unaveraged): -0.0016 Loss (averaged): -0.2792\n"
     ]
    },
    {
     "name": "stderr",
     "output_type": "stream",
     "text": [
      "                                                                                                                       \r"
     ]
    },
    {
     "name": "stdout",
     "output_type": "stream",
     "text": [
      "Step: 1970 Loss (unaveraged): -0.0021 Loss (averaged): -0.2779\n"
     ]
    },
    {
     "name": "stderr",
     "output_type": "stream",
     "text": [
      "                                                                                                                       \r"
     ]
    },
    {
     "name": "stdout",
     "output_type": "stream",
     "text": [
      "Step: 1980 Loss (unaveraged): -0.0023 Loss (averaged): -0.2699\n"
     ]
    },
    {
     "name": "stderr",
     "output_type": "stream",
     "text": [
      "                                                                                                                       \r"
     ]
    },
    {
     "name": "stdout",
     "output_type": "stream",
     "text": [
      "Step: 1990 Loss (unaveraged): -0.0030 Loss (averaged): -0.2672\n"
     ]
    },
    {
     "name": "stderr",
     "output_type": "stream",
     "text": [
      "                                                                                                                       \r"
     ]
    },
    {
     "name": "stdout",
     "output_type": "stream",
     "text": [
      "Step: 2000 Loss (unaveraged): -0.0036 Loss (averaged): -0.2568\n"
     ]
    },
    {
     "name": "stderr",
     "output_type": "stream",
     "text": [
      "                                                                                                                       \r"
     ]
    },
    {
     "name": "stdout",
     "output_type": "stream",
     "text": [
      "Step: 2010 Loss (unaveraged): -0.0041 Loss (averaged): -0.2546\n"
     ]
    },
    {
     "name": "stderr",
     "output_type": "stream",
     "text": [
      "                                                                                                                       \r"
     ]
    },
    {
     "name": "stdout",
     "output_type": "stream",
     "text": [
      "Step: 2020 Loss (unaveraged): -0.0049 Loss (averaged): -0.2463\n"
     ]
    },
    {
     "name": "stderr",
     "output_type": "stream",
     "text": [
      "                                                                                                                       \r"
     ]
    },
    {
     "name": "stdout",
     "output_type": "stream",
     "text": [
      "Step: 2030 Loss (unaveraged): -0.0067 Loss (averaged): -0.2485\n"
     ]
    },
    {
     "name": "stderr",
     "output_type": "stream",
     "text": [
      "                                                                                                                       \r"
     ]
    },
    {
     "name": "stdout",
     "output_type": "stream",
     "text": [
      "Step: 2040 Loss (unaveraged): -0.0060 Loss (averaged): -0.2455\n"
     ]
    },
    {
     "name": "stderr",
     "output_type": "stream",
     "text": [
      "                                                                                                                       \r"
     ]
    },
    {
     "name": "stdout",
     "output_type": "stream",
     "text": [
      "Step: 2050 Loss (unaveraged): -0.0069 Loss (averaged): -0.2395\n"
     ]
    },
    {
     "name": "stderr",
     "output_type": "stream",
     "text": [
      "                                                                                                                       \r"
     ]
    },
    {
     "name": "stdout",
     "output_type": "stream",
     "text": [
      "Step: 2060 Loss (unaveraged): -0.0055 Loss (averaged): -0.2360\n"
     ]
    },
    {
     "name": "stderr",
     "output_type": "stream",
     "text": [
      "                                                                                                                       \r"
     ]
    },
    {
     "name": "stdout",
     "output_type": "stream",
     "text": [
      "Step: 2070 Loss (unaveraged): -0.0050 Loss (averaged): -0.2344\n"
     ]
    },
    {
     "name": "stderr",
     "output_type": "stream",
     "text": [
      "                                                                                                                       \r"
     ]
    },
    {
     "name": "stdout",
     "output_type": "stream",
     "text": [
      "Step: 2080 Loss (unaveraged): -0.0023 Loss (averaged): -0.2350\n"
     ]
    },
    {
     "name": "stderr",
     "output_type": "stream",
     "text": [
      "                                                                                                                       \r"
     ]
    },
    {
     "name": "stdout",
     "output_type": "stream",
     "text": [
      "Step: 2090 Loss (unaveraged): -0.0001 Loss (averaged): -0.2365\n"
     ]
    },
    {
     "name": "stderr",
     "output_type": "stream",
     "text": [
      "                                                                                                                       \r"
     ]
    },
    {
     "name": "stdout",
     "output_type": "stream",
     "text": [
      "Step: 2100 Loss (unaveraged): 0.0015 Loss (averaged): -0.2275\n"
     ]
    },
    {
     "name": "stderr",
     "output_type": "stream",
     "text": [
      "                                                                                                                       \r"
     ]
    },
    {
     "name": "stdout",
     "output_type": "stream",
     "text": [
      "Step: 2110 Loss (unaveraged): 0.0019 Loss (averaged): -0.2227\n"
     ]
    },
    {
     "name": "stderr",
     "output_type": "stream",
     "text": [
      "                                                                                                                       \r"
     ]
    },
    {
     "name": "stdout",
     "output_type": "stream",
     "text": [
      "Step: 2120 Loss (unaveraged): 0.0030 Loss (averaged): -0.2242\n"
     ]
    },
    {
     "name": "stderr",
     "output_type": "stream",
     "text": [
      "                                                                                                                       \r"
     ]
    },
    {
     "name": "stdout",
     "output_type": "stream",
     "text": [
      "Step: 2130 Loss (unaveraged): 0.0034 Loss (averaged): -0.2205\n"
     ]
    },
    {
     "name": "stderr",
     "output_type": "stream",
     "text": [
      "                                                                                                                       \r"
     ]
    },
    {
     "name": "stdout",
     "output_type": "stream",
     "text": [
      "Step: 2140 Loss (unaveraged): 0.0025 Loss (averaged): -0.2161\n"
     ]
    },
    {
     "name": "stderr",
     "output_type": "stream",
     "text": [
      "                                                                                                                       \r"
     ]
    },
    {
     "name": "stdout",
     "output_type": "stream",
     "text": [
      "Step: 2150 Loss (unaveraged): 0.0029 Loss (averaged): -0.2156\n"
     ]
    },
    {
     "name": "stderr",
     "output_type": "stream",
     "text": [
      "                                                                                                                       \r"
     ]
    },
    {
     "name": "stdout",
     "output_type": "stream",
     "text": [
      "Step: 2160 Loss (unaveraged): 0.0027 Loss (averaged): -0.2110\n"
     ]
    },
    {
     "name": "stderr",
     "output_type": "stream",
     "text": [
      "                                                                                                                       \r"
     ]
    },
    {
     "name": "stdout",
     "output_type": "stream",
     "text": [
      "Step: 2170 Loss (unaveraged): 0.0023 Loss (averaged): -0.2111\n"
     ]
    },
    {
     "name": "stderr",
     "output_type": "stream",
     "text": [
      "                                                                                                                       \r"
     ]
    },
    {
     "name": "stdout",
     "output_type": "stream",
     "text": [
      "Step: 2180 Loss (unaveraged): 0.0014 Loss (averaged): -0.2048\n"
     ]
    },
    {
     "name": "stderr",
     "output_type": "stream",
     "text": [
      "                                                                                                                       \r"
     ]
    },
    {
     "name": "stdout",
     "output_type": "stream",
     "text": [
      "Step: 2190 Loss (unaveraged): 0.0022 Loss (averaged): -0.2019\n"
     ]
    },
    {
     "name": "stderr",
     "output_type": "stream",
     "text": [
      "                                                                                                                       \r"
     ]
    },
    {
     "name": "stdout",
     "output_type": "stream",
     "text": [
      "Step: 2200 Loss (unaveraged): 0.0014 Loss (averaged): -0.2000\n"
     ]
    },
    {
     "name": "stderr",
     "output_type": "stream",
     "text": [
      "                                                                                                                       \r"
     ]
    },
    {
     "name": "stdout",
     "output_type": "stream",
     "text": [
      "Step: 2210 Loss (unaveraged): 0.0017 Loss (averaged): -0.1987\n"
     ]
    },
    {
     "name": "stderr",
     "output_type": "stream",
     "text": [
      "                                                                                                                       \r"
     ]
    },
    {
     "name": "stdout",
     "output_type": "stream",
     "text": [
      "Step: 2220 Loss (unaveraged): 0.0015 Loss (averaged): -0.1910\n"
     ]
    },
    {
     "name": "stderr",
     "output_type": "stream",
     "text": [
      "                                                                                                                       \r"
     ]
    },
    {
     "name": "stdout",
     "output_type": "stream",
     "text": [
      "Step: 2230 Loss (unaveraged): 0.0010 Loss (averaged): -0.1874\n"
     ]
    },
    {
     "name": "stderr",
     "output_type": "stream",
     "text": [
      "                                                                                                                       \r"
     ]
    },
    {
     "name": "stdout",
     "output_type": "stream",
     "text": [
      "Step: 2240 Loss (unaveraged): 0.0009 Loss (averaged): -0.1833\n"
     ]
    },
    {
     "name": "stderr",
     "output_type": "stream",
     "text": [
      "                                                                                                                       \r"
     ]
    },
    {
     "name": "stdout",
     "output_type": "stream",
     "text": [
      "Step: 2250 Loss (unaveraged): 0.0006 Loss (averaged): -0.1791\n"
     ]
    },
    {
     "name": "stderr",
     "output_type": "stream",
     "text": [
      "                                                                                                                       \r"
     ]
    },
    {
     "name": "stdout",
     "output_type": "stream",
     "text": [
      "Step: 2260 Loss (unaveraged): 0.0009 Loss (averaged): -0.1791\n"
     ]
    },
    {
     "name": "stderr",
     "output_type": "stream",
     "text": [
      "                                                                                                                       \r"
     ]
    },
    {
     "name": "stdout",
     "output_type": "stream",
     "text": [
      "Step: 2270 Loss (unaveraged): 0.0006 Loss (averaged): -0.1771\n"
     ]
    },
    {
     "name": "stderr",
     "output_type": "stream",
     "text": [
      "                                                                                                                       \r"
     ]
    },
    {
     "name": "stdout",
     "output_type": "stream",
     "text": [
      "Step: 2280 Loss (unaveraged): 0.0004 Loss (averaged): -0.1724\n"
     ]
    },
    {
     "name": "stderr",
     "output_type": "stream",
     "text": [
      "                                                                                                                       \r"
     ]
    },
    {
     "name": "stdout",
     "output_type": "stream",
     "text": [
      "Step: 2290 Loss (unaveraged): 0.0007 Loss (averaged): -0.1677\n"
     ]
    },
    {
     "name": "stderr",
     "output_type": "stream",
     "text": [
      "                                                                                                                       \r"
     ]
    },
    {
     "name": "stdout",
     "output_type": "stream",
     "text": [
      "Step: 2300 Loss (unaveraged): 0.0004 Loss (averaged): -0.1714\n"
     ]
    },
    {
     "name": "stderr",
     "output_type": "stream",
     "text": [
      "                                                                                                                       \r"
     ]
    },
    {
     "name": "stdout",
     "output_type": "stream",
     "text": [
      "Step: 2310 Loss (unaveraged): 0.0001 Loss (averaged): -0.1626\n"
     ]
    },
    {
     "name": "stderr",
     "output_type": "stream",
     "text": [
      "                                                                                                                       \r"
     ]
    },
    {
     "name": "stdout",
     "output_type": "stream",
     "text": [
      "Step: 2320 Loss (unaveraged): -0.0001 Loss (averaged): -0.1628\n"
     ]
    },
    {
     "name": "stderr",
     "output_type": "stream",
     "text": [
      "                                                                                                                       \r"
     ]
    },
    {
     "name": "stdout",
     "output_type": "stream",
     "text": [
      "Step: 2330 Loss (unaveraged): -0.0000 Loss (averaged): -0.1606\n"
     ]
    },
    {
     "name": "stderr",
     "output_type": "stream",
     "text": [
      "                                                                                                                       \r"
     ]
    },
    {
     "name": "stdout",
     "output_type": "stream",
     "text": [
      "Step: 2340 Loss (unaveraged): 0.0000 Loss (averaged): -0.1579\n"
     ]
    },
    {
     "name": "stderr",
     "output_type": "stream",
     "text": [
      "                                                                                                                       \r"
     ]
    },
    {
     "name": "stdout",
     "output_type": "stream",
     "text": [
      "Step: 2350 Loss (unaveraged): -0.0001 Loss (averaged): -0.1586\n"
     ]
    },
    {
     "name": "stderr",
     "output_type": "stream",
     "text": [
      "                                                                                                                       \r"
     ]
    },
    {
     "name": "stdout",
     "output_type": "stream",
     "text": [
      "Step: 2360 Loss (unaveraged): -0.0001 Loss (averaged): -0.1528\n"
     ]
    },
    {
     "name": "stderr",
     "output_type": "stream",
     "text": [
      "                                                                                                                       \r"
     ]
    },
    {
     "name": "stdout",
     "output_type": "stream",
     "text": [
      "Step: 2370 Loss (unaveraged): -0.0001 Loss (averaged): -0.1541\n"
     ]
    },
    {
     "name": "stderr",
     "output_type": "stream",
     "text": [
      "                                                                                                                       \r"
     ]
    },
    {
     "name": "stdout",
     "output_type": "stream",
     "text": [
      "Step: 2380 Loss (unaveraged): -0.0004 Loss (averaged): -0.1466\n"
     ]
    },
    {
     "name": "stderr",
     "output_type": "stream",
     "text": [
      "                                                                                                                       \r"
     ]
    },
    {
     "name": "stdout",
     "output_type": "stream",
     "text": [
      "Step: 2390 Loss (unaveraged): -0.0001 Loss (averaged): -0.1449\n"
     ]
    },
    {
     "name": "stderr",
     "output_type": "stream",
     "text": [
      "                                                                                                                       \r"
     ]
    },
    {
     "name": "stdout",
     "output_type": "stream",
     "text": [
      "Step: 2400 Loss (unaveraged): -0.0003 Loss (averaged): -0.1424\n"
     ]
    },
    {
     "name": "stderr",
     "output_type": "stream",
     "text": [
      "                                                                                                                       \r"
     ]
    },
    {
     "name": "stdout",
     "output_type": "stream",
     "text": [
      "Step: 2410 Loss (unaveraged): -0.0008 Loss (averaged): -0.1420\n"
     ]
    },
    {
     "name": "stderr",
     "output_type": "stream",
     "text": [
      "                                                                                                                       \r"
     ]
    },
    {
     "name": "stdout",
     "output_type": "stream",
     "text": [
      "Step: 2420 Loss (unaveraged): -0.0003 Loss (averaged): -0.1415\n"
     ]
    },
    {
     "name": "stderr",
     "output_type": "stream",
     "text": [
      "                                                                                                                       \r"
     ]
    },
    {
     "name": "stdout",
     "output_type": "stream",
     "text": [
      "Step: 2430 Loss (unaveraged): -0.0011 Loss (averaged): -0.1380\n"
     ]
    },
    {
     "name": "stderr",
     "output_type": "stream",
     "text": [
      "                                                                                                                       \r"
     ]
    },
    {
     "name": "stdout",
     "output_type": "stream",
     "text": [
      "Step: 2440 Loss (unaveraged): -0.0013 Loss (averaged): -0.1371\n"
     ]
    },
    {
     "name": "stderr",
     "output_type": "stream",
     "text": [
      "                                                                                                                       \r"
     ]
    },
    {
     "name": "stdout",
     "output_type": "stream",
     "text": [
      "Step: 2450 Loss (unaveraged): -0.0007 Loss (averaged): -0.1355\n"
     ]
    },
    {
     "name": "stderr",
     "output_type": "stream",
     "text": [
      "                                                                                                                       \r"
     ]
    },
    {
     "name": "stdout",
     "output_type": "stream",
     "text": [
      "Step: 2460 Loss (unaveraged): -0.0013 Loss (averaged): -0.1319\n"
     ]
    },
    {
     "name": "stderr",
     "output_type": "stream",
     "text": [
      "                                                                                                                       \r"
     ]
    },
    {
     "name": "stdout",
     "output_type": "stream",
     "text": [
      "Step: 2470 Loss (unaveraged): -0.0009 Loss (averaged): -0.1307\n"
     ]
    },
    {
     "name": "stderr",
     "output_type": "stream",
     "text": [
      "                                                                                                                       \r"
     ]
    },
    {
     "name": "stdout",
     "output_type": "stream",
     "text": [
      "Step: 2480 Loss (unaveraged): -0.0015 Loss (averaged): -0.1298\n"
     ]
    },
    {
     "name": "stderr",
     "output_type": "stream",
     "text": [
      "                                                                                                                       \r"
     ]
    },
    {
     "name": "stdout",
     "output_type": "stream",
     "text": [
      "Step: 2490 Loss (unaveraged): -0.0015 Loss (averaged): -0.1284\n"
     ]
    },
    {
     "name": "stderr",
     "output_type": "stream",
     "text": [
      "                                                                                                                       \r"
     ]
    },
    {
     "name": "stdout",
     "output_type": "stream",
     "text": [
      "Step: 2500 Loss (unaveraged): -0.0006 Loss (averaged): -0.1274\n"
     ]
    },
    {
     "name": "stderr",
     "output_type": "stream",
     "text": [
      "                                                                                                                       \r"
     ]
    },
    {
     "name": "stdout",
     "output_type": "stream",
     "text": [
      "Step: 2510 Loss (unaveraged): -0.0010 Loss (averaged): -0.1282\n"
     ]
    },
    {
     "name": "stderr",
     "output_type": "stream",
     "text": [
      "                                                                                                                       \r"
     ]
    },
    {
     "name": "stdout",
     "output_type": "stream",
     "text": [
      "Step: 2520 Loss (unaveraged): -0.0005 Loss (averaged): -0.1233\n"
     ]
    },
    {
     "name": "stderr",
     "output_type": "stream",
     "text": [
      "                                                                                                                       \r"
     ]
    },
    {
     "name": "stdout",
     "output_type": "stream",
     "text": [
      "Step: 2530 Loss (unaveraged): -0.0012 Loss (averaged): -0.1224\n"
     ]
    },
    {
     "name": "stderr",
     "output_type": "stream",
     "text": [
      "                                                                                                                       \r"
     ]
    },
    {
     "name": "stdout",
     "output_type": "stream",
     "text": [
      "Step: 2540 Loss (unaveraged): -0.0005 Loss (averaged): -0.1213\n"
     ]
    },
    {
     "name": "stderr",
     "output_type": "stream",
     "text": [
      "                                                                                                                       \r"
     ]
    },
    {
     "name": "stdout",
     "output_type": "stream",
     "text": [
      "Step: 2550 Loss (unaveraged): -0.0003 Loss (averaged): -0.1198\n"
     ]
    },
    {
     "name": "stderr",
     "output_type": "stream",
     "text": [
      "                                                                                                                       \r"
     ]
    },
    {
     "name": "stdout",
     "output_type": "stream",
     "text": [
      "Step: 2560 Loss (unaveraged): -0.0008 Loss (averaged): -0.1205\n"
     ]
    },
    {
     "name": "stderr",
     "output_type": "stream",
     "text": [
      "                                                                                                                       \r"
     ]
    },
    {
     "name": "stdout",
     "output_type": "stream",
     "text": [
      "Step: 2570 Loss (unaveraged): 0.0010 Loss (averaged): -0.1198\n"
     ]
    },
    {
     "name": "stderr",
     "output_type": "stream",
     "text": [
      "                                                                                                                       \r"
     ]
    },
    {
     "name": "stdout",
     "output_type": "stream",
     "text": [
      "Step: 2580 Loss (unaveraged): -0.0001 Loss (averaged): -0.1152\n"
     ]
    },
    {
     "name": "stderr",
     "output_type": "stream",
     "text": [
      "                                                                                                                       \r"
     ]
    },
    {
     "name": "stdout",
     "output_type": "stream",
     "text": [
      "Step: 2590 Loss (unaveraged): 0.0004 Loss (averaged): -0.1163\n"
     ]
    },
    {
     "name": "stderr",
     "output_type": "stream",
     "text": [
      "                                                                                                                       \r"
     ]
    },
    {
     "name": "stdout",
     "output_type": "stream",
     "text": [
      "Step: 2600 Loss (unaveraged): 0.0002 Loss (averaged): -0.1145\n"
     ]
    },
    {
     "name": "stderr",
     "output_type": "stream",
     "text": [
      "                                                                                                                       \r"
     ]
    },
    {
     "name": "stdout",
     "output_type": "stream",
     "text": [
      "Step: 2610 Loss (unaveraged): 0.0005 Loss (averaged): -0.1157\n"
     ]
    },
    {
     "name": "stderr",
     "output_type": "stream",
     "text": [
      "                                                                                                                       \r"
     ]
    },
    {
     "name": "stdout",
     "output_type": "stream",
     "text": [
      "Step: 2620 Loss (unaveraged): 0.0007 Loss (averaged): -0.1119\n"
     ]
    },
    {
     "name": "stderr",
     "output_type": "stream",
     "text": [
      "                                                                                                                       \r"
     ]
    },
    {
     "name": "stdout",
     "output_type": "stream",
     "text": [
      "Step: 2630 Loss (unaveraged): 0.0008 Loss (averaged): -0.1113\n"
     ]
    },
    {
     "name": "stderr",
     "output_type": "stream",
     "text": [
      "                                                                                                                       \r"
     ]
    },
    {
     "name": "stdout",
     "output_type": "stream",
     "text": [
      "Step: 2640 Loss (unaveraged): 0.0008 Loss (averaged): -0.1087\n"
     ]
    },
    {
     "name": "stderr",
     "output_type": "stream",
     "text": [
      "                                                                                                                       \r"
     ]
    },
    {
     "name": "stdout",
     "output_type": "stream",
     "text": [
      "Step: 2650 Loss (unaveraged): 0.0000 Loss (averaged): -0.1091\n"
     ]
    },
    {
     "name": "stderr",
     "output_type": "stream",
     "text": [
      "                                                                                                                       \r"
     ]
    },
    {
     "name": "stdout",
     "output_type": "stream",
     "text": [
      "Step: 2660 Loss (unaveraged): 0.0002 Loss (averaged): -0.1087\n"
     ]
    },
    {
     "name": "stderr",
     "output_type": "stream",
     "text": [
      "                                                                                                                       \r"
     ]
    },
    {
     "name": "stdout",
     "output_type": "stream",
     "text": [
      "Step: 2670 Loss (unaveraged): 0.0001 Loss (averaged): -0.1095\n"
     ]
    },
    {
     "name": "stderr",
     "output_type": "stream",
     "text": [
      "                                                                                                                       \r"
     ]
    },
    {
     "name": "stdout",
     "output_type": "stream",
     "text": [
      "Step: 2680 Loss (unaveraged): 0.0000 Loss (averaged): -0.1060\n"
     ]
    },
    {
     "name": "stderr",
     "output_type": "stream",
     "text": [
      "                                                                                                                       \r"
     ]
    },
    {
     "name": "stdout",
     "output_type": "stream",
     "text": [
      "Step: 2690 Loss (unaveraged): 0.0005 Loss (averaged): -0.1052\n"
     ]
    },
    {
     "name": "stderr",
     "output_type": "stream",
     "text": [
      "                                                                                                                       \r"
     ]
    },
    {
     "name": "stdout",
     "output_type": "stream",
     "text": [
      "Step: 2700 Loss (unaveraged): 0.0003 Loss (averaged): -0.1028\n"
     ]
    },
    {
     "name": "stderr",
     "output_type": "stream",
     "text": [
      "                                                                                                                       \r"
     ]
    },
    {
     "name": "stdout",
     "output_type": "stream",
     "text": [
      "Step: 2710 Loss (unaveraged): 0.0002 Loss (averaged): -0.1074\n"
     ]
    },
    {
     "name": "stderr",
     "output_type": "stream",
     "text": [
      "                                                                                                                       \r"
     ]
    },
    {
     "name": "stdout",
     "output_type": "stream",
     "text": [
      "Step: 2720 Loss (unaveraged): 0.0002 Loss (averaged): -0.1038\n"
     ]
    },
    {
     "name": "stderr",
     "output_type": "stream",
     "text": [
      "                                                                                                                       \r"
     ]
    },
    {
     "name": "stdout",
     "output_type": "stream",
     "text": [
      "Step: 2730 Loss (unaveraged): -0.0003 Loss (averaged): -0.1012\n"
     ]
    },
    {
     "name": "stderr",
     "output_type": "stream",
     "text": [
      "                                                                                                                       \r"
     ]
    },
    {
     "name": "stdout",
     "output_type": "stream",
     "text": [
      "Step: 2740 Loss (unaveraged): -0.0000 Loss (averaged): -0.0982\n"
     ]
    },
    {
     "name": "stderr",
     "output_type": "stream",
     "text": [
      "                                                                                                                       \r"
     ]
    },
    {
     "name": "stdout",
     "output_type": "stream",
     "text": [
      "Step: 2750 Loss (unaveraged): -0.0001 Loss (averaged): -0.0998\n"
     ]
    },
    {
     "name": "stderr",
     "output_type": "stream",
     "text": [
      "                                                                                                                       \r"
     ]
    },
    {
     "name": "stdout",
     "output_type": "stream",
     "text": [
      "Step: 2760 Loss (unaveraged): -0.0004 Loss (averaged): -0.0983\n"
     ]
    },
    {
     "name": "stderr",
     "output_type": "stream",
     "text": [
      "                                                                                                                       \r"
     ]
    },
    {
     "name": "stdout",
     "output_type": "stream",
     "text": [
      "Step: 2770 Loss (unaveraged): -0.0001 Loss (averaged): -0.0972\n"
     ]
    },
    {
     "name": "stderr",
     "output_type": "stream",
     "text": [
      "                                                                                                                       \r"
     ]
    },
    {
     "name": "stdout",
     "output_type": "stream",
     "text": [
      "Step: 2780 Loss (unaveraged): 0.0002 Loss (averaged): -0.0945\n"
     ]
    },
    {
     "name": "stderr",
     "output_type": "stream",
     "text": [
      "                                                                                                                       \r"
     ]
    },
    {
     "name": "stdout",
     "output_type": "stream",
     "text": [
      "Step: 2790 Loss (unaveraged): 0.0000 Loss (averaged): -0.0952\n"
     ]
    },
    {
     "name": "stderr",
     "output_type": "stream",
     "text": [
      "                                                                                                                       \r"
     ]
    },
    {
     "name": "stdout",
     "output_type": "stream",
     "text": [
      "Step: 2800 Loss (unaveraged): 0.0000 Loss (averaged): -0.0936\n"
     ]
    },
    {
     "name": "stderr",
     "output_type": "stream",
     "text": [
      "                                                                                                                       \r"
     ]
    },
    {
     "name": "stdout",
     "output_type": "stream",
     "text": [
      "Step: 2810 Loss (unaveraged): -0.0003 Loss (averaged): -0.0912\n"
     ]
    },
    {
     "name": "stderr",
     "output_type": "stream",
     "text": [
      "                                                                                                                       \r"
     ]
    },
    {
     "name": "stdout",
     "output_type": "stream",
     "text": [
      "Step: 2820 Loss (unaveraged): -0.0004 Loss (averaged): -0.0941\n"
     ]
    },
    {
     "name": "stderr",
     "output_type": "stream",
     "text": [
      "                                                                                                                       \r"
     ]
    },
    {
     "name": "stdout",
     "output_type": "stream",
     "text": [
      "Step: 2830 Loss (unaveraged): -0.0001 Loss (averaged): -0.0908\n"
     ]
    },
    {
     "name": "stderr",
     "output_type": "stream",
     "text": [
      "                                                                                                                       \r"
     ]
    },
    {
     "name": "stdout",
     "output_type": "stream",
     "text": [
      "Step: 2840 Loss (unaveraged): -0.0004 Loss (averaged): -0.0913\n"
     ]
    },
    {
     "name": "stderr",
     "output_type": "stream",
     "text": [
      "                                                                                                                       \r"
     ]
    },
    {
     "name": "stdout",
     "output_type": "stream",
     "text": [
      "Step: 2850 Loss (unaveraged): -0.0003 Loss (averaged): -0.0887\n"
     ]
    },
    {
     "name": "stderr",
     "output_type": "stream",
     "text": [
      "                                                                                                                       \r"
     ]
    },
    {
     "name": "stdout",
     "output_type": "stream",
     "text": [
      "Step: 2860 Loss (unaveraged): -0.0007 Loss (averaged): -0.0887\n"
     ]
    },
    {
     "name": "stderr",
     "output_type": "stream",
     "text": [
      "                                                                                                                       \r"
     ]
    },
    {
     "name": "stdout",
     "output_type": "stream",
     "text": [
      "Step: 2870 Loss (unaveraged): -0.0004 Loss (averaged): -0.0860\n"
     ]
    },
    {
     "name": "stderr",
     "output_type": "stream",
     "text": [
      "                                                                                                                       \r"
     ]
    },
    {
     "name": "stdout",
     "output_type": "stream",
     "text": [
      "Step: 2880 Loss (unaveraged): -0.0007 Loss (averaged): -0.0873\n"
     ]
    },
    {
     "name": "stderr",
     "output_type": "stream",
     "text": [
      "                                                                                                                       \r"
     ]
    },
    {
     "name": "stdout",
     "output_type": "stream",
     "text": [
      "Step: 2890 Loss (unaveraged): -0.0004 Loss (averaged): -0.0865\n"
     ]
    },
    {
     "name": "stderr",
     "output_type": "stream",
     "text": [
      "                                                                                                                       \r"
     ]
    },
    {
     "name": "stdout",
     "output_type": "stream",
     "text": [
      "Step: 2900 Loss (unaveraged): -0.0006 Loss (averaged): -0.0859\n"
     ]
    },
    {
     "name": "stderr",
     "output_type": "stream",
     "text": [
      "                                                                                                                       \r"
     ]
    },
    {
     "name": "stdout",
     "output_type": "stream",
     "text": [
      "Step: 2910 Loss (unaveraged): -0.0008 Loss (averaged): -0.0869\n"
     ]
    },
    {
     "name": "stderr",
     "output_type": "stream",
     "text": [
      "                                                                                                                       \r"
     ]
    },
    {
     "name": "stdout",
     "output_type": "stream",
     "text": [
      "Step: 2920 Loss (unaveraged): -0.0008 Loss (averaged): -0.0846\n"
     ]
    },
    {
     "name": "stderr",
     "output_type": "stream",
     "text": [
      "                                                                                                                       \r"
     ]
    },
    {
     "name": "stdout",
     "output_type": "stream",
     "text": [
      "Step: 2930 Loss (unaveraged): -0.0003 Loss (averaged): -0.0831\n"
     ]
    },
    {
     "name": "stderr",
     "output_type": "stream",
     "text": [
      "                                                                                                                       \r"
     ]
    },
    {
     "name": "stdout",
     "output_type": "stream",
     "text": [
      "Step: 2940 Loss (unaveraged): 0.0004 Loss (averaged): -0.0832\n"
     ]
    },
    {
     "name": "stderr",
     "output_type": "stream",
     "text": [
      "                                                                                                                       \r"
     ]
    },
    {
     "name": "stdout",
     "output_type": "stream",
     "text": [
      "Step: 2950 Loss (unaveraged): -0.0004 Loss (averaged): -0.0812\n"
     ]
    },
    {
     "name": "stderr",
     "output_type": "stream",
     "text": [
      "                                                                                                                       \r"
     ]
    },
    {
     "name": "stdout",
     "output_type": "stream",
     "text": [
      "Step: 2960 Loss (unaveraged): -0.0007 Loss (averaged): -0.0814\n"
     ]
    },
    {
     "name": "stderr",
     "output_type": "stream",
     "text": [
      "                                                                                                                       \r"
     ]
    },
    {
     "name": "stdout",
     "output_type": "stream",
     "text": [
      "Step: 2970 Loss (unaveraged): 0.0010 Loss (averaged): -0.0803\n"
     ]
    },
    {
     "name": "stderr",
     "output_type": "stream",
     "text": [
      "                                                                                                                       \r"
     ]
    },
    {
     "name": "stdout",
     "output_type": "stream",
     "text": [
      "Step: 2980 Loss (unaveraged): -0.0000 Loss (averaged): -0.0805\n"
     ]
    },
    {
     "name": "stderr",
     "output_type": "stream",
     "text": [
      "                                                                                                                       \r"
     ]
    },
    {
     "name": "stdout",
     "output_type": "stream",
     "text": [
      "Step: 2990 Loss (unaveraged): -0.0006 Loss (averaged): -0.0810\n"
     ]
    },
    {
     "name": "stderr",
     "output_type": "stream",
     "text": [
      "                                                                                                                       \r"
     ]
    },
    {
     "name": "stdout",
     "output_type": "stream",
     "text": [
      "Step: 2999 Loss (unaveraged): 0.0002 Loss (averaged): -0.0778\n"
     ]
    },
    {
     "name": "stderr",
     "output_type": "stream",
     "text": [
      "100%|██████████████████████████████████████████████████████████████████████████████| 3000/3000 [51:49<00:00,  1.04s/it]\n"
     ]
    }
   ],
   "source": [
    "# Train both generator and discriminator.\n",
    "trange = tqdm.tqdm(range(steps))\n",
    "for step in trange:\n",
    "    real_samples, = next(infinite_train_dataloader)\n",
    "\n",
    "    generated_samples = generator(ts, batch_size)\n",
    "#     print(generated_samples.shape)\n",
    "#     print(generated_samples)\n",
    "    generated_score = discriminator(generated_samples)\n",
    "    real_score = discriminator(real_samples)\n",
    "    loss = generated_score - real_score\n",
    "#     loss.backward()\n",
    "    loss.backward()\n",
    "    for param in generator.parameters():\n",
    "        param.grad *= -1\n",
    "    generator_optimiser.step()\n",
    "    discriminator_optimiser.step()\n",
    "    generator_optimiser.zero_grad()\n",
    "    discriminator_optimiser.zero_grad()\n",
    "\n",
    "    ###################\n",
    "    # We constrain the Lipschitz constant of the discriminator using carefully-chosen clipping (and the use of\n",
    "    # LipSwish activation functions).\n",
    "    ###################\n",
    "    with torch.no_grad():\n",
    "        for module in discriminator.modules():\n",
    "            if isinstance(module, torch.nn.Linear):\n",
    "                lim = 1 / module.out_features\n",
    "                module.weight.clamp_(-lim, lim)\n",
    "\n",
    "    # Stochastic weight averaging typically improves performance.\n",
    "    if step > swa_step_start:\n",
    "        averaged_generator.update_parameters(generator)\n",
    "        averaged_discriminator.update_parameters(discriminator)\n",
    "\n",
    "    if (step % steps_per_print) == 0 or step == steps - 1:\n",
    "        total_unaveraged_loss = evaluate_loss(ts, batch_size, train_dataloader, generator, discriminator)\n",
    "        if step > swa_step_start:\n",
    "            total_averaged_loss = evaluate_loss(ts, batch_size, train_dataloader, averaged_generator.module,\n",
    "                                                averaged_discriminator.module)\n",
    "            trange.write(f\"Step: {step:3} Loss (unaveraged): {total_unaveraged_loss:.4f} \"\n",
    "                         f\"Loss (averaged): {total_averaged_loss:.4f}\")\n",
    "        else:\n",
    "            trange.write(f\"Step: {step:3} Loss (unaveraged): {total_unaveraged_loss:.4f}\")\n",
    "generator.load_state_dict(averaged_generator.module.state_dict())\n",
    "discriminator.load_state_dict(averaged_discriminator.module.state_dict())\n",
    "\n",
    "# _, _, test_dataloader = get_data(batch_size=batch_size, device=device)"
   ]
  },
  {
   "cell_type": "code",
   "execution_count": 327,
   "id": "054fa22e",
   "metadata": {},
   "outputs": [
    {
     "data": {
      "text/plain": [
       "tensor([1.0509e+00, 7.5296e+00, 4.9820e+00, 2.6910e+01, 2.6793e+01, 7.1072e+01,\n",
       "        4.2403e+01, 1.4685e+00, 1.8544e+01, 4.1091e+01, 4.4015e+00, 8.5833e+01,\n",
       "        3.5597e+01, 3.2901e+01, 1.0087e+01, 3.6272e+00, 2.4631e+00, 2.3880e+00,\n",
       "        1.3820e-01, 1.1719e+00, 1.6810e+01, 2.2323e+02],\n",
       "       grad_fn=<AbsBackward0>)"
      ]
     },
     "execution_count": 327,
     "metadata": {},
     "output_type": "execute_result"
    }
   ],
   "source": [
    "prova=generator(ts, batch_size=1)\n",
    "prova.shape\n",
    "prova=prova[0]\n",
    "torch.abs(prova[-1])"
   ]
  },
  {
   "cell_type": "code",
   "execution_count": 207,
   "id": "52ecad67",
   "metadata": {
    "scrolled": true
   },
   "outputs": [
    {
     "data": {
      "text/html": [
       "<div>\n",
       "<style scoped>\n",
       "    .dataframe tbody tr th:only-of-type {\n",
       "        vertical-align: middle;\n",
       "    }\n",
       "\n",
       "    .dataframe tbody tr th {\n",
       "        vertical-align: top;\n",
       "    }\n",
       "\n",
       "    .dataframe thead th {\n",
       "        text-align: right;\n",
       "    }\n",
       "</style>\n",
       "<table border=\"1\" class=\"dataframe\">\n",
       "  <thead>\n",
       "    <tr style=\"text-align: right;\">\n",
       "      <th></th>\n",
       "      <th>LBDHDDSI</th>\n",
       "      <th>LBDTCSI</th>\n",
       "      <th>LBXSUA</th>\n",
       "      <th>LBXSATSI</th>\n",
       "      <th>LBXSASSI</th>\n",
       "      <th>LBDSTPSI</th>\n",
       "      <th>LBDSALSI</th>\n",
       "      <th>LBXSTB</th>\n",
       "      <th>LBXHGB</th>\n",
       "      <th>LBXHCT</th>\n",
       "      <th>...</th>\n",
       "      <th>LBXMCHSI</th>\n",
       "      <th>LBXMC</th>\n",
       "      <th>LBXWBCSI</th>\n",
       "      <th>LBDNENO</th>\n",
       "      <th>LBDLYMNO</th>\n",
       "      <th>LBDMONO</th>\n",
       "      <th>LBDEONO</th>\n",
       "      <th>LBDBANO</th>\n",
       "      <th>LBDSIRSI</th>\n",
       "      <th>LBXPLTSI</th>\n",
       "    </tr>\n",
       "  </thead>\n",
       "  <tbody>\n",
       "    <tr>\n",
       "      <th>count</th>\n",
       "      <td>6547.000000</td>\n",
       "      <td>6547.000000</td>\n",
       "      <td>6547.00000</td>\n",
       "      <td>6547.000000</td>\n",
       "      <td>6547.000000</td>\n",
       "      <td>6547.000000</td>\n",
       "      <td>6547.000000</td>\n",
       "      <td>6547.000000</td>\n",
       "      <td>6547.000000</td>\n",
       "      <td>6547.000000</td>\n",
       "      <td>...</td>\n",
       "      <td>6547.000000</td>\n",
       "      <td>6547.000000</td>\n",
       "      <td>6547.000000</td>\n",
       "      <td>6547.000000</td>\n",
       "      <td>6547.000000</td>\n",
       "      <td>6547.000000</td>\n",
       "      <td>6547.000000</td>\n",
       "      <td>6547.000000</td>\n",
       "      <td>6547.000000</td>\n",
       "      <td>6547.000000</td>\n",
       "    </tr>\n",
       "    <tr>\n",
       "      <th>mean</th>\n",
       "      <td>1.362269</td>\n",
       "      <td>4.729313</td>\n",
       "      <td>5.34984</td>\n",
       "      <td>24.068144</td>\n",
       "      <td>25.112758</td>\n",
       "      <td>71.077810</td>\n",
       "      <td>42.822514</td>\n",
       "      <td>0.639306</td>\n",
       "      <td>13.960883</td>\n",
       "      <td>41.284924</td>\n",
       "      <td>...</td>\n",
       "      <td>29.953093</td>\n",
       "      <td>33.785215</td>\n",
       "      <td>7.293111</td>\n",
       "      <td>4.272518</td>\n",
       "      <td>2.191575</td>\n",
       "      <td>0.581158</td>\n",
       "      <td>0.202773</td>\n",
       "      <td>0.044838</td>\n",
       "      <td>14.949778</td>\n",
       "      <td>237.965175</td>\n",
       "    </tr>\n",
       "    <tr>\n",
       "      <th>std</th>\n",
       "      <td>0.401247</td>\n",
       "      <td>1.076347</td>\n",
       "      <td>1.40365</td>\n",
       "      <td>18.486176</td>\n",
       "      <td>17.743534</td>\n",
       "      <td>4.679562</td>\n",
       "      <td>3.435935</td>\n",
       "      <td>0.308692</td>\n",
       "      <td>1.507656</td>\n",
       "      <td>4.081439</td>\n",
       "      <td>...</td>\n",
       "      <td>2.489708</td>\n",
       "      <td>1.072428</td>\n",
       "      <td>2.301252</td>\n",
       "      <td>1.793620</td>\n",
       "      <td>0.921684</td>\n",
       "      <td>0.193684</td>\n",
       "      <td>0.183908</td>\n",
       "      <td>0.052067</td>\n",
       "      <td>6.507336</td>\n",
       "      <td>59.704024</td>\n",
       "    </tr>\n",
       "    <tr>\n",
       "      <th>min</th>\n",
       "      <td>0.260000</td>\n",
       "      <td>1.780000</td>\n",
       "      <td>0.70000</td>\n",
       "      <td>6.000000</td>\n",
       "      <td>9.000000</td>\n",
       "      <td>47.000000</td>\n",
       "      <td>24.000000</td>\n",
       "      <td>0.100000</td>\n",
       "      <td>6.400000</td>\n",
       "      <td>17.900000</td>\n",
       "      <td>...</td>\n",
       "      <td>16.800000</td>\n",
       "      <td>28.000000</td>\n",
       "      <td>2.300000</td>\n",
       "      <td>0.400000</td>\n",
       "      <td>0.400000</td>\n",
       "      <td>0.100000</td>\n",
       "      <td>0.000000</td>\n",
       "      <td>0.000000</td>\n",
       "      <td>0.900000</td>\n",
       "      <td>18.000000</td>\n",
       "    </tr>\n",
       "    <tr>\n",
       "      <th>25%</th>\n",
       "      <td>1.090000</td>\n",
       "      <td>3.960000</td>\n",
       "      <td>4.30000</td>\n",
       "      <td>15.000000</td>\n",
       "      <td>19.000000</td>\n",
       "      <td>68.000000</td>\n",
       "      <td>41.000000</td>\n",
       "      <td>0.400000</td>\n",
       "      <td>13.000000</td>\n",
       "      <td>38.600000</td>\n",
       "      <td>...</td>\n",
       "      <td>28.800000</td>\n",
       "      <td>33.200000</td>\n",
       "      <td>5.700000</td>\n",
       "      <td>3.100000</td>\n",
       "      <td>1.700000</td>\n",
       "      <td>0.400000</td>\n",
       "      <td>0.100000</td>\n",
       "      <td>0.000000</td>\n",
       "      <td>10.600000</td>\n",
       "      <td>198.000000</td>\n",
       "    </tr>\n",
       "    <tr>\n",
       "      <th>50%</th>\n",
       "      <td>1.290000</td>\n",
       "      <td>4.630000</td>\n",
       "      <td>5.20000</td>\n",
       "      <td>20.000000</td>\n",
       "      <td>22.000000</td>\n",
       "      <td>71.000000</td>\n",
       "      <td>43.000000</td>\n",
       "      <td>0.600000</td>\n",
       "      <td>13.900000</td>\n",
       "      <td>41.300000</td>\n",
       "      <td>...</td>\n",
       "      <td>30.200000</td>\n",
       "      <td>33.800000</td>\n",
       "      <td>7.000000</td>\n",
       "      <td>4.000000</td>\n",
       "      <td>2.100000</td>\n",
       "      <td>0.600000</td>\n",
       "      <td>0.200000</td>\n",
       "      <td>0.000000</td>\n",
       "      <td>14.100000</td>\n",
       "      <td>232.000000</td>\n",
       "    </tr>\n",
       "    <tr>\n",
       "      <th>75%</th>\n",
       "      <td>1.580000</td>\n",
       "      <td>5.380000</td>\n",
       "      <td>6.20000</td>\n",
       "      <td>27.000000</td>\n",
       "      <td>27.000000</td>\n",
       "      <td>74.000000</td>\n",
       "      <td>45.000000</td>\n",
       "      <td>0.800000</td>\n",
       "      <td>15.000000</td>\n",
       "      <td>44.100000</td>\n",
       "      <td>...</td>\n",
       "      <td>31.500000</td>\n",
       "      <td>34.400000</td>\n",
       "      <td>8.400000</td>\n",
       "      <td>5.100000</td>\n",
       "      <td>2.600000</td>\n",
       "      <td>0.700000</td>\n",
       "      <td>0.202773</td>\n",
       "      <td>0.100000</td>\n",
       "      <td>18.400000</td>\n",
       "      <td>272.000000</td>\n",
       "    </tr>\n",
       "    <tr>\n",
       "      <th>max</th>\n",
       "      <td>4.470000</td>\n",
       "      <td>21.020000</td>\n",
       "      <td>13.30000</td>\n",
       "      <td>536.000000</td>\n",
       "      <td>882.000000</td>\n",
       "      <td>102.000000</td>\n",
       "      <td>56.000000</td>\n",
       "      <td>7.100000</td>\n",
       "      <td>19.500000</td>\n",
       "      <td>56.500000</td>\n",
       "      <td>...</td>\n",
       "      <td>74.500000</td>\n",
       "      <td>69.600000</td>\n",
       "      <td>55.700000</td>\n",
       "      <td>25.600000</td>\n",
       "      <td>49.000000</td>\n",
       "      <td>3.400000</td>\n",
       "      <td>4.300000</td>\n",
       "      <td>0.800000</td>\n",
       "      <td>99.800000</td>\n",
       "      <td>669.000000</td>\n",
       "    </tr>\n",
       "  </tbody>\n",
       "</table>\n",
       "<p>8 rows × 22 columns</p>\n",
       "</div>"
      ],
      "text/plain": [
       "          LBDHDDSI      LBDTCSI      LBXSUA     LBXSATSI     LBXSASSI  \\\n",
       "count  6547.000000  6547.000000  6547.00000  6547.000000  6547.000000   \n",
       "mean      1.362269     4.729313     5.34984    24.068144    25.112758   \n",
       "std       0.401247     1.076347     1.40365    18.486176    17.743534   \n",
       "min       0.260000     1.780000     0.70000     6.000000     9.000000   \n",
       "25%       1.090000     3.960000     4.30000    15.000000    19.000000   \n",
       "50%       1.290000     4.630000     5.20000    20.000000    22.000000   \n",
       "75%       1.580000     5.380000     6.20000    27.000000    27.000000   \n",
       "max       4.470000    21.020000    13.30000   536.000000   882.000000   \n",
       "\n",
       "          LBDSTPSI     LBDSALSI       LBXSTB       LBXHGB       LBXHCT  ...  \\\n",
       "count  6547.000000  6547.000000  6547.000000  6547.000000  6547.000000  ...   \n",
       "mean     71.077810    42.822514     0.639306    13.960883    41.284924  ...   \n",
       "std       4.679562     3.435935     0.308692     1.507656     4.081439  ...   \n",
       "min      47.000000    24.000000     0.100000     6.400000    17.900000  ...   \n",
       "25%      68.000000    41.000000     0.400000    13.000000    38.600000  ...   \n",
       "50%      71.000000    43.000000     0.600000    13.900000    41.300000  ...   \n",
       "75%      74.000000    45.000000     0.800000    15.000000    44.100000  ...   \n",
       "max     102.000000    56.000000     7.100000    19.500000    56.500000  ...   \n",
       "\n",
       "          LBXMCHSI        LBXMC     LBXWBCSI      LBDNENO     LBDLYMNO  \\\n",
       "count  6547.000000  6547.000000  6547.000000  6547.000000  6547.000000   \n",
       "mean     29.953093    33.785215     7.293111     4.272518     2.191575   \n",
       "std       2.489708     1.072428     2.301252     1.793620     0.921684   \n",
       "min      16.800000    28.000000     2.300000     0.400000     0.400000   \n",
       "25%      28.800000    33.200000     5.700000     3.100000     1.700000   \n",
       "50%      30.200000    33.800000     7.000000     4.000000     2.100000   \n",
       "75%      31.500000    34.400000     8.400000     5.100000     2.600000   \n",
       "max      74.500000    69.600000    55.700000    25.600000    49.000000   \n",
       "\n",
       "           LBDMONO      LBDEONO      LBDBANO     LBDSIRSI     LBXPLTSI  \n",
       "count  6547.000000  6547.000000  6547.000000  6547.000000  6547.000000  \n",
       "mean      0.581158     0.202773     0.044838    14.949778   237.965175  \n",
       "std       0.193684     0.183908     0.052067     6.507336    59.704024  \n",
       "min       0.100000     0.000000     0.000000     0.900000    18.000000  \n",
       "25%       0.400000     0.100000     0.000000    10.600000   198.000000  \n",
       "50%       0.600000     0.200000     0.000000    14.100000   232.000000  \n",
       "75%       0.700000     0.202773     0.100000    18.400000   272.000000  \n",
       "max       3.400000     4.300000     0.800000    99.800000   669.000000  \n",
       "\n",
       "[8 rows x 22 columns]"
      ]
     },
     "execution_count": 207,
     "metadata": {},
     "output_type": "execute_result"
    }
   ],
   "source": [
    "labs_clean.iloc[:,1:].describe()"
   ]
  },
  {
   "cell_type": "code",
   "execution_count": 330,
   "id": "35913d50",
   "metadata": {},
   "outputs": [],
   "source": [
    "torch.save(generator.state_dict(), './Models/generator')"
   ]
  },
  {
   "cell_type": "code",
   "execution_count": 331,
   "id": "10312ec6",
   "metadata": {},
   "outputs": [],
   "source": [
    "torch.save(discriminator.state_dict(), './Models/discriminator')"
   ]
  },
  {
   "cell_type": "code",
   "execution_count": null,
   "id": "86c8a617",
   "metadata": {},
   "outputs": [],
   "source": []
  },
  {
   "cell_type": "code",
   "execution_count": 27,
   "id": "bea22037",
   "metadata": {},
   "outputs": [
    {
     "data": {
      "text/plain": [
       "Generator(\n",
       "  (_initial): MLP(\n",
       "    (_model): Sequential(\n",
       "      (0): Linear(in_features=15, out_features=32, bias=True)\n",
       "      (1): ReLU()\n",
       "      (2): Linear(in_features=32, out_features=32, bias=True)\n",
       "      (3): ReLU()\n",
       "      (4): Linear(in_features=32, out_features=16, bias=True)\n",
       "    )\n",
       "  )\n",
       "  (_func): GeneratorFunc(\n",
       "    (_drift): MLP(\n",
       "      (_model): Sequential(\n",
       "        (0): Linear(in_features=17, out_features=32, bias=True)\n",
       "        (1): ReLU()\n",
       "        (2): Linear(in_features=32, out_features=32, bias=True)\n",
       "        (3): ReLU()\n",
       "        (4): Linear(in_features=32, out_features=16, bias=True)\n",
       "        (5): Tanh()\n",
       "      )\n",
       "    )\n",
       "    (_diffusion): MLP(\n",
       "      (_model): Sequential(\n",
       "        (0): Linear(in_features=17, out_features=32, bias=True)\n",
       "        (1): ReLU()\n",
       "        (2): Linear(in_features=32, out_features=32, bias=True)\n",
       "        (3): ReLU()\n",
       "        (4): Linear(in_features=32, out_features=160, bias=True)\n",
       "        (5): Tanh()\n",
       "      )\n",
       "    )\n",
       "  )\n",
       "  (_readout): Linear(in_features=16, out_features=22, bias=True)\n",
       ")"
      ]
     },
     "execution_count": 27,
     "metadata": {},
     "output_type": "execute_result"
    }
   ],
   "source": [
    "# generator = Generator()\n",
    "generator.load_state_dict(torch.load('./Models/Model_1/generator'))\n",
    "generator.eval()"
   ]
  },
  {
   "cell_type": "code",
   "execution_count": 28,
   "id": "03bd1f2a",
   "metadata": {},
   "outputs": [
    {
     "data": {
      "text/plain": [
       "Discriminator(\n",
       "  (_initial): MLP(\n",
       "    (_model): Sequential(\n",
       "      (0): Linear(in_features=22, out_features=32, bias=True)\n",
       "      (1): ReLU()\n",
       "      (2): Linear(in_features=32, out_features=32, bias=True)\n",
       "      (3): ReLU()\n",
       "      (4): Linear(in_features=32, out_features=16, bias=True)\n",
       "    )\n",
       "  )\n",
       "  (_readout): Linear(in_features=16, out_features=1, bias=True)\n",
       ")"
      ]
     },
     "execution_count": 28,
     "metadata": {},
     "output_type": "execute_result"
    }
   ],
   "source": [
    "discriminator.load_state_dict(torch.load('./Models/Model_1/discriminator'))\n",
    "discriminator.eval()"
   ]
  },
  {
   "cell_type": "code",
   "execution_count": 49,
   "id": "cd3458f9",
   "metadata": {},
   "outputs": [
    {
     "data": {
      "text/plain": [
       "tensor([  2.6390,   8.5291,   5.6145,  28.7591,  29.1334,  78.1578,  45.3524,\n",
       "          1.9214,  19.7273,  44.8270,   5.2359,  94.3490,  38.2586,  37.5450,\n",
       "         11.8532,   4.0062,   2.9593,   1.8309,   0.2550,   0.8712,  18.8481,\n",
       "        244.1007], grad_fn=<AbsBackward0>)"
      ]
     },
     "execution_count": 49,
     "metadata": {},
     "output_type": "execute_result"
    }
   ],
   "source": [
    "prova=generator(ts, batch_size=1)\n",
    "prova.shape\n",
    "prova=prova[0]\n",
    "torch.abs(prova[-1])"
   ]
  },
  {
   "cell_type": "code",
   "execution_count": 53,
   "id": "67be5fb5",
   "metadata": {},
   "outputs": [
    {
     "data": {
      "text/html": [
       "<div>\n",
       "<style scoped>\n",
       "    .dataframe tbody tr th:only-of-type {\n",
       "        vertical-align: middle;\n",
       "    }\n",
       "\n",
       "    .dataframe tbody tr th {\n",
       "        vertical-align: top;\n",
       "    }\n",
       "\n",
       "    .dataframe thead th {\n",
       "        text-align: right;\n",
       "    }\n",
       "</style>\n",
       "<table border=\"1\" class=\"dataframe\">\n",
       "  <thead>\n",
       "    <tr style=\"text-align: right;\">\n",
       "      <th></th>\n",
       "      <th>LBDHDDSI</th>\n",
       "      <th>LBDTCSI</th>\n",
       "      <th>LBXSUA</th>\n",
       "      <th>LBXSATSI</th>\n",
       "      <th>LBXSASSI</th>\n",
       "      <th>LBDSTPSI</th>\n",
       "      <th>LBDSALSI</th>\n",
       "      <th>LBXSTB</th>\n",
       "      <th>LBXHGB</th>\n",
       "      <th>LBXHCT</th>\n",
       "      <th>...</th>\n",
       "      <th>LBXMCHSI</th>\n",
       "      <th>LBXMC</th>\n",
       "      <th>LBXWBCSI</th>\n",
       "      <th>LBDNENO</th>\n",
       "      <th>LBDLYMNO</th>\n",
       "      <th>LBDMONO</th>\n",
       "      <th>LBDEONO</th>\n",
       "      <th>LBDBANO</th>\n",
       "      <th>LBDSIRSI</th>\n",
       "      <th>LBXPLTSI</th>\n",
       "    </tr>\n",
       "  </thead>\n",
       "  <tbody>\n",
       "    <tr>\n",
       "      <th>count</th>\n",
       "      <td>6547.000000</td>\n",
       "      <td>6547.000000</td>\n",
       "      <td>6547.00000</td>\n",
       "      <td>6547.000000</td>\n",
       "      <td>6547.000000</td>\n",
       "      <td>6547.000000</td>\n",
       "      <td>6547.000000</td>\n",
       "      <td>6547.000000</td>\n",
       "      <td>6547.000000</td>\n",
       "      <td>6547.000000</td>\n",
       "      <td>...</td>\n",
       "      <td>6547.000000</td>\n",
       "      <td>6547.000000</td>\n",
       "      <td>6547.000000</td>\n",
       "      <td>6547.000000</td>\n",
       "      <td>6547.000000</td>\n",
       "      <td>6547.000000</td>\n",
       "      <td>6547.000000</td>\n",
       "      <td>6547.000000</td>\n",
       "      <td>6547.000000</td>\n",
       "      <td>6547.000000</td>\n",
       "    </tr>\n",
       "    <tr>\n",
       "      <th>mean</th>\n",
       "      <td>1.362269</td>\n",
       "      <td>4.729313</td>\n",
       "      <td>5.34984</td>\n",
       "      <td>24.068144</td>\n",
       "      <td>25.112758</td>\n",
       "      <td>71.077810</td>\n",
       "      <td>42.822514</td>\n",
       "      <td>0.639306</td>\n",
       "      <td>13.960883</td>\n",
       "      <td>41.284924</td>\n",
       "      <td>...</td>\n",
       "      <td>29.953093</td>\n",
       "      <td>33.785215</td>\n",
       "      <td>7.293111</td>\n",
       "      <td>4.272518</td>\n",
       "      <td>2.191575</td>\n",
       "      <td>0.581158</td>\n",
       "      <td>0.202773</td>\n",
       "      <td>0.044838</td>\n",
       "      <td>14.949778</td>\n",
       "      <td>237.965175</td>\n",
       "    </tr>\n",
       "    <tr>\n",
       "      <th>std</th>\n",
       "      <td>0.401247</td>\n",
       "      <td>1.076347</td>\n",
       "      <td>1.40365</td>\n",
       "      <td>18.486176</td>\n",
       "      <td>17.743534</td>\n",
       "      <td>4.679562</td>\n",
       "      <td>3.435935</td>\n",
       "      <td>0.308692</td>\n",
       "      <td>1.507656</td>\n",
       "      <td>4.081439</td>\n",
       "      <td>...</td>\n",
       "      <td>2.489708</td>\n",
       "      <td>1.072428</td>\n",
       "      <td>2.301252</td>\n",
       "      <td>1.793620</td>\n",
       "      <td>0.921684</td>\n",
       "      <td>0.193684</td>\n",
       "      <td>0.183908</td>\n",
       "      <td>0.052067</td>\n",
       "      <td>6.507336</td>\n",
       "      <td>59.704024</td>\n",
       "    </tr>\n",
       "    <tr>\n",
       "      <th>min</th>\n",
       "      <td>0.260000</td>\n",
       "      <td>1.780000</td>\n",
       "      <td>0.70000</td>\n",
       "      <td>6.000000</td>\n",
       "      <td>9.000000</td>\n",
       "      <td>47.000000</td>\n",
       "      <td>24.000000</td>\n",
       "      <td>0.100000</td>\n",
       "      <td>6.400000</td>\n",
       "      <td>17.900000</td>\n",
       "      <td>...</td>\n",
       "      <td>16.800000</td>\n",
       "      <td>28.000000</td>\n",
       "      <td>2.300000</td>\n",
       "      <td>0.400000</td>\n",
       "      <td>0.400000</td>\n",
       "      <td>0.100000</td>\n",
       "      <td>0.000000</td>\n",
       "      <td>0.000000</td>\n",
       "      <td>0.900000</td>\n",
       "      <td>18.000000</td>\n",
       "    </tr>\n",
       "    <tr>\n",
       "      <th>25%</th>\n",
       "      <td>1.090000</td>\n",
       "      <td>3.960000</td>\n",
       "      <td>4.30000</td>\n",
       "      <td>15.000000</td>\n",
       "      <td>19.000000</td>\n",
       "      <td>68.000000</td>\n",
       "      <td>41.000000</td>\n",
       "      <td>0.400000</td>\n",
       "      <td>13.000000</td>\n",
       "      <td>38.600000</td>\n",
       "      <td>...</td>\n",
       "      <td>28.800000</td>\n",
       "      <td>33.200000</td>\n",
       "      <td>5.700000</td>\n",
       "      <td>3.100000</td>\n",
       "      <td>1.700000</td>\n",
       "      <td>0.400000</td>\n",
       "      <td>0.100000</td>\n",
       "      <td>0.000000</td>\n",
       "      <td>10.600000</td>\n",
       "      <td>198.000000</td>\n",
       "    </tr>\n",
       "    <tr>\n",
       "      <th>50%</th>\n",
       "      <td>1.290000</td>\n",
       "      <td>4.630000</td>\n",
       "      <td>5.20000</td>\n",
       "      <td>20.000000</td>\n",
       "      <td>22.000000</td>\n",
       "      <td>71.000000</td>\n",
       "      <td>43.000000</td>\n",
       "      <td>0.600000</td>\n",
       "      <td>13.900000</td>\n",
       "      <td>41.300000</td>\n",
       "      <td>...</td>\n",
       "      <td>30.200000</td>\n",
       "      <td>33.800000</td>\n",
       "      <td>7.000000</td>\n",
       "      <td>4.000000</td>\n",
       "      <td>2.100000</td>\n",
       "      <td>0.600000</td>\n",
       "      <td>0.200000</td>\n",
       "      <td>0.000000</td>\n",
       "      <td>14.100000</td>\n",
       "      <td>232.000000</td>\n",
       "    </tr>\n",
       "    <tr>\n",
       "      <th>75%</th>\n",
       "      <td>1.580000</td>\n",
       "      <td>5.380000</td>\n",
       "      <td>6.20000</td>\n",
       "      <td>27.000000</td>\n",
       "      <td>27.000000</td>\n",
       "      <td>74.000000</td>\n",
       "      <td>45.000000</td>\n",
       "      <td>0.800000</td>\n",
       "      <td>15.000000</td>\n",
       "      <td>44.100000</td>\n",
       "      <td>...</td>\n",
       "      <td>31.500000</td>\n",
       "      <td>34.400000</td>\n",
       "      <td>8.400000</td>\n",
       "      <td>5.100000</td>\n",
       "      <td>2.600000</td>\n",
       "      <td>0.700000</td>\n",
       "      <td>0.202773</td>\n",
       "      <td>0.100000</td>\n",
       "      <td>18.400000</td>\n",
       "      <td>272.000000</td>\n",
       "    </tr>\n",
       "    <tr>\n",
       "      <th>max</th>\n",
       "      <td>4.470000</td>\n",
       "      <td>21.020000</td>\n",
       "      <td>13.30000</td>\n",
       "      <td>536.000000</td>\n",
       "      <td>882.000000</td>\n",
       "      <td>102.000000</td>\n",
       "      <td>56.000000</td>\n",
       "      <td>7.100000</td>\n",
       "      <td>19.500000</td>\n",
       "      <td>56.500000</td>\n",
       "      <td>...</td>\n",
       "      <td>74.500000</td>\n",
       "      <td>69.600000</td>\n",
       "      <td>55.700000</td>\n",
       "      <td>25.600000</td>\n",
       "      <td>49.000000</td>\n",
       "      <td>3.400000</td>\n",
       "      <td>4.300000</td>\n",
       "      <td>0.800000</td>\n",
       "      <td>99.800000</td>\n",
       "      <td>669.000000</td>\n",
       "    </tr>\n",
       "  </tbody>\n",
       "</table>\n",
       "<p>8 rows × 22 columns</p>\n",
       "</div>"
      ],
      "text/plain": [
       "          LBDHDDSI      LBDTCSI      LBXSUA     LBXSATSI     LBXSASSI  \\\n",
       "count  6547.000000  6547.000000  6547.00000  6547.000000  6547.000000   \n",
       "mean      1.362269     4.729313     5.34984    24.068144    25.112758   \n",
       "std       0.401247     1.076347     1.40365    18.486176    17.743534   \n",
       "min       0.260000     1.780000     0.70000     6.000000     9.000000   \n",
       "25%       1.090000     3.960000     4.30000    15.000000    19.000000   \n",
       "50%       1.290000     4.630000     5.20000    20.000000    22.000000   \n",
       "75%       1.580000     5.380000     6.20000    27.000000    27.000000   \n",
       "max       4.470000    21.020000    13.30000   536.000000   882.000000   \n",
       "\n",
       "          LBDSTPSI     LBDSALSI       LBXSTB       LBXHGB       LBXHCT  ...  \\\n",
       "count  6547.000000  6547.000000  6547.000000  6547.000000  6547.000000  ...   \n",
       "mean     71.077810    42.822514     0.639306    13.960883    41.284924  ...   \n",
       "std       4.679562     3.435935     0.308692     1.507656     4.081439  ...   \n",
       "min      47.000000    24.000000     0.100000     6.400000    17.900000  ...   \n",
       "25%      68.000000    41.000000     0.400000    13.000000    38.600000  ...   \n",
       "50%      71.000000    43.000000     0.600000    13.900000    41.300000  ...   \n",
       "75%      74.000000    45.000000     0.800000    15.000000    44.100000  ...   \n",
       "max     102.000000    56.000000     7.100000    19.500000    56.500000  ...   \n",
       "\n",
       "          LBXMCHSI        LBXMC     LBXWBCSI      LBDNENO     LBDLYMNO  \\\n",
       "count  6547.000000  6547.000000  6547.000000  6547.000000  6547.000000   \n",
       "mean     29.953093    33.785215     7.293111     4.272518     2.191575   \n",
       "std       2.489708     1.072428     2.301252     1.793620     0.921684   \n",
       "min      16.800000    28.000000     2.300000     0.400000     0.400000   \n",
       "25%      28.800000    33.200000     5.700000     3.100000     1.700000   \n",
       "50%      30.200000    33.800000     7.000000     4.000000     2.100000   \n",
       "75%      31.500000    34.400000     8.400000     5.100000     2.600000   \n",
       "max      74.500000    69.600000    55.700000    25.600000    49.000000   \n",
       "\n",
       "           LBDMONO      LBDEONO      LBDBANO     LBDSIRSI     LBXPLTSI  \n",
       "count  6547.000000  6547.000000  6547.000000  6547.000000  6547.000000  \n",
       "mean      0.581158     0.202773     0.044838    14.949778   237.965175  \n",
       "std       0.193684     0.183908     0.052067     6.507336    59.704024  \n",
       "min       0.100000     0.000000     0.000000     0.900000    18.000000  \n",
       "25%       0.400000     0.100000     0.000000    10.600000   198.000000  \n",
       "50%       0.600000     0.200000     0.000000    14.100000   232.000000  \n",
       "75%       0.700000     0.202773     0.100000    18.400000   272.000000  \n",
       "max       3.400000     4.300000     0.800000    99.800000   669.000000  \n",
       "\n",
       "[8 rows x 22 columns]"
      ]
     },
     "execution_count": 53,
     "metadata": {},
     "output_type": "execute_result"
    }
   ],
   "source": [
    "labs_clean.iloc[:,1:].describe()"
   ]
  },
  {
   "cell_type": "code",
   "execution_count": 76,
   "id": "335057d7",
   "metadata": {},
   "outputs": [
    {
     "data": {
      "text/html": [
       "<div>\n",
       "<style scoped>\n",
       "    .dataframe tbody tr th:only-of-type {\n",
       "        vertical-align: middle;\n",
       "    }\n",
       "\n",
       "    .dataframe tbody tr th {\n",
       "        vertical-align: top;\n",
       "    }\n",
       "\n",
       "    .dataframe thead th {\n",
       "        text-align: right;\n",
       "    }\n",
       "</style>\n",
       "<table border=\"1\" class=\"dataframe\">\n",
       "  <thead>\n",
       "    <tr style=\"text-align: right;\">\n",
       "      <th></th>\n",
       "      <th>LBDHDDSI</th>\n",
       "    </tr>\n",
       "  </thead>\n",
       "  <tbody>\n",
       "    <tr>\n",
       "      <th>count</th>\n",
       "      <td>6547.000000</td>\n",
       "    </tr>\n",
       "    <tr>\n",
       "      <th>mean</th>\n",
       "      <td>1.288923</td>\n",
       "    </tr>\n",
       "    <tr>\n",
       "      <th>std</th>\n",
       "      <td>0.797892</td>\n",
       "    </tr>\n",
       "    <tr>\n",
       "      <th>min</th>\n",
       "      <td>0.000465</td>\n",
       "    </tr>\n",
       "    <tr>\n",
       "      <th>25%</th>\n",
       "      <td>0.691467</td>\n",
       "    </tr>\n",
       "    <tr>\n",
       "      <th>50%</th>\n",
       "      <td>1.197034</td>\n",
       "    </tr>\n",
       "    <tr>\n",
       "      <th>75%</th>\n",
       "      <td>1.766393</td>\n",
       "    </tr>\n",
       "    <tr>\n",
       "      <th>max</th>\n",
       "      <td>6.336141</td>\n",
       "    </tr>\n",
       "  </tbody>\n",
       "</table>\n",
       "</div>"
      ],
      "text/plain": [
       "          LBDHDDSI\n",
       "count  6547.000000\n",
       "mean      1.288923\n",
       "std       0.797892\n",
       "min       0.000465\n",
       "25%       0.691467\n",
       "50%       1.197034\n",
       "75%       1.766393\n",
       "max       6.336141"
      ]
     },
     "execution_count": 76,
     "metadata": {},
     "output_type": "execute_result"
    }
   ],
   "source": [
    "dataset_prova.describe()"
   ]
  },
  {
   "cell_type": "code",
   "execution_count": 106,
   "id": "777527cc",
   "metadata": {},
   "outputs": [],
   "source": [
    "def sample_generator():\n",
    "    samples = generator(ts, batch_size=1)\n",
    "    samples = samples[0]\n",
    "    samples = torch.abs(samples[-1])\n",
    "    return samples.detach().numpy()\n"
   ]
  },
  {
   "cell_type": "code",
   "execution_count": 122,
   "id": "958cee0d",
   "metadata": {},
   "outputs": [],
   "source": [
    "def synthtetic_dataset(size=3,df=labs_clean):\n",
    "    samples=[]\n",
    "    for i in range(size):\n",
    "        samples.append(sample_generator())\n",
    "    dades=np.array(samples)\n",
    "    return pd.DataFrame(data=dades, columns=df.iloc[:,1:].columns)\n",
    "    "
   ]
  },
  {
   "cell_type": "code",
   "execution_count": 123,
   "id": "1cb273ca",
   "metadata": {},
   "outputs": [],
   "source": [
    "df = synthtetic_dataset(size=5000)"
   ]
  },
  {
   "cell_type": "code",
   "execution_count": 124,
   "id": "26f5cc4b",
   "metadata": {},
   "outputs": [
    {
     "data": {
      "text/html": [
       "<div>\n",
       "<style scoped>\n",
       "    .dataframe tbody tr th:only-of-type {\n",
       "        vertical-align: middle;\n",
       "    }\n",
       "\n",
       "    .dataframe tbody tr th {\n",
       "        vertical-align: top;\n",
       "    }\n",
       "\n",
       "    .dataframe thead th {\n",
       "        text-align: right;\n",
       "    }\n",
       "</style>\n",
       "<table border=\"1\" class=\"dataframe\">\n",
       "  <thead>\n",
       "    <tr style=\"text-align: right;\">\n",
       "      <th></th>\n",
       "      <th>LBDHDDSI</th>\n",
       "      <th>LBDTCSI</th>\n",
       "      <th>LBXSUA</th>\n",
       "      <th>LBXSATSI</th>\n",
       "      <th>LBXSASSI</th>\n",
       "      <th>LBDSTPSI</th>\n",
       "      <th>LBDSALSI</th>\n",
       "      <th>LBXSTB</th>\n",
       "      <th>LBXHGB</th>\n",
       "      <th>LBXHCT</th>\n",
       "      <th>...</th>\n",
       "      <th>LBXMCHSI</th>\n",
       "      <th>LBXMC</th>\n",
       "      <th>LBXWBCSI</th>\n",
       "      <th>LBDNENO</th>\n",
       "      <th>LBDLYMNO</th>\n",
       "      <th>LBDMONO</th>\n",
       "      <th>LBDEONO</th>\n",
       "      <th>LBDBANO</th>\n",
       "      <th>LBDSIRSI</th>\n",
       "      <th>LBXPLTSI</th>\n",
       "    </tr>\n",
       "  </thead>\n",
       "  <tbody>\n",
       "    <tr>\n",
       "      <th>0</th>\n",
       "      <td>1.809319</td>\n",
       "      <td>8.248513</td>\n",
       "      <td>5.762116</td>\n",
       "      <td>25.695873</td>\n",
       "      <td>27.379276</td>\n",
       "      <td>75.820488</td>\n",
       "      <td>43.053825</td>\n",
       "      <td>1.683359</td>\n",
       "      <td>19.451078</td>\n",
       "      <td>42.692078</td>\n",
       "      <td>...</td>\n",
       "      <td>37.134121</td>\n",
       "      <td>36.097492</td>\n",
       "      <td>11.122857</td>\n",
       "      <td>2.410763</td>\n",
       "      <td>3.323373</td>\n",
       "      <td>0.708475</td>\n",
       "      <td>0.780274</td>\n",
       "      <td>1.126281</td>\n",
       "      <td>18.385649</td>\n",
       "      <td>234.260117</td>\n",
       "    </tr>\n",
       "    <tr>\n",
       "      <th>1</th>\n",
       "      <td>2.384314</td>\n",
       "      <td>7.990836</td>\n",
       "      <td>5.440763</td>\n",
       "      <td>24.856197</td>\n",
       "      <td>27.240870</td>\n",
       "      <td>71.810768</td>\n",
       "      <td>43.626789</td>\n",
       "      <td>2.946949</td>\n",
       "      <td>18.216295</td>\n",
       "      <td>41.314362</td>\n",
       "      <td>...</td>\n",
       "      <td>34.613705</td>\n",
       "      <td>36.353622</td>\n",
       "      <td>9.743379</td>\n",
       "      <td>3.234682</td>\n",
       "      <td>2.518811</td>\n",
       "      <td>2.611170</td>\n",
       "      <td>0.935414</td>\n",
       "      <td>0.541372</td>\n",
       "      <td>17.175835</td>\n",
       "      <td>221.407181</td>\n",
       "    </tr>\n",
       "    <tr>\n",
       "      <th>2</th>\n",
       "      <td>1.664761</td>\n",
       "      <td>8.005899</td>\n",
       "      <td>3.459645</td>\n",
       "      <td>27.784626</td>\n",
       "      <td>28.736071</td>\n",
       "      <td>74.044968</td>\n",
       "      <td>44.764057</td>\n",
       "      <td>1.120436</td>\n",
       "      <td>19.286419</td>\n",
       "      <td>42.714672</td>\n",
       "      <td>...</td>\n",
       "      <td>36.138844</td>\n",
       "      <td>34.175770</td>\n",
       "      <td>11.173416</td>\n",
       "      <td>3.471997</td>\n",
       "      <td>2.316999</td>\n",
       "      <td>1.419884</td>\n",
       "      <td>0.777463</td>\n",
       "      <td>0.282256</td>\n",
       "      <td>18.914682</td>\n",
       "      <td>232.041656</td>\n",
       "    </tr>\n",
       "    <tr>\n",
       "      <th>3</th>\n",
       "      <td>1.411284</td>\n",
       "      <td>4.402107</td>\n",
       "      <td>2.672285</td>\n",
       "      <td>17.944880</td>\n",
       "      <td>20.576384</td>\n",
       "      <td>54.057976</td>\n",
       "      <td>31.769157</td>\n",
       "      <td>2.050254</td>\n",
       "      <td>13.196861</td>\n",
       "      <td>30.546045</td>\n",
       "      <td>...</td>\n",
       "      <td>27.018480</td>\n",
       "      <td>24.735176</td>\n",
       "      <td>6.430237</td>\n",
       "      <td>2.540715</td>\n",
       "      <td>1.585133</td>\n",
       "      <td>1.867812</td>\n",
       "      <td>2.485266</td>\n",
       "      <td>1.017448</td>\n",
       "      <td>12.386108</td>\n",
       "      <td>162.903656</td>\n",
       "    </tr>\n",
       "    <tr>\n",
       "      <th>4</th>\n",
       "      <td>1.260353</td>\n",
       "      <td>4.508976</td>\n",
       "      <td>2.183019</td>\n",
       "      <td>20.014559</td>\n",
       "      <td>22.933418</td>\n",
       "      <td>58.450932</td>\n",
       "      <td>35.674049</td>\n",
       "      <td>2.203830</td>\n",
       "      <td>14.402184</td>\n",
       "      <td>33.310535</td>\n",
       "      <td>...</td>\n",
       "      <td>28.464384</td>\n",
       "      <td>26.610868</td>\n",
       "      <td>7.294851</td>\n",
       "      <td>3.024810</td>\n",
       "      <td>1.326832</td>\n",
       "      <td>2.080214</td>\n",
       "      <td>2.201957</td>\n",
       "      <td>1.366220</td>\n",
       "      <td>13.888952</td>\n",
       "      <td>175.846573</td>\n",
       "    </tr>\n",
       "    <tr>\n",
       "      <th>...</th>\n",
       "      <td>...</td>\n",
       "      <td>...</td>\n",
       "      <td>...</td>\n",
       "      <td>...</td>\n",
       "      <td>...</td>\n",
       "      <td>...</td>\n",
       "      <td>...</td>\n",
       "      <td>...</td>\n",
       "      <td>...</td>\n",
       "      <td>...</td>\n",
       "      <td>...</td>\n",
       "      <td>...</td>\n",
       "      <td>...</td>\n",
       "      <td>...</td>\n",
       "      <td>...</td>\n",
       "      <td>...</td>\n",
       "      <td>...</td>\n",
       "      <td>...</td>\n",
       "      <td>...</td>\n",
       "      <td>...</td>\n",
       "      <td>...</td>\n",
       "    </tr>\n",
       "    <tr>\n",
       "      <th>4995</th>\n",
       "      <td>0.932935</td>\n",
       "      <td>5.085296</td>\n",
       "      <td>2.269863</td>\n",
       "      <td>22.915304</td>\n",
       "      <td>24.436666</td>\n",
       "      <td>68.417931</td>\n",
       "      <td>40.900486</td>\n",
       "      <td>0.383980</td>\n",
       "      <td>17.323004</td>\n",
       "      <td>37.699806</td>\n",
       "      <td>...</td>\n",
       "      <td>33.557636</td>\n",
       "      <td>30.409983</td>\n",
       "      <td>9.214616</td>\n",
       "      <td>1.384750</td>\n",
       "      <td>1.550685</td>\n",
       "      <td>1.613708</td>\n",
       "      <td>0.230209</td>\n",
       "      <td>0.049829</td>\n",
       "      <td>16.222691</td>\n",
       "      <td>204.606827</td>\n",
       "    </tr>\n",
       "    <tr>\n",
       "      <th>4996</th>\n",
       "      <td>0.074816</td>\n",
       "      <td>5.040655</td>\n",
       "      <td>2.957682</td>\n",
       "      <td>19.421942</td>\n",
       "      <td>23.847290</td>\n",
       "      <td>59.777569</td>\n",
       "      <td>37.170055</td>\n",
       "      <td>3.211202</td>\n",
       "      <td>15.795570</td>\n",
       "      <td>35.316425</td>\n",
       "      <td>...</td>\n",
       "      <td>29.098349</td>\n",
       "      <td>27.715387</td>\n",
       "      <td>7.956478</td>\n",
       "      <td>3.001153</td>\n",
       "      <td>2.260325</td>\n",
       "      <td>1.786458</td>\n",
       "      <td>1.659891</td>\n",
       "      <td>2.044916</td>\n",
       "      <td>14.172651</td>\n",
       "      <td>181.064438</td>\n",
       "    </tr>\n",
       "    <tr>\n",
       "      <th>4997</th>\n",
       "      <td>2.474455</td>\n",
       "      <td>6.229655</td>\n",
       "      <td>2.993190</td>\n",
       "      <td>22.249962</td>\n",
       "      <td>24.590590</td>\n",
       "      <td>63.531860</td>\n",
       "      <td>38.684883</td>\n",
       "      <td>1.954692</td>\n",
       "      <td>16.521521</td>\n",
       "      <td>36.327698</td>\n",
       "      <td>...</td>\n",
       "      <td>30.758287</td>\n",
       "      <td>31.444124</td>\n",
       "      <td>8.937967</td>\n",
       "      <td>3.167416</td>\n",
       "      <td>2.601413</td>\n",
       "      <td>2.892692</td>\n",
       "      <td>0.746512</td>\n",
       "      <td>0.751110</td>\n",
       "      <td>15.341598</td>\n",
       "      <td>195.169144</td>\n",
       "    </tr>\n",
       "    <tr>\n",
       "      <th>4998</th>\n",
       "      <td>1.673359</td>\n",
       "      <td>4.674235</td>\n",
       "      <td>1.650849</td>\n",
       "      <td>18.060114</td>\n",
       "      <td>20.294342</td>\n",
       "      <td>52.915844</td>\n",
       "      <td>33.168228</td>\n",
       "      <td>2.032043</td>\n",
       "      <td>13.509130</td>\n",
       "      <td>30.315285</td>\n",
       "      <td>...</td>\n",
       "      <td>25.765087</td>\n",
       "      <td>25.443468</td>\n",
       "      <td>6.834218</td>\n",
       "      <td>2.666461</td>\n",
       "      <td>1.808563</td>\n",
       "      <td>2.217807</td>\n",
       "      <td>1.480262</td>\n",
       "      <td>1.365426</td>\n",
       "      <td>12.599449</td>\n",
       "      <td>161.477707</td>\n",
       "    </tr>\n",
       "    <tr>\n",
       "      <th>4999</th>\n",
       "      <td>1.260315</td>\n",
       "      <td>6.938118</td>\n",
       "      <td>3.446886</td>\n",
       "      <td>22.374407</td>\n",
       "      <td>23.274637</td>\n",
       "      <td>62.905899</td>\n",
       "      <td>39.617222</td>\n",
       "      <td>1.598295</td>\n",
       "      <td>16.946413</td>\n",
       "      <td>37.040283</td>\n",
       "      <td>...</td>\n",
       "      <td>30.857756</td>\n",
       "      <td>30.710073</td>\n",
       "      <td>9.433074</td>\n",
       "      <td>2.453349</td>\n",
       "      <td>2.854892</td>\n",
       "      <td>2.561801</td>\n",
       "      <td>0.145097</td>\n",
       "      <td>1.134298</td>\n",
       "      <td>15.057106</td>\n",
       "      <td>197.800522</td>\n",
       "    </tr>\n",
       "  </tbody>\n",
       "</table>\n",
       "<p>5000 rows × 22 columns</p>\n",
       "</div>"
      ],
      "text/plain": [
       "      LBDHDDSI   LBDTCSI    LBXSUA   LBXSATSI   LBXSASSI   LBDSTPSI  \\\n",
       "0     1.809319  8.248513  5.762116  25.695873  27.379276  75.820488   \n",
       "1     2.384314  7.990836  5.440763  24.856197  27.240870  71.810768   \n",
       "2     1.664761  8.005899  3.459645  27.784626  28.736071  74.044968   \n",
       "3     1.411284  4.402107  2.672285  17.944880  20.576384  54.057976   \n",
       "4     1.260353  4.508976  2.183019  20.014559  22.933418  58.450932   \n",
       "...        ...       ...       ...        ...        ...        ...   \n",
       "4995  0.932935  5.085296  2.269863  22.915304  24.436666  68.417931   \n",
       "4996  0.074816  5.040655  2.957682  19.421942  23.847290  59.777569   \n",
       "4997  2.474455  6.229655  2.993190  22.249962  24.590590  63.531860   \n",
       "4998  1.673359  4.674235  1.650849  18.060114  20.294342  52.915844   \n",
       "4999  1.260315  6.938118  3.446886  22.374407  23.274637  62.905899   \n",
       "\n",
       "       LBDSALSI    LBXSTB     LBXHGB     LBXHCT  ...   LBXMCHSI      LBXMC  \\\n",
       "0     43.053825  1.683359  19.451078  42.692078  ...  37.134121  36.097492   \n",
       "1     43.626789  2.946949  18.216295  41.314362  ...  34.613705  36.353622   \n",
       "2     44.764057  1.120436  19.286419  42.714672  ...  36.138844  34.175770   \n",
       "3     31.769157  2.050254  13.196861  30.546045  ...  27.018480  24.735176   \n",
       "4     35.674049  2.203830  14.402184  33.310535  ...  28.464384  26.610868   \n",
       "...         ...       ...        ...        ...  ...        ...        ...   \n",
       "4995  40.900486  0.383980  17.323004  37.699806  ...  33.557636  30.409983   \n",
       "4996  37.170055  3.211202  15.795570  35.316425  ...  29.098349  27.715387   \n",
       "4997  38.684883  1.954692  16.521521  36.327698  ...  30.758287  31.444124   \n",
       "4998  33.168228  2.032043  13.509130  30.315285  ...  25.765087  25.443468   \n",
       "4999  39.617222  1.598295  16.946413  37.040283  ...  30.857756  30.710073   \n",
       "\n",
       "       LBXWBCSI   LBDNENO  LBDLYMNO   LBDMONO   LBDEONO   LBDBANO   LBDSIRSI  \\\n",
       "0     11.122857  2.410763  3.323373  0.708475  0.780274  1.126281  18.385649   \n",
       "1      9.743379  3.234682  2.518811  2.611170  0.935414  0.541372  17.175835   \n",
       "2     11.173416  3.471997  2.316999  1.419884  0.777463  0.282256  18.914682   \n",
       "3      6.430237  2.540715  1.585133  1.867812  2.485266  1.017448  12.386108   \n",
       "4      7.294851  3.024810  1.326832  2.080214  2.201957  1.366220  13.888952   \n",
       "...         ...       ...       ...       ...       ...       ...        ...   \n",
       "4995   9.214616  1.384750  1.550685  1.613708  0.230209  0.049829  16.222691   \n",
       "4996   7.956478  3.001153  2.260325  1.786458  1.659891  2.044916  14.172651   \n",
       "4997   8.937967  3.167416  2.601413  2.892692  0.746512  0.751110  15.341598   \n",
       "4998   6.834218  2.666461  1.808563  2.217807  1.480262  1.365426  12.599449   \n",
       "4999   9.433074  2.453349  2.854892  2.561801  0.145097  1.134298  15.057106   \n",
       "\n",
       "        LBXPLTSI  \n",
       "0     234.260117  \n",
       "1     221.407181  \n",
       "2     232.041656  \n",
       "3     162.903656  \n",
       "4     175.846573  \n",
       "...          ...  \n",
       "4995  204.606827  \n",
       "4996  181.064438  \n",
       "4997  195.169144  \n",
       "4998  161.477707  \n",
       "4999  197.800522  \n",
       "\n",
       "[5000 rows x 22 columns]"
      ]
     },
     "execution_count": 124,
     "metadata": {},
     "output_type": "execute_result"
    }
   ],
   "source": [
    "df"
   ]
  },
  {
   "cell_type": "code",
   "execution_count": 126,
   "id": "3c425b8b",
   "metadata": {},
   "outputs": [
    {
     "data": {
      "text/html": [
       "<div>\n",
       "<style scoped>\n",
       "    .dataframe tbody tr th:only-of-type {\n",
       "        vertical-align: middle;\n",
       "    }\n",
       "\n",
       "    .dataframe tbody tr th {\n",
       "        vertical-align: top;\n",
       "    }\n",
       "\n",
       "    .dataframe thead th {\n",
       "        text-align: right;\n",
       "    }\n",
       "</style>\n",
       "<table border=\"1\" class=\"dataframe\">\n",
       "  <thead>\n",
       "    <tr style=\"text-align: right;\">\n",
       "      <th></th>\n",
       "      <th>LBDHDDSI</th>\n",
       "      <th>LBDTCSI</th>\n",
       "      <th>LBXSUA</th>\n",
       "      <th>LBXSATSI</th>\n",
       "      <th>LBXSASSI</th>\n",
       "      <th>LBDSTPSI</th>\n",
       "      <th>LBDSALSI</th>\n",
       "      <th>LBXSTB</th>\n",
       "      <th>LBXHGB</th>\n",
       "      <th>LBXHCT</th>\n",
       "      <th>...</th>\n",
       "      <th>LBXMCHSI</th>\n",
       "      <th>LBXMC</th>\n",
       "      <th>LBXWBCSI</th>\n",
       "      <th>LBDNENO</th>\n",
       "      <th>LBDLYMNO</th>\n",
       "      <th>LBDMONO</th>\n",
       "      <th>LBDEONO</th>\n",
       "      <th>LBDBANO</th>\n",
       "      <th>LBDSIRSI</th>\n",
       "      <th>LBXPLTSI</th>\n",
       "    </tr>\n",
       "  </thead>\n",
       "  <tbody>\n",
       "    <tr>\n",
       "      <th>count</th>\n",
       "      <td>6547.000000</td>\n",
       "      <td>6547.000000</td>\n",
       "      <td>6547.00000</td>\n",
       "      <td>6547.000000</td>\n",
       "      <td>6547.000000</td>\n",
       "      <td>6547.000000</td>\n",
       "      <td>6547.000000</td>\n",
       "      <td>6547.000000</td>\n",
       "      <td>6547.000000</td>\n",
       "      <td>6547.000000</td>\n",
       "      <td>...</td>\n",
       "      <td>6547.000000</td>\n",
       "      <td>6547.000000</td>\n",
       "      <td>6547.000000</td>\n",
       "      <td>6547.000000</td>\n",
       "      <td>6547.000000</td>\n",
       "      <td>6547.000000</td>\n",
       "      <td>6547.000000</td>\n",
       "      <td>6547.000000</td>\n",
       "      <td>6547.000000</td>\n",
       "      <td>6547.000000</td>\n",
       "    </tr>\n",
       "    <tr>\n",
       "      <th>mean</th>\n",
       "      <td>1.362269</td>\n",
       "      <td>4.729313</td>\n",
       "      <td>5.34984</td>\n",
       "      <td>24.068144</td>\n",
       "      <td>25.112758</td>\n",
       "      <td>71.077810</td>\n",
       "      <td>42.822514</td>\n",
       "      <td>0.639306</td>\n",
       "      <td>13.960883</td>\n",
       "      <td>41.284924</td>\n",
       "      <td>...</td>\n",
       "      <td>29.953093</td>\n",
       "      <td>33.785215</td>\n",
       "      <td>7.293111</td>\n",
       "      <td>4.272518</td>\n",
       "      <td>2.191575</td>\n",
       "      <td>0.581158</td>\n",
       "      <td>0.202773</td>\n",
       "      <td>0.044838</td>\n",
       "      <td>14.949778</td>\n",
       "      <td>237.965175</td>\n",
       "    </tr>\n",
       "    <tr>\n",
       "      <th>std</th>\n",
       "      <td>0.401247</td>\n",
       "      <td>1.076347</td>\n",
       "      <td>1.40365</td>\n",
       "      <td>18.486176</td>\n",
       "      <td>17.743534</td>\n",
       "      <td>4.679562</td>\n",
       "      <td>3.435935</td>\n",
       "      <td>0.308692</td>\n",
       "      <td>1.507656</td>\n",
       "      <td>4.081439</td>\n",
       "      <td>...</td>\n",
       "      <td>2.489708</td>\n",
       "      <td>1.072428</td>\n",
       "      <td>2.301252</td>\n",
       "      <td>1.793620</td>\n",
       "      <td>0.921684</td>\n",
       "      <td>0.193684</td>\n",
       "      <td>0.183908</td>\n",
       "      <td>0.052067</td>\n",
       "      <td>6.507336</td>\n",
       "      <td>59.704024</td>\n",
       "    </tr>\n",
       "    <tr>\n",
       "      <th>min</th>\n",
       "      <td>0.260000</td>\n",
       "      <td>1.780000</td>\n",
       "      <td>0.70000</td>\n",
       "      <td>6.000000</td>\n",
       "      <td>9.000000</td>\n",
       "      <td>47.000000</td>\n",
       "      <td>24.000000</td>\n",
       "      <td>0.100000</td>\n",
       "      <td>6.400000</td>\n",
       "      <td>17.900000</td>\n",
       "      <td>...</td>\n",
       "      <td>16.800000</td>\n",
       "      <td>28.000000</td>\n",
       "      <td>2.300000</td>\n",
       "      <td>0.400000</td>\n",
       "      <td>0.400000</td>\n",
       "      <td>0.100000</td>\n",
       "      <td>0.000000</td>\n",
       "      <td>0.000000</td>\n",
       "      <td>0.900000</td>\n",
       "      <td>18.000000</td>\n",
       "    </tr>\n",
       "    <tr>\n",
       "      <th>25%</th>\n",
       "      <td>1.090000</td>\n",
       "      <td>3.960000</td>\n",
       "      <td>4.30000</td>\n",
       "      <td>15.000000</td>\n",
       "      <td>19.000000</td>\n",
       "      <td>68.000000</td>\n",
       "      <td>41.000000</td>\n",
       "      <td>0.400000</td>\n",
       "      <td>13.000000</td>\n",
       "      <td>38.600000</td>\n",
       "      <td>...</td>\n",
       "      <td>28.800000</td>\n",
       "      <td>33.200000</td>\n",
       "      <td>5.700000</td>\n",
       "      <td>3.100000</td>\n",
       "      <td>1.700000</td>\n",
       "      <td>0.400000</td>\n",
       "      <td>0.100000</td>\n",
       "      <td>0.000000</td>\n",
       "      <td>10.600000</td>\n",
       "      <td>198.000000</td>\n",
       "    </tr>\n",
       "    <tr>\n",
       "      <th>50%</th>\n",
       "      <td>1.290000</td>\n",
       "      <td>4.630000</td>\n",
       "      <td>5.20000</td>\n",
       "      <td>20.000000</td>\n",
       "      <td>22.000000</td>\n",
       "      <td>71.000000</td>\n",
       "      <td>43.000000</td>\n",
       "      <td>0.600000</td>\n",
       "      <td>13.900000</td>\n",
       "      <td>41.300000</td>\n",
       "      <td>...</td>\n",
       "      <td>30.200000</td>\n",
       "      <td>33.800000</td>\n",
       "      <td>7.000000</td>\n",
       "      <td>4.000000</td>\n",
       "      <td>2.100000</td>\n",
       "      <td>0.600000</td>\n",
       "      <td>0.200000</td>\n",
       "      <td>0.000000</td>\n",
       "      <td>14.100000</td>\n",
       "      <td>232.000000</td>\n",
       "    </tr>\n",
       "    <tr>\n",
       "      <th>75%</th>\n",
       "      <td>1.580000</td>\n",
       "      <td>5.380000</td>\n",
       "      <td>6.20000</td>\n",
       "      <td>27.000000</td>\n",
       "      <td>27.000000</td>\n",
       "      <td>74.000000</td>\n",
       "      <td>45.000000</td>\n",
       "      <td>0.800000</td>\n",
       "      <td>15.000000</td>\n",
       "      <td>44.100000</td>\n",
       "      <td>...</td>\n",
       "      <td>31.500000</td>\n",
       "      <td>34.400000</td>\n",
       "      <td>8.400000</td>\n",
       "      <td>5.100000</td>\n",
       "      <td>2.600000</td>\n",
       "      <td>0.700000</td>\n",
       "      <td>0.202773</td>\n",
       "      <td>0.100000</td>\n",
       "      <td>18.400000</td>\n",
       "      <td>272.000000</td>\n",
       "    </tr>\n",
       "    <tr>\n",
       "      <th>max</th>\n",
       "      <td>4.470000</td>\n",
       "      <td>21.020000</td>\n",
       "      <td>13.30000</td>\n",
       "      <td>536.000000</td>\n",
       "      <td>882.000000</td>\n",
       "      <td>102.000000</td>\n",
       "      <td>56.000000</td>\n",
       "      <td>7.100000</td>\n",
       "      <td>19.500000</td>\n",
       "      <td>56.500000</td>\n",
       "      <td>...</td>\n",
       "      <td>74.500000</td>\n",
       "      <td>69.600000</td>\n",
       "      <td>55.700000</td>\n",
       "      <td>25.600000</td>\n",
       "      <td>49.000000</td>\n",
       "      <td>3.400000</td>\n",
       "      <td>4.300000</td>\n",
       "      <td>0.800000</td>\n",
       "      <td>99.800000</td>\n",
       "      <td>669.000000</td>\n",
       "    </tr>\n",
       "  </tbody>\n",
       "</table>\n",
       "<p>8 rows × 22 columns</p>\n",
       "</div>"
      ],
      "text/plain": [
       "          LBDHDDSI      LBDTCSI      LBXSUA     LBXSATSI     LBXSASSI  \\\n",
       "count  6547.000000  6547.000000  6547.00000  6547.000000  6547.000000   \n",
       "mean      1.362269     4.729313     5.34984    24.068144    25.112758   \n",
       "std       0.401247     1.076347     1.40365    18.486176    17.743534   \n",
       "min       0.260000     1.780000     0.70000     6.000000     9.000000   \n",
       "25%       1.090000     3.960000     4.30000    15.000000    19.000000   \n",
       "50%       1.290000     4.630000     5.20000    20.000000    22.000000   \n",
       "75%       1.580000     5.380000     6.20000    27.000000    27.000000   \n",
       "max       4.470000    21.020000    13.30000   536.000000   882.000000   \n",
       "\n",
       "          LBDSTPSI     LBDSALSI       LBXSTB       LBXHGB       LBXHCT  ...  \\\n",
       "count  6547.000000  6547.000000  6547.000000  6547.000000  6547.000000  ...   \n",
       "mean     71.077810    42.822514     0.639306    13.960883    41.284924  ...   \n",
       "std       4.679562     3.435935     0.308692     1.507656     4.081439  ...   \n",
       "min      47.000000    24.000000     0.100000     6.400000    17.900000  ...   \n",
       "25%      68.000000    41.000000     0.400000    13.000000    38.600000  ...   \n",
       "50%      71.000000    43.000000     0.600000    13.900000    41.300000  ...   \n",
       "75%      74.000000    45.000000     0.800000    15.000000    44.100000  ...   \n",
       "max     102.000000    56.000000     7.100000    19.500000    56.500000  ...   \n",
       "\n",
       "          LBXMCHSI        LBXMC     LBXWBCSI      LBDNENO     LBDLYMNO  \\\n",
       "count  6547.000000  6547.000000  6547.000000  6547.000000  6547.000000   \n",
       "mean     29.953093    33.785215     7.293111     4.272518     2.191575   \n",
       "std       2.489708     1.072428     2.301252     1.793620     0.921684   \n",
       "min      16.800000    28.000000     2.300000     0.400000     0.400000   \n",
       "25%      28.800000    33.200000     5.700000     3.100000     1.700000   \n",
       "50%      30.200000    33.800000     7.000000     4.000000     2.100000   \n",
       "75%      31.500000    34.400000     8.400000     5.100000     2.600000   \n",
       "max      74.500000    69.600000    55.700000    25.600000    49.000000   \n",
       "\n",
       "           LBDMONO      LBDEONO      LBDBANO     LBDSIRSI     LBXPLTSI  \n",
       "count  6547.000000  6547.000000  6547.000000  6547.000000  6547.000000  \n",
       "mean      0.581158     0.202773     0.044838    14.949778   237.965175  \n",
       "std       0.193684     0.183908     0.052067     6.507336    59.704024  \n",
       "min       0.100000     0.000000     0.000000     0.900000    18.000000  \n",
       "25%       0.400000     0.100000     0.000000    10.600000   198.000000  \n",
       "50%       0.600000     0.200000     0.000000    14.100000   232.000000  \n",
       "75%       0.700000     0.202773     0.100000    18.400000   272.000000  \n",
       "max       3.400000     4.300000     0.800000    99.800000   669.000000  \n",
       "\n",
       "[8 rows x 22 columns]"
      ]
     },
     "execution_count": 126,
     "metadata": {},
     "output_type": "execute_result"
    }
   ],
   "source": [
    "labs_clean.iloc[:,1:].describe()"
   ]
  },
  {
   "cell_type": "code",
   "execution_count": 127,
   "id": "2ac06bff",
   "metadata": {},
   "outputs": [
    {
     "data": {
      "text/html": [
       "<div>\n",
       "<style scoped>\n",
       "    .dataframe tbody tr th:only-of-type {\n",
       "        vertical-align: middle;\n",
       "    }\n",
       "\n",
       "    .dataframe tbody tr th {\n",
       "        vertical-align: top;\n",
       "    }\n",
       "\n",
       "    .dataframe thead th {\n",
       "        text-align: right;\n",
       "    }\n",
       "</style>\n",
       "<table border=\"1\" class=\"dataframe\">\n",
       "  <thead>\n",
       "    <tr style=\"text-align: right;\">\n",
       "      <th></th>\n",
       "      <th>LBDHDDSI</th>\n",
       "      <th>LBDTCSI</th>\n",
       "      <th>LBXSUA</th>\n",
       "      <th>LBXSATSI</th>\n",
       "      <th>LBXSASSI</th>\n",
       "      <th>LBDSTPSI</th>\n",
       "      <th>LBDSALSI</th>\n",
       "      <th>LBXSTB</th>\n",
       "      <th>LBXHGB</th>\n",
       "      <th>LBXHCT</th>\n",
       "      <th>...</th>\n",
       "      <th>LBXMCHSI</th>\n",
       "      <th>LBXMC</th>\n",
       "      <th>LBXWBCSI</th>\n",
       "      <th>LBDNENO</th>\n",
       "      <th>LBDLYMNO</th>\n",
       "      <th>LBDMONO</th>\n",
       "      <th>LBDEONO</th>\n",
       "      <th>LBDBANO</th>\n",
       "      <th>LBDSIRSI</th>\n",
       "      <th>LBXPLTSI</th>\n",
       "    </tr>\n",
       "  </thead>\n",
       "  <tbody>\n",
       "    <tr>\n",
       "      <th>count</th>\n",
       "      <td>5000.000000</td>\n",
       "      <td>5000.000000</td>\n",
       "      <td>5000.000000</td>\n",
       "      <td>5000.000000</td>\n",
       "      <td>5000.000000</td>\n",
       "      <td>5000.000000</td>\n",
       "      <td>5000.000000</td>\n",
       "      <td>5000.000000</td>\n",
       "      <td>5000.000000</td>\n",
       "      <td>5000.000000</td>\n",
       "      <td>...</td>\n",
       "      <td>5000.000000</td>\n",
       "      <td>5000.000000</td>\n",
       "      <td>5000.000000</td>\n",
       "      <td>5000.000000</td>\n",
       "      <td>5000.000000</td>\n",
       "      <td>5000.000000</td>\n",
       "      <td>5000.000000</td>\n",
       "      <td>5000.000000</td>\n",
       "      <td>5000.000000</td>\n",
       "      <td>5000.000000</td>\n",
       "    </tr>\n",
       "    <tr>\n",
       "      <th>mean</th>\n",
       "      <td>1.290262</td>\n",
       "      <td>5.687578</td>\n",
       "      <td>3.372662</td>\n",
       "      <td>21.960060</td>\n",
       "      <td>24.262600</td>\n",
       "      <td>64.074570</td>\n",
       "      <td>38.574181</td>\n",
       "      <td>2.071155</td>\n",
       "      <td>16.218006</td>\n",
       "      <td>36.504898</td>\n",
       "      <td>...</td>\n",
       "      <td>31.699181</td>\n",
       "      <td>29.873922</td>\n",
       "      <td>8.464423</td>\n",
       "      <td>2.714480</td>\n",
       "      <td>1.902401</td>\n",
       "      <td>1.972213</td>\n",
       "      <td>1.325331</td>\n",
       "      <td>0.789143</td>\n",
       "      <td>15.068947</td>\n",
       "      <td>195.379547</td>\n",
       "    </tr>\n",
       "    <tr>\n",
       "      <th>std</th>\n",
       "      <td>0.798395</td>\n",
       "      <td>1.436940</td>\n",
       "      <td>1.503413</td>\n",
       "      <td>3.813774</td>\n",
       "      <td>3.249553</td>\n",
       "      <td>9.065846</td>\n",
       "      <td>5.108015</td>\n",
       "      <td>0.778785</td>\n",
       "      <td>2.309473</td>\n",
       "      <td>5.275909</td>\n",
       "      <td>...</td>\n",
       "      <td>4.228930</td>\n",
       "      <td>4.550506</td>\n",
       "      <td>1.768005</td>\n",
       "      <td>0.862000</td>\n",
       "      <td>0.632795</td>\n",
       "      <td>0.786345</td>\n",
       "      <td>0.769792</td>\n",
       "      <td>0.497713</td>\n",
       "      <td>2.332645</td>\n",
       "      <td>29.082321</td>\n",
       "    </tr>\n",
       "    <tr>\n",
       "      <th>min</th>\n",
       "      <td>0.000222</td>\n",
       "      <td>2.279715</td>\n",
       "      <td>0.031328</td>\n",
       "      <td>12.596727</td>\n",
       "      <td>16.114225</td>\n",
       "      <td>41.446846</td>\n",
       "      <td>24.725670</td>\n",
       "      <td>0.016428</td>\n",
       "      <td>10.398336</td>\n",
       "      <td>23.000492</td>\n",
       "      <td>...</td>\n",
       "      <td>21.286562</td>\n",
       "      <td>18.698881</td>\n",
       "      <td>4.245481</td>\n",
       "      <td>0.045534</td>\n",
       "      <td>0.010135</td>\n",
       "      <td>0.000145</td>\n",
       "      <td>0.000950</td>\n",
       "      <td>0.000107</td>\n",
       "      <td>9.108771</td>\n",
       "      <td>125.442848</td>\n",
       "    </tr>\n",
       "    <tr>\n",
       "      <th>25%</th>\n",
       "      <td>0.690111</td>\n",
       "      <td>4.619693</td>\n",
       "      <td>2.274035</td>\n",
       "      <td>19.147772</td>\n",
       "      <td>21.899173</td>\n",
       "      <td>57.546795</td>\n",
       "      <td>34.847074</td>\n",
       "      <td>1.560499</td>\n",
       "      <td>14.531067</td>\n",
       "      <td>32.632589</td>\n",
       "      <td>...</td>\n",
       "      <td>28.625265</td>\n",
       "      <td>26.543680</td>\n",
       "      <td>7.181536</td>\n",
       "      <td>2.108658</td>\n",
       "      <td>1.473812</td>\n",
       "      <td>1.432426</td>\n",
       "      <td>0.727236</td>\n",
       "      <td>0.377435</td>\n",
       "      <td>13.382733</td>\n",
       "      <td>174.219879</td>\n",
       "    </tr>\n",
       "    <tr>\n",
       "      <th>50%</th>\n",
       "      <td>1.200133</td>\n",
       "      <td>5.502442</td>\n",
       "      <td>3.176898</td>\n",
       "      <td>21.512239</td>\n",
       "      <td>23.932604</td>\n",
       "      <td>63.113056</td>\n",
       "      <td>38.128351</td>\n",
       "      <td>2.077151</td>\n",
       "      <td>15.945579</td>\n",
       "      <td>35.926788</td>\n",
       "      <td>...</td>\n",
       "      <td>31.242705</td>\n",
       "      <td>29.367226</td>\n",
       "      <td>8.266955</td>\n",
       "      <td>2.633318</td>\n",
       "      <td>1.872436</td>\n",
       "      <td>1.965101</td>\n",
       "      <td>1.301095</td>\n",
       "      <td>0.744989</td>\n",
       "      <td>14.799365</td>\n",
       "      <td>192.295486</td>\n",
       "    </tr>\n",
       "    <tr>\n",
       "      <th>75%</th>\n",
       "      <td>1.759916</td>\n",
       "      <td>6.568114</td>\n",
       "      <td>4.235803</td>\n",
       "      <td>24.312801</td>\n",
       "      <td>26.305664</td>\n",
       "      <td>69.766785</td>\n",
       "      <td>41.873254</td>\n",
       "      <td>2.576486</td>\n",
       "      <td>17.639141</td>\n",
       "      <td>39.787443</td>\n",
       "      <td>...</td>\n",
       "      <td>34.364834</td>\n",
       "      <td>32.744059</td>\n",
       "      <td>9.563784</td>\n",
       "      <td>3.246498</td>\n",
       "      <td>2.300513</td>\n",
       "      <td>2.478398</td>\n",
       "      <td>1.862910</td>\n",
       "      <td>1.138619</td>\n",
       "      <td>16.514797</td>\n",
       "      <td>213.511856</td>\n",
       "    </tr>\n",
       "    <tr>\n",
       "      <th>max</th>\n",
       "      <td>5.777115</td>\n",
       "      <td>11.637628</td>\n",
       "      <td>10.021444</td>\n",
       "      <td>40.156883</td>\n",
       "      <td>38.498222</td>\n",
       "      <td>106.996040</td>\n",
       "      <td>62.841110</td>\n",
       "      <td>5.199645</td>\n",
       "      <td>26.407373</td>\n",
       "      <td>60.453674</td>\n",
       "      <td>...</td>\n",
       "      <td>50.180187</td>\n",
       "      <td>49.532413</td>\n",
       "      <td>16.555691</td>\n",
       "      <td>6.728709</td>\n",
       "      <td>4.650986</td>\n",
       "      <td>4.849261</td>\n",
       "      <td>4.542422</td>\n",
       "      <td>2.791731</td>\n",
       "      <td>26.459805</td>\n",
       "      <td>329.173401</td>\n",
       "    </tr>\n",
       "  </tbody>\n",
       "</table>\n",
       "<p>8 rows × 22 columns</p>\n",
       "</div>"
      ],
      "text/plain": [
       "          LBDHDDSI      LBDTCSI       LBXSUA     LBXSATSI     LBXSASSI  \\\n",
       "count  5000.000000  5000.000000  5000.000000  5000.000000  5000.000000   \n",
       "mean      1.290262     5.687578     3.372662    21.960060    24.262600   \n",
       "std       0.798395     1.436940     1.503413     3.813774     3.249553   \n",
       "min       0.000222     2.279715     0.031328    12.596727    16.114225   \n",
       "25%       0.690111     4.619693     2.274035    19.147772    21.899173   \n",
       "50%       1.200133     5.502442     3.176898    21.512239    23.932604   \n",
       "75%       1.759916     6.568114     4.235803    24.312801    26.305664   \n",
       "max       5.777115    11.637628    10.021444    40.156883    38.498222   \n",
       "\n",
       "          LBDSTPSI     LBDSALSI       LBXSTB       LBXHGB       LBXHCT  ...  \\\n",
       "count  5000.000000  5000.000000  5000.000000  5000.000000  5000.000000  ...   \n",
       "mean     64.074570    38.574181     2.071155    16.218006    36.504898  ...   \n",
       "std       9.065846     5.108015     0.778785     2.309473     5.275909  ...   \n",
       "min      41.446846    24.725670     0.016428    10.398336    23.000492  ...   \n",
       "25%      57.546795    34.847074     1.560499    14.531067    32.632589  ...   \n",
       "50%      63.113056    38.128351     2.077151    15.945579    35.926788  ...   \n",
       "75%      69.766785    41.873254     2.576486    17.639141    39.787443  ...   \n",
       "max     106.996040    62.841110     5.199645    26.407373    60.453674  ...   \n",
       "\n",
       "          LBXMCHSI        LBXMC     LBXWBCSI      LBDNENO     LBDLYMNO  \\\n",
       "count  5000.000000  5000.000000  5000.000000  5000.000000  5000.000000   \n",
       "mean     31.699181    29.873922     8.464423     2.714480     1.902401   \n",
       "std       4.228930     4.550506     1.768005     0.862000     0.632795   \n",
       "min      21.286562    18.698881     4.245481     0.045534     0.010135   \n",
       "25%      28.625265    26.543680     7.181536     2.108658     1.473812   \n",
       "50%      31.242705    29.367226     8.266955     2.633318     1.872436   \n",
       "75%      34.364834    32.744059     9.563784     3.246498     2.300513   \n",
       "max      50.180187    49.532413    16.555691     6.728709     4.650986   \n",
       "\n",
       "           LBDMONO      LBDEONO      LBDBANO     LBDSIRSI     LBXPLTSI  \n",
       "count  5000.000000  5000.000000  5000.000000  5000.000000  5000.000000  \n",
       "mean      1.972213     1.325331     0.789143    15.068947   195.379547  \n",
       "std       0.786345     0.769792     0.497713     2.332645    29.082321  \n",
       "min       0.000145     0.000950     0.000107     9.108771   125.442848  \n",
       "25%       1.432426     0.727236     0.377435    13.382733   174.219879  \n",
       "50%       1.965101     1.301095     0.744989    14.799365   192.295486  \n",
       "75%       2.478398     1.862910     1.138619    16.514797   213.511856  \n",
       "max       4.849261     4.542422     2.791731    26.459805   329.173401  \n",
       "\n",
       "[8 rows x 22 columns]"
      ]
     },
     "execution_count": 127,
     "metadata": {},
     "output_type": "execute_result"
    }
   ],
   "source": [
    "df.describe()"
   ]
  },
  {
   "cell_type": "markdown",
   "id": "a85d2a50",
   "metadata": {},
   "source": [
    "# Fidelity"
   ]
  },
  {
   "cell_type": "code",
   "execution_count": 130,
   "id": "a58f155d",
   "metadata": {},
   "outputs": [],
   "source": [
    "import os.path\n",
    "import pandas as pd\n",
    "import numpy as np\n",
    "from os import listdir\n",
    "from os.path import isfile, join\n",
    "\n",
    "def bin_data(dt1, dt2, c = 10):\n",
    "    dt1 = dt1.copy()\n",
    "    dt2 = dt2.copy()\n",
    "    # quantile binning of numerics\n",
    "    num_cols = dt1.dtypes[dt1.dtypes!='object'].index\n",
    "    for col in num_cols:\n",
    "        # determine breaks based on `dt1`\n",
    "        breaks = dt1[col].quantile(np.linspace(0, 1, c+1)).unique()\n",
    "        dt1[col] = pd.cut(dt1[col], bins=breaks, include_lowest=True).astype(str)\n",
    "        dt2_vals = pd.to_numeric(dt2[col], 'coerce')\n",
    "        dt2_bins = pd.cut(dt2_vals, bins=breaks, include_lowest=True).astype(str)\n",
    "        dt2_bins[dt2_vals < min(breaks)] = '_other_'\n",
    "        dt2_bins[dt2_vals > max(breaks)] = '_other_'\n",
    "        dt2[col] = dt2_bins\n",
    "    # top-C binning of categoricals\n",
    "    cat_cols = dt1.dtypes[dt1.dtypes=='object'].index\n",
    "    for col in cat_cols:\n",
    "        # determine top values based on `dt1`\n",
    "        top_vals = dt1[col].value_counts().head(c).index.tolist()\n",
    "        dt1[col].replace(np.setdiff1d(dt1[col].unique().tolist(), top_vals), '_other_', inplace=True)\n",
    "        dt2[col].replace(np.setdiff1d(dt2[col].unique().tolist(), top_vals), '_other_', inplace=True)\n",
    "    return [dt1, dt2]\n",
    "\n",
    "def hellinger(p1, p2):\n",
    "    return np.sqrt(1 - np.sum(np.sqrt(p1*p2)))\n",
    "\n",
    "def kullback_leibler(p1, p2):\n",
    "    idx = p1>0\n",
    "    return np.sum(p1[idx] * np.log(p1[idx]/p2[idx]))\n",
    "\n",
    "def jensen_shannon(p1, p2):\n",
    "    m = 0.5 * (p1 + p2)\n",
    "    return 0.5 * kullback_leibler(p1, m) + 0.5 * kullback_leibler(p2, m)\n",
    "\n",
    "def fidelity(dt1, dt2, c = 100, k = 1):\n",
    "    [dt1_bin, dt2_bin] = bin_data(dt1, dt2, c = c)\n",
    "    # build grid of all cross-combinations\n",
    "    cols = dt1.columns\n",
    "    interactions = pd.DataFrame(np.array(np.meshgrid(cols, cols, cols)).reshape(3, len(cols)**3).T)\n",
    "    interactions.columns = ['dim1', 'dim2', 'dim3']\n",
    "    if k == 1:\n",
    "        interactions = interactions.loc[(interactions['dim1']==interactions['dim2']) & (interactions['dim2']==interactions['dim3'])]\n",
    "    elif k == 2:\n",
    "        interactions = interactions.loc[(interactions['dim1']<interactions['dim2']) & (interactions['dim2']==interactions['dim3'])]\n",
    "    elif k == 3:\n",
    "        interactions = interactions.loc[(interactions['dim1']<interactions['dim2']) & (interactions['dim2']<interactions['dim3'])]\n",
    "    else:\n",
    "        raise('k>3 not supported')\n",
    "\n",
    "    results = []\n",
    "    for idx in range(interactions.shape[0]):\n",
    "        row = interactions.iloc[idx]\n",
    "        val1 = dt1_bin[row.dim1] + dt1_bin[row.dim2] + dt1_bin[row.dim3]\n",
    "        val2 = dt2_bin[row.dim1] + dt2_bin[row.dim2] + dt2_bin[row.dim3]\n",
    "        freq1 = val1.value_counts(normalize=True).to_frame(name='p1')\n",
    "        freq2 = val2.value_counts(normalize=True).to_frame(name='p2')\n",
    "        freq = freq1.join(freq2, how='outer').fillna(0.0)\n",
    "        p1 = freq['p1']\n",
    "        p2 = freq['p2']\n",
    "        out = pd.DataFrame({\n",
    "          'k': k,\n",
    "          'dim1': [row.dim1], 'dim2': [row.dim2], 'dim3': [row.dim3],\n",
    "          'tvd': [np.sum(np.abs(p1 - p2)) / 2], \n",
    "          'mae': [np.mean(np.abs(p1 - p2))], \n",
    "          'max': [np.max(np.abs(p1 - p2))],\n",
    "          'l1d': [np.sum(np.abs(p1 - p2))],\n",
    "          'l2d': [np.sqrt(np.sum((p1 - p2)**2))],\n",
    "          'hellinger': [hellinger(p1, p2)],\n",
    "          'jensen_shannon': [jensen_shannon(p1, p2)]})\n",
    "        results.append(out)\n",
    "\n",
    "    return pd.concat(results)"
   ]
  },
  {
   "cell_type": "code",
   "execution_count": 135,
   "id": "b940505b",
   "metadata": {},
   "outputs": [
    {
     "name": "stderr",
     "output_type": "stream",
     "text": [
      "C:\\Users\\alex.padros\\AppData\\Local\\Temp\\4\\ipykernel_29928\\1962938012.py:1: FutureWarning: The default value of numeric_only in DataFrame.mean is deprecated. In a future version, it will default to False. In addition, specifying 'numeric_only=None' is deprecated. Select only valid columns or specify the value of numeric_only to silence this warning.\n",
      "  fidelity(labs_clean.iloc[:,1:], df, k=2, c=100).agg('mean')\n"
     ]
    },
    {
     "data": {
      "text/plain": [
       "k                 2.000000\n",
       "tvd               0.813166\n",
       "mae               0.002750\n",
       "max               0.079083\n",
       "l1d               1.626332\n",
       "l2d               0.141732\n",
       "hellinger         0.809074\n",
       "jensen_shannon    0.491810\n",
       "dtype: float64"
      ]
     },
     "execution_count": 135,
     "metadata": {},
     "output_type": "execute_result"
    }
   ],
   "source": [
    "fidelity(labs_clean.iloc[:,1:], df, k=2, c=100).agg('mean')"
   ]
  },
  {
   "cell_type": "code",
   "execution_count": null,
   "id": "0bfa52b0",
   "metadata": {},
   "outputs": [],
   "source": []
  },
  {
   "cell_type": "code",
   "execution_count": 136,
   "id": "321beedf",
   "metadata": {},
   "outputs": [
    {
     "data": {
      "text/html": [
       "<div>\n",
       "<style scoped>\n",
       "    .dataframe tbody tr th:only-of-type {\n",
       "        vertical-align: middle;\n",
       "    }\n",
       "\n",
       "    .dataframe tbody tr th {\n",
       "        vertical-align: top;\n",
       "    }\n",
       "\n",
       "    .dataframe thead th {\n",
       "        text-align: right;\n",
       "    }\n",
       "</style>\n",
       "<table border=\"1\" class=\"dataframe\">\n",
       "  <thead>\n",
       "    <tr style=\"text-align: right;\">\n",
       "      <th></th>\n",
       "      <th>LBDHDDSI</th>\n",
       "      <th>LBDTCSI</th>\n",
       "      <th>LBXSUA</th>\n",
       "      <th>LBXSATSI</th>\n",
       "      <th>LBXSASSI</th>\n",
       "      <th>LBDSTPSI</th>\n",
       "      <th>LBDSALSI</th>\n",
       "      <th>LBXSTB</th>\n",
       "      <th>LBXHGB</th>\n",
       "      <th>LBXHCT</th>\n",
       "      <th>...</th>\n",
       "      <th>LBXMCHSI</th>\n",
       "      <th>LBXMC</th>\n",
       "      <th>LBXWBCSI</th>\n",
       "      <th>LBDNENO</th>\n",
       "      <th>LBDLYMNO</th>\n",
       "      <th>LBDMONO</th>\n",
       "      <th>LBDEONO</th>\n",
       "      <th>LBDBANO</th>\n",
       "      <th>LBDSIRSI</th>\n",
       "      <th>LBXPLTSI</th>\n",
       "    </tr>\n",
       "  </thead>\n",
       "  <tbody>\n",
       "    <tr>\n",
       "      <th>0</th>\n",
       "      <td>1.68</td>\n",
       "      <td>4.32</td>\n",
       "      <td>3.3</td>\n",
       "      <td>16.0</td>\n",
       "      <td>16.0</td>\n",
       "      <td>65.0</td>\n",
       "      <td>41.0</td>\n",
       "      <td>0.8</td>\n",
       "      <td>15.2</td>\n",
       "      <td>45.4</td>\n",
       "      <td>...</td>\n",
       "      <td>29.9</td>\n",
       "      <td>33.4</td>\n",
       "      <td>4.7</td>\n",
       "      <td>2.0</td>\n",
       "      <td>2.0</td>\n",
       "      <td>0.5</td>\n",
       "      <td>0.2</td>\n",
       "      <td>0.1</td>\n",
       "      <td>10.4</td>\n",
       "      <td>204.0</td>\n",
       "    </tr>\n",
       "    <tr>\n",
       "      <th>1</th>\n",
       "      <td>1.29</td>\n",
       "      <td>4.40</td>\n",
       "      <td>4.7</td>\n",
       "      <td>29.0</td>\n",
       "      <td>18.0</td>\n",
       "      <td>78.0</td>\n",
       "      <td>47.0</td>\n",
       "      <td>0.9</td>\n",
       "      <td>11.9</td>\n",
       "      <td>36.7</td>\n",
       "      <td>...</td>\n",
       "      <td>31.0</td>\n",
       "      <td>32.5</td>\n",
       "      <td>12.6</td>\n",
       "      <td>7.4</td>\n",
       "      <td>3.4</td>\n",
       "      <td>1.0</td>\n",
       "      <td>0.8</td>\n",
       "      <td>0.1</td>\n",
       "      <td>14.1</td>\n",
       "      <td>314.0</td>\n",
       "    </tr>\n",
       "    <tr>\n",
       "      <th>2</th>\n",
       "      <td>1.55</td>\n",
       "      <td>3.26</td>\n",
       "      <td>5.7</td>\n",
       "      <td>16.0</td>\n",
       "      <td>22.0</td>\n",
       "      <td>59.0</td>\n",
       "      <td>37.0</td>\n",
       "      <td>0.6</td>\n",
       "      <td>17.2</td>\n",
       "      <td>49.9</td>\n",
       "      <td>...</td>\n",
       "      <td>31.1</td>\n",
       "      <td>34.3</td>\n",
       "      <td>7.2</td>\n",
       "      <td>4.9</td>\n",
       "      <td>1.0</td>\n",
       "      <td>0.8</td>\n",
       "      <td>0.4</td>\n",
       "      <td>0.1</td>\n",
       "      <td>17.6</td>\n",
       "      <td>237.0</td>\n",
       "    </tr>\n",
       "    <tr>\n",
       "      <th>4</th>\n",
       "      <td>2.20</td>\n",
       "      <td>5.20</td>\n",
       "      <td>4.2</td>\n",
       "      <td>28.0</td>\n",
       "      <td>36.0</td>\n",
       "      <td>71.0</td>\n",
       "      <td>43.0</td>\n",
       "      <td>0.5</td>\n",
       "      <td>14.5</td>\n",
       "      <td>43.8</td>\n",
       "      <td>...</td>\n",
       "      <td>30.6</td>\n",
       "      <td>33.0</td>\n",
       "      <td>6.6</td>\n",
       "      <td>4.5</td>\n",
       "      <td>1.4</td>\n",
       "      <td>0.5</td>\n",
       "      <td>0.2</td>\n",
       "      <td>0.1</td>\n",
       "      <td>16.3</td>\n",
       "      <td>300.0</td>\n",
       "    </tr>\n",
       "    <tr>\n",
       "      <th>5</th>\n",
       "      <td>0.98</td>\n",
       "      <td>5.84</td>\n",
       "      <td>9.1</td>\n",
       "      <td>16.0</td>\n",
       "      <td>24.0</td>\n",
       "      <td>73.0</td>\n",
       "      <td>43.0</td>\n",
       "      <td>0.5</td>\n",
       "      <td>14.2</td>\n",
       "      <td>41.5</td>\n",
       "      <td>...</td>\n",
       "      <td>28.8</td>\n",
       "      <td>34.2</td>\n",
       "      <td>9.4</td>\n",
       "      <td>6.5</td>\n",
       "      <td>1.6</td>\n",
       "      <td>0.6</td>\n",
       "      <td>0.6</td>\n",
       "      <td>0.1</td>\n",
       "      <td>9.3</td>\n",
       "      <td>249.0</td>\n",
       "    </tr>\n",
       "    <tr>\n",
       "      <th>...</th>\n",
       "      <td>...</td>\n",
       "      <td>...</td>\n",
       "      <td>...</td>\n",
       "      <td>...</td>\n",
       "      <td>...</td>\n",
       "      <td>...</td>\n",
       "      <td>...</td>\n",
       "      <td>...</td>\n",
       "      <td>...</td>\n",
       "      <td>...</td>\n",
       "      <td>...</td>\n",
       "      <td>...</td>\n",
       "      <td>...</td>\n",
       "      <td>...</td>\n",
       "      <td>...</td>\n",
       "      <td>...</td>\n",
       "      <td>...</td>\n",
       "      <td>...</td>\n",
       "      <td>...</td>\n",
       "      <td>...</td>\n",
       "      <td>...</td>\n",
       "    </tr>\n",
       "    <tr>\n",
       "      <th>9802</th>\n",
       "      <td>1.42</td>\n",
       "      <td>3.57</td>\n",
       "      <td>5.7</td>\n",
       "      <td>47.0</td>\n",
       "      <td>24.0</td>\n",
       "      <td>70.0</td>\n",
       "      <td>44.0</td>\n",
       "      <td>0.7</td>\n",
       "      <td>14.4</td>\n",
       "      <td>41.9</td>\n",
       "      <td>...</td>\n",
       "      <td>32.2</td>\n",
       "      <td>34.4</td>\n",
       "      <td>6.8</td>\n",
       "      <td>4.4</td>\n",
       "      <td>1.4</td>\n",
       "      <td>0.6</td>\n",
       "      <td>0.3</td>\n",
       "      <td>0.1</td>\n",
       "      <td>16.1</td>\n",
       "      <td>152.0</td>\n",
       "    </tr>\n",
       "    <tr>\n",
       "      <th>9804</th>\n",
       "      <td>1.27</td>\n",
       "      <td>4.81</td>\n",
       "      <td>4.2</td>\n",
       "      <td>23.0</td>\n",
       "      <td>24.0</td>\n",
       "      <td>78.0</td>\n",
       "      <td>41.0</td>\n",
       "      <td>0.7</td>\n",
       "      <td>14.3</td>\n",
       "      <td>40.1</td>\n",
       "      <td>...</td>\n",
       "      <td>35.2</td>\n",
       "      <td>35.5</td>\n",
       "      <td>7.7</td>\n",
       "      <td>3.9</td>\n",
       "      <td>2.9</td>\n",
       "      <td>0.8</td>\n",
       "      <td>0.1</td>\n",
       "      <td>0.0</td>\n",
       "      <td>15.8</td>\n",
       "      <td>181.0</td>\n",
       "    </tr>\n",
       "    <tr>\n",
       "      <th>9805</th>\n",
       "      <td>1.32</td>\n",
       "      <td>4.06</td>\n",
       "      <td>6.1</td>\n",
       "      <td>12.0</td>\n",
       "      <td>20.0</td>\n",
       "      <td>60.0</td>\n",
       "      <td>38.0</td>\n",
       "      <td>0.5</td>\n",
       "      <td>11.8</td>\n",
       "      <td>34.8</td>\n",
       "      <td>...</td>\n",
       "      <td>31.8</td>\n",
       "      <td>33.9</td>\n",
       "      <td>6.1</td>\n",
       "      <td>4.2</td>\n",
       "      <td>1.2</td>\n",
       "      <td>0.6</td>\n",
       "      <td>0.1</td>\n",
       "      <td>0.1</td>\n",
       "      <td>15.0</td>\n",
       "      <td>180.0</td>\n",
       "    </tr>\n",
       "    <tr>\n",
       "      <th>9808</th>\n",
       "      <td>1.42</td>\n",
       "      <td>4.91</td>\n",
       "      <td>5.3</td>\n",
       "      <td>26.0</td>\n",
       "      <td>27.0</td>\n",
       "      <td>75.0</td>\n",
       "      <td>49.0</td>\n",
       "      <td>0.9</td>\n",
       "      <td>14.9</td>\n",
       "      <td>45.1</td>\n",
       "      <td>...</td>\n",
       "      <td>29.3</td>\n",
       "      <td>32.9</td>\n",
       "      <td>5.1</td>\n",
       "      <td>2.9</td>\n",
       "      <td>1.6</td>\n",
       "      <td>0.3</td>\n",
       "      <td>0.2</td>\n",
       "      <td>0.0</td>\n",
       "      <td>13.1</td>\n",
       "      <td>226.0</td>\n",
       "    </tr>\n",
       "    <tr>\n",
       "      <th>9810</th>\n",
       "      <td>1.24</td>\n",
       "      <td>3.93</td>\n",
       "      <td>5.3</td>\n",
       "      <td>13.0</td>\n",
       "      <td>26.0</td>\n",
       "      <td>67.0</td>\n",
       "      <td>41.0</td>\n",
       "      <td>0.2</td>\n",
       "      <td>12.2</td>\n",
       "      <td>37.1</td>\n",
       "      <td>...</td>\n",
       "      <td>29.2</td>\n",
       "      <td>32.8</td>\n",
       "      <td>6.4</td>\n",
       "      <td>3.2</td>\n",
       "      <td>2.5</td>\n",
       "      <td>0.6</td>\n",
       "      <td>0.1</td>\n",
       "      <td>0.0</td>\n",
       "      <td>8.8</td>\n",
       "      <td>213.0</td>\n",
       "    </tr>\n",
       "  </tbody>\n",
       "</table>\n",
       "<p>6547 rows × 22 columns</p>\n",
       "</div>"
      ],
      "text/plain": [
       "      LBDHDDSI  LBDTCSI  LBXSUA  LBXSATSI  LBXSASSI  LBDSTPSI  LBDSALSI  \\\n",
       "0         1.68     4.32     3.3      16.0      16.0      65.0      41.0   \n",
       "1         1.29     4.40     4.7      29.0      18.0      78.0      47.0   \n",
       "2         1.55     3.26     5.7      16.0      22.0      59.0      37.0   \n",
       "4         2.20     5.20     4.2      28.0      36.0      71.0      43.0   \n",
       "5         0.98     5.84     9.1      16.0      24.0      73.0      43.0   \n",
       "...        ...      ...     ...       ...       ...       ...       ...   \n",
       "9802      1.42     3.57     5.7      47.0      24.0      70.0      44.0   \n",
       "9804      1.27     4.81     4.2      23.0      24.0      78.0      41.0   \n",
       "9805      1.32     4.06     6.1      12.0      20.0      60.0      38.0   \n",
       "9808      1.42     4.91     5.3      26.0      27.0      75.0      49.0   \n",
       "9810      1.24     3.93     5.3      13.0      26.0      67.0      41.0   \n",
       "\n",
       "      LBXSTB  LBXHGB  LBXHCT  ...  LBXMCHSI  LBXMC  LBXWBCSI  LBDNENO  \\\n",
       "0        0.8    15.2    45.4  ...      29.9   33.4       4.7      2.0   \n",
       "1        0.9    11.9    36.7  ...      31.0   32.5      12.6      7.4   \n",
       "2        0.6    17.2    49.9  ...      31.1   34.3       7.2      4.9   \n",
       "4        0.5    14.5    43.8  ...      30.6   33.0       6.6      4.5   \n",
       "5        0.5    14.2    41.5  ...      28.8   34.2       9.4      6.5   \n",
       "...      ...     ...     ...  ...       ...    ...       ...      ...   \n",
       "9802     0.7    14.4    41.9  ...      32.2   34.4       6.8      4.4   \n",
       "9804     0.7    14.3    40.1  ...      35.2   35.5       7.7      3.9   \n",
       "9805     0.5    11.8    34.8  ...      31.8   33.9       6.1      4.2   \n",
       "9808     0.9    14.9    45.1  ...      29.3   32.9       5.1      2.9   \n",
       "9810     0.2    12.2    37.1  ...      29.2   32.8       6.4      3.2   \n",
       "\n",
       "      LBDLYMNO  LBDMONO  LBDEONO  LBDBANO  LBDSIRSI  LBXPLTSI  \n",
       "0          2.0      0.5      0.2      0.1      10.4     204.0  \n",
       "1          3.4      1.0      0.8      0.1      14.1     314.0  \n",
       "2          1.0      0.8      0.4      0.1      17.6     237.0  \n",
       "4          1.4      0.5      0.2      0.1      16.3     300.0  \n",
       "5          1.6      0.6      0.6      0.1       9.3     249.0  \n",
       "...        ...      ...      ...      ...       ...       ...  \n",
       "9802       1.4      0.6      0.3      0.1      16.1     152.0  \n",
       "9804       2.9      0.8      0.1      0.0      15.8     181.0  \n",
       "9805       1.2      0.6      0.1      0.1      15.0     180.0  \n",
       "9808       1.6      0.3      0.2      0.0      13.1     226.0  \n",
       "9810       2.5      0.6      0.1      0.0       8.8     213.0  \n",
       "\n",
       "[6547 rows x 22 columns]"
      ]
     },
     "execution_count": 136,
     "metadata": {},
     "output_type": "execute_result"
    }
   ],
   "source": [
    "labs_clean.iloc[:,1:]"
   ]
  },
  {
   "cell_type": "code",
   "execution_count": 137,
   "id": "0f32c69c",
   "metadata": {},
   "outputs": [],
   "source": [
    "df1 = labs_clean.iloc[:,1:].iloc[:3200]\n",
    "df2 = labs_clean.iloc[:,1:].iloc[3200:]"
   ]
  },
  {
   "cell_type": "code",
   "execution_count": 138,
   "id": "79969b7b",
   "metadata": {},
   "outputs": [
    {
     "data": {
      "text/html": [
       "<div>\n",
       "<style scoped>\n",
       "    .dataframe tbody tr th:only-of-type {\n",
       "        vertical-align: middle;\n",
       "    }\n",
       "\n",
       "    .dataframe tbody tr th {\n",
       "        vertical-align: top;\n",
       "    }\n",
       "\n",
       "    .dataframe thead th {\n",
       "        text-align: right;\n",
       "    }\n",
       "</style>\n",
       "<table border=\"1\" class=\"dataframe\">\n",
       "  <thead>\n",
       "    <tr style=\"text-align: right;\">\n",
       "      <th></th>\n",
       "      <th>LBDHDDSI</th>\n",
       "      <th>LBDTCSI</th>\n",
       "      <th>LBXSUA</th>\n",
       "      <th>LBXSATSI</th>\n",
       "      <th>LBXSASSI</th>\n",
       "      <th>LBDSTPSI</th>\n",
       "      <th>LBDSALSI</th>\n",
       "      <th>LBXSTB</th>\n",
       "      <th>LBXHGB</th>\n",
       "      <th>LBXHCT</th>\n",
       "      <th>...</th>\n",
       "      <th>LBXMCHSI</th>\n",
       "      <th>LBXMC</th>\n",
       "      <th>LBXWBCSI</th>\n",
       "      <th>LBDNENO</th>\n",
       "      <th>LBDLYMNO</th>\n",
       "      <th>LBDMONO</th>\n",
       "      <th>LBDEONO</th>\n",
       "      <th>LBDBANO</th>\n",
       "      <th>LBDSIRSI</th>\n",
       "      <th>LBXPLTSI</th>\n",
       "    </tr>\n",
       "  </thead>\n",
       "  <tbody>\n",
       "    <tr>\n",
       "      <th>0</th>\n",
       "      <td>1.68</td>\n",
       "      <td>4.32</td>\n",
       "      <td>3.3</td>\n",
       "      <td>16.0</td>\n",
       "      <td>16.0</td>\n",
       "      <td>65.0</td>\n",
       "      <td>41.0</td>\n",
       "      <td>0.8</td>\n",
       "      <td>15.2</td>\n",
       "      <td>45.4</td>\n",
       "      <td>...</td>\n",
       "      <td>29.9</td>\n",
       "      <td>33.4</td>\n",
       "      <td>4.7</td>\n",
       "      <td>2.0</td>\n",
       "      <td>2.0</td>\n",
       "      <td>0.5</td>\n",
       "      <td>0.2</td>\n",
       "      <td>0.1</td>\n",
       "      <td>10.4</td>\n",
       "      <td>204.0</td>\n",
       "    </tr>\n",
       "    <tr>\n",
       "      <th>1</th>\n",
       "      <td>1.29</td>\n",
       "      <td>4.40</td>\n",
       "      <td>4.7</td>\n",
       "      <td>29.0</td>\n",
       "      <td>18.0</td>\n",
       "      <td>78.0</td>\n",
       "      <td>47.0</td>\n",
       "      <td>0.9</td>\n",
       "      <td>11.9</td>\n",
       "      <td>36.7</td>\n",
       "      <td>...</td>\n",
       "      <td>31.0</td>\n",
       "      <td>32.5</td>\n",
       "      <td>12.6</td>\n",
       "      <td>7.4</td>\n",
       "      <td>3.4</td>\n",
       "      <td>1.0</td>\n",
       "      <td>0.8</td>\n",
       "      <td>0.1</td>\n",
       "      <td>14.1</td>\n",
       "      <td>314.0</td>\n",
       "    </tr>\n",
       "    <tr>\n",
       "      <th>2</th>\n",
       "      <td>1.55</td>\n",
       "      <td>3.26</td>\n",
       "      <td>5.7</td>\n",
       "      <td>16.0</td>\n",
       "      <td>22.0</td>\n",
       "      <td>59.0</td>\n",
       "      <td>37.0</td>\n",
       "      <td>0.6</td>\n",
       "      <td>17.2</td>\n",
       "      <td>49.9</td>\n",
       "      <td>...</td>\n",
       "      <td>31.1</td>\n",
       "      <td>34.3</td>\n",
       "      <td>7.2</td>\n",
       "      <td>4.9</td>\n",
       "      <td>1.0</td>\n",
       "      <td>0.8</td>\n",
       "      <td>0.4</td>\n",
       "      <td>0.1</td>\n",
       "      <td>17.6</td>\n",
       "      <td>237.0</td>\n",
       "    </tr>\n",
       "    <tr>\n",
       "      <th>4</th>\n",
       "      <td>2.20</td>\n",
       "      <td>5.20</td>\n",
       "      <td>4.2</td>\n",
       "      <td>28.0</td>\n",
       "      <td>36.0</td>\n",
       "      <td>71.0</td>\n",
       "      <td>43.0</td>\n",
       "      <td>0.5</td>\n",
       "      <td>14.5</td>\n",
       "      <td>43.8</td>\n",
       "      <td>...</td>\n",
       "      <td>30.6</td>\n",
       "      <td>33.0</td>\n",
       "      <td>6.6</td>\n",
       "      <td>4.5</td>\n",
       "      <td>1.4</td>\n",
       "      <td>0.5</td>\n",
       "      <td>0.2</td>\n",
       "      <td>0.1</td>\n",
       "      <td>16.3</td>\n",
       "      <td>300.0</td>\n",
       "    </tr>\n",
       "    <tr>\n",
       "      <th>5</th>\n",
       "      <td>0.98</td>\n",
       "      <td>5.84</td>\n",
       "      <td>9.1</td>\n",
       "      <td>16.0</td>\n",
       "      <td>24.0</td>\n",
       "      <td>73.0</td>\n",
       "      <td>43.0</td>\n",
       "      <td>0.5</td>\n",
       "      <td>14.2</td>\n",
       "      <td>41.5</td>\n",
       "      <td>...</td>\n",
       "      <td>28.8</td>\n",
       "      <td>34.2</td>\n",
       "      <td>9.4</td>\n",
       "      <td>6.5</td>\n",
       "      <td>1.6</td>\n",
       "      <td>0.6</td>\n",
       "      <td>0.6</td>\n",
       "      <td>0.1</td>\n",
       "      <td>9.3</td>\n",
       "      <td>249.0</td>\n",
       "    </tr>\n",
       "    <tr>\n",
       "      <th>...</th>\n",
       "      <td>...</td>\n",
       "      <td>...</td>\n",
       "      <td>...</td>\n",
       "      <td>...</td>\n",
       "      <td>...</td>\n",
       "      <td>...</td>\n",
       "      <td>...</td>\n",
       "      <td>...</td>\n",
       "      <td>...</td>\n",
       "      <td>...</td>\n",
       "      <td>...</td>\n",
       "      <td>...</td>\n",
       "      <td>...</td>\n",
       "      <td>...</td>\n",
       "      <td>...</td>\n",
       "      <td>...</td>\n",
       "      <td>...</td>\n",
       "      <td>...</td>\n",
       "      <td>...</td>\n",
       "      <td>...</td>\n",
       "      <td>...</td>\n",
       "    </tr>\n",
       "    <tr>\n",
       "      <th>4847</th>\n",
       "      <td>1.34</td>\n",
       "      <td>3.78</td>\n",
       "      <td>3.4</td>\n",
       "      <td>24.0</td>\n",
       "      <td>41.0</td>\n",
       "      <td>76.0</td>\n",
       "      <td>50.0</td>\n",
       "      <td>0.9</td>\n",
       "      <td>13.1</td>\n",
       "      <td>37.9</td>\n",
       "      <td>...</td>\n",
       "      <td>32.2</td>\n",
       "      <td>34.5</td>\n",
       "      <td>4.2</td>\n",
       "      <td>2.3</td>\n",
       "      <td>1.4</td>\n",
       "      <td>0.3</td>\n",
       "      <td>0.1</td>\n",
       "      <td>0.0</td>\n",
       "      <td>22.6</td>\n",
       "      <td>183.0</td>\n",
       "    </tr>\n",
       "    <tr>\n",
       "      <th>4848</th>\n",
       "      <td>1.32</td>\n",
       "      <td>3.83</td>\n",
       "      <td>4.9</td>\n",
       "      <td>21.0</td>\n",
       "      <td>23.0</td>\n",
       "      <td>68.0</td>\n",
       "      <td>44.0</td>\n",
       "      <td>0.9</td>\n",
       "      <td>14.3</td>\n",
       "      <td>39.2</td>\n",
       "      <td>...</td>\n",
       "      <td>34.1</td>\n",
       "      <td>36.3</td>\n",
       "      <td>7.7</td>\n",
       "      <td>4.7</td>\n",
       "      <td>2.3</td>\n",
       "      <td>0.5</td>\n",
       "      <td>0.2</td>\n",
       "      <td>0.1</td>\n",
       "      <td>30.8</td>\n",
       "      <td>166.0</td>\n",
       "    </tr>\n",
       "    <tr>\n",
       "      <th>4851</th>\n",
       "      <td>1.45</td>\n",
       "      <td>6.21</td>\n",
       "      <td>4.7</td>\n",
       "      <td>15.0</td>\n",
       "      <td>20.0</td>\n",
       "      <td>75.0</td>\n",
       "      <td>39.0</td>\n",
       "      <td>0.4</td>\n",
       "      <td>13.3</td>\n",
       "      <td>39.5</td>\n",
       "      <td>...</td>\n",
       "      <td>30.0</td>\n",
       "      <td>33.7</td>\n",
       "      <td>6.0</td>\n",
       "      <td>3.9</td>\n",
       "      <td>1.6</td>\n",
       "      <td>0.4</td>\n",
       "      <td>0.0</td>\n",
       "      <td>0.1</td>\n",
       "      <td>14.0</td>\n",
       "      <td>212.0</td>\n",
       "    </tr>\n",
       "    <tr>\n",
       "      <th>4852</th>\n",
       "      <td>1.19</td>\n",
       "      <td>4.65</td>\n",
       "      <td>5.3</td>\n",
       "      <td>42.0</td>\n",
       "      <td>35.0</td>\n",
       "      <td>83.0</td>\n",
       "      <td>45.0</td>\n",
       "      <td>0.5</td>\n",
       "      <td>14.8</td>\n",
       "      <td>42.7</td>\n",
       "      <td>...</td>\n",
       "      <td>28.9</td>\n",
       "      <td>34.5</td>\n",
       "      <td>6.3</td>\n",
       "      <td>2.6</td>\n",
       "      <td>2.9</td>\n",
       "      <td>0.4</td>\n",
       "      <td>0.3</td>\n",
       "      <td>0.0</td>\n",
       "      <td>17.2</td>\n",
       "      <td>263.0</td>\n",
       "    </tr>\n",
       "    <tr>\n",
       "      <th>4853</th>\n",
       "      <td>1.16</td>\n",
       "      <td>7.32</td>\n",
       "      <td>5.8</td>\n",
       "      <td>55.0</td>\n",
       "      <td>54.0</td>\n",
       "      <td>74.0</td>\n",
       "      <td>44.0</td>\n",
       "      <td>0.8</td>\n",
       "      <td>15.0</td>\n",
       "      <td>46.4</td>\n",
       "      <td>...</td>\n",
       "      <td>29.9</td>\n",
       "      <td>32.3</td>\n",
       "      <td>6.1</td>\n",
       "      <td>4.0</td>\n",
       "      <td>1.4</td>\n",
       "      <td>0.5</td>\n",
       "      <td>0.1</td>\n",
       "      <td>0.0</td>\n",
       "      <td>13.4</td>\n",
       "      <td>225.0</td>\n",
       "    </tr>\n",
       "  </tbody>\n",
       "</table>\n",
       "<p>3200 rows × 22 columns</p>\n",
       "</div>"
      ],
      "text/plain": [
       "      LBDHDDSI  LBDTCSI  LBXSUA  LBXSATSI  LBXSASSI  LBDSTPSI  LBDSALSI  \\\n",
       "0         1.68     4.32     3.3      16.0      16.0      65.0      41.0   \n",
       "1         1.29     4.40     4.7      29.0      18.0      78.0      47.0   \n",
       "2         1.55     3.26     5.7      16.0      22.0      59.0      37.0   \n",
       "4         2.20     5.20     4.2      28.0      36.0      71.0      43.0   \n",
       "5         0.98     5.84     9.1      16.0      24.0      73.0      43.0   \n",
       "...        ...      ...     ...       ...       ...       ...       ...   \n",
       "4847      1.34     3.78     3.4      24.0      41.0      76.0      50.0   \n",
       "4848      1.32     3.83     4.9      21.0      23.0      68.0      44.0   \n",
       "4851      1.45     6.21     4.7      15.0      20.0      75.0      39.0   \n",
       "4852      1.19     4.65     5.3      42.0      35.0      83.0      45.0   \n",
       "4853      1.16     7.32     5.8      55.0      54.0      74.0      44.0   \n",
       "\n",
       "      LBXSTB  LBXHGB  LBXHCT  ...  LBXMCHSI  LBXMC  LBXWBCSI  LBDNENO  \\\n",
       "0        0.8    15.2    45.4  ...      29.9   33.4       4.7      2.0   \n",
       "1        0.9    11.9    36.7  ...      31.0   32.5      12.6      7.4   \n",
       "2        0.6    17.2    49.9  ...      31.1   34.3       7.2      4.9   \n",
       "4        0.5    14.5    43.8  ...      30.6   33.0       6.6      4.5   \n",
       "5        0.5    14.2    41.5  ...      28.8   34.2       9.4      6.5   \n",
       "...      ...     ...     ...  ...       ...    ...       ...      ...   \n",
       "4847     0.9    13.1    37.9  ...      32.2   34.5       4.2      2.3   \n",
       "4848     0.9    14.3    39.2  ...      34.1   36.3       7.7      4.7   \n",
       "4851     0.4    13.3    39.5  ...      30.0   33.7       6.0      3.9   \n",
       "4852     0.5    14.8    42.7  ...      28.9   34.5       6.3      2.6   \n",
       "4853     0.8    15.0    46.4  ...      29.9   32.3       6.1      4.0   \n",
       "\n",
       "      LBDLYMNO  LBDMONO  LBDEONO  LBDBANO  LBDSIRSI  LBXPLTSI  \n",
       "0          2.0      0.5      0.2      0.1      10.4     204.0  \n",
       "1          3.4      1.0      0.8      0.1      14.1     314.0  \n",
       "2          1.0      0.8      0.4      0.1      17.6     237.0  \n",
       "4          1.4      0.5      0.2      0.1      16.3     300.0  \n",
       "5          1.6      0.6      0.6      0.1       9.3     249.0  \n",
       "...        ...      ...      ...      ...       ...       ...  \n",
       "4847       1.4      0.3      0.1      0.0      22.6     183.0  \n",
       "4848       2.3      0.5      0.2      0.1      30.8     166.0  \n",
       "4851       1.6      0.4      0.0      0.1      14.0     212.0  \n",
       "4852       2.9      0.4      0.3      0.0      17.2     263.0  \n",
       "4853       1.4      0.5      0.1      0.0      13.4     225.0  \n",
       "\n",
       "[3200 rows x 22 columns]"
      ]
     },
     "execution_count": 138,
     "metadata": {},
     "output_type": "execute_result"
    }
   ],
   "source": [
    "df1"
   ]
  },
  {
   "cell_type": "code",
   "execution_count": 139,
   "id": "55231c11",
   "metadata": {
    "scrolled": true
   },
   "outputs": [
    {
     "data": {
      "text/html": [
       "<div>\n",
       "<style scoped>\n",
       "    .dataframe tbody tr th:only-of-type {\n",
       "        vertical-align: middle;\n",
       "    }\n",
       "\n",
       "    .dataframe tbody tr th {\n",
       "        vertical-align: top;\n",
       "    }\n",
       "\n",
       "    .dataframe thead th {\n",
       "        text-align: right;\n",
       "    }\n",
       "</style>\n",
       "<table border=\"1\" class=\"dataframe\">\n",
       "  <thead>\n",
       "    <tr style=\"text-align: right;\">\n",
       "      <th></th>\n",
       "      <th>LBDHDDSI</th>\n",
       "      <th>LBDTCSI</th>\n",
       "      <th>LBXSUA</th>\n",
       "      <th>LBXSATSI</th>\n",
       "      <th>LBXSASSI</th>\n",
       "      <th>LBDSTPSI</th>\n",
       "      <th>LBDSALSI</th>\n",
       "      <th>LBXSTB</th>\n",
       "      <th>LBXHGB</th>\n",
       "      <th>LBXHCT</th>\n",
       "      <th>...</th>\n",
       "      <th>LBXMCHSI</th>\n",
       "      <th>LBXMC</th>\n",
       "      <th>LBXWBCSI</th>\n",
       "      <th>LBDNENO</th>\n",
       "      <th>LBDLYMNO</th>\n",
       "      <th>LBDMONO</th>\n",
       "      <th>LBDEONO</th>\n",
       "      <th>LBDBANO</th>\n",
       "      <th>LBDSIRSI</th>\n",
       "      <th>LBXPLTSI</th>\n",
       "    </tr>\n",
       "  </thead>\n",
       "  <tbody>\n",
       "    <tr>\n",
       "      <th>4854</th>\n",
       "      <td>1.73</td>\n",
       "      <td>3.34</td>\n",
       "      <td>4.6</td>\n",
       "      <td>53.0</td>\n",
       "      <td>162.0</td>\n",
       "      <td>66.0</td>\n",
       "      <td>43.0</td>\n",
       "      <td>0.4</td>\n",
       "      <td>12.9</td>\n",
       "      <td>36.9</td>\n",
       "      <td>...</td>\n",
       "      <td>31.5</td>\n",
       "      <td>34.9</td>\n",
       "      <td>6.6</td>\n",
       "      <td>3.0</td>\n",
       "      <td>2.6</td>\n",
       "      <td>0.3</td>\n",
       "      <td>0.7</td>\n",
       "      <td>0.0</td>\n",
       "      <td>23.1</td>\n",
       "      <td>139.0</td>\n",
       "    </tr>\n",
       "    <tr>\n",
       "      <th>4855</th>\n",
       "      <td>1.24</td>\n",
       "      <td>5.12</td>\n",
       "      <td>6.4</td>\n",
       "      <td>23.0</td>\n",
       "      <td>23.0</td>\n",
       "      <td>63.0</td>\n",
       "      <td>42.0</td>\n",
       "      <td>1.2</td>\n",
       "      <td>14.5</td>\n",
       "      <td>41.3</td>\n",
       "      <td>...</td>\n",
       "      <td>31.5</td>\n",
       "      <td>35.0</td>\n",
       "      <td>5.0</td>\n",
       "      <td>3.1</td>\n",
       "      <td>1.3</td>\n",
       "      <td>0.4</td>\n",
       "      <td>0.1</td>\n",
       "      <td>0.0</td>\n",
       "      <td>13.4</td>\n",
       "      <td>193.0</td>\n",
       "    </tr>\n",
       "    <tr>\n",
       "      <th>4859</th>\n",
       "      <td>0.96</td>\n",
       "      <td>5.48</td>\n",
       "      <td>9.1</td>\n",
       "      <td>48.0</td>\n",
       "      <td>36.0</td>\n",
       "      <td>70.0</td>\n",
       "      <td>43.0</td>\n",
       "      <td>1.6</td>\n",
       "      <td>15.8</td>\n",
       "      <td>46.9</td>\n",
       "      <td>...</td>\n",
       "      <td>28.4</td>\n",
       "      <td>33.6</td>\n",
       "      <td>10.9</td>\n",
       "      <td>6.0</td>\n",
       "      <td>4.0</td>\n",
       "      <td>0.6</td>\n",
       "      <td>0.1</td>\n",
       "      <td>0.1</td>\n",
       "      <td>20.2</td>\n",
       "      <td>266.0</td>\n",
       "    </tr>\n",
       "    <tr>\n",
       "      <th>4861</th>\n",
       "      <td>1.09</td>\n",
       "      <td>4.22</td>\n",
       "      <td>5.3</td>\n",
       "      <td>19.0</td>\n",
       "      <td>24.0</td>\n",
       "      <td>73.0</td>\n",
       "      <td>41.0</td>\n",
       "      <td>0.8</td>\n",
       "      <td>16.8</td>\n",
       "      <td>48.6</td>\n",
       "      <td>...</td>\n",
       "      <td>32.1</td>\n",
       "      <td>34.5</td>\n",
       "      <td>7.7</td>\n",
       "      <td>3.8</td>\n",
       "      <td>2.9</td>\n",
       "      <td>0.8</td>\n",
       "      <td>0.2</td>\n",
       "      <td>0.0</td>\n",
       "      <td>23.3</td>\n",
       "      <td>285.0</td>\n",
       "    </tr>\n",
       "    <tr>\n",
       "      <th>4862</th>\n",
       "      <td>0.80</td>\n",
       "      <td>3.96</td>\n",
       "      <td>6.1</td>\n",
       "      <td>21.0</td>\n",
       "      <td>20.0</td>\n",
       "      <td>63.0</td>\n",
       "      <td>40.0</td>\n",
       "      <td>0.3</td>\n",
       "      <td>10.7</td>\n",
       "      <td>31.0</td>\n",
       "      <td>...</td>\n",
       "      <td>28.2</td>\n",
       "      <td>34.5</td>\n",
       "      <td>11.2</td>\n",
       "      <td>9.0</td>\n",
       "      <td>0.9</td>\n",
       "      <td>0.8</td>\n",
       "      <td>0.5</td>\n",
       "      <td>0.0</td>\n",
       "      <td>8.8</td>\n",
       "      <td>207.0</td>\n",
       "    </tr>\n",
       "    <tr>\n",
       "      <th>...</th>\n",
       "      <td>...</td>\n",
       "      <td>...</td>\n",
       "      <td>...</td>\n",
       "      <td>...</td>\n",
       "      <td>...</td>\n",
       "      <td>...</td>\n",
       "      <td>...</td>\n",
       "      <td>...</td>\n",
       "      <td>...</td>\n",
       "      <td>...</td>\n",
       "      <td>...</td>\n",
       "      <td>...</td>\n",
       "      <td>...</td>\n",
       "      <td>...</td>\n",
       "      <td>...</td>\n",
       "      <td>...</td>\n",
       "      <td>...</td>\n",
       "      <td>...</td>\n",
       "      <td>...</td>\n",
       "      <td>...</td>\n",
       "      <td>...</td>\n",
       "    </tr>\n",
       "    <tr>\n",
       "      <th>9802</th>\n",
       "      <td>1.42</td>\n",
       "      <td>3.57</td>\n",
       "      <td>5.7</td>\n",
       "      <td>47.0</td>\n",
       "      <td>24.0</td>\n",
       "      <td>70.0</td>\n",
       "      <td>44.0</td>\n",
       "      <td>0.7</td>\n",
       "      <td>14.4</td>\n",
       "      <td>41.9</td>\n",
       "      <td>...</td>\n",
       "      <td>32.2</td>\n",
       "      <td>34.4</td>\n",
       "      <td>6.8</td>\n",
       "      <td>4.4</td>\n",
       "      <td>1.4</td>\n",
       "      <td>0.6</td>\n",
       "      <td>0.3</td>\n",
       "      <td>0.1</td>\n",
       "      <td>16.1</td>\n",
       "      <td>152.0</td>\n",
       "    </tr>\n",
       "    <tr>\n",
       "      <th>9804</th>\n",
       "      <td>1.27</td>\n",
       "      <td>4.81</td>\n",
       "      <td>4.2</td>\n",
       "      <td>23.0</td>\n",
       "      <td>24.0</td>\n",
       "      <td>78.0</td>\n",
       "      <td>41.0</td>\n",
       "      <td>0.7</td>\n",
       "      <td>14.3</td>\n",
       "      <td>40.1</td>\n",
       "      <td>...</td>\n",
       "      <td>35.2</td>\n",
       "      <td>35.5</td>\n",
       "      <td>7.7</td>\n",
       "      <td>3.9</td>\n",
       "      <td>2.9</td>\n",
       "      <td>0.8</td>\n",
       "      <td>0.1</td>\n",
       "      <td>0.0</td>\n",
       "      <td>15.8</td>\n",
       "      <td>181.0</td>\n",
       "    </tr>\n",
       "    <tr>\n",
       "      <th>9805</th>\n",
       "      <td>1.32</td>\n",
       "      <td>4.06</td>\n",
       "      <td>6.1</td>\n",
       "      <td>12.0</td>\n",
       "      <td>20.0</td>\n",
       "      <td>60.0</td>\n",
       "      <td>38.0</td>\n",
       "      <td>0.5</td>\n",
       "      <td>11.8</td>\n",
       "      <td>34.8</td>\n",
       "      <td>...</td>\n",
       "      <td>31.8</td>\n",
       "      <td>33.9</td>\n",
       "      <td>6.1</td>\n",
       "      <td>4.2</td>\n",
       "      <td>1.2</td>\n",
       "      <td>0.6</td>\n",
       "      <td>0.1</td>\n",
       "      <td>0.1</td>\n",
       "      <td>15.0</td>\n",
       "      <td>180.0</td>\n",
       "    </tr>\n",
       "    <tr>\n",
       "      <th>9808</th>\n",
       "      <td>1.42</td>\n",
       "      <td>4.91</td>\n",
       "      <td>5.3</td>\n",
       "      <td>26.0</td>\n",
       "      <td>27.0</td>\n",
       "      <td>75.0</td>\n",
       "      <td>49.0</td>\n",
       "      <td>0.9</td>\n",
       "      <td>14.9</td>\n",
       "      <td>45.1</td>\n",
       "      <td>...</td>\n",
       "      <td>29.3</td>\n",
       "      <td>32.9</td>\n",
       "      <td>5.1</td>\n",
       "      <td>2.9</td>\n",
       "      <td>1.6</td>\n",
       "      <td>0.3</td>\n",
       "      <td>0.2</td>\n",
       "      <td>0.0</td>\n",
       "      <td>13.1</td>\n",
       "      <td>226.0</td>\n",
       "    </tr>\n",
       "    <tr>\n",
       "      <th>9810</th>\n",
       "      <td>1.24</td>\n",
       "      <td>3.93</td>\n",
       "      <td>5.3</td>\n",
       "      <td>13.0</td>\n",
       "      <td>26.0</td>\n",
       "      <td>67.0</td>\n",
       "      <td>41.0</td>\n",
       "      <td>0.2</td>\n",
       "      <td>12.2</td>\n",
       "      <td>37.1</td>\n",
       "      <td>...</td>\n",
       "      <td>29.2</td>\n",
       "      <td>32.8</td>\n",
       "      <td>6.4</td>\n",
       "      <td>3.2</td>\n",
       "      <td>2.5</td>\n",
       "      <td>0.6</td>\n",
       "      <td>0.1</td>\n",
       "      <td>0.0</td>\n",
       "      <td>8.8</td>\n",
       "      <td>213.0</td>\n",
       "    </tr>\n",
       "  </tbody>\n",
       "</table>\n",
       "<p>3347 rows × 22 columns</p>\n",
       "</div>"
      ],
      "text/plain": [
       "      LBDHDDSI  LBDTCSI  LBXSUA  LBXSATSI  LBXSASSI  LBDSTPSI  LBDSALSI  \\\n",
       "4854      1.73     3.34     4.6      53.0     162.0      66.0      43.0   \n",
       "4855      1.24     5.12     6.4      23.0      23.0      63.0      42.0   \n",
       "4859      0.96     5.48     9.1      48.0      36.0      70.0      43.0   \n",
       "4861      1.09     4.22     5.3      19.0      24.0      73.0      41.0   \n",
       "4862      0.80     3.96     6.1      21.0      20.0      63.0      40.0   \n",
       "...        ...      ...     ...       ...       ...       ...       ...   \n",
       "9802      1.42     3.57     5.7      47.0      24.0      70.0      44.0   \n",
       "9804      1.27     4.81     4.2      23.0      24.0      78.0      41.0   \n",
       "9805      1.32     4.06     6.1      12.0      20.0      60.0      38.0   \n",
       "9808      1.42     4.91     5.3      26.0      27.0      75.0      49.0   \n",
       "9810      1.24     3.93     5.3      13.0      26.0      67.0      41.0   \n",
       "\n",
       "      LBXSTB  LBXHGB  LBXHCT  ...  LBXMCHSI  LBXMC  LBXWBCSI  LBDNENO  \\\n",
       "4854     0.4    12.9    36.9  ...      31.5   34.9       6.6      3.0   \n",
       "4855     1.2    14.5    41.3  ...      31.5   35.0       5.0      3.1   \n",
       "4859     1.6    15.8    46.9  ...      28.4   33.6      10.9      6.0   \n",
       "4861     0.8    16.8    48.6  ...      32.1   34.5       7.7      3.8   \n",
       "4862     0.3    10.7    31.0  ...      28.2   34.5      11.2      9.0   \n",
       "...      ...     ...     ...  ...       ...    ...       ...      ...   \n",
       "9802     0.7    14.4    41.9  ...      32.2   34.4       6.8      4.4   \n",
       "9804     0.7    14.3    40.1  ...      35.2   35.5       7.7      3.9   \n",
       "9805     0.5    11.8    34.8  ...      31.8   33.9       6.1      4.2   \n",
       "9808     0.9    14.9    45.1  ...      29.3   32.9       5.1      2.9   \n",
       "9810     0.2    12.2    37.1  ...      29.2   32.8       6.4      3.2   \n",
       "\n",
       "      LBDLYMNO  LBDMONO  LBDEONO  LBDBANO  LBDSIRSI  LBXPLTSI  \n",
       "4854       2.6      0.3      0.7      0.0      23.1     139.0  \n",
       "4855       1.3      0.4      0.1      0.0      13.4     193.0  \n",
       "4859       4.0      0.6      0.1      0.1      20.2     266.0  \n",
       "4861       2.9      0.8      0.2      0.0      23.3     285.0  \n",
       "4862       0.9      0.8      0.5      0.0       8.8     207.0  \n",
       "...        ...      ...      ...      ...       ...       ...  \n",
       "9802       1.4      0.6      0.3      0.1      16.1     152.0  \n",
       "9804       2.9      0.8      0.1      0.0      15.8     181.0  \n",
       "9805       1.2      0.6      0.1      0.1      15.0     180.0  \n",
       "9808       1.6      0.3      0.2      0.0      13.1     226.0  \n",
       "9810       2.5      0.6      0.1      0.0       8.8     213.0  \n",
       "\n",
       "[3347 rows x 22 columns]"
      ]
     },
     "execution_count": 139,
     "metadata": {},
     "output_type": "execute_result"
    }
   ],
   "source": [
    "df2"
   ]
  },
  {
   "cell_type": "code",
   "execution_count": 141,
   "id": "91656e63",
   "metadata": {},
   "outputs": [
    {
     "name": "stderr",
     "output_type": "stream",
     "text": [
      "C:\\Users\\alex.padros\\AppData\\Local\\Temp\\4\\ipykernel_29928\\3182218849.py:1: FutureWarning: The default value of numeric_only in DataFrame.mean is deprecated. In a future version, it will default to False. In addition, specifying 'numeric_only=None' is deprecated. Select only valid columns or specify the value of numeric_only to silence this warning.\n",
      "  fidelity(df1, df2, k=3, c=100).agg('mean')\n"
     ]
    },
    {
     "data": {
      "text/plain": [
       "k                 3.000000\n",
       "tvd               0.797311\n",
       "mae               0.000345\n",
       "max               0.001624\n",
       "l1d               1.594622\n",
       "l2d               0.024751\n",
       "hellinger         0.847191\n",
       "jensen_shannon    0.527467\n",
       "dtype: float64"
      ]
     },
     "execution_count": 141,
     "metadata": {},
     "output_type": "execute_result"
    }
   ],
   "source": [
    "fidelity(df1, df2, k=3, c=100).agg('mean')"
   ]
  },
  {
   "cell_type": "code",
   "execution_count": null,
   "id": "ac2f4dc2",
   "metadata": {},
   "outputs": [],
   "source": []
  },
  {
   "cell_type": "code",
   "execution_count": null,
   "id": "2f9550a9",
   "metadata": {},
   "outputs": [],
   "source": []
  },
  {
   "cell_type": "code",
   "execution_count": null,
   "id": "ea33141e",
   "metadata": {},
   "outputs": [],
   "source": []
  },
  {
   "cell_type": "code",
   "execution_count": null,
   "id": "41176416",
   "metadata": {},
   "outputs": [],
   "source": []
  },
  {
   "cell_type": "code",
   "execution_count": null,
   "id": "de245215",
   "metadata": {},
   "outputs": [],
   "source": []
  },
  {
   "cell_type": "code",
   "execution_count": null,
   "id": "fde2453b",
   "metadata": {},
   "outputs": [],
   "source": []
  },
  {
   "cell_type": "code",
   "execution_count": null,
   "id": "9f51ec51",
   "metadata": {},
   "outputs": [],
   "source": []
  },
  {
   "cell_type": "code",
   "execution_count": null,
   "id": "b1233647",
   "metadata": {},
   "outputs": [],
   "source": []
  },
  {
   "cell_type": "code",
   "execution_count": null,
   "id": "5f580655",
   "metadata": {},
   "outputs": [],
   "source": []
  },
  {
   "cell_type": "code",
   "execution_count": null,
   "id": "7d59d7c9",
   "metadata": {},
   "outputs": [],
   "source": []
  },
  {
   "cell_type": "code",
   "execution_count": null,
   "id": "bdc40231",
   "metadata": {},
   "outputs": [],
   "source": []
  },
  {
   "cell_type": "code",
   "execution_count": null,
   "id": "6cf25ca6",
   "metadata": {},
   "outputs": [],
   "source": []
  }
 ],
 "metadata": {
  "kernelspec": {
   "display_name": "NSDE_GANS",
   "language": "python",
   "name": "nsde_gans"
  },
  "language_info": {
   "codemirror_mode": {
    "name": "ipython",
    "version": 3
   },
   "file_extension": ".py",
   "mimetype": "text/x-python",
   "name": "python",
   "nbconvert_exporter": "python",
   "pygments_lexer": "ipython3",
   "version": "3.10.11"
  }
 },
 "nbformat": 4,
 "nbformat_minor": 5
}
