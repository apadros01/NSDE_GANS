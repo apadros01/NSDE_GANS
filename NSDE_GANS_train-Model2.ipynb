{
 "cells": [
  {
   "cell_type": "code",
   "execution_count": 1,
   "id": "6eaeab05",
   "metadata": {},
   "outputs": [],
   "source": [
    "import numpy as np\n",
    "import pandas as pd\n",
    "import fire\n",
    "import matplotlib.pyplot as plt\n",
    "import torch\n",
    "import torch.optim.swa_utils as swa_utils\n",
    "import torchcde\n",
    "import torchsde\n",
    "import tqdm\n",
    "import funcions\n",
    "from funcions import Generator, Discriminator\n",
    "import json"
   ]
  },
  {
   "cell_type": "code",
   "execution_count": 2,
   "id": "eaa3fcc2",
   "metadata": {},
   "outputs": [],
   "source": [
    "demographic = pd.read_csv('demographic.csv')\n",
    "labs = pd.read_csv('labs.csv')"
   ]
  },
  {
   "cell_type": "markdown",
   "id": "8418f847",
   "metadata": {},
   "source": [
    "*Next step:* Hem de triar, pel dataset de demographic i pel de labs, algunes de les columnes. Pel de demographic, a vista, i pel de labs, les de l'excel amb les components d'un blood test."
   ]
  },
  {
   "cell_type": "code",
   "execution_count": 3,
   "id": "b1aaea45",
   "metadata": {
    "scrolled": true
   },
   "outputs": [
    {
     "data": {
      "text/html": [
       "<div>\n",
       "<style scoped>\n",
       "    .dataframe tbody tr th:only-of-type {\n",
       "        vertical-align: middle;\n",
       "    }\n",
       "\n",
       "    .dataframe tbody tr th {\n",
       "        vertical-align: top;\n",
       "    }\n",
       "\n",
       "    .dataframe thead th {\n",
       "        text-align: right;\n",
       "    }\n",
       "</style>\n",
       "<table border=\"1\" class=\"dataframe\">\n",
       "  <thead>\n",
       "    <tr style=\"text-align: right;\">\n",
       "      <th></th>\n",
       "      <th>SEQN</th>\n",
       "      <th>SDDSRVYR</th>\n",
       "      <th>RIDSTATR</th>\n",
       "      <th>RIAGENDR</th>\n",
       "      <th>RIDAGEYR</th>\n",
       "      <th>RIDAGEMN</th>\n",
       "      <th>RIDRETH1</th>\n",
       "      <th>RIDRETH3</th>\n",
       "      <th>RIDEXMON</th>\n",
       "      <th>RIDEXAGM</th>\n",
       "      <th>...</th>\n",
       "      <th>DMDHREDU</th>\n",
       "      <th>DMDHRMAR</th>\n",
       "      <th>DMDHSEDU</th>\n",
       "      <th>WTINT2YR</th>\n",
       "      <th>WTMEC2YR</th>\n",
       "      <th>SDMVPSU</th>\n",
       "      <th>SDMVSTRA</th>\n",
       "      <th>INDHHIN2</th>\n",
       "      <th>INDFMIN2</th>\n",
       "      <th>INDFMPIR</th>\n",
       "    </tr>\n",
       "  </thead>\n",
       "  <tbody>\n",
       "    <tr>\n",
       "      <th>0</th>\n",
       "      <td>73557</td>\n",
       "      <td>8</td>\n",
       "      <td>2</td>\n",
       "      <td>1</td>\n",
       "      <td>69</td>\n",
       "      <td>NaN</td>\n",
       "      <td>4</td>\n",
       "      <td>4</td>\n",
       "      <td>1.0</td>\n",
       "      <td>NaN</td>\n",
       "      <td>...</td>\n",
       "      <td>3.0</td>\n",
       "      <td>4.0</td>\n",
       "      <td>NaN</td>\n",
       "      <td>13281.237386</td>\n",
       "      <td>13481.042095</td>\n",
       "      <td>1</td>\n",
       "      <td>112</td>\n",
       "      <td>4.0</td>\n",
       "      <td>4.0</td>\n",
       "      <td>0.84</td>\n",
       "    </tr>\n",
       "    <tr>\n",
       "      <th>1</th>\n",
       "      <td>73558</td>\n",
       "      <td>8</td>\n",
       "      <td>2</td>\n",
       "      <td>1</td>\n",
       "      <td>54</td>\n",
       "      <td>NaN</td>\n",
       "      <td>3</td>\n",
       "      <td>3</td>\n",
       "      <td>1.0</td>\n",
       "      <td>NaN</td>\n",
       "      <td>...</td>\n",
       "      <td>3.0</td>\n",
       "      <td>1.0</td>\n",
       "      <td>1.0</td>\n",
       "      <td>23682.057386</td>\n",
       "      <td>24471.769625</td>\n",
       "      <td>1</td>\n",
       "      <td>108</td>\n",
       "      <td>7.0</td>\n",
       "      <td>7.0</td>\n",
       "      <td>1.78</td>\n",
       "    </tr>\n",
       "    <tr>\n",
       "      <th>2</th>\n",
       "      <td>73559</td>\n",
       "      <td>8</td>\n",
       "      <td>2</td>\n",
       "      <td>1</td>\n",
       "      <td>72</td>\n",
       "      <td>NaN</td>\n",
       "      <td>3</td>\n",
       "      <td>3</td>\n",
       "      <td>2.0</td>\n",
       "      <td>NaN</td>\n",
       "      <td>...</td>\n",
       "      <td>4.0</td>\n",
       "      <td>1.0</td>\n",
       "      <td>3.0</td>\n",
       "      <td>57214.803319</td>\n",
       "      <td>57193.285376</td>\n",
       "      <td>1</td>\n",
       "      <td>109</td>\n",
       "      <td>10.0</td>\n",
       "      <td>10.0</td>\n",
       "      <td>4.51</td>\n",
       "    </tr>\n",
       "    <tr>\n",
       "      <th>3</th>\n",
       "      <td>73560</td>\n",
       "      <td>8</td>\n",
       "      <td>2</td>\n",
       "      <td>1</td>\n",
       "      <td>9</td>\n",
       "      <td>NaN</td>\n",
       "      <td>3</td>\n",
       "      <td>3</td>\n",
       "      <td>1.0</td>\n",
       "      <td>119.0</td>\n",
       "      <td>...</td>\n",
       "      <td>3.0</td>\n",
       "      <td>1.0</td>\n",
       "      <td>4.0</td>\n",
       "      <td>55201.178592</td>\n",
       "      <td>55766.512438</td>\n",
       "      <td>2</td>\n",
       "      <td>109</td>\n",
       "      <td>9.0</td>\n",
       "      <td>9.0</td>\n",
       "      <td>2.52</td>\n",
       "    </tr>\n",
       "    <tr>\n",
       "      <th>4</th>\n",
       "      <td>73561</td>\n",
       "      <td>8</td>\n",
       "      <td>2</td>\n",
       "      <td>2</td>\n",
       "      <td>73</td>\n",
       "      <td>NaN</td>\n",
       "      <td>3</td>\n",
       "      <td>3</td>\n",
       "      <td>1.0</td>\n",
       "      <td>NaN</td>\n",
       "      <td>...</td>\n",
       "      <td>5.0</td>\n",
       "      <td>1.0</td>\n",
       "      <td>5.0</td>\n",
       "      <td>63709.667069</td>\n",
       "      <td>65541.871229</td>\n",
       "      <td>2</td>\n",
       "      <td>116</td>\n",
       "      <td>15.0</td>\n",
       "      <td>15.0</td>\n",
       "      <td>5.00</td>\n",
       "    </tr>\n",
       "    <tr>\n",
       "      <th>...</th>\n",
       "      <td>...</td>\n",
       "      <td>...</td>\n",
       "      <td>...</td>\n",
       "      <td>...</td>\n",
       "      <td>...</td>\n",
       "      <td>...</td>\n",
       "      <td>...</td>\n",
       "      <td>...</td>\n",
       "      <td>...</td>\n",
       "      <td>...</td>\n",
       "      <td>...</td>\n",
       "      <td>...</td>\n",
       "      <td>...</td>\n",
       "      <td>...</td>\n",
       "      <td>...</td>\n",
       "      <td>...</td>\n",
       "      <td>...</td>\n",
       "      <td>...</td>\n",
       "      <td>...</td>\n",
       "      <td>...</td>\n",
       "      <td>...</td>\n",
       "    </tr>\n",
       "    <tr>\n",
       "      <th>10170</th>\n",
       "      <td>83727</td>\n",
       "      <td>8</td>\n",
       "      <td>2</td>\n",
       "      <td>1</td>\n",
       "      <td>26</td>\n",
       "      <td>NaN</td>\n",
       "      <td>2</td>\n",
       "      <td>2</td>\n",
       "      <td>2.0</td>\n",
       "      <td>NaN</td>\n",
       "      <td>...</td>\n",
       "      <td>3.0</td>\n",
       "      <td>NaN</td>\n",
       "      <td>NaN</td>\n",
       "      <td>27141.631824</td>\n",
       "      <td>28115.568221</td>\n",
       "      <td>1</td>\n",
       "      <td>104</td>\n",
       "      <td>77.0</td>\n",
       "      <td>77.0</td>\n",
       "      <td>NaN</td>\n",
       "    </tr>\n",
       "    <tr>\n",
       "      <th>10171</th>\n",
       "      <td>83728</td>\n",
       "      <td>8</td>\n",
       "      <td>2</td>\n",
       "      <td>2</td>\n",
       "      <td>2</td>\n",
       "      <td>24.0</td>\n",
       "      <td>1</td>\n",
       "      <td>1</td>\n",
       "      <td>2.0</td>\n",
       "      <td>24.0</td>\n",
       "      <td>...</td>\n",
       "      <td>3.0</td>\n",
       "      <td>1.0</td>\n",
       "      <td>3.0</td>\n",
       "      <td>15274.475360</td>\n",
       "      <td>16512.138781</td>\n",
       "      <td>1</td>\n",
       "      <td>107</td>\n",
       "      <td>8.0</td>\n",
       "      <td>8.0</td>\n",
       "      <td>1.95</td>\n",
       "    </tr>\n",
       "    <tr>\n",
       "      <th>10172</th>\n",
       "      <td>83729</td>\n",
       "      <td>8</td>\n",
       "      <td>2</td>\n",
       "      <td>2</td>\n",
       "      <td>42</td>\n",
       "      <td>NaN</td>\n",
       "      <td>4</td>\n",
       "      <td>4</td>\n",
       "      <td>2.0</td>\n",
       "      <td>NaN</td>\n",
       "      <td>...</td>\n",
       "      <td>5.0</td>\n",
       "      <td>3.0</td>\n",
       "      <td>NaN</td>\n",
       "      <td>24122.248900</td>\n",
       "      <td>26902.344381</td>\n",
       "      <td>1</td>\n",
       "      <td>104</td>\n",
       "      <td>7.0</td>\n",
       "      <td>7.0</td>\n",
       "      <td>3.66</td>\n",
       "    </tr>\n",
       "    <tr>\n",
       "      <th>10173</th>\n",
       "      <td>83730</td>\n",
       "      <td>8</td>\n",
       "      <td>2</td>\n",
       "      <td>1</td>\n",
       "      <td>7</td>\n",
       "      <td>NaN</td>\n",
       "      <td>2</td>\n",
       "      <td>2</td>\n",
       "      <td>1.0</td>\n",
       "      <td>84.0</td>\n",
       "      <td>...</td>\n",
       "      <td>4.0</td>\n",
       "      <td>1.0</td>\n",
       "      <td>3.0</td>\n",
       "      <td>25521.878546</td>\n",
       "      <td>26686.025573</td>\n",
       "      <td>2</td>\n",
       "      <td>109</td>\n",
       "      <td>6.0</td>\n",
       "      <td>6.0</td>\n",
       "      <td>1.05</td>\n",
       "    </tr>\n",
       "    <tr>\n",
       "      <th>10174</th>\n",
       "      <td>83731</td>\n",
       "      <td>8</td>\n",
       "      <td>2</td>\n",
       "      <td>1</td>\n",
       "      <td>11</td>\n",
       "      <td>NaN</td>\n",
       "      <td>5</td>\n",
       "      <td>6</td>\n",
       "      <td>1.0</td>\n",
       "      <td>140.0</td>\n",
       "      <td>...</td>\n",
       "      <td>5.0</td>\n",
       "      <td>1.0</td>\n",
       "      <td>5.0</td>\n",
       "      <td>8930.180154</td>\n",
       "      <td>9700.873491</td>\n",
       "      <td>2</td>\n",
       "      <td>106</td>\n",
       "      <td>15.0</td>\n",
       "      <td>15.0</td>\n",
       "      <td>5.00</td>\n",
       "    </tr>\n",
       "  </tbody>\n",
       "</table>\n",
       "<p>10175 rows × 47 columns</p>\n",
       "</div>"
      ],
      "text/plain": [
       "        SEQN  SDDSRVYR  RIDSTATR  RIAGENDR  RIDAGEYR  RIDAGEMN  RIDRETH1  \\\n",
       "0      73557         8         2         1        69       NaN         4   \n",
       "1      73558         8         2         1        54       NaN         3   \n",
       "2      73559         8         2         1        72       NaN         3   \n",
       "3      73560         8         2         1         9       NaN         3   \n",
       "4      73561         8         2         2        73       NaN         3   \n",
       "...      ...       ...       ...       ...       ...       ...       ...   \n",
       "10170  83727         8         2         1        26       NaN         2   \n",
       "10171  83728         8         2         2         2      24.0         1   \n",
       "10172  83729         8         2         2        42       NaN         4   \n",
       "10173  83730         8         2         1         7       NaN         2   \n",
       "10174  83731         8         2         1        11       NaN         5   \n",
       "\n",
       "       RIDRETH3  RIDEXMON  RIDEXAGM  ...  DMDHREDU  DMDHRMAR  DMDHSEDU  \\\n",
       "0             4       1.0       NaN  ...       3.0       4.0       NaN   \n",
       "1             3       1.0       NaN  ...       3.0       1.0       1.0   \n",
       "2             3       2.0       NaN  ...       4.0       1.0       3.0   \n",
       "3             3       1.0     119.0  ...       3.0       1.0       4.0   \n",
       "4             3       1.0       NaN  ...       5.0       1.0       5.0   \n",
       "...         ...       ...       ...  ...       ...       ...       ...   \n",
       "10170         2       2.0       NaN  ...       3.0       NaN       NaN   \n",
       "10171         1       2.0      24.0  ...       3.0       1.0       3.0   \n",
       "10172         4       2.0       NaN  ...       5.0       3.0       NaN   \n",
       "10173         2       1.0      84.0  ...       4.0       1.0       3.0   \n",
       "10174         6       1.0     140.0  ...       5.0       1.0       5.0   \n",
       "\n",
       "           WTINT2YR      WTMEC2YR  SDMVPSU  SDMVSTRA  INDHHIN2  INDFMIN2  \\\n",
       "0      13281.237386  13481.042095        1       112       4.0       4.0   \n",
       "1      23682.057386  24471.769625        1       108       7.0       7.0   \n",
       "2      57214.803319  57193.285376        1       109      10.0      10.0   \n",
       "3      55201.178592  55766.512438        2       109       9.0       9.0   \n",
       "4      63709.667069  65541.871229        2       116      15.0      15.0   \n",
       "...             ...           ...      ...       ...       ...       ...   \n",
       "10170  27141.631824  28115.568221        1       104      77.0      77.0   \n",
       "10171  15274.475360  16512.138781        1       107       8.0       8.0   \n",
       "10172  24122.248900  26902.344381        1       104       7.0       7.0   \n",
       "10173  25521.878546  26686.025573        2       109       6.0       6.0   \n",
       "10174   8930.180154   9700.873491        2       106      15.0      15.0   \n",
       "\n",
       "       INDFMPIR  \n",
       "0          0.84  \n",
       "1          1.78  \n",
       "2          4.51  \n",
       "3          2.52  \n",
       "4          5.00  \n",
       "...         ...  \n",
       "10170       NaN  \n",
       "10171      1.95  \n",
       "10172      3.66  \n",
       "10173      1.05  \n",
       "10174      5.00  \n",
       "\n",
       "[10175 rows x 47 columns]"
      ]
     },
     "execution_count": 3,
     "metadata": {},
     "output_type": "execute_result"
    }
   ],
   "source": [
    "demographic"
   ]
  },
  {
   "cell_type": "code",
   "execution_count": 4,
   "id": "b529a777",
   "metadata": {},
   "outputs": [
    {
     "data": {
      "text/html": [
       "<div>\n",
       "<style scoped>\n",
       "    .dataframe tbody tr th:only-of-type {\n",
       "        vertical-align: middle;\n",
       "    }\n",
       "\n",
       "    .dataframe tbody tr th {\n",
       "        vertical-align: top;\n",
       "    }\n",
       "\n",
       "    .dataframe thead th {\n",
       "        text-align: right;\n",
       "    }\n",
       "</style>\n",
       "<table border=\"1\" class=\"dataframe\">\n",
       "  <thead>\n",
       "    <tr style=\"text-align: right;\">\n",
       "      <th></th>\n",
       "      <th>SEQN</th>\n",
       "      <th>DMDBORN4</th>\n",
       "      <th>RIDAGEYR</th>\n",
       "      <th>RIAGENDR</th>\n",
       "      <th>RIDEXPRG</th>\n",
       "      <th>RIDRETH3</th>\n",
       "    </tr>\n",
       "  </thead>\n",
       "  <tbody>\n",
       "    <tr>\n",
       "      <th>0</th>\n",
       "      <td>73557</td>\n",
       "      <td>1</td>\n",
       "      <td>69</td>\n",
       "      <td>1</td>\n",
       "      <td>NaN</td>\n",
       "      <td>4</td>\n",
       "    </tr>\n",
       "    <tr>\n",
       "      <th>1</th>\n",
       "      <td>73558</td>\n",
       "      <td>1</td>\n",
       "      <td>54</td>\n",
       "      <td>1</td>\n",
       "      <td>NaN</td>\n",
       "      <td>3</td>\n",
       "    </tr>\n",
       "    <tr>\n",
       "      <th>2</th>\n",
       "      <td>73559</td>\n",
       "      <td>1</td>\n",
       "      <td>72</td>\n",
       "      <td>1</td>\n",
       "      <td>NaN</td>\n",
       "      <td>3</td>\n",
       "    </tr>\n",
       "    <tr>\n",
       "      <th>3</th>\n",
       "      <td>73560</td>\n",
       "      <td>1</td>\n",
       "      <td>9</td>\n",
       "      <td>1</td>\n",
       "      <td>NaN</td>\n",
       "      <td>3</td>\n",
       "    </tr>\n",
       "    <tr>\n",
       "      <th>4</th>\n",
       "      <td>73561</td>\n",
       "      <td>1</td>\n",
       "      <td>73</td>\n",
       "      <td>2</td>\n",
       "      <td>NaN</td>\n",
       "      <td>3</td>\n",
       "    </tr>\n",
       "    <tr>\n",
       "      <th>...</th>\n",
       "      <td>...</td>\n",
       "      <td>...</td>\n",
       "      <td>...</td>\n",
       "      <td>...</td>\n",
       "      <td>...</td>\n",
       "      <td>...</td>\n",
       "    </tr>\n",
       "    <tr>\n",
       "      <th>10170</th>\n",
       "      <td>83727</td>\n",
       "      <td>1</td>\n",
       "      <td>26</td>\n",
       "      <td>1</td>\n",
       "      <td>NaN</td>\n",
       "      <td>2</td>\n",
       "    </tr>\n",
       "    <tr>\n",
       "      <th>10171</th>\n",
       "      <td>83728</td>\n",
       "      <td>1</td>\n",
       "      <td>2</td>\n",
       "      <td>2</td>\n",
       "      <td>NaN</td>\n",
       "      <td>1</td>\n",
       "    </tr>\n",
       "    <tr>\n",
       "      <th>10172</th>\n",
       "      <td>83729</td>\n",
       "      <td>2</td>\n",
       "      <td>42</td>\n",
       "      <td>2</td>\n",
       "      <td>2.0</td>\n",
       "      <td>4</td>\n",
       "    </tr>\n",
       "    <tr>\n",
       "      <th>10173</th>\n",
       "      <td>83730</td>\n",
       "      <td>1</td>\n",
       "      <td>7</td>\n",
       "      <td>1</td>\n",
       "      <td>NaN</td>\n",
       "      <td>2</td>\n",
       "    </tr>\n",
       "    <tr>\n",
       "      <th>10174</th>\n",
       "      <td>83731</td>\n",
       "      <td>1</td>\n",
       "      <td>11</td>\n",
       "      <td>1</td>\n",
       "      <td>NaN</td>\n",
       "      <td>6</td>\n",
       "    </tr>\n",
       "  </tbody>\n",
       "</table>\n",
       "<p>10175 rows × 6 columns</p>\n",
       "</div>"
      ],
      "text/plain": [
       "        SEQN  DMDBORN4  RIDAGEYR  RIAGENDR  RIDEXPRG  RIDRETH3\n",
       "0      73557         1        69         1       NaN         4\n",
       "1      73558         1        54         1       NaN         3\n",
       "2      73559         1        72         1       NaN         3\n",
       "3      73560         1         9         1       NaN         3\n",
       "4      73561         1        73         2       NaN         3\n",
       "...      ...       ...       ...       ...       ...       ...\n",
       "10170  83727         1        26         1       NaN         2\n",
       "10171  83728         1         2         2       NaN         1\n",
       "10172  83729         2        42         2       2.0         4\n",
       "10173  83730         1         7         1       NaN         2\n",
       "10174  83731         1        11         1       NaN         6\n",
       "\n",
       "[10175 rows x 6 columns]"
      ]
     },
     "execution_count": 4,
     "metadata": {},
     "output_type": "execute_result"
    }
   ],
   "source": [
    "demographic = demographic[['SEQN','DMDBORN4','RIDAGEYR','RIAGENDR','RIDEXPRG','RIDRETH3']]\n",
    "demographic"
   ]
  },
  {
   "cell_type": "code",
   "execution_count": 5,
   "id": "cc2da061",
   "metadata": {},
   "outputs": [
    {
     "data": {
      "text/html": [
       "<div>\n",
       "<style scoped>\n",
       "    .dataframe tbody tr th:only-of-type {\n",
       "        vertical-align: middle;\n",
       "    }\n",
       "\n",
       "    .dataframe tbody tr th {\n",
       "        vertical-align: top;\n",
       "    }\n",
       "\n",
       "    .dataframe thead th {\n",
       "        text-align: right;\n",
       "    }\n",
       "</style>\n",
       "<table border=\"1\" class=\"dataframe\">\n",
       "  <thead>\n",
       "    <tr style=\"text-align: right;\">\n",
       "      <th></th>\n",
       "      <th>SEQN</th>\n",
       "      <th>DMDBORN4</th>\n",
       "      <th>RIDAGEYR</th>\n",
       "      <th>RIAGENDR</th>\n",
       "      <th>RIDEXPRG</th>\n",
       "      <th>RIDRETH3</th>\n",
       "    </tr>\n",
       "  </thead>\n",
       "  <tbody>\n",
       "    <tr>\n",
       "      <th>0</th>\n",
       "      <td>73557</td>\n",
       "      <td>1</td>\n",
       "      <td>69</td>\n",
       "      <td>1</td>\n",
       "      <td>NaN</td>\n",
       "      <td>4</td>\n",
       "    </tr>\n",
       "    <tr>\n",
       "      <th>1</th>\n",
       "      <td>73558</td>\n",
       "      <td>1</td>\n",
       "      <td>54</td>\n",
       "      <td>1</td>\n",
       "      <td>NaN</td>\n",
       "      <td>3</td>\n",
       "    </tr>\n",
       "    <tr>\n",
       "      <th>2</th>\n",
       "      <td>73559</td>\n",
       "      <td>1</td>\n",
       "      <td>72</td>\n",
       "      <td>1</td>\n",
       "      <td>NaN</td>\n",
       "      <td>3</td>\n",
       "    </tr>\n",
       "    <tr>\n",
       "      <th>3</th>\n",
       "      <td>73560</td>\n",
       "      <td>1</td>\n",
       "      <td>9</td>\n",
       "      <td>1</td>\n",
       "      <td>NaN</td>\n",
       "      <td>3</td>\n",
       "    </tr>\n",
       "    <tr>\n",
       "      <th>4</th>\n",
       "      <td>73561</td>\n",
       "      <td>1</td>\n",
       "      <td>73</td>\n",
       "      <td>2</td>\n",
       "      <td>NaN</td>\n",
       "      <td>3</td>\n",
       "    </tr>\n",
       "    <tr>\n",
       "      <th>...</th>\n",
       "      <td>...</td>\n",
       "      <td>...</td>\n",
       "      <td>...</td>\n",
       "      <td>...</td>\n",
       "      <td>...</td>\n",
       "      <td>...</td>\n",
       "    </tr>\n",
       "    <tr>\n",
       "      <th>10170</th>\n",
       "      <td>83727</td>\n",
       "      <td>1</td>\n",
       "      <td>26</td>\n",
       "      <td>1</td>\n",
       "      <td>NaN</td>\n",
       "      <td>2</td>\n",
       "    </tr>\n",
       "    <tr>\n",
       "      <th>10171</th>\n",
       "      <td>83728</td>\n",
       "      <td>1</td>\n",
       "      <td>2</td>\n",
       "      <td>2</td>\n",
       "      <td>NaN</td>\n",
       "      <td>1</td>\n",
       "    </tr>\n",
       "    <tr>\n",
       "      <th>10172</th>\n",
       "      <td>83729</td>\n",
       "      <td>2</td>\n",
       "      <td>42</td>\n",
       "      <td>2</td>\n",
       "      <td>2.0</td>\n",
       "      <td>4</td>\n",
       "    </tr>\n",
       "    <tr>\n",
       "      <th>10173</th>\n",
       "      <td>83730</td>\n",
       "      <td>1</td>\n",
       "      <td>7</td>\n",
       "      <td>1</td>\n",
       "      <td>NaN</td>\n",
       "      <td>2</td>\n",
       "    </tr>\n",
       "    <tr>\n",
       "      <th>10174</th>\n",
       "      <td>83731</td>\n",
       "      <td>1</td>\n",
       "      <td>11</td>\n",
       "      <td>1</td>\n",
       "      <td>NaN</td>\n",
       "      <td>6</td>\n",
       "    </tr>\n",
       "  </tbody>\n",
       "</table>\n",
       "<p>10175 rows × 6 columns</p>\n",
       "</div>"
      ],
      "text/plain": [
       "        SEQN  DMDBORN4  RIDAGEYR  RIAGENDR  RIDEXPRG  RIDRETH3\n",
       "0      73557         1        69         1       NaN         4\n",
       "1      73558         1        54         1       NaN         3\n",
       "2      73559         1        72         1       NaN         3\n",
       "3      73560         1         9         1       NaN         3\n",
       "4      73561         1        73         2       NaN         3\n",
       "...      ...       ...       ...       ...       ...       ...\n",
       "10170  83727         1        26         1       NaN         2\n",
       "10171  83728         1         2         2       NaN         1\n",
       "10172  83729         2        42         2       2.0         4\n",
       "10173  83730         1         7         1       NaN         2\n",
       "10174  83731         1        11         1       NaN         6\n",
       "\n",
       "[10175 rows x 6 columns]"
      ]
     },
     "execution_count": 5,
     "metadata": {},
     "output_type": "execute_result"
    }
   ],
   "source": [
    "demographic"
   ]
  },
  {
   "cell_type": "code",
   "execution_count": 6,
   "id": "5ecd5283",
   "metadata": {},
   "outputs": [
    {
     "name": "stderr",
     "output_type": "stream",
     "text": [
      "C:\\Users\\alex.padros\\AppData\\Local\\Temp\\4\\ipykernel_20288\\357610968.py:1: SettingWithCopyWarning: \n",
      "A value is trying to be set on a copy of a slice from a DataFrame\n",
      "\n",
      "See the caveats in the documentation: https://pandas.pydata.org/pandas-docs/stable/user_guide/indexing.html#returning-a-view-versus-a-copy\n",
      "  demographic.rename(columns={'SEQN':'id','DMDBORN4':'country','RIDAGEYR':'age_years','RIAGENDR':'gender',\n"
     ]
    }
   ],
   "source": [
    "demographic.rename(columns={'SEQN':'id','DMDBORN4':'country','RIDAGEYR':'age_years','RIAGENDR':'gender',\n",
    "                    'RIDEXPRG':'pregnancy_status','RIDRETH3':'race'},inplace=True)"
   ]
  },
  {
   "cell_type": "code",
   "execution_count": 7,
   "id": "be17dfae",
   "metadata": {},
   "outputs": [
    {
     "data": {
      "text/plain": [
       "id                     0\n",
       "country                0\n",
       "age_years              0\n",
       "gender                 0\n",
       "pregnancy_status    8866\n",
       "race                   0\n",
       "dtype: int64"
      ]
     },
     "execution_count": 7,
     "metadata": {},
     "output_type": "execute_result"
    }
   ],
   "source": [
    "demographic.isnull().sum()"
   ]
  },
  {
   "cell_type": "code",
   "execution_count": 8,
   "id": "50c01c92",
   "metadata": {
    "scrolled": true
   },
   "outputs": [
    {
     "data": {
      "text/plain": [
       "id                    int64\n",
       "country               int64\n",
       "age_years             int64\n",
       "gender                int64\n",
       "pregnancy_status    float64\n",
       "race                  int64\n",
       "dtype: object"
      ]
     },
     "execution_count": 8,
     "metadata": {},
     "output_type": "execute_result"
    }
   ],
   "source": [
    "demographic.dtypes"
   ]
  },
  {
   "cell_type": "code",
   "execution_count": 9,
   "id": "0bfa3c84",
   "metadata": {},
   "outputs": [
    {
     "name": "stderr",
     "output_type": "stream",
     "text": [
      "C:\\Users\\alex.padros\\AppData\\Local\\Temp\\4\\ipykernel_20288\\1475092732.py:1: SettingWithCopyWarning: \n",
      "A value is trying to be set on a copy of a slice from a DataFrame.\n",
      "Try using .loc[row_indexer,col_indexer] = value instead\n",
      "\n",
      "See the caveats in the documentation: https://pandas.pydata.org/pandas-docs/stable/user_guide/indexing.html#returning-a-view-versus-a-copy\n",
      "  demographic['pregnancy_status']=demographic['pregnancy_status'].fillna(0)\n",
      "C:\\Users\\alex.padros\\AppData\\Local\\Temp\\4\\ipykernel_20288\\1475092732.py:2: SettingWithCopyWarning: \n",
      "A value is trying to be set on a copy of a slice from a DataFrame.\n",
      "Try using .loc[row_indexer,col_indexer] = value instead\n",
      "\n",
      "See the caveats in the documentation: https://pandas.pydata.org/pandas-docs/stable/user_guide/indexing.html#returning-a-view-versus-a-copy\n",
      "  demographic['pregnancy_status']=demographic['pregnancy_status'].astype(np.int64)\n"
     ]
    }
   ],
   "source": [
    "demographic['pregnancy_status']=demographic['pregnancy_status'].fillna(0)\n",
    "demographic['pregnancy_status']=demographic['pregnancy_status'].astype(np.int64)"
   ]
  },
  {
   "cell_type": "code",
   "execution_count": 10,
   "id": "5e48943a",
   "metadata": {},
   "outputs": [],
   "source": [
    "labs = pd.read_csv('labs.csv')"
   ]
  },
  {
   "cell_type": "code",
   "execution_count": 11,
   "id": "80da2cbd",
   "metadata": {},
   "outputs": [
    {
     "data": {
      "text/plain": [
       "SEQN           0\n",
       "URXUMA      1761\n",
       "URXUMS      1761\n",
       "URXUCR.x    1761\n",
       "URXCRS      1761\n",
       "            ... \n",
       "URDUURLC    7149\n",
       "URXPREG     8552\n",
       "URXUAS      7151\n",
       "LBDB12      4497\n",
       "LBDB12SI    4497\n",
       "Length: 424, dtype: int64"
      ]
     },
     "execution_count": 11,
     "metadata": {},
     "output_type": "execute_result"
    }
   ],
   "source": [
    "labs.isnull().sum()"
   ]
  },
  {
   "cell_type": "code",
   "execution_count": 12,
   "id": "df8de39f",
   "metadata": {},
   "outputs": [
    {
     "data": {
      "text/html": [
       "<div>\n",
       "<style scoped>\n",
       "    .dataframe tbody tr th:only-of-type {\n",
       "        vertical-align: middle;\n",
       "    }\n",
       "\n",
       "    .dataframe tbody tr th {\n",
       "        vertical-align: top;\n",
       "    }\n",
       "\n",
       "    .dataframe thead th {\n",
       "        text-align: right;\n",
       "    }\n",
       "</style>\n",
       "<table border=\"1\" class=\"dataframe\">\n",
       "  <thead>\n",
       "    <tr style=\"text-align: right;\">\n",
       "      <th></th>\n",
       "      <th>SEQN</th>\n",
       "      <th>LBDHDDSI</th>\n",
       "      <th>LBDTCSI</th>\n",
       "      <th>LBXSUA</th>\n",
       "      <th>LBXSATSI</th>\n",
       "      <th>LBXSASSI</th>\n",
       "      <th>LBDSTPSI</th>\n",
       "      <th>LBDSALSI</th>\n",
       "      <th>LBXSTB</th>\n",
       "      <th>LBXHGB</th>\n",
       "      <th>...</th>\n",
       "      <th>LBXMCHSI</th>\n",
       "      <th>LBXMC</th>\n",
       "      <th>LBXWBCSI</th>\n",
       "      <th>LBDNENO</th>\n",
       "      <th>LBDLYMNO</th>\n",
       "      <th>LBDMONO</th>\n",
       "      <th>LBDEONO</th>\n",
       "      <th>LBDBANO</th>\n",
       "      <th>LBDSIRSI</th>\n",
       "      <th>LBXPLTSI</th>\n",
       "    </tr>\n",
       "  </thead>\n",
       "  <tbody>\n",
       "    <tr>\n",
       "      <th>0</th>\n",
       "      <td>73557</td>\n",
       "      <td>1.68</td>\n",
       "      <td>4.32</td>\n",
       "      <td>3.3</td>\n",
       "      <td>16.0</td>\n",
       "      <td>16.0</td>\n",
       "      <td>65.0</td>\n",
       "      <td>41.0</td>\n",
       "      <td>0.8</td>\n",
       "      <td>15.2</td>\n",
       "      <td>...</td>\n",
       "      <td>29.9</td>\n",
       "      <td>33.4</td>\n",
       "      <td>4.7</td>\n",
       "      <td>2.0</td>\n",
       "      <td>2.0</td>\n",
       "      <td>0.5</td>\n",
       "      <td>0.2</td>\n",
       "      <td>0.1</td>\n",
       "      <td>10.4</td>\n",
       "      <td>204.0</td>\n",
       "    </tr>\n",
       "    <tr>\n",
       "      <th>1</th>\n",
       "      <td>73558</td>\n",
       "      <td>1.29</td>\n",
       "      <td>4.40</td>\n",
       "      <td>4.7</td>\n",
       "      <td>29.0</td>\n",
       "      <td>18.0</td>\n",
       "      <td>78.0</td>\n",
       "      <td>47.0</td>\n",
       "      <td>0.9</td>\n",
       "      <td>11.9</td>\n",
       "      <td>...</td>\n",
       "      <td>31.0</td>\n",
       "      <td>32.5</td>\n",
       "      <td>12.6</td>\n",
       "      <td>7.4</td>\n",
       "      <td>3.4</td>\n",
       "      <td>1.0</td>\n",
       "      <td>0.8</td>\n",
       "      <td>0.1</td>\n",
       "      <td>14.1</td>\n",
       "      <td>314.0</td>\n",
       "    </tr>\n",
       "    <tr>\n",
       "      <th>2</th>\n",
       "      <td>73559</td>\n",
       "      <td>1.55</td>\n",
       "      <td>3.26</td>\n",
       "      <td>5.7</td>\n",
       "      <td>16.0</td>\n",
       "      <td>22.0</td>\n",
       "      <td>59.0</td>\n",
       "      <td>37.0</td>\n",
       "      <td>0.6</td>\n",
       "      <td>17.2</td>\n",
       "      <td>...</td>\n",
       "      <td>31.1</td>\n",
       "      <td>34.3</td>\n",
       "      <td>7.2</td>\n",
       "      <td>4.9</td>\n",
       "      <td>1.0</td>\n",
       "      <td>0.8</td>\n",
       "      <td>0.4</td>\n",
       "      <td>0.1</td>\n",
       "      <td>17.6</td>\n",
       "      <td>237.0</td>\n",
       "    </tr>\n",
       "    <tr>\n",
       "      <th>3</th>\n",
       "      <td>73560</td>\n",
       "      <td>1.58</td>\n",
       "      <td>4.34</td>\n",
       "      <td>NaN</td>\n",
       "      <td>NaN</td>\n",
       "      <td>NaN</td>\n",
       "      <td>NaN</td>\n",
       "      <td>NaN</td>\n",
       "      <td>NaN</td>\n",
       "      <td>12.9</td>\n",
       "      <td>...</td>\n",
       "      <td>28.0</td>\n",
       "      <td>34.0</td>\n",
       "      <td>7.8</td>\n",
       "      <td>4.6</td>\n",
       "      <td>2.3</td>\n",
       "      <td>0.7</td>\n",
       "      <td>0.1</td>\n",
       "      <td>0.0</td>\n",
       "      <td>NaN</td>\n",
       "      <td>240.0</td>\n",
       "    </tr>\n",
       "    <tr>\n",
       "      <th>4</th>\n",
       "      <td>73561</td>\n",
       "      <td>2.20</td>\n",
       "      <td>5.20</td>\n",
       "      <td>4.2</td>\n",
       "      <td>28.0</td>\n",
       "      <td>36.0</td>\n",
       "      <td>71.0</td>\n",
       "      <td>43.0</td>\n",
       "      <td>0.5</td>\n",
       "      <td>14.5</td>\n",
       "      <td>...</td>\n",
       "      <td>30.6</td>\n",
       "      <td>33.0</td>\n",
       "      <td>6.6</td>\n",
       "      <td>4.5</td>\n",
       "      <td>1.4</td>\n",
       "      <td>0.5</td>\n",
       "      <td>0.2</td>\n",
       "      <td>0.1</td>\n",
       "      <td>16.3</td>\n",
       "      <td>300.0</td>\n",
       "    </tr>\n",
       "    <tr>\n",
       "      <th>...</th>\n",
       "      <td>...</td>\n",
       "      <td>...</td>\n",
       "      <td>...</td>\n",
       "      <td>...</td>\n",
       "      <td>...</td>\n",
       "      <td>...</td>\n",
       "      <td>...</td>\n",
       "      <td>...</td>\n",
       "      <td>...</td>\n",
       "      <td>...</td>\n",
       "      <td>...</td>\n",
       "      <td>...</td>\n",
       "      <td>...</td>\n",
       "      <td>...</td>\n",
       "      <td>...</td>\n",
       "      <td>...</td>\n",
       "      <td>...</td>\n",
       "      <td>...</td>\n",
       "      <td>...</td>\n",
       "      <td>...</td>\n",
       "      <td>...</td>\n",
       "    </tr>\n",
       "    <tr>\n",
       "      <th>9808</th>\n",
       "      <td>83727</td>\n",
       "      <td>1.42</td>\n",
       "      <td>4.91</td>\n",
       "      <td>5.3</td>\n",
       "      <td>26.0</td>\n",
       "      <td>27.0</td>\n",
       "      <td>75.0</td>\n",
       "      <td>49.0</td>\n",
       "      <td>0.9</td>\n",
       "      <td>14.9</td>\n",
       "      <td>...</td>\n",
       "      <td>29.3</td>\n",
       "      <td>32.9</td>\n",
       "      <td>5.1</td>\n",
       "      <td>2.9</td>\n",
       "      <td>1.6</td>\n",
       "      <td>0.3</td>\n",
       "      <td>0.2</td>\n",
       "      <td>0.0</td>\n",
       "      <td>13.1</td>\n",
       "      <td>226.0</td>\n",
       "    </tr>\n",
       "    <tr>\n",
       "      <th>9809</th>\n",
       "      <td>83728</td>\n",
       "      <td>NaN</td>\n",
       "      <td>NaN</td>\n",
       "      <td>NaN</td>\n",
       "      <td>NaN</td>\n",
       "      <td>NaN</td>\n",
       "      <td>NaN</td>\n",
       "      <td>NaN</td>\n",
       "      <td>NaN</td>\n",
       "      <td>12.2</td>\n",
       "      <td>...</td>\n",
       "      <td>28.9</td>\n",
       "      <td>35.0</td>\n",
       "      <td>6.6</td>\n",
       "      <td>1.4</td>\n",
       "      <td>4.4</td>\n",
       "      <td>0.5</td>\n",
       "      <td>0.2</td>\n",
       "      <td>0.0</td>\n",
       "      <td>NaN</td>\n",
       "      <td>441.0</td>\n",
       "    </tr>\n",
       "    <tr>\n",
       "      <th>9810</th>\n",
       "      <td>83729</td>\n",
       "      <td>1.24</td>\n",
       "      <td>3.93</td>\n",
       "      <td>5.3</td>\n",
       "      <td>13.0</td>\n",
       "      <td>26.0</td>\n",
       "      <td>67.0</td>\n",
       "      <td>41.0</td>\n",
       "      <td>0.2</td>\n",
       "      <td>12.2</td>\n",
       "      <td>...</td>\n",
       "      <td>29.2</td>\n",
       "      <td>32.8</td>\n",
       "      <td>6.4</td>\n",
       "      <td>3.2</td>\n",
       "      <td>2.5</td>\n",
       "      <td>0.6</td>\n",
       "      <td>0.1</td>\n",
       "      <td>0.0</td>\n",
       "      <td>8.8</td>\n",
       "      <td>213.0</td>\n",
       "    </tr>\n",
       "    <tr>\n",
       "      <th>9811</th>\n",
       "      <td>83730</td>\n",
       "      <td>1.32</td>\n",
       "      <td>4.32</td>\n",
       "      <td>NaN</td>\n",
       "      <td>NaN</td>\n",
       "      <td>NaN</td>\n",
       "      <td>NaN</td>\n",
       "      <td>NaN</td>\n",
       "      <td>NaN</td>\n",
       "      <td>13.7</td>\n",
       "      <td>...</td>\n",
       "      <td>27.2</td>\n",
       "      <td>33.7</td>\n",
       "      <td>9.9</td>\n",
       "      <td>4.0</td>\n",
       "      <td>5.0</td>\n",
       "      <td>0.6</td>\n",
       "      <td>0.3</td>\n",
       "      <td>0.0</td>\n",
       "      <td>NaN</td>\n",
       "      <td>352.0</td>\n",
       "    </tr>\n",
       "    <tr>\n",
       "      <th>9812</th>\n",
       "      <td>83731</td>\n",
       "      <td>NaN</td>\n",
       "      <td>NaN</td>\n",
       "      <td>NaN</td>\n",
       "      <td>NaN</td>\n",
       "      <td>NaN</td>\n",
       "      <td>NaN</td>\n",
       "      <td>NaN</td>\n",
       "      <td>NaN</td>\n",
       "      <td>NaN</td>\n",
       "      <td>...</td>\n",
       "      <td>NaN</td>\n",
       "      <td>NaN</td>\n",
       "      <td>NaN</td>\n",
       "      <td>NaN</td>\n",
       "      <td>NaN</td>\n",
       "      <td>NaN</td>\n",
       "      <td>NaN</td>\n",
       "      <td>NaN</td>\n",
       "      <td>NaN</td>\n",
       "      <td>NaN</td>\n",
       "    </tr>\n",
       "  </tbody>\n",
       "</table>\n",
       "<p>9813 rows × 23 columns</p>\n",
       "</div>"
      ],
      "text/plain": [
       "       SEQN  LBDHDDSI  LBDTCSI  LBXSUA  LBXSATSI  LBXSASSI  LBDSTPSI  \\\n",
       "0     73557      1.68     4.32     3.3      16.0      16.0      65.0   \n",
       "1     73558      1.29     4.40     4.7      29.0      18.0      78.0   \n",
       "2     73559      1.55     3.26     5.7      16.0      22.0      59.0   \n",
       "3     73560      1.58     4.34     NaN       NaN       NaN       NaN   \n",
       "4     73561      2.20     5.20     4.2      28.0      36.0      71.0   \n",
       "...     ...       ...      ...     ...       ...       ...       ...   \n",
       "9808  83727      1.42     4.91     5.3      26.0      27.0      75.0   \n",
       "9809  83728       NaN      NaN     NaN       NaN       NaN       NaN   \n",
       "9810  83729      1.24     3.93     5.3      13.0      26.0      67.0   \n",
       "9811  83730      1.32     4.32     NaN       NaN       NaN       NaN   \n",
       "9812  83731       NaN      NaN     NaN       NaN       NaN       NaN   \n",
       "\n",
       "      LBDSALSI  LBXSTB  LBXHGB  ...  LBXMCHSI  LBXMC  LBXWBCSI  LBDNENO  \\\n",
       "0         41.0     0.8    15.2  ...      29.9   33.4       4.7      2.0   \n",
       "1         47.0     0.9    11.9  ...      31.0   32.5      12.6      7.4   \n",
       "2         37.0     0.6    17.2  ...      31.1   34.3       7.2      4.9   \n",
       "3          NaN     NaN    12.9  ...      28.0   34.0       7.8      4.6   \n",
       "4         43.0     0.5    14.5  ...      30.6   33.0       6.6      4.5   \n",
       "...        ...     ...     ...  ...       ...    ...       ...      ...   \n",
       "9808      49.0     0.9    14.9  ...      29.3   32.9       5.1      2.9   \n",
       "9809       NaN     NaN    12.2  ...      28.9   35.0       6.6      1.4   \n",
       "9810      41.0     0.2    12.2  ...      29.2   32.8       6.4      3.2   \n",
       "9811       NaN     NaN    13.7  ...      27.2   33.7       9.9      4.0   \n",
       "9812       NaN     NaN     NaN  ...       NaN    NaN       NaN      NaN   \n",
       "\n",
       "      LBDLYMNO  LBDMONO  LBDEONO  LBDBANO  LBDSIRSI  LBXPLTSI  \n",
       "0          2.0      0.5      0.2      0.1      10.4     204.0  \n",
       "1          3.4      1.0      0.8      0.1      14.1     314.0  \n",
       "2          1.0      0.8      0.4      0.1      17.6     237.0  \n",
       "3          2.3      0.7      0.1      0.0       NaN     240.0  \n",
       "4          1.4      0.5      0.2      0.1      16.3     300.0  \n",
       "...        ...      ...      ...      ...       ...       ...  \n",
       "9808       1.6      0.3      0.2      0.0      13.1     226.0  \n",
       "9809       4.4      0.5      0.2      0.0       NaN     441.0  \n",
       "9810       2.5      0.6      0.1      0.0       8.8     213.0  \n",
       "9811       5.0      0.6      0.3      0.0       NaN     352.0  \n",
       "9812       NaN      NaN      NaN      NaN       NaN       NaN  \n",
       "\n",
       "[9813 rows x 23 columns]"
      ]
     },
     "execution_count": 12,
     "metadata": {},
     "output_type": "execute_result"
    }
   ],
   "source": [
    "labs = labs[['SEQN','LBDHDDSI','LBDTCSI',\n",
    "      'LBXSUA','LBXSATSI','LBXSASSI','LBDSTPSI','LBDSALSI','LBXSTB','LBXHGB','LBXHCT',\n",
    "      'LBXRBCSI','LBXMCVSI','LBXMCHSI','LBXMC','LBXWBCSI','LBDNENO','LBDLYMNO','LBDMONO',\n",
    "      'LBDEONO','LBDBANO','LBDSIRSI','LBXPLTSI']]\n",
    "labs"
   ]
  },
  {
   "cell_type": "code",
   "execution_count": 13,
   "id": "0f24dde0",
   "metadata": {},
   "outputs": [
    {
     "data": {
      "text/plain": [
       "SEQN           0\n",
       "LBDHDDSI    2189\n",
       "LBDTCSI     2189\n",
       "LBXSUA      3262\n",
       "LBXSATSI    3262\n",
       "LBXSASSI    3262\n",
       "LBDSTPSI    3269\n",
       "LBDSALSI    3260\n",
       "LBXSTB      3264\n",
       "LBXHGB      1269\n",
       "LBXHCT      1269\n",
       "LBXRBCSI    1269\n",
       "LBXMCVSI    1269\n",
       "LBXMCHSI    1269\n",
       "LBXMC       1269\n",
       "LBXWBCSI    1269\n",
       "LBDNENO     1294\n",
       "LBDLYMNO    1294\n",
       "LBDMONO     1294\n",
       "LBDEONO     1294\n",
       "LBDBANO     1294\n",
       "LBDSIRSI    3286\n",
       "LBXPLTSI    1269\n",
       "dtype: int64"
      ]
     },
     "execution_count": 13,
     "metadata": {},
     "output_type": "execute_result"
    }
   ],
   "source": [
    "labs.isnull().sum()"
   ]
  },
  {
   "cell_type": "code",
   "execution_count": 14,
   "id": "df9e3f08",
   "metadata": {},
   "outputs": [
    {
     "data": {
      "text/plain": [
       "SEQN         0\n",
       "LBDHDDSI     1\n",
       "LBDTCSI      1\n",
       "LBXSUA       2\n",
       "LBXSATSI     2\n",
       "LBXSASSI     2\n",
       "LBDSTPSI     8\n",
       "LBDSALSI     0\n",
       "LBXSTB       4\n",
       "LBXHGB       0\n",
       "LBXHCT       0\n",
       "LBXRBCSI     0\n",
       "LBXMCVSI     0\n",
       "LBXMCHSI     0\n",
       "LBXMC        0\n",
       "LBXWBCSI     0\n",
       "LBDNENO     19\n",
       "LBDLYMNO    19\n",
       "LBDMONO     19\n",
       "LBDEONO     19\n",
       "LBDBANO     19\n",
       "LBDSIRSI    26\n",
       "LBXPLTSI     0\n",
       "dtype: int64"
      ]
     },
     "execution_count": 14,
     "metadata": {},
     "output_type": "execute_result"
    }
   ],
   "source": [
    "# This will keep only rows which have nan's less than 6 in the dataframe, \n",
    "# and will remove all having nan's > 6.\n",
    "labs_clean = labs[labs.isnull().sum(axis=1) <= 6]\n",
    "labs_clean.isnull().sum()"
   ]
  },
  {
   "cell_type": "code",
   "execution_count": 15,
   "id": "6a9e3f3b",
   "metadata": {},
   "outputs": [
    {
     "name": "stderr",
     "output_type": "stream",
     "text": [
      "C:\\Users\\alex.padros\\AppData\\Local\\Temp\\4\\ipykernel_20288\\119071111.py:2: SettingWithCopyWarning: \n",
      "A value is trying to be set on a copy of a slice from a DataFrame.\n",
      "Try using .loc[row_indexer,col_indexer] = value instead\n",
      "\n",
      "See the caveats in the documentation: https://pandas.pydata.org/pandas-docs/stable/user_guide/indexing.html#returning-a-view-versus-a-copy\n",
      "  labs_clean[col] = labs_clean[col].fillna(labs_clean[col].mean())\n"
     ]
    }
   ],
   "source": [
    "for col in labs_clean.columns:\n",
    "    labs_clean[col] = labs_clean[col].fillna(labs_clean[col].mean())"
   ]
  },
  {
   "cell_type": "code",
   "execution_count": 16,
   "id": "a8f5e545",
   "metadata": {
    "scrolled": true
   },
   "outputs": [
    {
     "data": {
      "text/html": [
       "<div>\n",
       "<style scoped>\n",
       "    .dataframe tbody tr th:only-of-type {\n",
       "        vertical-align: middle;\n",
       "    }\n",
       "\n",
       "    .dataframe tbody tr th {\n",
       "        vertical-align: top;\n",
       "    }\n",
       "\n",
       "    .dataframe thead th {\n",
       "        text-align: right;\n",
       "    }\n",
       "</style>\n",
       "<table border=\"1\" class=\"dataframe\">\n",
       "  <thead>\n",
       "    <tr style=\"text-align: right;\">\n",
       "      <th></th>\n",
       "      <th>SEQN</th>\n",
       "      <th>LBDHDDSI</th>\n",
       "      <th>LBDTCSI</th>\n",
       "      <th>LBXSUA</th>\n",
       "      <th>LBXSATSI</th>\n",
       "      <th>LBXSASSI</th>\n",
       "      <th>LBDSTPSI</th>\n",
       "      <th>LBDSALSI</th>\n",
       "      <th>LBXSTB</th>\n",
       "      <th>LBXHGB</th>\n",
       "      <th>...</th>\n",
       "      <th>LBXMCHSI</th>\n",
       "      <th>LBXMC</th>\n",
       "      <th>LBXWBCSI</th>\n",
       "      <th>LBDNENO</th>\n",
       "      <th>LBDLYMNO</th>\n",
       "      <th>LBDMONO</th>\n",
       "      <th>LBDEONO</th>\n",
       "      <th>LBDBANO</th>\n",
       "      <th>LBDSIRSI</th>\n",
       "      <th>LBXPLTSI</th>\n",
       "    </tr>\n",
       "  </thead>\n",
       "  <tbody>\n",
       "    <tr>\n",
       "      <th>0</th>\n",
       "      <td>73557</td>\n",
       "      <td>1.68</td>\n",
       "      <td>4.32</td>\n",
       "      <td>3.3</td>\n",
       "      <td>16.0</td>\n",
       "      <td>16.0</td>\n",
       "      <td>65.0</td>\n",
       "      <td>41.0</td>\n",
       "      <td>0.8</td>\n",
       "      <td>15.2</td>\n",
       "      <td>...</td>\n",
       "      <td>29.9</td>\n",
       "      <td>33.4</td>\n",
       "      <td>4.7</td>\n",
       "      <td>2.0</td>\n",
       "      <td>2.0</td>\n",
       "      <td>0.5</td>\n",
       "      <td>0.2</td>\n",
       "      <td>0.1</td>\n",
       "      <td>10.4</td>\n",
       "      <td>204.0</td>\n",
       "    </tr>\n",
       "    <tr>\n",
       "      <th>1</th>\n",
       "      <td>73558</td>\n",
       "      <td>1.29</td>\n",
       "      <td>4.40</td>\n",
       "      <td>4.7</td>\n",
       "      <td>29.0</td>\n",
       "      <td>18.0</td>\n",
       "      <td>78.0</td>\n",
       "      <td>47.0</td>\n",
       "      <td>0.9</td>\n",
       "      <td>11.9</td>\n",
       "      <td>...</td>\n",
       "      <td>31.0</td>\n",
       "      <td>32.5</td>\n",
       "      <td>12.6</td>\n",
       "      <td>7.4</td>\n",
       "      <td>3.4</td>\n",
       "      <td>1.0</td>\n",
       "      <td>0.8</td>\n",
       "      <td>0.1</td>\n",
       "      <td>14.1</td>\n",
       "      <td>314.0</td>\n",
       "    </tr>\n",
       "    <tr>\n",
       "      <th>2</th>\n",
       "      <td>73559</td>\n",
       "      <td>1.55</td>\n",
       "      <td>3.26</td>\n",
       "      <td>5.7</td>\n",
       "      <td>16.0</td>\n",
       "      <td>22.0</td>\n",
       "      <td>59.0</td>\n",
       "      <td>37.0</td>\n",
       "      <td>0.6</td>\n",
       "      <td>17.2</td>\n",
       "      <td>...</td>\n",
       "      <td>31.1</td>\n",
       "      <td>34.3</td>\n",
       "      <td>7.2</td>\n",
       "      <td>4.9</td>\n",
       "      <td>1.0</td>\n",
       "      <td>0.8</td>\n",
       "      <td>0.4</td>\n",
       "      <td>0.1</td>\n",
       "      <td>17.6</td>\n",
       "      <td>237.0</td>\n",
       "    </tr>\n",
       "    <tr>\n",
       "      <th>4</th>\n",
       "      <td>73561</td>\n",
       "      <td>2.20</td>\n",
       "      <td>5.20</td>\n",
       "      <td>4.2</td>\n",
       "      <td>28.0</td>\n",
       "      <td>36.0</td>\n",
       "      <td>71.0</td>\n",
       "      <td>43.0</td>\n",
       "      <td>0.5</td>\n",
       "      <td>14.5</td>\n",
       "      <td>...</td>\n",
       "      <td>30.6</td>\n",
       "      <td>33.0</td>\n",
       "      <td>6.6</td>\n",
       "      <td>4.5</td>\n",
       "      <td>1.4</td>\n",
       "      <td>0.5</td>\n",
       "      <td>0.2</td>\n",
       "      <td>0.1</td>\n",
       "      <td>16.3</td>\n",
       "      <td>300.0</td>\n",
       "    </tr>\n",
       "    <tr>\n",
       "      <th>5</th>\n",
       "      <td>73562</td>\n",
       "      <td>0.98</td>\n",
       "      <td>5.84</td>\n",
       "      <td>9.1</td>\n",
       "      <td>16.0</td>\n",
       "      <td>24.0</td>\n",
       "      <td>73.0</td>\n",
       "      <td>43.0</td>\n",
       "      <td>0.5</td>\n",
       "      <td>14.2</td>\n",
       "      <td>...</td>\n",
       "      <td>28.8</td>\n",
       "      <td>34.2</td>\n",
       "      <td>9.4</td>\n",
       "      <td>6.5</td>\n",
       "      <td>1.6</td>\n",
       "      <td>0.6</td>\n",
       "      <td>0.6</td>\n",
       "      <td>0.1</td>\n",
       "      <td>9.3</td>\n",
       "      <td>249.0</td>\n",
       "    </tr>\n",
       "    <tr>\n",
       "      <th>...</th>\n",
       "      <td>...</td>\n",
       "      <td>...</td>\n",
       "      <td>...</td>\n",
       "      <td>...</td>\n",
       "      <td>...</td>\n",
       "      <td>...</td>\n",
       "      <td>...</td>\n",
       "      <td>...</td>\n",
       "      <td>...</td>\n",
       "      <td>...</td>\n",
       "      <td>...</td>\n",
       "      <td>...</td>\n",
       "      <td>...</td>\n",
       "      <td>...</td>\n",
       "      <td>...</td>\n",
       "      <td>...</td>\n",
       "      <td>...</td>\n",
       "      <td>...</td>\n",
       "      <td>...</td>\n",
       "      <td>...</td>\n",
       "      <td>...</td>\n",
       "    </tr>\n",
       "    <tr>\n",
       "      <th>9802</th>\n",
       "      <td>83721</td>\n",
       "      <td>1.42</td>\n",
       "      <td>3.57</td>\n",
       "      <td>5.7</td>\n",
       "      <td>47.0</td>\n",
       "      <td>24.0</td>\n",
       "      <td>70.0</td>\n",
       "      <td>44.0</td>\n",
       "      <td>0.7</td>\n",
       "      <td>14.4</td>\n",
       "      <td>...</td>\n",
       "      <td>32.2</td>\n",
       "      <td>34.4</td>\n",
       "      <td>6.8</td>\n",
       "      <td>4.4</td>\n",
       "      <td>1.4</td>\n",
       "      <td>0.6</td>\n",
       "      <td>0.3</td>\n",
       "      <td>0.1</td>\n",
       "      <td>16.1</td>\n",
       "      <td>152.0</td>\n",
       "    </tr>\n",
       "    <tr>\n",
       "      <th>9804</th>\n",
       "      <td>83723</td>\n",
       "      <td>1.27</td>\n",
       "      <td>4.81</td>\n",
       "      <td>4.2</td>\n",
       "      <td>23.0</td>\n",
       "      <td>24.0</td>\n",
       "      <td>78.0</td>\n",
       "      <td>41.0</td>\n",
       "      <td>0.7</td>\n",
       "      <td>14.3</td>\n",
       "      <td>...</td>\n",
       "      <td>35.2</td>\n",
       "      <td>35.5</td>\n",
       "      <td>7.7</td>\n",
       "      <td>3.9</td>\n",
       "      <td>2.9</td>\n",
       "      <td>0.8</td>\n",
       "      <td>0.1</td>\n",
       "      <td>0.0</td>\n",
       "      <td>15.8</td>\n",
       "      <td>181.0</td>\n",
       "    </tr>\n",
       "    <tr>\n",
       "      <th>9805</th>\n",
       "      <td>83724</td>\n",
       "      <td>1.32</td>\n",
       "      <td>4.06</td>\n",
       "      <td>6.1</td>\n",
       "      <td>12.0</td>\n",
       "      <td>20.0</td>\n",
       "      <td>60.0</td>\n",
       "      <td>38.0</td>\n",
       "      <td>0.5</td>\n",
       "      <td>11.8</td>\n",
       "      <td>...</td>\n",
       "      <td>31.8</td>\n",
       "      <td>33.9</td>\n",
       "      <td>6.1</td>\n",
       "      <td>4.2</td>\n",
       "      <td>1.2</td>\n",
       "      <td>0.6</td>\n",
       "      <td>0.1</td>\n",
       "      <td>0.1</td>\n",
       "      <td>15.0</td>\n",
       "      <td>180.0</td>\n",
       "    </tr>\n",
       "    <tr>\n",
       "      <th>9808</th>\n",
       "      <td>83727</td>\n",
       "      <td>1.42</td>\n",
       "      <td>4.91</td>\n",
       "      <td>5.3</td>\n",
       "      <td>26.0</td>\n",
       "      <td>27.0</td>\n",
       "      <td>75.0</td>\n",
       "      <td>49.0</td>\n",
       "      <td>0.9</td>\n",
       "      <td>14.9</td>\n",
       "      <td>...</td>\n",
       "      <td>29.3</td>\n",
       "      <td>32.9</td>\n",
       "      <td>5.1</td>\n",
       "      <td>2.9</td>\n",
       "      <td>1.6</td>\n",
       "      <td>0.3</td>\n",
       "      <td>0.2</td>\n",
       "      <td>0.0</td>\n",
       "      <td>13.1</td>\n",
       "      <td>226.0</td>\n",
       "    </tr>\n",
       "    <tr>\n",
       "      <th>9810</th>\n",
       "      <td>83729</td>\n",
       "      <td>1.24</td>\n",
       "      <td>3.93</td>\n",
       "      <td>5.3</td>\n",
       "      <td>13.0</td>\n",
       "      <td>26.0</td>\n",
       "      <td>67.0</td>\n",
       "      <td>41.0</td>\n",
       "      <td>0.2</td>\n",
       "      <td>12.2</td>\n",
       "      <td>...</td>\n",
       "      <td>29.2</td>\n",
       "      <td>32.8</td>\n",
       "      <td>6.4</td>\n",
       "      <td>3.2</td>\n",
       "      <td>2.5</td>\n",
       "      <td>0.6</td>\n",
       "      <td>0.1</td>\n",
       "      <td>0.0</td>\n",
       "      <td>8.8</td>\n",
       "      <td>213.0</td>\n",
       "    </tr>\n",
       "  </tbody>\n",
       "</table>\n",
       "<p>6547 rows × 23 columns</p>\n",
       "</div>"
      ],
      "text/plain": [
       "       SEQN  LBDHDDSI  LBDTCSI  LBXSUA  LBXSATSI  LBXSASSI  LBDSTPSI  \\\n",
       "0     73557      1.68     4.32     3.3      16.0      16.0      65.0   \n",
       "1     73558      1.29     4.40     4.7      29.0      18.0      78.0   \n",
       "2     73559      1.55     3.26     5.7      16.0      22.0      59.0   \n",
       "4     73561      2.20     5.20     4.2      28.0      36.0      71.0   \n",
       "5     73562      0.98     5.84     9.1      16.0      24.0      73.0   \n",
       "...     ...       ...      ...     ...       ...       ...       ...   \n",
       "9802  83721      1.42     3.57     5.7      47.0      24.0      70.0   \n",
       "9804  83723      1.27     4.81     4.2      23.0      24.0      78.0   \n",
       "9805  83724      1.32     4.06     6.1      12.0      20.0      60.0   \n",
       "9808  83727      1.42     4.91     5.3      26.0      27.0      75.0   \n",
       "9810  83729      1.24     3.93     5.3      13.0      26.0      67.0   \n",
       "\n",
       "      LBDSALSI  LBXSTB  LBXHGB  ...  LBXMCHSI  LBXMC  LBXWBCSI  LBDNENO  \\\n",
       "0         41.0     0.8    15.2  ...      29.9   33.4       4.7      2.0   \n",
       "1         47.0     0.9    11.9  ...      31.0   32.5      12.6      7.4   \n",
       "2         37.0     0.6    17.2  ...      31.1   34.3       7.2      4.9   \n",
       "4         43.0     0.5    14.5  ...      30.6   33.0       6.6      4.5   \n",
       "5         43.0     0.5    14.2  ...      28.8   34.2       9.4      6.5   \n",
       "...        ...     ...     ...  ...       ...    ...       ...      ...   \n",
       "9802      44.0     0.7    14.4  ...      32.2   34.4       6.8      4.4   \n",
       "9804      41.0     0.7    14.3  ...      35.2   35.5       7.7      3.9   \n",
       "9805      38.0     0.5    11.8  ...      31.8   33.9       6.1      4.2   \n",
       "9808      49.0     0.9    14.9  ...      29.3   32.9       5.1      2.9   \n",
       "9810      41.0     0.2    12.2  ...      29.2   32.8       6.4      3.2   \n",
       "\n",
       "      LBDLYMNO  LBDMONO  LBDEONO  LBDBANO  LBDSIRSI  LBXPLTSI  \n",
       "0          2.0      0.5      0.2      0.1      10.4     204.0  \n",
       "1          3.4      1.0      0.8      0.1      14.1     314.0  \n",
       "2          1.0      0.8      0.4      0.1      17.6     237.0  \n",
       "4          1.4      0.5      0.2      0.1      16.3     300.0  \n",
       "5          1.6      0.6      0.6      0.1       9.3     249.0  \n",
       "...        ...      ...      ...      ...       ...       ...  \n",
       "9802       1.4      0.6      0.3      0.1      16.1     152.0  \n",
       "9804       2.9      0.8      0.1      0.0      15.8     181.0  \n",
       "9805       1.2      0.6      0.1      0.1      15.0     180.0  \n",
       "9808       1.6      0.3      0.2      0.0      13.1     226.0  \n",
       "9810       2.5      0.6      0.1      0.0       8.8     213.0  \n",
       "\n",
       "[6547 rows x 23 columns]"
      ]
     },
     "execution_count": 16,
     "metadata": {},
     "output_type": "execute_result"
    }
   ],
   "source": [
    "labs_clean"
   ]
  },
  {
   "cell_type": "code",
   "execution_count": 17,
   "id": "06dede91",
   "metadata": {},
   "outputs": [
    {
     "data": {
      "text/html": [
       "<div>\n",
       "<style scoped>\n",
       "    .dataframe tbody tr th:only-of-type {\n",
       "        vertical-align: middle;\n",
       "    }\n",
       "\n",
       "    .dataframe tbody tr th {\n",
       "        vertical-align: top;\n",
       "    }\n",
       "\n",
       "    .dataframe thead th {\n",
       "        text-align: right;\n",
       "    }\n",
       "</style>\n",
       "<table border=\"1\" class=\"dataframe\">\n",
       "  <thead>\n",
       "    <tr style=\"text-align: right;\">\n",
       "      <th></th>\n",
       "      <th>LBDHDDSI</th>\n",
       "      <th>LBDTCSI</th>\n",
       "      <th>LBXSUA</th>\n",
       "      <th>LBXSATSI</th>\n",
       "      <th>LBXSASSI</th>\n",
       "      <th>LBDSTPSI</th>\n",
       "      <th>LBDSALSI</th>\n",
       "      <th>LBXSTB</th>\n",
       "      <th>LBXHGB</th>\n",
       "      <th>LBXHCT</th>\n",
       "      <th>...</th>\n",
       "      <th>LBXMCHSI</th>\n",
       "      <th>LBXMC</th>\n",
       "      <th>LBXWBCSI</th>\n",
       "      <th>LBDNENO</th>\n",
       "      <th>LBDLYMNO</th>\n",
       "      <th>LBDMONO</th>\n",
       "      <th>LBDEONO</th>\n",
       "      <th>LBDBANO</th>\n",
       "      <th>LBDSIRSI</th>\n",
       "      <th>LBXPLTSI</th>\n",
       "    </tr>\n",
       "  </thead>\n",
       "  <tbody>\n",
       "    <tr>\n",
       "      <th>0</th>\n",
       "      <td>1.68</td>\n",
       "      <td>4.32</td>\n",
       "      <td>3.3</td>\n",
       "      <td>16.0</td>\n",
       "      <td>16.0</td>\n",
       "      <td>65.0</td>\n",
       "      <td>41.0</td>\n",
       "      <td>0.8</td>\n",
       "      <td>15.2</td>\n",
       "      <td>45.4</td>\n",
       "      <td>...</td>\n",
       "      <td>29.9</td>\n",
       "      <td>33.4</td>\n",
       "      <td>4.7</td>\n",
       "      <td>2.0</td>\n",
       "      <td>2.0</td>\n",
       "      <td>0.5</td>\n",
       "      <td>0.2</td>\n",
       "      <td>0.1</td>\n",
       "      <td>10.4</td>\n",
       "      <td>204.0</td>\n",
       "    </tr>\n",
       "    <tr>\n",
       "      <th>1</th>\n",
       "      <td>1.29</td>\n",
       "      <td>4.40</td>\n",
       "      <td>4.7</td>\n",
       "      <td>29.0</td>\n",
       "      <td>18.0</td>\n",
       "      <td>78.0</td>\n",
       "      <td>47.0</td>\n",
       "      <td>0.9</td>\n",
       "      <td>11.9</td>\n",
       "      <td>36.7</td>\n",
       "      <td>...</td>\n",
       "      <td>31.0</td>\n",
       "      <td>32.5</td>\n",
       "      <td>12.6</td>\n",
       "      <td>7.4</td>\n",
       "      <td>3.4</td>\n",
       "      <td>1.0</td>\n",
       "      <td>0.8</td>\n",
       "      <td>0.1</td>\n",
       "      <td>14.1</td>\n",
       "      <td>314.0</td>\n",
       "    </tr>\n",
       "    <tr>\n",
       "      <th>2</th>\n",
       "      <td>1.55</td>\n",
       "      <td>3.26</td>\n",
       "      <td>5.7</td>\n",
       "      <td>16.0</td>\n",
       "      <td>22.0</td>\n",
       "      <td>59.0</td>\n",
       "      <td>37.0</td>\n",
       "      <td>0.6</td>\n",
       "      <td>17.2</td>\n",
       "      <td>49.9</td>\n",
       "      <td>...</td>\n",
       "      <td>31.1</td>\n",
       "      <td>34.3</td>\n",
       "      <td>7.2</td>\n",
       "      <td>4.9</td>\n",
       "      <td>1.0</td>\n",
       "      <td>0.8</td>\n",
       "      <td>0.4</td>\n",
       "      <td>0.1</td>\n",
       "      <td>17.6</td>\n",
       "      <td>237.0</td>\n",
       "    </tr>\n",
       "    <tr>\n",
       "      <th>4</th>\n",
       "      <td>2.20</td>\n",
       "      <td>5.20</td>\n",
       "      <td>4.2</td>\n",
       "      <td>28.0</td>\n",
       "      <td>36.0</td>\n",
       "      <td>71.0</td>\n",
       "      <td>43.0</td>\n",
       "      <td>0.5</td>\n",
       "      <td>14.5</td>\n",
       "      <td>43.8</td>\n",
       "      <td>...</td>\n",
       "      <td>30.6</td>\n",
       "      <td>33.0</td>\n",
       "      <td>6.6</td>\n",
       "      <td>4.5</td>\n",
       "      <td>1.4</td>\n",
       "      <td>0.5</td>\n",
       "      <td>0.2</td>\n",
       "      <td>0.1</td>\n",
       "      <td>16.3</td>\n",
       "      <td>300.0</td>\n",
       "    </tr>\n",
       "    <tr>\n",
       "      <th>5</th>\n",
       "      <td>0.98</td>\n",
       "      <td>5.84</td>\n",
       "      <td>9.1</td>\n",
       "      <td>16.0</td>\n",
       "      <td>24.0</td>\n",
       "      <td>73.0</td>\n",
       "      <td>43.0</td>\n",
       "      <td>0.5</td>\n",
       "      <td>14.2</td>\n",
       "      <td>41.5</td>\n",
       "      <td>...</td>\n",
       "      <td>28.8</td>\n",
       "      <td>34.2</td>\n",
       "      <td>9.4</td>\n",
       "      <td>6.5</td>\n",
       "      <td>1.6</td>\n",
       "      <td>0.6</td>\n",
       "      <td>0.6</td>\n",
       "      <td>0.1</td>\n",
       "      <td>9.3</td>\n",
       "      <td>249.0</td>\n",
       "    </tr>\n",
       "    <tr>\n",
       "      <th>...</th>\n",
       "      <td>...</td>\n",
       "      <td>...</td>\n",
       "      <td>...</td>\n",
       "      <td>...</td>\n",
       "      <td>...</td>\n",
       "      <td>...</td>\n",
       "      <td>...</td>\n",
       "      <td>...</td>\n",
       "      <td>...</td>\n",
       "      <td>...</td>\n",
       "      <td>...</td>\n",
       "      <td>...</td>\n",
       "      <td>...</td>\n",
       "      <td>...</td>\n",
       "      <td>...</td>\n",
       "      <td>...</td>\n",
       "      <td>...</td>\n",
       "      <td>...</td>\n",
       "      <td>...</td>\n",
       "      <td>...</td>\n",
       "      <td>...</td>\n",
       "    </tr>\n",
       "    <tr>\n",
       "      <th>9802</th>\n",
       "      <td>1.42</td>\n",
       "      <td>3.57</td>\n",
       "      <td>5.7</td>\n",
       "      <td>47.0</td>\n",
       "      <td>24.0</td>\n",
       "      <td>70.0</td>\n",
       "      <td>44.0</td>\n",
       "      <td>0.7</td>\n",
       "      <td>14.4</td>\n",
       "      <td>41.9</td>\n",
       "      <td>...</td>\n",
       "      <td>32.2</td>\n",
       "      <td>34.4</td>\n",
       "      <td>6.8</td>\n",
       "      <td>4.4</td>\n",
       "      <td>1.4</td>\n",
       "      <td>0.6</td>\n",
       "      <td>0.3</td>\n",
       "      <td>0.1</td>\n",
       "      <td>16.1</td>\n",
       "      <td>152.0</td>\n",
       "    </tr>\n",
       "    <tr>\n",
       "      <th>9804</th>\n",
       "      <td>1.27</td>\n",
       "      <td>4.81</td>\n",
       "      <td>4.2</td>\n",
       "      <td>23.0</td>\n",
       "      <td>24.0</td>\n",
       "      <td>78.0</td>\n",
       "      <td>41.0</td>\n",
       "      <td>0.7</td>\n",
       "      <td>14.3</td>\n",
       "      <td>40.1</td>\n",
       "      <td>...</td>\n",
       "      <td>35.2</td>\n",
       "      <td>35.5</td>\n",
       "      <td>7.7</td>\n",
       "      <td>3.9</td>\n",
       "      <td>2.9</td>\n",
       "      <td>0.8</td>\n",
       "      <td>0.1</td>\n",
       "      <td>0.0</td>\n",
       "      <td>15.8</td>\n",
       "      <td>181.0</td>\n",
       "    </tr>\n",
       "    <tr>\n",
       "      <th>9805</th>\n",
       "      <td>1.32</td>\n",
       "      <td>4.06</td>\n",
       "      <td>6.1</td>\n",
       "      <td>12.0</td>\n",
       "      <td>20.0</td>\n",
       "      <td>60.0</td>\n",
       "      <td>38.0</td>\n",
       "      <td>0.5</td>\n",
       "      <td>11.8</td>\n",
       "      <td>34.8</td>\n",
       "      <td>...</td>\n",
       "      <td>31.8</td>\n",
       "      <td>33.9</td>\n",
       "      <td>6.1</td>\n",
       "      <td>4.2</td>\n",
       "      <td>1.2</td>\n",
       "      <td>0.6</td>\n",
       "      <td>0.1</td>\n",
       "      <td>0.1</td>\n",
       "      <td>15.0</td>\n",
       "      <td>180.0</td>\n",
       "    </tr>\n",
       "    <tr>\n",
       "      <th>9808</th>\n",
       "      <td>1.42</td>\n",
       "      <td>4.91</td>\n",
       "      <td>5.3</td>\n",
       "      <td>26.0</td>\n",
       "      <td>27.0</td>\n",
       "      <td>75.0</td>\n",
       "      <td>49.0</td>\n",
       "      <td>0.9</td>\n",
       "      <td>14.9</td>\n",
       "      <td>45.1</td>\n",
       "      <td>...</td>\n",
       "      <td>29.3</td>\n",
       "      <td>32.9</td>\n",
       "      <td>5.1</td>\n",
       "      <td>2.9</td>\n",
       "      <td>1.6</td>\n",
       "      <td>0.3</td>\n",
       "      <td>0.2</td>\n",
       "      <td>0.0</td>\n",
       "      <td>13.1</td>\n",
       "      <td>226.0</td>\n",
       "    </tr>\n",
       "    <tr>\n",
       "      <th>9810</th>\n",
       "      <td>1.24</td>\n",
       "      <td>3.93</td>\n",
       "      <td>5.3</td>\n",
       "      <td>13.0</td>\n",
       "      <td>26.0</td>\n",
       "      <td>67.0</td>\n",
       "      <td>41.0</td>\n",
       "      <td>0.2</td>\n",
       "      <td>12.2</td>\n",
       "      <td>37.1</td>\n",
       "      <td>...</td>\n",
       "      <td>29.2</td>\n",
       "      <td>32.8</td>\n",
       "      <td>6.4</td>\n",
       "      <td>3.2</td>\n",
       "      <td>2.5</td>\n",
       "      <td>0.6</td>\n",
       "      <td>0.1</td>\n",
       "      <td>0.0</td>\n",
       "      <td>8.8</td>\n",
       "      <td>213.0</td>\n",
       "    </tr>\n",
       "  </tbody>\n",
       "</table>\n",
       "<p>6547 rows × 22 columns</p>\n",
       "</div>"
      ],
      "text/plain": [
       "      LBDHDDSI  LBDTCSI  LBXSUA  LBXSATSI  LBXSASSI  LBDSTPSI  LBDSALSI  \\\n",
       "0         1.68     4.32     3.3      16.0      16.0      65.0      41.0   \n",
       "1         1.29     4.40     4.7      29.0      18.0      78.0      47.0   \n",
       "2         1.55     3.26     5.7      16.0      22.0      59.0      37.0   \n",
       "4         2.20     5.20     4.2      28.0      36.0      71.0      43.0   \n",
       "5         0.98     5.84     9.1      16.0      24.0      73.0      43.0   \n",
       "...        ...      ...     ...       ...       ...       ...       ...   \n",
       "9802      1.42     3.57     5.7      47.0      24.0      70.0      44.0   \n",
       "9804      1.27     4.81     4.2      23.0      24.0      78.0      41.0   \n",
       "9805      1.32     4.06     6.1      12.0      20.0      60.0      38.0   \n",
       "9808      1.42     4.91     5.3      26.0      27.0      75.0      49.0   \n",
       "9810      1.24     3.93     5.3      13.0      26.0      67.0      41.0   \n",
       "\n",
       "      LBXSTB  LBXHGB  LBXHCT  ...  LBXMCHSI  LBXMC  LBXWBCSI  LBDNENO  \\\n",
       "0        0.8    15.2    45.4  ...      29.9   33.4       4.7      2.0   \n",
       "1        0.9    11.9    36.7  ...      31.0   32.5      12.6      7.4   \n",
       "2        0.6    17.2    49.9  ...      31.1   34.3       7.2      4.9   \n",
       "4        0.5    14.5    43.8  ...      30.6   33.0       6.6      4.5   \n",
       "5        0.5    14.2    41.5  ...      28.8   34.2       9.4      6.5   \n",
       "...      ...     ...     ...  ...       ...    ...       ...      ...   \n",
       "9802     0.7    14.4    41.9  ...      32.2   34.4       6.8      4.4   \n",
       "9804     0.7    14.3    40.1  ...      35.2   35.5       7.7      3.9   \n",
       "9805     0.5    11.8    34.8  ...      31.8   33.9       6.1      4.2   \n",
       "9808     0.9    14.9    45.1  ...      29.3   32.9       5.1      2.9   \n",
       "9810     0.2    12.2    37.1  ...      29.2   32.8       6.4      3.2   \n",
       "\n",
       "      LBDLYMNO  LBDMONO  LBDEONO  LBDBANO  LBDSIRSI  LBXPLTSI  \n",
       "0          2.0      0.5      0.2      0.1      10.4     204.0  \n",
       "1          3.4      1.0      0.8      0.1      14.1     314.0  \n",
       "2          1.0      0.8      0.4      0.1      17.6     237.0  \n",
       "4          1.4      0.5      0.2      0.1      16.3     300.0  \n",
       "5          1.6      0.6      0.6      0.1       9.3     249.0  \n",
       "...        ...      ...      ...      ...       ...       ...  \n",
       "9802       1.4      0.6      0.3      0.1      16.1     152.0  \n",
       "9804       2.9      0.8      0.1      0.0      15.8     181.0  \n",
       "9805       1.2      0.6      0.1      0.1      15.0     180.0  \n",
       "9808       1.6      0.3      0.2      0.0      13.1     226.0  \n",
       "9810       2.5      0.6      0.1      0.0       8.8     213.0  \n",
       "\n",
       "[6547 rows x 22 columns]"
      ]
     },
     "execution_count": 17,
     "metadata": {},
     "output_type": "execute_result"
    }
   ],
   "source": [
    "labs_clean.iloc[:,1:]"
   ]
  },
  {
   "cell_type": "code",
   "execution_count": 18,
   "id": "d0e3e5e4",
   "metadata": {},
   "outputs": [
    {
     "data": {
      "text/plain": [
       "array([[1.68e+00, 4.32e+00, 3.30e+00, ..., 1.00e-01, 1.04e+01, 2.04e+02],\n",
       "       [1.29e+00, 4.40e+00, 4.70e+00, ..., 1.00e-01, 1.41e+01, 3.14e+02],\n",
       "       [1.55e+00, 3.26e+00, 5.70e+00, ..., 1.00e-01, 1.76e+01, 2.37e+02],\n",
       "       ...,\n",
       "       [1.32e+00, 4.06e+00, 6.10e+00, ..., 1.00e-01, 1.50e+01, 1.80e+02],\n",
       "       [1.42e+00, 4.91e+00, 5.30e+00, ..., 0.00e+00, 1.31e+01, 2.26e+02],\n",
       "       [1.24e+00, 3.93e+00, 5.30e+00, ..., 0.00e+00, 8.80e+00, 2.13e+02]])"
      ]
     },
     "execution_count": 18,
     "metadata": {},
     "output_type": "execute_result"
    }
   ],
   "source": [
    "X = labs_clean.iloc[:,1:].values\n",
    "X"
   ]
  },
  {
   "cell_type": "code",
   "execution_count": null,
   "id": "f671a563",
   "metadata": {},
   "outputs": [],
   "source": []
  },
  {
   "cell_type": "markdown",
   "id": "85d8bdc9",
   "metadata": {},
   "source": [
    "# MAIN"
   ]
  },
  {
   "cell_type": "code",
   "execution_count": 19,
   "id": "5a27e8ff",
   "metadata": {
    "scrolled": true
   },
   "outputs": [
    {
     "name": "stdout",
     "output_type": "stream",
     "text": [
      "{'initial_noise_size': 15, 'noise_size': 10, 'hidden_size': 16, 'mlp_size': 32, 'num_layers': 2, 'generator_lr': 0.01, 'discriminator_lr': 0.01, 'batch_size': 128, 'steps': 3000, 'init_mult1': 3, 'init_mult2': 0.5, 'weight_decay': 0.01, 'swa_step_start': 1000, 'steps_per_print': 10, 't_size': 10}\n"
     ]
    }
   ],
   "source": [
    "with open('./Params/model2.json') as f:\n",
    "    params = json.load(f)\n",
    "initial_noise_size = params['initial_noise_size'] # How many noise dimensions to sample at the start of the SDE.\n",
    "noise_size = params['noise_size'] # How many dimensions the Brownian motion has.\n",
    "hidden_size = params['hidden_size'] # How big the hidden size of the generator SDE and the discriminator CDE are.\n",
    "mlp_size = params['mlp_size'] # How big the layers in the various MLPs are.\n",
    "num_layers = params['num_layers'] # How many hidden layers to have in the various MLPs.\n",
    "# Training hyperparameters. Be prepared to tune these very carefully, as with any GAN.\n",
    "generator_lr = params['generator_lr'] # Learning rate often needs careful tuning to the problem.\n",
    "discriminator_lr = params['discriminator_lr'] # Learning rate often needs careful tuning to the problem.\n",
    "batch_size = params['batch_size'] # Batch size.\n",
    "steps = params['steps'] # How many steps to train both generator and discriminator for.\n",
    "init_mult1 = params['init_mult1'] # Changing the initial parameter size can help.\n",
    "init_mult2 = params['init_mult2']\n",
    "weight_decay = params['weight_decay'] # Weight decay.\n",
    "swa_step_start = params['swa_step_start'] # When to start using stochastic weight averaging.\n",
    "steps_per_print = params['steps_per_print'] # How often to print the loss.\n",
    "t_size = params['t_size'] \n",
    "print(params)"
   ]
  },
  {
   "cell_type": "code",
   "execution_count": 20,
   "id": "561ea67f",
   "metadata": {},
   "outputs": [],
   "source": [
    "# plotting hyperparameters\n",
    "# num_plot_samples=50                  # How many samples to use on the plots at the end.\n",
    "# plot_locs=(0.1, 0.3, 0.5, 0.7, 0.9)  # Plot some marginal distributions at this proportion of the way along."
   ]
  },
  {
   "cell_type": "code",
   "execution_count": 21,
   "id": "6ec22b85",
   "metadata": {},
   "outputs": [
    {
     "name": "stdout",
     "output_type": "stream",
     "text": [
      "Warning: CUDA not available; falling back to CPU but this is likely to be very slow.\n"
     ]
    }
   ],
   "source": [
    "is_cuda = torch.cuda.is_available()\n",
    "device = 'cuda' if is_cuda else 'cpu'\n",
    "if not is_cuda:\n",
    "    print(\"Warning: CUDA not available; falling back to CPU but this is likely to be very slow.\")\n",
    "\n",
    "ts = torch.linspace(0, t_size - 1, t_size, device=device)\n",
    "data_size = X.shape[1]"
   ]
  },
  {
   "cell_type": "code",
   "execution_count": 22,
   "id": "40a2615d",
   "metadata": {},
   "outputs": [],
   "source": [
    "# dataloader\n",
    "ys_coeffs = torch.from_numpy(X)\n",
    "ys_coeffs = ys_coeffs.to(torch.float32)\n",
    "ys_coeffs = torch.reshape(ys_coeffs,(X.shape[0],1,X.shape[1]))\n",
    "dataset = torch.utils.data.TensorDataset(ys_coeffs)\n",
    "train_dataloader = torch.utils.data.DataLoader(dataset, batch_size=batch_size, shuffle=True)"
   ]
  },
  {
   "cell_type": "code",
   "execution_count": 23,
   "id": "577310cc",
   "metadata": {},
   "outputs": [],
   "source": [
    "infinite_train_dataloader = (elem for it in iter(lambda: train_dataloader, None) for elem in it)"
   ]
  },
  {
   "cell_type": "code",
   "execution_count": 24,
   "id": "56d8ae37",
   "metadata": {},
   "outputs": [],
   "source": [
    "# Models\n",
    "generator = Generator(data_size, initial_noise_size, noise_size, hidden_size, mlp_size, num_layers).to(device)\n",
    "discriminator = Discriminator(data_size, hidden_size, mlp_size, num_layers).to(device)"
   ]
  },
  {
   "cell_type": "code",
   "execution_count": 25,
   "id": "c929660f",
   "metadata": {},
   "outputs": [
    {
     "data": {
      "text/plain": [
       "Generator(\n",
       "  (_initial): MLP(\n",
       "    (_model): Sequential(\n",
       "      (0): Linear(in_features=15, out_features=32, bias=True)\n",
       "      (1): ReLU()\n",
       "      (2): Linear(in_features=32, out_features=32, bias=True)\n",
       "      (3): ReLU()\n",
       "      (4): Linear(in_features=32, out_features=16, bias=True)\n",
       "    )\n",
       "  )\n",
       "  (_func): GeneratorFunc(\n",
       "    (_drift): MLP(\n",
       "      (_model): Sequential(\n",
       "        (0): Linear(in_features=17, out_features=32, bias=True)\n",
       "        (1): ReLU()\n",
       "        (2): Linear(in_features=32, out_features=32, bias=True)\n",
       "        (3): ReLU()\n",
       "        (4): Linear(in_features=32, out_features=16, bias=True)\n",
       "      )\n",
       "    )\n",
       "    (_diffusion): MLP(\n",
       "      (_model): Sequential(\n",
       "        (0): Linear(in_features=17, out_features=32, bias=True)\n",
       "        (1): ReLU()\n",
       "        (2): Linear(in_features=32, out_features=32, bias=True)\n",
       "        (3): ReLU()\n",
       "        (4): Linear(in_features=32, out_features=160, bias=True)\n",
       "      )\n",
       "    )\n",
       "  )\n",
       "  (_readout): Linear(in_features=16, out_features=22, bias=True)\n",
       ")"
      ]
     },
     "execution_count": 25,
     "metadata": {},
     "output_type": "execute_result"
    }
   ],
   "source": [
    "generator"
   ]
  },
  {
   "cell_type": "code",
   "execution_count": 26,
   "id": "5edb135c",
   "metadata": {},
   "outputs": [
    {
     "data": {
      "text/plain": [
       "Discriminator(\n",
       "  (_initial): MLP(\n",
       "    (_model): Sequential(\n",
       "      (0): Linear(in_features=22, out_features=32, bias=True)\n",
       "      (1): ReLU()\n",
       "      (2): Linear(in_features=32, out_features=32, bias=True)\n",
       "      (3): ReLU()\n",
       "      (4): Linear(in_features=32, out_features=16, bias=True)\n",
       "    )\n",
       "  )\n",
       "  (_readout): Linear(in_features=16, out_features=1, bias=True)\n",
       ")"
      ]
     },
     "execution_count": 26,
     "metadata": {},
     "output_type": "execute_result"
    }
   ],
   "source": [
    "discriminator"
   ]
  },
  {
   "cell_type": "code",
   "execution_count": 27,
   "id": "302ae39b",
   "metadata": {},
   "outputs": [],
   "source": [
    "# Weight averaging really helps with GAN training.\n",
    "averaged_generator = swa_utils.AveragedModel(generator)\n",
    "averaged_discriminator = swa_utils.AveragedModel(discriminator)"
   ]
  },
  {
   "cell_type": "code",
   "execution_count": 28,
   "id": "8acf3488",
   "metadata": {},
   "outputs": [],
   "source": [
    "# Picking a good initialisation is important!\n",
    "# In this case these were picked by making the parameters for the t=0 part of the generator be roughly the right\n",
    "# size that the untrained t=0 distribution has a similar variance to the t=0 data distribution.\n",
    "# Then the func parameters were adjusted so that the t>0 distribution looked like it had about the right variance.\n",
    "# What we're doing here is very crude -- one can definitely imagine smarter ways of doing things.\n",
    "# (e.g. pretraining the t=0 distribution)\n",
    "with torch.no_grad():\n",
    "    for param in generator._initial.parameters():\n",
    "        param *= init_mult1\n",
    "    for param in generator._func.parameters():\n",
    "        param *= init_mult2\n"
   ]
  },
  {
   "cell_type": "code",
   "execution_count": 29,
   "id": "703f13a6",
   "metadata": {},
   "outputs": [],
   "source": [
    "# Optimisers. Adadelta turns out to be a much better choice than SGD or Adam, interestingly.\n",
    "generator_optimiser = torch.optim.Adadelta(generator.parameters(), lr=generator_lr, weight_decay=weight_decay)\n",
    "discriminator_optimiser = torch.optim.Adadelta(discriminator.parameters(), lr=discriminator_lr,\n",
    "                                               weight_decay=weight_decay)"
   ]
  },
  {
   "cell_type": "code",
   "execution_count": 30,
   "id": "7169f48e",
   "metadata": {},
   "outputs": [],
   "source": [
    "def evaluate_loss(ts, batch_size, dataloader, generator, discriminator):\n",
    "    with torch.no_grad():\n",
    "        total_samples = 0\n",
    "        total_loss = 0\n",
    "        for real_samples, in dataloader:\n",
    "            generated_samples = generator(ts, batch_size)\n",
    "            generated_score = discriminator(generated_samples)\n",
    "            real_score = discriminator(real_samples)\n",
    "            loss = generated_score - real_score\n",
    "            total_samples += batch_size\n",
    "            total_loss += loss.item() * batch_size\n",
    "    return total_loss / total_samples"
   ]
  },
  {
   "cell_type": "code",
   "execution_count": 31,
   "id": "6f18f783",
   "metadata": {
    "scrolled": true
   },
   "outputs": [
    {
     "name": "stderr",
     "output_type": "stream",
     "text": [
      "                                                                                                                       \r"
     ]
    },
    {
     "name": "stdout",
     "output_type": "stream",
     "text": [
      "Step:   0 Loss (unaveraged): 0.0796\n"
     ]
    },
    {
     "name": "stderr",
     "output_type": "stream",
     "text": [
      "                                                                                                                       \r"
     ]
    },
    {
     "name": "stdout",
     "output_type": "stream",
     "text": [
      "Step:  10 Loss (unaveraged): 0.0738\n"
     ]
    },
    {
     "name": "stderr",
     "output_type": "stream",
     "text": [
      "                                                                                                                       \r"
     ]
    },
    {
     "name": "stdout",
     "output_type": "stream",
     "text": [
      "Step:  20 Loss (unaveraged): 0.0668\n"
     ]
    },
    {
     "name": "stderr",
     "output_type": "stream",
     "text": [
      "                                                                                                                       \r"
     ]
    },
    {
     "name": "stdout",
     "output_type": "stream",
     "text": [
      "Step:  30 Loss (unaveraged): 0.0588\n"
     ]
    },
    {
     "name": "stderr",
     "output_type": "stream",
     "text": [
      "                                                                                                                       \r"
     ]
    },
    {
     "name": "stdout",
     "output_type": "stream",
     "text": [
      "Step:  40 Loss (unaveraged): 0.0496\n"
     ]
    },
    {
     "name": "stderr",
     "output_type": "stream",
     "text": [
      "                                                                                                                       \r"
     ]
    },
    {
     "name": "stdout",
     "output_type": "stream",
     "text": [
      "Step:  50 Loss (unaveraged): 0.0386\n"
     ]
    },
    {
     "name": "stderr",
     "output_type": "stream",
     "text": [
      "                                                                                                                       \r"
     ]
    },
    {
     "name": "stdout",
     "output_type": "stream",
     "text": [
      "Step:  60 Loss (unaveraged): 0.0253\n"
     ]
    },
    {
     "name": "stderr",
     "output_type": "stream",
     "text": [
      "                                                                                                                       \r"
     ]
    },
    {
     "name": "stdout",
     "output_type": "stream",
     "text": [
      "Step:  70 Loss (unaveraged): 0.0080\n"
     ]
    },
    {
     "name": "stderr",
     "output_type": "stream",
     "text": [
      "                                                                                                                       \r"
     ]
    },
    {
     "name": "stdout",
     "output_type": "stream",
     "text": [
      "Step:  80 Loss (unaveraged): -0.0163\n"
     ]
    },
    {
     "name": "stderr",
     "output_type": "stream",
     "text": [
      "                                                                                                                       \r"
     ]
    },
    {
     "name": "stdout",
     "output_type": "stream",
     "text": [
      "Step:  90 Loss (unaveraged): -0.0528\n"
     ]
    },
    {
     "name": "stderr",
     "output_type": "stream",
     "text": [
      "                                                                                                                       \r"
     ]
    },
    {
     "name": "stdout",
     "output_type": "stream",
     "text": [
      "Step: 100 Loss (unaveraged): -0.1092\n"
     ]
    },
    {
     "name": "stderr",
     "output_type": "stream",
     "text": [
      "                                                                                                                       \r"
     ]
    },
    {
     "name": "stdout",
     "output_type": "stream",
     "text": [
      "Step: 110 Loss (unaveraged): -0.1960\n"
     ]
    },
    {
     "name": "stderr",
     "output_type": "stream",
     "text": [
      "                                                                                                                       \r"
     ]
    },
    {
     "name": "stdout",
     "output_type": "stream",
     "text": [
      "Step: 120 Loss (unaveraged): -0.3100\n"
     ]
    },
    {
     "name": "stderr",
     "output_type": "stream",
     "text": [
      "                                                                                                                       \r"
     ]
    },
    {
     "name": "stdout",
     "output_type": "stream",
     "text": [
      "Step: 130 Loss (unaveraged): -0.4372\n"
     ]
    },
    {
     "name": "stderr",
     "output_type": "stream",
     "text": [
      "                                                                                                                       \r"
     ]
    },
    {
     "name": "stdout",
     "output_type": "stream",
     "text": [
      "Step: 140 Loss (unaveraged): -0.5594\n"
     ]
    },
    {
     "name": "stderr",
     "output_type": "stream",
     "text": [
      "                                                                                                                       \r"
     ]
    },
    {
     "name": "stdout",
     "output_type": "stream",
     "text": [
      "Step: 150 Loss (unaveraged): -0.7000\n"
     ]
    },
    {
     "name": "stderr",
     "output_type": "stream",
     "text": [
      "                                                                                                                       \r"
     ]
    },
    {
     "name": "stdout",
     "output_type": "stream",
     "text": [
      "Step: 160 Loss (unaveraged): -0.8256\n"
     ]
    },
    {
     "name": "stderr",
     "output_type": "stream",
     "text": [
      "                                                                                                                       \r"
     ]
    },
    {
     "name": "stdout",
     "output_type": "stream",
     "text": [
      "Step: 170 Loss (unaveraged): -0.9611\n"
     ]
    },
    {
     "name": "stderr",
     "output_type": "stream",
     "text": [
      "                                                                                                                       \r"
     ]
    },
    {
     "name": "stdout",
     "output_type": "stream",
     "text": [
      "Step: 180 Loss (unaveraged): -1.1361\n"
     ]
    },
    {
     "name": "stderr",
     "output_type": "stream",
     "text": [
      "                                                                                                                       \r"
     ]
    },
    {
     "name": "stdout",
     "output_type": "stream",
     "text": [
      "Step: 190 Loss (unaveraged): -1.3563\n"
     ]
    },
    {
     "name": "stderr",
     "output_type": "stream",
     "text": [
      "                                                                                                                       \r"
     ]
    },
    {
     "name": "stdout",
     "output_type": "stream",
     "text": [
      "Step: 200 Loss (unaveraged): -1.6331\n"
     ]
    },
    {
     "name": "stderr",
     "output_type": "stream",
     "text": [
      "                                                                                                                       \r"
     ]
    },
    {
     "name": "stdout",
     "output_type": "stream",
     "text": [
      "Step: 210 Loss (unaveraged): -1.9518\n"
     ]
    },
    {
     "name": "stderr",
     "output_type": "stream",
     "text": [
      "                                                                                                                       \r"
     ]
    },
    {
     "name": "stdout",
     "output_type": "stream",
     "text": [
      "Step: 220 Loss (unaveraged): -2.3143\n"
     ]
    },
    {
     "name": "stderr",
     "output_type": "stream",
     "text": [
      "                                                                                                                       \r"
     ]
    },
    {
     "name": "stdout",
     "output_type": "stream",
     "text": [
      "Step: 230 Loss (unaveraged): -2.6983\n"
     ]
    },
    {
     "name": "stderr",
     "output_type": "stream",
     "text": [
      "                                                                                                                       \r"
     ]
    },
    {
     "name": "stdout",
     "output_type": "stream",
     "text": [
      "Step: 240 Loss (unaveraged): -3.1057\n"
     ]
    },
    {
     "name": "stderr",
     "output_type": "stream",
     "text": [
      "                                                                                                                       \r"
     ]
    },
    {
     "name": "stdout",
     "output_type": "stream",
     "text": [
      "Step: 250 Loss (unaveraged): -3.5232\n"
     ]
    },
    {
     "name": "stderr",
     "output_type": "stream",
     "text": [
      "                                                                                                                       \r"
     ]
    },
    {
     "name": "stdout",
     "output_type": "stream",
     "text": [
      "Step: 260 Loss (unaveraged): -4.0154\n"
     ]
    },
    {
     "name": "stderr",
     "output_type": "stream",
     "text": [
      "                                                                                                                       \r"
     ]
    },
    {
     "name": "stdout",
     "output_type": "stream",
     "text": [
      "Step: 270 Loss (unaveraged): -4.5513\n"
     ]
    },
    {
     "name": "stderr",
     "output_type": "stream",
     "text": [
      "                                                                                                                       \r"
     ]
    },
    {
     "name": "stdout",
     "output_type": "stream",
     "text": [
      "Step: 280 Loss (unaveraged): -5.1177\n"
     ]
    },
    {
     "name": "stderr",
     "output_type": "stream",
     "text": [
      "                                                                                                                       \r"
     ]
    },
    {
     "name": "stdout",
     "output_type": "stream",
     "text": [
      "Step: 290 Loss (unaveraged): -5.5768\n"
     ]
    },
    {
     "name": "stderr",
     "output_type": "stream",
     "text": [
      "                                                                                                                       \r"
     ]
    },
    {
     "name": "stdout",
     "output_type": "stream",
     "text": [
      "Step: 300 Loss (unaveraged): -6.0524\n"
     ]
    },
    {
     "name": "stderr",
     "output_type": "stream",
     "text": [
      "                                                                                                                       \r"
     ]
    },
    {
     "name": "stdout",
     "output_type": "stream",
     "text": [
      "Step: 310 Loss (unaveraged): -6.5786\n"
     ]
    },
    {
     "name": "stderr",
     "output_type": "stream",
     "text": [
      "                                                                                                                       \r"
     ]
    },
    {
     "name": "stdout",
     "output_type": "stream",
     "text": [
      "Step: 320 Loss (unaveraged): -7.1449\n"
     ]
    },
    {
     "name": "stderr",
     "output_type": "stream",
     "text": [
      "                                                                                                                       \r"
     ]
    },
    {
     "name": "stdout",
     "output_type": "stream",
     "text": [
      "Step: 330 Loss (unaveraged): -7.7795\n"
     ]
    },
    {
     "name": "stderr",
     "output_type": "stream",
     "text": [
      "                                                                                                                       \r"
     ]
    },
    {
     "name": "stdout",
     "output_type": "stream",
     "text": [
      "Step: 340 Loss (unaveraged): -8.5373\n"
     ]
    },
    {
     "name": "stderr",
     "output_type": "stream",
     "text": [
      "                                                                                                                       \r"
     ]
    },
    {
     "name": "stdout",
     "output_type": "stream",
     "text": [
      "Step: 350 Loss (unaveraged): -9.4282\n"
     ]
    },
    {
     "name": "stderr",
     "output_type": "stream",
     "text": [
      "                                                                                                                       \r"
     ]
    },
    {
     "name": "stdout",
     "output_type": "stream",
     "text": [
      "Step: 360 Loss (unaveraged): -10.5116\n"
     ]
    },
    {
     "name": "stderr",
     "output_type": "stream",
     "text": [
      "                                                                                                                       \r"
     ]
    },
    {
     "name": "stdout",
     "output_type": "stream",
     "text": [
      "Step: 370 Loss (unaveraged): -11.9276\n"
     ]
    },
    {
     "name": "stderr",
     "output_type": "stream",
     "text": [
      "                                                                                                                       \r"
     ]
    },
    {
     "name": "stdout",
     "output_type": "stream",
     "text": [
      "Step: 380 Loss (unaveraged): -13.6136\n"
     ]
    },
    {
     "name": "stderr",
     "output_type": "stream",
     "text": [
      "                                                                                                                       \r"
     ]
    },
    {
     "name": "stdout",
     "output_type": "stream",
     "text": [
      "Step: 390 Loss (unaveraged): -15.5390\n"
     ]
    },
    {
     "name": "stderr",
     "output_type": "stream",
     "text": [
      "                                                                                                                       \r"
     ]
    },
    {
     "name": "stdout",
     "output_type": "stream",
     "text": [
      "Step: 400 Loss (unaveraged): -17.8000\n"
     ]
    },
    {
     "name": "stderr",
     "output_type": "stream",
     "text": [
      "                                                                                                                       \r"
     ]
    },
    {
     "name": "stdout",
     "output_type": "stream",
     "text": [
      "Step: 410 Loss (unaveraged): -20.6334\n"
     ]
    },
    {
     "name": "stderr",
     "output_type": "stream",
     "text": [
      "                                                                                                                       \r"
     ]
    },
    {
     "name": "stdout",
     "output_type": "stream",
     "text": [
      "Step: 420 Loss (unaveraged): -23.2180\n"
     ]
    },
    {
     "name": "stderr",
     "output_type": "stream",
     "text": [
      "                                                                                                                       \r"
     ]
    },
    {
     "name": "stdout",
     "output_type": "stream",
     "text": [
      "Step: 430 Loss (unaveraged): -25.6657\n"
     ]
    },
    {
     "name": "stderr",
     "output_type": "stream",
     "text": [
      "                                                                                                                       \r"
     ]
    },
    {
     "name": "stdout",
     "output_type": "stream",
     "text": [
      "Step: 440 Loss (unaveraged): -27.5415\n"
     ]
    },
    {
     "name": "stderr",
     "output_type": "stream",
     "text": [
      "                                                                                                                       \r"
     ]
    },
    {
     "name": "stdout",
     "output_type": "stream",
     "text": [
      "Step: 450 Loss (unaveraged): -29.2925\n"
     ]
    },
    {
     "name": "stderr",
     "output_type": "stream",
     "text": [
      "                                                                                                                       \r"
     ]
    },
    {
     "name": "stdout",
     "output_type": "stream",
     "text": [
      "Step: 460 Loss (unaveraged): -30.9174\n"
     ]
    },
    {
     "name": "stderr",
     "output_type": "stream",
     "text": [
      "                                                                                                                       \r"
     ]
    },
    {
     "name": "stdout",
     "output_type": "stream",
     "text": [
      "Step: 470 Loss (unaveraged): -32.3652\n"
     ]
    },
    {
     "name": "stderr",
     "output_type": "stream",
     "text": [
      "                                                                                                                       \r"
     ]
    },
    {
     "name": "stdout",
     "output_type": "stream",
     "text": [
      "Step: 480 Loss (unaveraged): -33.7193\n"
     ]
    },
    {
     "name": "stderr",
     "output_type": "stream",
     "text": [
      "                                                                                                                       \r"
     ]
    },
    {
     "name": "stdout",
     "output_type": "stream",
     "text": [
      "Step: 490 Loss (unaveraged): -34.7412\n"
     ]
    },
    {
     "name": "stderr",
     "output_type": "stream",
     "text": [
      "                                                                                                                       \r"
     ]
    },
    {
     "name": "stdout",
     "output_type": "stream",
     "text": [
      "Step: 500 Loss (unaveraged): -33.5939\n"
     ]
    },
    {
     "name": "stderr",
     "output_type": "stream",
     "text": [
      "                                                                                                                       \r"
     ]
    },
    {
     "name": "stdout",
     "output_type": "stream",
     "text": [
      "Step: 510 Loss (unaveraged): -37.8986\n"
     ]
    },
    {
     "name": "stderr",
     "output_type": "stream",
     "text": [
      "                                                                                                                       \r"
     ]
    },
    {
     "name": "stdout",
     "output_type": "stream",
     "text": [
      "Step: 520 Loss (unaveraged): -35.3248\n"
     ]
    },
    {
     "name": "stderr",
     "output_type": "stream",
     "text": [
      "                                                                                                                       \r"
     ]
    },
    {
     "name": "stdout",
     "output_type": "stream",
     "text": [
      "Step: 530 Loss (unaveraged): -2.9893\n"
     ]
    },
    {
     "name": "stderr",
     "output_type": "stream",
     "text": [
      "                                                                                                                       \r"
     ]
    },
    {
     "name": "stdout",
     "output_type": "stream",
     "text": [
      "Step: 540 Loss (unaveraged): -0.1746\n"
     ]
    },
    {
     "name": "stderr",
     "output_type": "stream",
     "text": [
      "                                                                                                                       \r"
     ]
    },
    {
     "name": "stdout",
     "output_type": "stream",
     "text": [
      "Step: 550 Loss (unaveraged): -2.8000\n"
     ]
    },
    {
     "name": "stderr",
     "output_type": "stream",
     "text": [
      "                                                                                                                       \r"
     ]
    },
    {
     "name": "stdout",
     "output_type": "stream",
     "text": [
      "Step: 560 Loss (unaveraged): -7.3379\n"
     ]
    },
    {
     "name": "stderr",
     "output_type": "stream",
     "text": [
      "                                                                                                                       \r"
     ]
    },
    {
     "name": "stdout",
     "output_type": "stream",
     "text": [
      "Step: 570 Loss (unaveraged): -11.0764\n"
     ]
    },
    {
     "name": "stderr",
     "output_type": "stream",
     "text": [
      "                                                                                                                       \r"
     ]
    },
    {
     "name": "stdout",
     "output_type": "stream",
     "text": [
      "Step: 580 Loss (unaveraged): -14.1719\n"
     ]
    },
    {
     "name": "stderr",
     "output_type": "stream",
     "text": [
      "                                                                                                                       \r"
     ]
    },
    {
     "name": "stdout",
     "output_type": "stream",
     "text": [
      "Step: 590 Loss (unaveraged): -15.7660\n"
     ]
    },
    {
     "name": "stderr",
     "output_type": "stream",
     "text": [
      "                                                                                                                       \r"
     ]
    },
    {
     "name": "stdout",
     "output_type": "stream",
     "text": [
      "Step: 600 Loss (unaveraged): -13.3689\n"
     ]
    },
    {
     "name": "stderr",
     "output_type": "stream",
     "text": [
      "                                                                                                                       \r"
     ]
    },
    {
     "name": "stdout",
     "output_type": "stream",
     "text": [
      "Step: 610 Loss (unaveraged): -1.4010\n"
     ]
    },
    {
     "name": "stderr",
     "output_type": "stream",
     "text": [
      "                                                                                                                       \r"
     ]
    },
    {
     "name": "stdout",
     "output_type": "stream",
     "text": [
      "Step: 620 Loss (unaveraged): -1.3503\n"
     ]
    },
    {
     "name": "stderr",
     "output_type": "stream",
     "text": [
      "                                                                                                                       \r"
     ]
    },
    {
     "name": "stdout",
     "output_type": "stream",
     "text": [
      "Step: 630 Loss (unaveraged): 3.5174\n"
     ]
    },
    {
     "name": "stderr",
     "output_type": "stream",
     "text": [
      "                                                                                                                       \r"
     ]
    },
    {
     "name": "stdout",
     "output_type": "stream",
     "text": [
      "Step: 640 Loss (unaveraged): 3.7455\n"
     ]
    },
    {
     "name": "stderr",
     "output_type": "stream",
     "text": [
      "                                                                                                                       \r"
     ]
    },
    {
     "name": "stdout",
     "output_type": "stream",
     "text": [
      "Step: 650 Loss (unaveraged): 2.6725\n"
     ]
    },
    {
     "name": "stderr",
     "output_type": "stream",
     "text": [
      "                                                                                                                       \r"
     ]
    },
    {
     "name": "stdout",
     "output_type": "stream",
     "text": [
      "Step: 660 Loss (unaveraged): 1.3937\n"
     ]
    },
    {
     "name": "stderr",
     "output_type": "stream",
     "text": [
      "                                                                                                                       \r"
     ]
    },
    {
     "name": "stdout",
     "output_type": "stream",
     "text": [
      "Step: 670 Loss (unaveraged): 0.1583\n"
     ]
    },
    {
     "name": "stderr",
     "output_type": "stream",
     "text": [
      "                                                                                                                       \r"
     ]
    },
    {
     "name": "stdout",
     "output_type": "stream",
     "text": [
      "Step: 680 Loss (unaveraged): -0.9011\n"
     ]
    },
    {
     "name": "stderr",
     "output_type": "stream",
     "text": [
      "                                                                                                                       \r"
     ]
    },
    {
     "name": "stdout",
     "output_type": "stream",
     "text": [
      "Step: 690 Loss (unaveraged): -1.3087\n"
     ]
    },
    {
     "name": "stderr",
     "output_type": "stream",
     "text": [
      "                                                                                                                       \r"
     ]
    },
    {
     "name": "stdout",
     "output_type": "stream",
     "text": [
      "Step: 700 Loss (unaveraged): -0.4931\n"
     ]
    },
    {
     "name": "stderr",
     "output_type": "stream",
     "text": [
      "                                                                                                                       \r"
     ]
    },
    {
     "name": "stdout",
     "output_type": "stream",
     "text": [
      "Step: 710 Loss (unaveraged): -0.7623\n"
     ]
    },
    {
     "name": "stderr",
     "output_type": "stream",
     "text": [
      "                                                                                                                       \r"
     ]
    },
    {
     "name": "stdout",
     "output_type": "stream",
     "text": [
      "Step: 720 Loss (unaveraged): -4.0023\n"
     ]
    },
    {
     "name": "stderr",
     "output_type": "stream",
     "text": [
      "                                                                                                                       \r"
     ]
    },
    {
     "name": "stdout",
     "output_type": "stream",
     "text": [
      "Step: 730 Loss (unaveraged): -2.8365\n"
     ]
    },
    {
     "name": "stderr",
     "output_type": "stream",
     "text": [
      "                                                                                                                       \r"
     ]
    },
    {
     "name": "stdout",
     "output_type": "stream",
     "text": [
      "Step: 740 Loss (unaveraged): -2.0726\n"
     ]
    },
    {
     "name": "stderr",
     "output_type": "stream",
     "text": [
      "                                                                                                                       \r"
     ]
    },
    {
     "name": "stdout",
     "output_type": "stream",
     "text": [
      "Step: 750 Loss (unaveraged): -2.3102\n"
     ]
    },
    {
     "name": "stderr",
     "output_type": "stream",
     "text": [
      "                                                                                                                       \r"
     ]
    },
    {
     "name": "stdout",
     "output_type": "stream",
     "text": [
      "Step: 760 Loss (unaveraged): -3.0827\n"
     ]
    },
    {
     "name": "stderr",
     "output_type": "stream",
     "text": [
      "                                                                                                                       \r"
     ]
    },
    {
     "name": "stdout",
     "output_type": "stream",
     "text": [
      "Step: 770 Loss (unaveraged): -3.8791\n"
     ]
    },
    {
     "name": "stderr",
     "output_type": "stream",
     "text": [
      "                                                                                                                       \r"
     ]
    },
    {
     "name": "stdout",
     "output_type": "stream",
     "text": [
      "Step: 780 Loss (unaveraged): -4.2202\n"
     ]
    },
    {
     "name": "stderr",
     "output_type": "stream",
     "text": [
      "                                                                                                                       \r"
     ]
    },
    {
     "name": "stdout",
     "output_type": "stream",
     "text": [
      "Step: 790 Loss (unaveraged): -3.4447\n"
     ]
    },
    {
     "name": "stderr",
     "output_type": "stream",
     "text": [
      "                                                                                                                       \r"
     ]
    },
    {
     "name": "stdout",
     "output_type": "stream",
     "text": [
      "Step: 800 Loss (unaveraged): -0.8746\n"
     ]
    },
    {
     "name": "stderr",
     "output_type": "stream",
     "text": [
      "                                                                                                                       \r"
     ]
    },
    {
     "name": "stdout",
     "output_type": "stream",
     "text": [
      "Step: 810 Loss (unaveraged): -0.2566\n"
     ]
    },
    {
     "name": "stderr",
     "output_type": "stream",
     "text": [
      "                                                                                                                       \r"
     ]
    },
    {
     "name": "stdout",
     "output_type": "stream",
     "text": [
      "Step: 820 Loss (unaveraged): -4.3190\n"
     ]
    },
    {
     "name": "stderr",
     "output_type": "stream",
     "text": [
      "                                                                                                                       \r"
     ]
    },
    {
     "name": "stdout",
     "output_type": "stream",
     "text": [
      "Step: 830 Loss (unaveraged): -1.5052\n"
     ]
    },
    {
     "name": "stderr",
     "output_type": "stream",
     "text": [
      "                                                                                                                       \r"
     ]
    },
    {
     "name": "stdout",
     "output_type": "stream",
     "text": [
      "Step: 840 Loss (unaveraged): 0.1075\n"
     ]
    },
    {
     "name": "stderr",
     "output_type": "stream",
     "text": [
      "                                                                                                                       \r"
     ]
    },
    {
     "name": "stdout",
     "output_type": "stream",
     "text": [
      "Step: 850 Loss (unaveraged): 0.7833\n"
     ]
    },
    {
     "name": "stderr",
     "output_type": "stream",
     "text": [
      "                                                                                                                       \r"
     ]
    },
    {
     "name": "stdout",
     "output_type": "stream",
     "text": [
      "Step: 860 Loss (unaveraged): 0.8112\n"
     ]
    },
    {
     "name": "stderr",
     "output_type": "stream",
     "text": [
      "                                                                                                                       \r"
     ]
    },
    {
     "name": "stdout",
     "output_type": "stream",
     "text": [
      "Step: 870 Loss (unaveraged): 0.5313\n"
     ]
    },
    {
     "name": "stderr",
     "output_type": "stream",
     "text": [
      "                                                                                                                       \r"
     ]
    },
    {
     "name": "stdout",
     "output_type": "stream",
     "text": [
      "Step: 880 Loss (unaveraged): 0.1425\n"
     ]
    },
    {
     "name": "stderr",
     "output_type": "stream",
     "text": [
      "                                                                                                                       \r"
     ]
    },
    {
     "name": "stdout",
     "output_type": "stream",
     "text": [
      "Step: 890 Loss (unaveraged): -0.1941\n"
     ]
    },
    {
     "name": "stderr",
     "output_type": "stream",
     "text": [
      "                                                                                                                       \r"
     ]
    },
    {
     "name": "stdout",
     "output_type": "stream",
     "text": [
      "Step: 900 Loss (unaveraged): -0.3602\n"
     ]
    },
    {
     "name": "stderr",
     "output_type": "stream",
     "text": [
      "                                                                                                                       \r"
     ]
    },
    {
     "name": "stdout",
     "output_type": "stream",
     "text": [
      "Step: 910 Loss (unaveraged): -0.1865\n"
     ]
    },
    {
     "name": "stderr",
     "output_type": "stream",
     "text": [
      "                                                                                                                       \r"
     ]
    },
    {
     "name": "stdout",
     "output_type": "stream",
     "text": [
      "Step: 920 Loss (unaveraged): 0.3506\n"
     ]
    },
    {
     "name": "stderr",
     "output_type": "stream",
     "text": [
      "                                                                                                                       \r"
     ]
    },
    {
     "name": "stdout",
     "output_type": "stream",
     "text": [
      "Step: 930 Loss (unaveraged): 0.7568\n"
     ]
    },
    {
     "name": "stderr",
     "output_type": "stream",
     "text": [
      "                                                                                                                       \r"
     ]
    },
    {
     "name": "stdout",
     "output_type": "stream",
     "text": [
      "Step: 940 Loss (unaveraged): -0.4112\n"
     ]
    },
    {
     "name": "stderr",
     "output_type": "stream",
     "text": [
      "                                                                                                                       \r"
     ]
    },
    {
     "name": "stdout",
     "output_type": "stream",
     "text": [
      "Step: 950 Loss (unaveraged): -1.2335\n"
     ]
    },
    {
     "name": "stderr",
     "output_type": "stream",
     "text": [
      "                                                                                                                       \r"
     ]
    },
    {
     "name": "stdout",
     "output_type": "stream",
     "text": [
      "Step: 960 Loss (unaveraged): -0.7063\n"
     ]
    },
    {
     "name": "stderr",
     "output_type": "stream",
     "text": [
      "                                                                                                                       \r"
     ]
    },
    {
     "name": "stdout",
     "output_type": "stream",
     "text": [
      "Step: 970 Loss (unaveraged): -0.1796\n"
     ]
    },
    {
     "name": "stderr",
     "output_type": "stream",
     "text": [
      "                                                                                                                       \r"
     ]
    },
    {
     "name": "stdout",
     "output_type": "stream",
     "text": [
      "Step: 980 Loss (unaveraged): -0.0319\n"
     ]
    },
    {
     "name": "stderr",
     "output_type": "stream",
     "text": [
      "                                                                                                                       \r"
     ]
    },
    {
     "name": "stdout",
     "output_type": "stream",
     "text": [
      "Step: 990 Loss (unaveraged): -0.2392\n"
     ]
    },
    {
     "name": "stderr",
     "output_type": "stream",
     "text": [
      "                                                                                                                       \r"
     ]
    },
    {
     "name": "stdout",
     "output_type": "stream",
     "text": [
      "Step: 1000 Loss (unaveraged): -0.6119\n"
     ]
    },
    {
     "name": "stderr",
     "output_type": "stream",
     "text": [
      "                                                                                                                       \r"
     ]
    },
    {
     "name": "stdout",
     "output_type": "stream",
     "text": [
      "Step: 1010 Loss (unaveraged): -0.9828 Loss (averaged): -0.8242\n"
     ]
    },
    {
     "name": "stderr",
     "output_type": "stream",
     "text": [
      "                                                                                                                       \r"
     ]
    },
    {
     "name": "stdout",
     "output_type": "stream",
     "text": [
      "Step: 1020 Loss (unaveraged): -1.1663 Loss (averaged): -0.9749\n"
     ]
    },
    {
     "name": "stderr",
     "output_type": "stream",
     "text": [
      "                                                                                                                       \r"
     ]
    },
    {
     "name": "stdout",
     "output_type": "stream",
     "text": [
      "Step: 1030 Loss (unaveraged): -1.0141 Loss (averaged): -1.0682\n"
     ]
    },
    {
     "name": "stderr",
     "output_type": "stream",
     "text": [
      "                                                                                                                       \r"
     ]
    },
    {
     "name": "stdout",
     "output_type": "stream",
     "text": [
      "Step: 1040 Loss (unaveraged): -0.4301 Loss (averaged): -1.0503\n"
     ]
    },
    {
     "name": "stderr",
     "output_type": "stream",
     "text": [
      "                                                                                                                       \r"
     ]
    },
    {
     "name": "stdout",
     "output_type": "stream",
     "text": [
      "Step: 1050 Loss (unaveraged): 0.1118 Loss (averaged): -0.9324\n"
     ]
    },
    {
     "name": "stderr",
     "output_type": "stream",
     "text": [
      "                                                                                                                       \r"
     ]
    },
    {
     "name": "stdout",
     "output_type": "stream",
     "text": [
      "Step: 1060 Loss (unaveraged): -0.4989 Loss (averaged): -0.7496\n"
     ]
    },
    {
     "name": "stderr",
     "output_type": "stream",
     "text": [
      "                                                                                                                       \r"
     ]
    },
    {
     "name": "stdout",
     "output_type": "stream",
     "text": [
      "Step: 1070 Loss (unaveraged): -1.3914 Loss (averaged): -0.6144\n"
     ]
    },
    {
     "name": "stderr",
     "output_type": "stream",
     "text": [
      "                                                                                                                       \r"
     ]
    },
    {
     "name": "stdout",
     "output_type": "stream",
     "text": [
      "Step: 1080 Loss (unaveraged): -0.8055 Loss (averaged): -0.5762\n"
     ]
    },
    {
     "name": "stderr",
     "output_type": "stream",
     "text": [
      "                                                                                                                       \r"
     ]
    },
    {
     "name": "stdout",
     "output_type": "stream",
     "text": [
      "Step: 1090 Loss (unaveraged): 0.1908 Loss (averaged): -0.5731\n"
     ]
    },
    {
     "name": "stderr",
     "output_type": "stream",
     "text": [
      "                                                                                                                       \r"
     ]
    },
    {
     "name": "stdout",
     "output_type": "stream",
     "text": [
      "Step: 1100 Loss (unaveraged): 0.6379 Loss (averaged): -0.5555\n"
     ]
    },
    {
     "name": "stderr",
     "output_type": "stream",
     "text": [
      "                                                                                                                       \r"
     ]
    },
    {
     "name": "stdout",
     "output_type": "stream",
     "text": [
      "Step: 1110 Loss (unaveraged): 0.5295 Loss (averaged): -0.5219\n"
     ]
    },
    {
     "name": "stderr",
     "output_type": "stream",
     "text": [
      "                                                                                                                       \r"
     ]
    },
    {
     "name": "stdout",
     "output_type": "stream",
     "text": [
      "Step: 1120 Loss (unaveraged): 0.2947 Loss (averaged): -0.4715\n"
     ]
    },
    {
     "name": "stderr",
     "output_type": "stream",
     "text": [
      "                                                                                                                       \r"
     ]
    },
    {
     "name": "stdout",
     "output_type": "stream",
     "text": [
      "Step: 1130 Loss (unaveraged): 0.5494 Loss (averaged): -0.4086\n"
     ]
    },
    {
     "name": "stderr",
     "output_type": "stream",
     "text": [
      "                                                                                                                       \r"
     ]
    },
    {
     "name": "stdout",
     "output_type": "stream",
     "text": [
      "Step: 1140 Loss (unaveraged): 1.8595 Loss (averaged): -0.3304\n"
     ]
    },
    {
     "name": "stderr",
     "output_type": "stream",
     "text": [
      "                                                                                                                       \r"
     ]
    },
    {
     "name": "stdout",
     "output_type": "stream",
     "text": [
      "Step: 1150 Loss (unaveraged): 3.4373 Loss (averaged): -0.2229\n"
     ]
    },
    {
     "name": "stderr",
     "output_type": "stream",
     "text": [
      "                                                                                                                       \r"
     ]
    },
    {
     "name": "stdout",
     "output_type": "stream",
     "text": [
      "Step: 1160 Loss (unaveraged): -0.9024 Loss (averaged): -0.0961\n"
     ]
    },
    {
     "name": "stderr",
     "output_type": "stream",
     "text": [
      "                                                                                                                       \r"
     ]
    },
    {
     "name": "stdout",
     "output_type": "stream",
     "text": [
      "Step: 1170 Loss (unaveraged): 1.4883 Loss (averaged): 0.0179\n"
     ]
    },
    {
     "name": "stderr",
     "output_type": "stream",
     "text": [
      "                                                                                                                       \r"
     ]
    },
    {
     "name": "stdout",
     "output_type": "stream",
     "text": [
      "Step: 1180 Loss (unaveraged): 2.0347 Loss (averaged): 0.1197\n"
     ]
    },
    {
     "name": "stderr",
     "output_type": "stream",
     "text": [
      "                                                                                                                       \r"
     ]
    },
    {
     "name": "stdout",
     "output_type": "stream",
     "text": [
      "Step: 1190 Loss (unaveraged): 1.3969 Loss (averaged): 0.2099\n"
     ]
    },
    {
     "name": "stderr",
     "output_type": "stream",
     "text": [
      "                                                                                                                       \r"
     ]
    },
    {
     "name": "stdout",
     "output_type": "stream",
     "text": [
      "Step: 1200 Loss (unaveraged): 0.3626 Loss (averaged): 0.2875\n"
     ]
    },
    {
     "name": "stderr",
     "output_type": "stream",
     "text": [
      "                                                                                                                       \r"
     ]
    },
    {
     "name": "stdout",
     "output_type": "stream",
     "text": [
      "Step: 1210 Loss (unaveraged): -0.6736 Loss (averaged): 0.3509\n"
     ]
    },
    {
     "name": "stderr",
     "output_type": "stream",
     "text": [
      "                                                                                                                       \r"
     ]
    },
    {
     "name": "stdout",
     "output_type": "stream",
     "text": [
      "Step: 1220 Loss (unaveraged): -1.5194 Loss (averaged): 0.3931\n"
     ]
    },
    {
     "name": "stderr",
     "output_type": "stream",
     "text": [
      "                                                                                                                       \r"
     ]
    },
    {
     "name": "stdout",
     "output_type": "stream",
     "text": [
      "Step: 1230 Loss (unaveraged): -1.8730 Loss (averaged): 0.4136\n"
     ]
    },
    {
     "name": "stderr",
     "output_type": "stream",
     "text": [
      "                                                                                                                       \r"
     ]
    },
    {
     "name": "stdout",
     "output_type": "stream",
     "text": [
      "Step: 1240 Loss (unaveraged): -1.1652 Loss (averaged): 0.4193\n"
     ]
    },
    {
     "name": "stderr",
     "output_type": "stream",
     "text": [
      "                                                                                                                       \r"
     ]
    },
    {
     "name": "stdout",
     "output_type": "stream",
     "text": [
      "Step: 1250 Loss (unaveraged): 1.1358 Loss (averaged): 0.4320\n"
     ]
    },
    {
     "name": "stderr",
     "output_type": "stream",
     "text": [
      "                                                                                                                       \r"
     ]
    },
    {
     "name": "stdout",
     "output_type": "stream",
     "text": [
      "Step: 1260 Loss (unaveraged): 2.6410 Loss (averaged): 0.4475\n"
     ]
    },
    {
     "name": "stderr",
     "output_type": "stream",
     "text": [
      "                                                                                                                       \r"
     ]
    },
    {
     "name": "stdout",
     "output_type": "stream",
     "text": [
      "Step: 1270 Loss (unaveraged): -3.7722 Loss (averaged): 0.4801\n"
     ]
    },
    {
     "name": "stderr",
     "output_type": "stream",
     "text": [
      "                                                                                                                       \r"
     ]
    },
    {
     "name": "stdout",
     "output_type": "stream",
     "text": [
      "Step: 1280 Loss (unaveraged): -0.6753 Loss (averaged): 0.5005\n"
     ]
    },
    {
     "name": "stderr",
     "output_type": "stream",
     "text": [
      "                                                                                                                       \r"
     ]
    },
    {
     "name": "stdout",
     "output_type": "stream",
     "text": [
      "Step: 1290 Loss (unaveraged): 1.2665 Loss (averaged): 0.4927\n"
     ]
    },
    {
     "name": "stderr",
     "output_type": "stream",
     "text": [
      "                                                                                                                       \r"
     ]
    },
    {
     "name": "stdout",
     "output_type": "stream",
     "text": [
      "Step: 1300 Loss (unaveraged): 1.7849 Loss (averaged): 0.4813\n"
     ]
    },
    {
     "name": "stderr",
     "output_type": "stream",
     "text": [
      "                                                                                                                       \r"
     ]
    },
    {
     "name": "stdout",
     "output_type": "stream",
     "text": [
      "Step: 1310 Loss (unaveraged): 1.5119 Loss (averaged): 0.4684\n"
     ]
    },
    {
     "name": "stderr",
     "output_type": "stream",
     "text": [
      "                                                                                                                       \r"
     ]
    },
    {
     "name": "stdout",
     "output_type": "stream",
     "text": [
      "Step: 1320 Loss (unaveraged): 0.9924 Loss (averaged): 0.4491\n"
     ]
    },
    {
     "name": "stderr",
     "output_type": "stream",
     "text": [
      "                                                                                                                       \r"
     ]
    },
    {
     "name": "stdout",
     "output_type": "stream",
     "text": [
      "Step: 1330 Loss (unaveraged): 0.4687 Loss (averaged): 0.4307\n"
     ]
    },
    {
     "name": "stderr",
     "output_type": "stream",
     "text": [
      "                                                                                                                       \r"
     ]
    },
    {
     "name": "stdout",
     "output_type": "stream",
     "text": [
      "Step: 1340 Loss (unaveraged): 0.0232 Loss (averaged): 0.4153\n"
     ]
    },
    {
     "name": "stderr",
     "output_type": "stream",
     "text": [
      "                                                                                                                       \r"
     ]
    },
    {
     "name": "stdout",
     "output_type": "stream",
     "text": [
      "Step: 1350 Loss (unaveraged): -0.2884 Loss (averaged): 0.3956\n"
     ]
    },
    {
     "name": "stderr",
     "output_type": "stream",
     "text": [
      "                                                                                                                       \r"
     ]
    },
    {
     "name": "stdout",
     "output_type": "stream",
     "text": [
      "Step: 1360 Loss (unaveraged): -0.4253 Loss (averaged): 0.3780\n"
     ]
    },
    {
     "name": "stderr",
     "output_type": "stream",
     "text": [
      "                                                                                                                       \r"
     ]
    },
    {
     "name": "stdout",
     "output_type": "stream",
     "text": [
      "Step: 1370 Loss (unaveraged): -0.2540 Loss (averaged): 0.3665\n"
     ]
    },
    {
     "name": "stderr",
     "output_type": "stream",
     "text": [
      "                                                                                                                       \r"
     ]
    },
    {
     "name": "stdout",
     "output_type": "stream",
     "text": [
      "Step: 1380 Loss (unaveraged): 0.1980 Loss (averaged): 0.3486\n"
     ]
    },
    {
     "name": "stderr",
     "output_type": "stream",
     "text": [
      "                                                                                                                       \r"
     ]
    },
    {
     "name": "stdout",
     "output_type": "stream",
     "text": [
      "Step: 1390 Loss (unaveraged): 0.7533 Loss (averaged): 0.3347\n"
     ]
    },
    {
     "name": "stderr",
     "output_type": "stream",
     "text": [
      "                                                                                                                       \r"
     ]
    },
    {
     "name": "stdout",
     "output_type": "stream",
     "text": [
      "Step: 1400 Loss (unaveraged): 0.4598 Loss (averaged): 0.3383\n"
     ]
    },
    {
     "name": "stderr",
     "output_type": "stream",
     "text": [
      "                                                                                                                       \r"
     ]
    },
    {
     "name": "stdout",
     "output_type": "stream",
     "text": [
      "Step: 1410 Loss (unaveraged): -1.1549 Loss (averaged): 0.3272\n"
     ]
    },
    {
     "name": "stderr",
     "output_type": "stream",
     "text": [
      "                                                                                                                       \r"
     ]
    },
    {
     "name": "stdout",
     "output_type": "stream",
     "text": [
      "Step: 1420 Loss (unaveraged): -1.5495 Loss (averaged): 0.3263\n"
     ]
    },
    {
     "name": "stderr",
     "output_type": "stream",
     "text": [
      "                                                                                                                       \r"
     ]
    },
    {
     "name": "stdout",
     "output_type": "stream",
     "text": [
      "Step: 1430 Loss (unaveraged): -0.8283 Loss (averaged): 0.3136\n"
     ]
    },
    {
     "name": "stderr",
     "output_type": "stream",
     "text": [
      "                                                                                                                       \r"
     ]
    },
    {
     "name": "stdout",
     "output_type": "stream",
     "text": [
      "Step: 1440 Loss (unaveraged): -0.1883 Loss (averaged): 0.3024\n"
     ]
    },
    {
     "name": "stderr",
     "output_type": "stream",
     "text": [
      "                                                                                                                       \r"
     ]
    },
    {
     "name": "stdout",
     "output_type": "stream",
     "text": [
      "Step: 1450 Loss (unaveraged): 0.0427 Loss (averaged): 0.2868\n"
     ]
    },
    {
     "name": "stderr",
     "output_type": "stream",
     "text": [
      "                                                                                                                       \r"
     ]
    },
    {
     "name": "stdout",
     "output_type": "stream",
     "text": [
      "Step: 1460 Loss (unaveraged): -0.0520 Loss (averaged): 0.2733\n"
     ]
    },
    {
     "name": "stderr",
     "output_type": "stream",
     "text": [
      "                                                                                                                       \r"
     ]
    },
    {
     "name": "stdout",
     "output_type": "stream",
     "text": [
      "Step: 1470 Loss (unaveraged): -0.3548 Loss (averaged): 0.2575\n"
     ]
    },
    {
     "name": "stderr",
     "output_type": "stream",
     "text": [
      "                                                                                                                       \r"
     ]
    },
    {
     "name": "stdout",
     "output_type": "stream",
     "text": [
      "Step: 1480 Loss (unaveraged): -0.7345 Loss (averaged): 0.2353\n"
     ]
    },
    {
     "name": "stderr",
     "output_type": "stream",
     "text": [
      "                                                                                                                       \r"
     ]
    },
    {
     "name": "stdout",
     "output_type": "stream",
     "text": [
      "Step: 1490 Loss (unaveraged): -1.0950 Loss (averaged): 0.2197\n"
     ]
    },
    {
     "name": "stderr",
     "output_type": "stream",
     "text": [
      "                                                                                                                       \r"
     ]
    },
    {
     "name": "stdout",
     "output_type": "stream",
     "text": [
      "Step: 1500 Loss (unaveraged): -1.3577 Loss (averaged): 0.2027\n"
     ]
    },
    {
     "name": "stderr",
     "output_type": "stream",
     "text": [
      "                                                                                                                       \r"
     ]
    },
    {
     "name": "stdout",
     "output_type": "stream",
     "text": [
      "Step: 1510 Loss (unaveraged): -1.3456 Loss (averaged): 0.1869\n"
     ]
    },
    {
     "name": "stderr",
     "output_type": "stream",
     "text": [
      "                                                                                                                       \r"
     ]
    },
    {
     "name": "stdout",
     "output_type": "stream",
     "text": [
      "Step: 1520 Loss (unaveraged): -0.8661 Loss (averaged): 0.1599\n"
     ]
    },
    {
     "name": "stderr",
     "output_type": "stream",
     "text": [
      "                                                                                                                       \r"
     ]
    },
    {
     "name": "stdout",
     "output_type": "stream",
     "text": [
      "Step: 1530 Loss (unaveraged): 0.2556 Loss (averaged): 0.1445\n"
     ]
    },
    {
     "name": "stderr",
     "output_type": "stream",
     "text": [
      "                                                                                                                       \r"
     ]
    },
    {
     "name": "stdout",
     "output_type": "stream",
     "text": [
      "Step: 1540 Loss (unaveraged): 0.9459 Loss (averaged): 0.1289\n"
     ]
    },
    {
     "name": "stderr",
     "output_type": "stream",
     "text": [
      "                                                                                                                       \r"
     ]
    },
    {
     "name": "stdout",
     "output_type": "stream",
     "text": [
      "Step: 1550 Loss (unaveraged): -0.8376 Loss (averaged): 0.1222\n"
     ]
    },
    {
     "name": "stderr",
     "output_type": "stream",
     "text": [
      "                                                                                                                       \r"
     ]
    },
    {
     "name": "stdout",
     "output_type": "stream",
     "text": [
      "Step: 1560 Loss (unaveraged): -2.3051 Loss (averaged): 0.1175\n"
     ]
    },
    {
     "name": "stderr",
     "output_type": "stream",
     "text": [
      "                                                                                                                       \r"
     ]
    },
    {
     "name": "stdout",
     "output_type": "stream",
     "text": [
      "Step: 1570 Loss (unaveraged): -1.2942 Loss (averaged): 0.1092\n"
     ]
    },
    {
     "name": "stderr",
     "output_type": "stream",
     "text": [
      "                                                                                                                       \r"
     ]
    },
    {
     "name": "stdout",
     "output_type": "stream",
     "text": [
      "Step: 1580 Loss (unaveraged): -0.1859 Loss (averaged): 0.0933\n"
     ]
    },
    {
     "name": "stderr",
     "output_type": "stream",
     "text": [
      "                                                                                                                       \r"
     ]
    },
    {
     "name": "stdout",
     "output_type": "stream",
     "text": [
      "Step: 1590 Loss (unaveraged): 0.1841 Loss (averaged): 0.0836\n"
     ]
    },
    {
     "name": "stderr",
     "output_type": "stream",
     "text": [
      "                                                                                                                       \r"
     ]
    },
    {
     "name": "stdout",
     "output_type": "stream",
     "text": [
      "Step: 1600 Loss (unaveraged): 0.0062 Loss (averaged): 0.0702\n"
     ]
    },
    {
     "name": "stderr",
     "output_type": "stream",
     "text": [
      "                                                                                                                       \r"
     ]
    },
    {
     "name": "stdout",
     "output_type": "stream",
     "text": [
      "Step: 1610 Loss (unaveraged): -0.5204 Loss (averaged): 0.0575\n"
     ]
    },
    {
     "name": "stderr",
     "output_type": "stream",
     "text": [
      "                                                                                                                       \r"
     ]
    },
    {
     "name": "stdout",
     "output_type": "stream",
     "text": [
      "Step: 1620 Loss (unaveraged): -1.1750 Loss (averaged): 0.0459\n"
     ]
    },
    {
     "name": "stderr",
     "output_type": "stream",
     "text": [
      "                                                                                                                       \r"
     ]
    },
    {
     "name": "stdout",
     "output_type": "stream",
     "text": [
      "Step: 1630 Loss (unaveraged): -1.6060 Loss (averaged): 0.0324\n"
     ]
    },
    {
     "name": "stderr",
     "output_type": "stream",
     "text": [
      "                                                                                                                       \r"
     ]
    },
    {
     "name": "stdout",
     "output_type": "stream",
     "text": [
      "Step: 1640 Loss (unaveraged): -1.4630 Loss (averaged): 0.0190\n"
     ]
    },
    {
     "name": "stderr",
     "output_type": "stream",
     "text": [
      "                                                                                                                       \r"
     ]
    },
    {
     "name": "stdout",
     "output_type": "stream",
     "text": [
      "Step: 1650 Loss (unaveraged): -0.5764 Loss (averaged): 0.0075\n"
     ]
    },
    {
     "name": "stderr",
     "output_type": "stream",
     "text": [
      "                                                                                                                       \r"
     ]
    },
    {
     "name": "stdout",
     "output_type": "stream",
     "text": [
      "Step: 1660 Loss (unaveraged): 0.7251 Loss (averaged): -0.0060\n"
     ]
    },
    {
     "name": "stderr",
     "output_type": "stream",
     "text": [
      "                                                                                                                       \r"
     ]
    },
    {
     "name": "stdout",
     "output_type": "stream",
     "text": [
      "Step: 1670 Loss (unaveraged): -0.0199 Loss (averaged): -0.0157\n"
     ]
    },
    {
     "name": "stderr",
     "output_type": "stream",
     "text": [
      "                                                                                                                       \r"
     ]
    },
    {
     "name": "stdout",
     "output_type": "stream",
     "text": [
      "Step: 1680 Loss (unaveraged): -1.2161 Loss (averaged): -0.0216\n"
     ]
    },
    {
     "name": "stderr",
     "output_type": "stream",
     "text": [
      "                                                                                                                       \r"
     ]
    },
    {
     "name": "stdout",
     "output_type": "stream",
     "text": [
      "Step: 1690 Loss (unaveraged): -0.0632 Loss (averaged): -0.0254\n"
     ]
    },
    {
     "name": "stderr",
     "output_type": "stream",
     "text": [
      "                                                                                                                       \r"
     ]
    },
    {
     "name": "stdout",
     "output_type": "stream",
     "text": [
      "Step: 1700 Loss (unaveraged): 1.1152 Loss (averaged): -0.0276\n"
     ]
    },
    {
     "name": "stderr",
     "output_type": "stream",
     "text": [
      "                                                                                                                       \r"
     ]
    },
    {
     "name": "stdout",
     "output_type": "stream",
     "text": [
      "Step: 1710 Loss (unaveraged): 1.5934 Loss (averaged): -0.0285\n"
     ]
    },
    {
     "name": "stderr",
     "output_type": "stream",
     "text": [
      "                                                                                                                       \r"
     ]
    },
    {
     "name": "stdout",
     "output_type": "stream",
     "text": [
      "Step: 1720 Loss (unaveraged): 1.5309 Loss (averaged): -0.0300\n"
     ]
    },
    {
     "name": "stderr",
     "output_type": "stream",
     "text": [
      "                                                                                                                       \r"
     ]
    },
    {
     "name": "stdout",
     "output_type": "stream",
     "text": [
      "Step: 1730 Loss (unaveraged): 1.1512 Loss (averaged): -0.0290\n"
     ]
    },
    {
     "name": "stderr",
     "output_type": "stream",
     "text": [
      "                                                                                                                       \r"
     ]
    },
    {
     "name": "stdout",
     "output_type": "stream",
     "text": [
      "Step: 1740 Loss (unaveraged): 0.6513 Loss (averaged): -0.0301\n"
     ]
    },
    {
     "name": "stderr",
     "output_type": "stream",
     "text": [
      "                                                                                                                       \r"
     ]
    },
    {
     "name": "stdout",
     "output_type": "stream",
     "text": [
      "Step: 1750 Loss (unaveraged): 0.1694 Loss (averaged): -0.0290\n"
     ]
    },
    {
     "name": "stderr",
     "output_type": "stream",
     "text": [
      "                                                                                                                       \r"
     ]
    },
    {
     "name": "stdout",
     "output_type": "stream",
     "text": [
      "Step: 1760 Loss (unaveraged): -0.1454 Loss (averaged): -0.0298\n"
     ]
    },
    {
     "name": "stderr",
     "output_type": "stream",
     "text": [
      "                                                                                                                       \r"
     ]
    },
    {
     "name": "stdout",
     "output_type": "stream",
     "text": [
      "Step: 1770 Loss (unaveraged): -0.1986 Loss (averaged): -0.0283\n"
     ]
    },
    {
     "name": "stderr",
     "output_type": "stream",
     "text": [
      "                                                                                                                       \r"
     ]
    },
    {
     "name": "stdout",
     "output_type": "stream",
     "text": [
      "Step: 1780 Loss (unaveraged): 0.1975 Loss (averaged): -0.0247\n"
     ]
    },
    {
     "name": "stderr",
     "output_type": "stream",
     "text": [
      "                                                                                                                       \r"
     ]
    },
    {
     "name": "stdout",
     "output_type": "stream",
     "text": [
      "Step: 1790 Loss (unaveraged): 0.8786 Loss (averaged): -0.0199\n"
     ]
    },
    {
     "name": "stderr",
     "output_type": "stream",
     "text": [
      "                                                                                                                       \r"
     ]
    },
    {
     "name": "stdout",
     "output_type": "stream",
     "text": [
      "Step: 1800 Loss (unaveraged): 1.0020 Loss (averaged): -0.0151\n"
     ]
    },
    {
     "name": "stderr",
     "output_type": "stream",
     "text": [
      "                                                                                                                       \r"
     ]
    },
    {
     "name": "stdout",
     "output_type": "stream",
     "text": [
      "Step: 1810 Loss (unaveraged): -0.3311 Loss (averaged): -0.0087\n"
     ]
    },
    {
     "name": "stderr",
     "output_type": "stream",
     "text": [
      "                                                                                                                       \r"
     ]
    },
    {
     "name": "stdout",
     "output_type": "stream",
     "text": [
      "Step: 1820 Loss (unaveraged): -1.3032 Loss (averaged): -0.0027\n"
     ]
    },
    {
     "name": "stderr",
     "output_type": "stream",
     "text": [
      "                                                                                                                       \r"
     ]
    },
    {
     "name": "stdout",
     "output_type": "stream",
     "text": [
      "Step: 1830 Loss (unaveraged): -0.7279 Loss (averaged): 0.0045\n"
     ]
    },
    {
     "name": "stderr",
     "output_type": "stream",
     "text": [
      "                                                                                                                       \r"
     ]
    },
    {
     "name": "stdout",
     "output_type": "stream",
     "text": [
      "Step: 1840 Loss (unaveraged): 0.0885 Loss (averaged): 0.0100\n"
     ]
    },
    {
     "name": "stderr",
     "output_type": "stream",
     "text": [
      "                                                                                                                       \r"
     ]
    },
    {
     "name": "stdout",
     "output_type": "stream",
     "text": [
      "Step: 1850 Loss (unaveraged): 0.5503 Loss (averaged): 0.0125\n"
     ]
    },
    {
     "name": "stderr",
     "output_type": "stream",
     "text": [
      "                                                                                                                       \r"
     ]
    },
    {
     "name": "stdout",
     "output_type": "stream",
     "text": [
      "Step: 1860 Loss (unaveraged): 0.5671 Loss (averaged): 0.0163\n"
     ]
    },
    {
     "name": "stderr",
     "output_type": "stream",
     "text": [
      "                                                                                                                       \r"
     ]
    },
    {
     "name": "stdout",
     "output_type": "stream",
     "text": [
      "Step: 1870 Loss (unaveraged): 0.2962 Loss (averaged): 0.0167\n"
     ]
    },
    {
     "name": "stderr",
     "output_type": "stream",
     "text": [
      "                                                                                                                       \r"
     ]
    },
    {
     "name": "stdout",
     "output_type": "stream",
     "text": [
      "Step: 1880 Loss (unaveraged): -0.1012 Loss (averaged): 0.0189\n"
     ]
    },
    {
     "name": "stderr",
     "output_type": "stream",
     "text": [
      "                                                                                                                       \r"
     ]
    },
    {
     "name": "stdout",
     "output_type": "stream",
     "text": [
      "Step: 1890 Loss (unaveraged): -0.4545 Loss (averaged): 0.0157\n"
     ]
    },
    {
     "name": "stderr",
     "output_type": "stream",
     "text": [
      "                                                                                                                       \r"
     ]
    },
    {
     "name": "stdout",
     "output_type": "stream",
     "text": [
      "Step: 1900 Loss (unaveraged): -0.5920 Loss (averaged): 0.0153\n"
     ]
    },
    {
     "name": "stderr",
     "output_type": "stream",
     "text": [
      "                                                                                                                       \r"
     ]
    },
    {
     "name": "stdout",
     "output_type": "stream",
     "text": [
      "Step: 1910 Loss (unaveraged): -0.3166 Loss (averaged): 0.0128\n"
     ]
    },
    {
     "name": "stderr",
     "output_type": "stream",
     "text": [
      "                                                                                                                       \r"
     ]
    },
    {
     "name": "stdout",
     "output_type": "stream",
     "text": [
      "Step: 1920 Loss (unaveraged): 0.3497 Loss (averaged): 0.0114\n"
     ]
    },
    {
     "name": "stderr",
     "output_type": "stream",
     "text": [
      "                                                                                                                       \r"
     ]
    },
    {
     "name": "stdout",
     "output_type": "stream",
     "text": [
      "Step: 1930 Loss (unaveraged): 0.9866 Loss (averaged): 0.0098\n"
     ]
    },
    {
     "name": "stderr",
     "output_type": "stream",
     "text": [
      "                                                                                                                       \r"
     ]
    },
    {
     "name": "stdout",
     "output_type": "stream",
     "text": [
      "Step: 1940 Loss (unaveraged): 0.2400 Loss (averaged): 0.0125\n"
     ]
    },
    {
     "name": "stderr",
     "output_type": "stream",
     "text": [
      "                                                                                                                       \r"
     ]
    },
    {
     "name": "stdout",
     "output_type": "stream",
     "text": [
      "Step: 1950 Loss (unaveraged): -1.4637 Loss (averaged): 0.0122\n"
     ]
    },
    {
     "name": "stderr",
     "output_type": "stream",
     "text": [
      "                                                                                                                       \r"
     ]
    },
    {
     "name": "stdout",
     "output_type": "stream",
     "text": [
      "Step: 1960 Loss (unaveraged): -1.3393 Loss (averaged): 0.0140\n"
     ]
    },
    {
     "name": "stderr",
     "output_type": "stream",
     "text": [
      "                                                                                                                       \r"
     ]
    },
    {
     "name": "stdout",
     "output_type": "stream",
     "text": [
      "Step: 1970 Loss (unaveraged): -0.6169 Loss (averaged): 0.0171\n"
     ]
    },
    {
     "name": "stderr",
     "output_type": "stream",
     "text": [
      "                                                                                                                       \r"
     ]
    },
    {
     "name": "stdout",
     "output_type": "stream",
     "text": [
      "Step: 1980 Loss (unaveraged): -0.1510 Loss (averaged): 0.0210\n"
     ]
    },
    {
     "name": "stderr",
     "output_type": "stream",
     "text": [
      "                                                                                                                       \r"
     ]
    },
    {
     "name": "stdout",
     "output_type": "stream",
     "text": [
      "Step: 1990 Loss (unaveraged): -0.0722 Loss (averaged): 0.0228\n"
     ]
    },
    {
     "name": "stderr",
     "output_type": "stream",
     "text": [
      "                                                                                                                       \r"
     ]
    },
    {
     "name": "stdout",
     "output_type": "stream",
     "text": [
      "Step: 2000 Loss (unaveraged): -0.3254 Loss (averaged): 0.0251\n"
     ]
    },
    {
     "name": "stderr",
     "output_type": "stream",
     "text": [
      "                                                                                                                       \r"
     ]
    },
    {
     "name": "stdout",
     "output_type": "stream",
     "text": [
      "Step: 2010 Loss (unaveraged): -0.7366 Loss (averaged): 0.0281\n"
     ]
    },
    {
     "name": "stderr",
     "output_type": "stream",
     "text": [
      "                                                                                                                       \r"
     ]
    },
    {
     "name": "stdout",
     "output_type": "stream",
     "text": [
      "Step: 2020 Loss (unaveraged): -1.2250 Loss (averaged): 0.0287\n"
     ]
    },
    {
     "name": "stderr",
     "output_type": "stream",
     "text": [
      "                                                                                                                       \r"
     ]
    },
    {
     "name": "stdout",
     "output_type": "stream",
     "text": [
      "Step: 2030 Loss (unaveraged): -1.5276 Loss (averaged): 0.0299\n"
     ]
    },
    {
     "name": "stderr",
     "output_type": "stream",
     "text": [
      "                                                                                                                       \r"
     ]
    },
    {
     "name": "stdout",
     "output_type": "stream",
     "text": [
      "Step: 2040 Loss (unaveraged): -1.3236 Loss (averaged): 0.0308\n"
     ]
    },
    {
     "name": "stderr",
     "output_type": "stream",
     "text": [
      "                                                                                                                       \r"
     ]
    },
    {
     "name": "stdout",
     "output_type": "stream",
     "text": [
      "Step: 2050 Loss (unaveraged): -0.3551 Loss (averaged): 0.0282\n"
     ]
    },
    {
     "name": "stderr",
     "output_type": "stream",
     "text": [
      "                                                                                                                       \r"
     ]
    },
    {
     "name": "stdout",
     "output_type": "stream",
     "text": [
      "Step: 2060 Loss (unaveraged): 1.1023 Loss (averaged): 0.0272\n"
     ]
    },
    {
     "name": "stderr",
     "output_type": "stream",
     "text": [
      "                                                                                                                       \r"
     ]
    },
    {
     "name": "stdout",
     "output_type": "stream",
     "text": [
      "Step: 2070 Loss (unaveraged): 1.4619 Loss (averaged): 0.0289\n"
     ]
    },
    {
     "name": "stderr",
     "output_type": "stream",
     "text": [
      "                                                                                                                       \r"
     ]
    },
    {
     "name": "stdout",
     "output_type": "stream",
     "text": [
      "Step: 2080 Loss (unaveraged): -0.6933 Loss (averaged): 0.0308\n"
     ]
    },
    {
     "name": "stderr",
     "output_type": "stream",
     "text": [
      "                                                                                                                       \r"
     ]
    },
    {
     "name": "stdout",
     "output_type": "stream",
     "text": [
      "Step: 2090 Loss (unaveraged): -1.5990 Loss (averaged): 0.0334\n"
     ]
    },
    {
     "name": "stderr",
     "output_type": "stream",
     "text": [
      "                                                                                                                       \r"
     ]
    },
    {
     "name": "stdout",
     "output_type": "stream",
     "text": [
      "Step: 2100 Loss (unaveraged): -0.4746 Loss (averaged): 0.0361\n"
     ]
    },
    {
     "name": "stderr",
     "output_type": "stream",
     "text": [
      "                                                                                                                       \r"
     ]
    },
    {
     "name": "stdout",
     "output_type": "stream",
     "text": [
      "Step: 2110 Loss (unaveraged): 0.6071 Loss (averaged): 0.0390\n"
     ]
    },
    {
     "name": "stderr",
     "output_type": "stream",
     "text": [
      "                                                                                                                       \r"
     ]
    },
    {
     "name": "stdout",
     "output_type": "stream",
     "text": [
      "Step: 2120 Loss (unaveraged): 1.1337 Loss (averaged): 0.0426\n"
     ]
    },
    {
     "name": "stderr",
     "output_type": "stream",
     "text": [
      "                                                                                                                       \r"
     ]
    },
    {
     "name": "stdout",
     "output_type": "stream",
     "text": [
      "Step: 2130 Loss (unaveraged): 1.1745 Loss (averaged): 0.0461\n"
     ]
    },
    {
     "name": "stderr",
     "output_type": "stream",
     "text": [
      "                                                                                                                       \r"
     ]
    },
    {
     "name": "stdout",
     "output_type": "stream",
     "text": [
      "Step: 2140 Loss (unaveraged): 0.9397 Loss (averaged): 0.0482\n"
     ]
    },
    {
     "name": "stderr",
     "output_type": "stream",
     "text": [
      "                                                                                                                       \r"
     ]
    },
    {
     "name": "stdout",
     "output_type": "stream",
     "text": [
      "Step: 2150 Loss (unaveraged): 0.5182 Loss (averaged): 0.0511\n"
     ]
    },
    {
     "name": "stderr",
     "output_type": "stream",
     "text": [
      "                                                                                                                       \r"
     ]
    },
    {
     "name": "stdout",
     "output_type": "stream",
     "text": [
      "Step: 2160 Loss (unaveraged): -0.0428 Loss (averaged): 0.0554\n"
     ]
    },
    {
     "name": "stderr",
     "output_type": "stream",
     "text": [
      "                                                                                                                       \r"
     ]
    },
    {
     "name": "stdout",
     "output_type": "stream",
     "text": [
      "Step: 2170 Loss (unaveraged): -0.6748 Loss (averaged): 0.0566\n"
     ]
    },
    {
     "name": "stderr",
     "output_type": "stream",
     "text": [
      "                                                                                                                       \r"
     ]
    },
    {
     "name": "stdout",
     "output_type": "stream",
     "text": [
      "Step: 2180 Loss (unaveraged): -1.1610 Loss (averaged): 0.0570\n"
     ]
    },
    {
     "name": "stderr",
     "output_type": "stream",
     "text": [
      "                                                                                                                       \r"
     ]
    },
    {
     "name": "stdout",
     "output_type": "stream",
     "text": [
      "Step: 2190 Loss (unaveraged): -1.2173 Loss (averaged): 0.0570\n"
     ]
    },
    {
     "name": "stderr",
     "output_type": "stream",
     "text": [
      "                                                                                                                       \r"
     ]
    },
    {
     "name": "stdout",
     "output_type": "stream",
     "text": [
      "Step: 2200 Loss (unaveraged): -0.4425 Loss (averaged): 0.0560\n"
     ]
    },
    {
     "name": "stderr",
     "output_type": "stream",
     "text": [
      "                                                                                                                       \r"
     ]
    },
    {
     "name": "stdout",
     "output_type": "stream",
     "text": [
      "Step: 2210 Loss (unaveraged): 1.4213 Loss (averaged): 0.0546\n"
     ]
    },
    {
     "name": "stderr",
     "output_type": "stream",
     "text": [
      "                                                                                                                       \r"
     ]
    },
    {
     "name": "stdout",
     "output_type": "stream",
     "text": [
      "Step: 2220 Loss (unaveraged): 2.9502 Loss (averaged): 0.0535\n"
     ]
    },
    {
     "name": "stderr",
     "output_type": "stream",
     "text": [
      "                                                                                                                       \r"
     ]
    },
    {
     "name": "stdout",
     "output_type": "stream",
     "text": [
      "Step: 2230 Loss (unaveraged): 0.1898 Loss (averaged): 0.0537\n"
     ]
    },
    {
     "name": "stderr",
     "output_type": "stream",
     "text": [
      "                                                                                                                       \r"
     ]
    },
    {
     "name": "stdout",
     "output_type": "stream",
     "text": [
      "Step: 2240 Loss (unaveraged): -2.7130 Loss (averaged): 0.0549\n"
     ]
    },
    {
     "name": "stderr",
     "output_type": "stream",
     "text": [
      "                                                                                                                       \r"
     ]
    },
    {
     "name": "stdout",
     "output_type": "stream",
     "text": [
      "Step: 2250 Loss (unaveraged): -1.6319 Loss (averaged): 0.0557\n"
     ]
    },
    {
     "name": "stderr",
     "output_type": "stream",
     "text": [
      "                                                                                                                       \r"
     ]
    },
    {
     "name": "stdout",
     "output_type": "stream",
     "text": [
      "Step: 2260 Loss (unaveraged): 0.0562 Loss (averaged): 0.0583\n"
     ]
    },
    {
     "name": "stderr",
     "output_type": "stream",
     "text": [
      "                                                                                                                       \r"
     ]
    },
    {
     "name": "stdout",
     "output_type": "stream",
     "text": [
      "Step: 2270 Loss (unaveraged): 1.0765 Loss (averaged): 0.0593\n"
     ]
    },
    {
     "name": "stderr",
     "output_type": "stream",
     "text": [
      "                                                                                                                       \r"
     ]
    },
    {
     "name": "stdout",
     "output_type": "stream",
     "text": [
      "Step: 2280 Loss (unaveraged): 1.4849 Loss (averaged): 0.0621\n"
     ]
    },
    {
     "name": "stderr",
     "output_type": "stream",
     "text": [
      "                                                                                                                       \r"
     ]
    },
    {
     "name": "stdout",
     "output_type": "stream",
     "text": [
      "Step: 2290 Loss (unaveraged): 1.4470 Loss (averaged): 0.0618\n"
     ]
    },
    {
     "name": "stderr",
     "output_type": "stream",
     "text": [
      "                                                                                                                       \r"
     ]
    },
    {
     "name": "stdout",
     "output_type": "stream",
     "text": [
      "Step: 2300 Loss (unaveraged): 1.1147 Loss (averaged): 0.0641\n"
     ]
    },
    {
     "name": "stderr",
     "output_type": "stream",
     "text": [
      "                                                                                                                       \r"
     ]
    },
    {
     "name": "stdout",
     "output_type": "stream",
     "text": [
      "Step: 2310 Loss (unaveraged): 0.6237 Loss (averaged): 0.0652\n"
     ]
    },
    {
     "name": "stderr",
     "output_type": "stream",
     "text": [
      "                                                                                                                       \r"
     ]
    },
    {
     "name": "stdout",
     "output_type": "stream",
     "text": [
      "Step: 2320 Loss (unaveraged): 0.0509 Loss (averaged): 0.0662\n"
     ]
    },
    {
     "name": "stderr",
     "output_type": "stream",
     "text": [
      "                                                                                                                       \r"
     ]
    },
    {
     "name": "stdout",
     "output_type": "stream",
     "text": [
      "Step: 2330 Loss (unaveraged): -0.5386 Loss (averaged): 0.0656\n"
     ]
    },
    {
     "name": "stderr",
     "output_type": "stream",
     "text": [
      "                                                                                                                       \r"
     ]
    },
    {
     "name": "stdout",
     "output_type": "stream",
     "text": [
      "Step: 2340 Loss (unaveraged): -1.0944 Loss (averaged): 0.0661\n"
     ]
    },
    {
     "name": "stderr",
     "output_type": "stream",
     "text": [
      "                                                                                                                       \r"
     ]
    },
    {
     "name": "stdout",
     "output_type": "stream",
     "text": [
      "Step: 2350 Loss (unaveraged): -1.4864 Loss (averaged): 0.0636\n"
     ]
    },
    {
     "name": "stderr",
     "output_type": "stream",
     "text": [
      "                                                                                                                       \r"
     ]
    },
    {
     "name": "stdout",
     "output_type": "stream",
     "text": [
      "Step: 2360 Loss (unaveraged): -1.4777 Loss (averaged): 0.0603\n"
     ]
    },
    {
     "name": "stderr",
     "output_type": "stream",
     "text": [
      "                                                                                                                       \r"
     ]
    },
    {
     "name": "stdout",
     "output_type": "stream",
     "text": [
      "Step: 2370 Loss (unaveraged): -0.8028 Loss (averaged): 0.0575\n"
     ]
    },
    {
     "name": "stderr",
     "output_type": "stream",
     "text": [
      "                                                                                                                       \r"
     ]
    },
    {
     "name": "stdout",
     "output_type": "stream",
     "text": [
      "Step: 2380 Loss (unaveraged): 0.7427 Loss (averaged): 0.0548\n"
     ]
    },
    {
     "name": "stderr",
     "output_type": "stream",
     "text": [
      "                                                                                                                       \r"
     ]
    },
    {
     "name": "stdout",
     "output_type": "stream",
     "text": [
      "Step: 2390 Loss (unaveraged): 2.5213 Loss (averaged): 0.0509\n"
     ]
    },
    {
     "name": "stderr",
     "output_type": "stream",
     "text": [
      "                                                                                                                       \r"
     ]
    },
    {
     "name": "stdout",
     "output_type": "stream",
     "text": [
      "Step: 2400 Loss (unaveraged): -1.2643 Loss (averaged): 0.0499\n"
     ]
    },
    {
     "name": "stderr",
     "output_type": "stream",
     "text": [
      "                                                                                                                       \r"
     ]
    },
    {
     "name": "stdout",
     "output_type": "stream",
     "text": [
      "Step: 2410 Loss (unaveraged): -3.6743 Loss (averaged): 0.0488\n"
     ]
    },
    {
     "name": "stderr",
     "output_type": "stream",
     "text": [
      "                                                                                                                       \r"
     ]
    },
    {
     "name": "stdout",
     "output_type": "stream",
     "text": [
      "Step: 2420 Loss (unaveraged): -1.6517 Loss (averaged): 0.0487\n"
     ]
    },
    {
     "name": "stderr",
     "output_type": "stream",
     "text": [
      "                                                                                                                       \r"
     ]
    },
    {
     "name": "stdout",
     "output_type": "stream",
     "text": [
      "Step: 2430 Loss (unaveraged): -0.1154 Loss (averaged): 0.0491\n"
     ]
    },
    {
     "name": "stderr",
     "output_type": "stream",
     "text": [
      "                                                                                                                       \r"
     ]
    },
    {
     "name": "stdout",
     "output_type": "stream",
     "text": [
      "Step: 2440 Loss (unaveraged): 0.6713 Loss (averaged): 0.0489\n"
     ]
    },
    {
     "name": "stderr",
     "output_type": "stream",
     "text": [
      "                                                                                                                       \r"
     ]
    },
    {
     "name": "stdout",
     "output_type": "stream",
     "text": [
      "Step: 2450 Loss (unaveraged): 0.9090 Loss (averaged): 0.0495\n"
     ]
    },
    {
     "name": "stderr",
     "output_type": "stream",
     "text": [
      "                                                                                                                       \r"
     ]
    },
    {
     "name": "stdout",
     "output_type": "stream",
     "text": [
      "Step: 2460 Loss (unaveraged): 0.7554 Loss (averaged): 0.0499\n"
     ]
    },
    {
     "name": "stderr",
     "output_type": "stream",
     "text": [
      "                                                                                                                       \r"
     ]
    },
    {
     "name": "stdout",
     "output_type": "stream",
     "text": [
      "Step: 2470 Loss (unaveraged): 0.3716 Loss (averaged): 0.0491\n"
     ]
    },
    {
     "name": "stderr",
     "output_type": "stream",
     "text": [
      "                                                                                                                       \r"
     ]
    },
    {
     "name": "stdout",
     "output_type": "stream",
     "text": [
      "Step: 2480 Loss (unaveraged): -0.1082 Loss (averaged): 0.0490\n"
     ]
    },
    {
     "name": "stderr",
     "output_type": "stream",
     "text": [
      "                                                                                                                       \r"
     ]
    },
    {
     "name": "stdout",
     "output_type": "stream",
     "text": [
      "Step: 2490 Loss (unaveraged): -0.5627 Loss (averaged): 0.0482\n"
     ]
    },
    {
     "name": "stderr",
     "output_type": "stream",
     "text": [
      "                                                                                                                       \r"
     ]
    },
    {
     "name": "stdout",
     "output_type": "stream",
     "text": [
      "Step: 2500 Loss (unaveraged): -0.8398 Loss (averaged): 0.0466\n"
     ]
    },
    {
     "name": "stderr",
     "output_type": "stream",
     "text": [
      "                                                                                                                       \r"
     ]
    },
    {
     "name": "stdout",
     "output_type": "stream",
     "text": [
      "Step: 2510 Loss (unaveraged): -0.7609 Loss (averaged): 0.0450\n"
     ]
    },
    {
     "name": "stderr",
     "output_type": "stream",
     "text": [
      "                                                                                                                       \r"
     ]
    },
    {
     "name": "stdout",
     "output_type": "stream",
     "text": [
      "Step: 2520 Loss (unaveraged): -0.1344 Loss (averaged): 0.0423\n"
     ]
    },
    {
     "name": "stderr",
     "output_type": "stream",
     "text": [
      "                                                                                                                       \r"
     ]
    },
    {
     "name": "stdout",
     "output_type": "stream",
     "text": [
      "Step: 2530 Loss (unaveraged): 1.1520 Loss (averaged): 0.0393\n"
     ]
    },
    {
     "name": "stderr",
     "output_type": "stream",
     "text": [
      "                                                                                                                       \r"
     ]
    },
    {
     "name": "stdout",
     "output_type": "stream",
     "text": [
      "Step: 2540 Loss (unaveraged): 1.8195 Loss (averaged): 0.0380\n"
     ]
    },
    {
     "name": "stderr",
     "output_type": "stream",
     "text": [
      "                                                                                                                       \r"
     ]
    },
    {
     "name": "stdout",
     "output_type": "stream",
     "text": [
      "Step: 2550 Loss (unaveraged): -0.1040 Loss (averaged): 0.0361\n"
     ]
    },
    {
     "name": "stderr",
     "output_type": "stream",
     "text": [
      "                                                                                                                       \r"
     ]
    },
    {
     "name": "stdout",
     "output_type": "stream",
     "text": [
      "Step: 2560 Loss (unaveraged): -1.7888 Loss (averaged): 0.0365\n"
     ]
    },
    {
     "name": "stderr",
     "output_type": "stream",
     "text": [
      "                                                                                                                       \r"
     ]
    },
    {
     "name": "stdout",
     "output_type": "stream",
     "text": [
      "Step: 2570 Loss (unaveraged): -1.0151 Loss (averaged): 0.0368\n"
     ]
    },
    {
     "name": "stderr",
     "output_type": "stream",
     "text": [
      "                                                                                                                       \r"
     ]
    },
    {
     "name": "stdout",
     "output_type": "stream",
     "text": [
      "Step: 2580 Loss (unaveraged): 0.1308 Loss (averaged): 0.0376\n"
     ]
    },
    {
     "name": "stderr",
     "output_type": "stream",
     "text": [
      "                                                                                                                       \r"
     ]
    },
    {
     "name": "stdout",
     "output_type": "stream",
     "text": [
      "Step: 2590 Loss (unaveraged): 0.7381 Loss (averaged): 0.0380\n"
     ]
    },
    {
     "name": "stderr",
     "output_type": "stream",
     "text": [
      "                                                                                                                       \r"
     ]
    },
    {
     "name": "stdout",
     "output_type": "stream",
     "text": [
      "Step: 2600 Loss (unaveraged): 0.8441 Loss (averaged): 0.0397\n"
     ]
    },
    {
     "name": "stderr",
     "output_type": "stream",
     "text": [
      "                                                                                                                       \r"
     ]
    },
    {
     "name": "stdout",
     "output_type": "stream",
     "text": [
      "Step: 2610 Loss (unaveraged): 0.5586 Loss (averaged): 0.0391\n"
     ]
    },
    {
     "name": "stderr",
     "output_type": "stream",
     "text": [
      "                                                                                                                       \r"
     ]
    },
    {
     "name": "stdout",
     "output_type": "stream",
     "text": [
      "Step: 2620 Loss (unaveraged): 0.0003 Loss (averaged): 0.0393\n"
     ]
    },
    {
     "name": "stderr",
     "output_type": "stream",
     "text": [
      "                                                                                                                       \r"
     ]
    },
    {
     "name": "stdout",
     "output_type": "stream",
     "text": [
      "Step: 2630 Loss (unaveraged): -0.6704 Loss (averaged): 0.0420\n"
     ]
    },
    {
     "name": "stderr",
     "output_type": "stream",
     "text": [
      "                                                                                                                       \r"
     ]
    },
    {
     "name": "stdout",
     "output_type": "stream",
     "text": [
      "Step: 2640 Loss (unaveraged): -1.2057 Loss (averaged): 0.0385\n"
     ]
    },
    {
     "name": "stderr",
     "output_type": "stream",
     "text": [
      "                                                                                                                       \r"
     ]
    },
    {
     "name": "stdout",
     "output_type": "stream",
     "text": [
      "Step: 2650 Loss (unaveraged): -1.2962 Loss (averaged): 0.0370\n"
     ]
    },
    {
     "name": "stderr",
     "output_type": "stream",
     "text": [
      "                                                                                                                       \r"
     ]
    },
    {
     "name": "stdout",
     "output_type": "stream",
     "text": [
      "Step: 2660 Loss (unaveraged): -0.5350 Loss (averaged): 0.0362\n"
     ]
    },
    {
     "name": "stderr",
     "output_type": "stream",
     "text": [
      "                                                                                                                       \r"
     ]
    },
    {
     "name": "stdout",
     "output_type": "stream",
     "text": [
      "Step: 2670 Loss (unaveraged): 1.2415 Loss (averaged): 0.0335\n"
     ]
    },
    {
     "name": "stderr",
     "output_type": "stream",
     "text": [
      "                                                                                                                       \r"
     ]
    },
    {
     "name": "stdout",
     "output_type": "stream",
     "text": [
      "Step: 2680 Loss (unaveraged): 2.1465 Loss (averaged): 0.0315\n"
     ]
    },
    {
     "name": "stderr",
     "output_type": "stream",
     "text": [
      "                                                                                                                       \r"
     ]
    },
    {
     "name": "stdout",
     "output_type": "stream",
     "text": [
      "Step: 2690 Loss (unaveraged): -0.8075 Loss (averaged): 0.0291\n"
     ]
    },
    {
     "name": "stderr",
     "output_type": "stream",
     "text": [
      "                                                                                                                       \r"
     ]
    },
    {
     "name": "stdout",
     "output_type": "stream",
     "text": [
      "Step: 2700 Loss (unaveraged): -2.3727 Loss (averaged): 0.0279\n"
     ]
    },
    {
     "name": "stderr",
     "output_type": "stream",
     "text": [
      "                                                                                                                       \r"
     ]
    },
    {
     "name": "stdout",
     "output_type": "stream",
     "text": [
      "Step: 2710 Loss (unaveraged): -1.0615 Loss (averaged): 0.0284\n"
     ]
    },
    {
     "name": "stderr",
     "output_type": "stream",
     "text": [
      "                                                                                                                       \r"
     ]
    },
    {
     "name": "stdout",
     "output_type": "stream",
     "text": [
      "Step: 2720 Loss (unaveraged): 0.1565 Loss (averaged): 0.0289\n"
     ]
    },
    {
     "name": "stderr",
     "output_type": "stream",
     "text": [
      "                                                                                                                       \r"
     ]
    },
    {
     "name": "stdout",
     "output_type": "stream",
     "text": [
      "Step: 2730 Loss (unaveraged): 0.8654 Loss (averaged): 0.0296\n"
     ]
    },
    {
     "name": "stderr",
     "output_type": "stream",
     "text": [
      "                                                                                                                       \r"
     ]
    },
    {
     "name": "stdout",
     "output_type": "stream",
     "text": [
      "Step: 2740 Loss (unaveraged): 0.9682 Loss (averaged): 0.0323\n"
     ]
    },
    {
     "name": "stderr",
     "output_type": "stream",
     "text": [
      "                                                                                                                       \r"
     ]
    },
    {
     "name": "stdout",
     "output_type": "stream",
     "text": [
      "Step: 2750 Loss (unaveraged): 0.6969 Loss (averaged): 0.0334\n"
     ]
    },
    {
     "name": "stderr",
     "output_type": "stream",
     "text": [
      "                                                                                                                       \r"
     ]
    },
    {
     "name": "stdout",
     "output_type": "stream",
     "text": [
      "Step: 2760 Loss (unaveraged): 0.2471 Loss (averaged): 0.0319\n"
     ]
    },
    {
     "name": "stderr",
     "output_type": "stream",
     "text": [
      "                                                                                                                       \r"
     ]
    },
    {
     "name": "stdout",
     "output_type": "stream",
     "text": [
      "Step: 2770 Loss (unaveraged): -0.2789 Loss (averaged): 0.0338\n"
     ]
    },
    {
     "name": "stderr",
     "output_type": "stream",
     "text": [
      "                                                                                                                       \r"
     ]
    },
    {
     "name": "stdout",
     "output_type": "stream",
     "text": [
      "Step: 2780 Loss (unaveraged): -0.7285 Loss (averaged): 0.0322\n"
     ]
    },
    {
     "name": "stderr",
     "output_type": "stream",
     "text": [
      "                                                                                                                       \r"
     ]
    },
    {
     "name": "stdout",
     "output_type": "stream",
     "text": [
      "Step: 2790 Loss (unaveraged): -0.8985 Loss (averaged): 0.0347\n"
     ]
    },
    {
     "name": "stderr",
     "output_type": "stream",
     "text": [
      "                                                                                                                       \r"
     ]
    },
    {
     "name": "stdout",
     "output_type": "stream",
     "text": [
      "Step: 2800 Loss (unaveraged): -0.5569 Loss (averaged): 0.0335\n"
     ]
    },
    {
     "name": "stderr",
     "output_type": "stream",
     "text": [
      "                                                                                                                       \r"
     ]
    },
    {
     "name": "stdout",
     "output_type": "stream",
     "text": [
      "Step: 2810 Loss (unaveraged): 0.4158 Loss (averaged): 0.0316\n"
     ]
    },
    {
     "name": "stderr",
     "output_type": "stream",
     "text": [
      "                                                                                                                       \r"
     ]
    },
    {
     "name": "stdout",
     "output_type": "stream",
     "text": [
      "Step: 2820 Loss (unaveraged): 1.6966 Loss (averaged): 0.0297\n"
     ]
    },
    {
     "name": "stderr",
     "output_type": "stream",
     "text": [
      "                                                                                                                       \r"
     ]
    },
    {
     "name": "stdout",
     "output_type": "stream",
     "text": [
      "Step: 2830 Loss (unaveraged): 1.3493 Loss (averaged): 0.0286\n"
     ]
    },
    {
     "name": "stderr",
     "output_type": "stream",
     "text": [
      "                                                                                                                       \r"
     ]
    },
    {
     "name": "stdout",
     "output_type": "stream",
     "text": [
      "Step: 2840 Loss (unaveraged): -1.5790 Loss (averaged): 0.0304\n"
     ]
    },
    {
     "name": "stderr",
     "output_type": "stream",
     "text": [
      "                                                                                                                       \r"
     ]
    },
    {
     "name": "stdout",
     "output_type": "stream",
     "text": [
      "Step: 2850 Loss (unaveraged): -2.1502 Loss (averaged): 0.0321\n"
     ]
    },
    {
     "name": "stderr",
     "output_type": "stream",
     "text": [
      "                                                                                                                       \r"
     ]
    },
    {
     "name": "stdout",
     "output_type": "stream",
     "text": [
      "Step: 2860 Loss (unaveraged): -0.9192 Loss (averaged): 0.0303\n"
     ]
    },
    {
     "name": "stderr",
     "output_type": "stream",
     "text": [
      "                                                                                                                       \r"
     ]
    },
    {
     "name": "stdout",
     "output_type": "stream",
     "text": [
      "Step: 2870 Loss (unaveraged): 0.1787 Loss (averaged): 0.0332\n"
     ]
    },
    {
     "name": "stderr",
     "output_type": "stream",
     "text": [
      "                                                                                                                       \r"
     ]
    },
    {
     "name": "stdout",
     "output_type": "stream",
     "text": [
      "Step: 2880 Loss (unaveraged): 0.6893 Loss (averaged): 0.0377\n"
     ]
    },
    {
     "name": "stderr",
     "output_type": "stream",
     "text": [
      "                                                                                                                       \r"
     ]
    },
    {
     "name": "stdout",
     "output_type": "stream",
     "text": [
      "Step: 2890 Loss (unaveraged): 0.7142 Loss (averaged): 0.0388\n"
     ]
    },
    {
     "name": "stderr",
     "output_type": "stream",
     "text": [
      "                                                                                                                       \r"
     ]
    },
    {
     "name": "stdout",
     "output_type": "stream",
     "text": [
      "Step: 2900 Loss (unaveraged): 0.4408 Loss (averaged): 0.0384\n"
     ]
    },
    {
     "name": "stderr",
     "output_type": "stream",
     "text": [
      "                                                                                                                       \r"
     ]
    },
    {
     "name": "stdout",
     "output_type": "stream",
     "text": [
      "Step: 2910 Loss (unaveraged): -0.0722 Loss (averaged): 0.0402\n"
     ]
    },
    {
     "name": "stderr",
     "output_type": "stream",
     "text": [
      "                                                                                                                       \r"
     ]
    },
    {
     "name": "stdout",
     "output_type": "stream",
     "text": [
      "Step: 2920 Loss (unaveraged): -0.6986 Loss (averaged): 0.0416\n"
     ]
    },
    {
     "name": "stderr",
     "output_type": "stream",
     "text": [
      "                                                                                                                       \r"
     ]
    },
    {
     "name": "stdout",
     "output_type": "stream",
     "text": [
      "Step: 2930 Loss (unaveraged): -1.2738 Loss (averaged): 0.0391\n"
     ]
    },
    {
     "name": "stderr",
     "output_type": "stream",
     "text": [
      "                                                                                                                       \r"
     ]
    },
    {
     "name": "stdout",
     "output_type": "stream",
     "text": [
      "Step: 2940 Loss (unaveraged): -1.6508 Loss (averaged): 0.0396\n"
     ]
    },
    {
     "name": "stderr",
     "output_type": "stream",
     "text": [
      "                                                                                                                       \r"
     ]
    },
    {
     "name": "stdout",
     "output_type": "stream",
     "text": [
      "Step: 2950 Loss (unaveraged): -1.2700 Loss (averaged): 0.0396\n"
     ]
    },
    {
     "name": "stderr",
     "output_type": "stream",
     "text": [
      "                                                                                                                       \r"
     ]
    },
    {
     "name": "stdout",
     "output_type": "stream",
     "text": [
      "Step: 2960 Loss (unaveraged): 0.1537 Loss (averaged): 0.0355\n"
     ]
    },
    {
     "name": "stderr",
     "output_type": "stream",
     "text": [
      "                                                                                                                       \r"
     ]
    },
    {
     "name": "stdout",
     "output_type": "stream",
     "text": [
      "Step: 2970 Loss (unaveraged): 2.7193 Loss (averaged): 0.0329\n"
     ]
    },
    {
     "name": "stderr",
     "output_type": "stream",
     "text": [
      "                                                                                                                       \r"
     ]
    },
    {
     "name": "stdout",
     "output_type": "stream",
     "text": [
      "Step: 2980 Loss (unaveraged): 3.3912 Loss (averaged): 0.0298\n"
     ]
    },
    {
     "name": "stderr",
     "output_type": "stream",
     "text": [
      "                                                                                                                       \r"
     ]
    },
    {
     "name": "stdout",
     "output_type": "stream",
     "text": [
      "Step: 2990 Loss (unaveraged): -1.4827 Loss (averaged): 0.0296\n"
     ]
    },
    {
     "name": "stderr",
     "output_type": "stream",
     "text": [
      "                                                                                                                       \r"
     ]
    },
    {
     "name": "stdout",
     "output_type": "stream",
     "text": [
      "Step: 2999 Loss (unaveraged): -3.1157 Loss (averaged): 0.0267\n"
     ]
    },
    {
     "name": "stderr",
     "output_type": "stream",
     "text": [
      "100%|████████████████████████████████████████████████████████████████████████████| 3000/3000 [1:31:14<00:00,  1.82s/it]\n"
     ]
    },
    {
     "data": {
      "text/plain": [
       "<All keys matched successfully>"
      ]
     },
     "execution_count": 31,
     "metadata": {},
     "output_type": "execute_result"
    }
   ],
   "source": [
    "# Train both generator and discriminator.\n",
    "trange = tqdm.tqdm(range(steps))\n",
    "for step in trange:\n",
    "    real_samples, = next(infinite_train_dataloader)\n",
    "\n",
    "    generated_samples = generator(ts, batch_size)\n",
    "#     print(generated_samples.shape)\n",
    "#     print(generated_samples)\n",
    "    generated_score = discriminator(generated_samples)\n",
    "    real_score = discriminator(real_samples)\n",
    "    loss = generated_score - real_score\n",
    "#     loss.backward()\n",
    "    loss.backward()\n",
    "    for param in generator.parameters():\n",
    "        param.grad *= -1\n",
    "    generator_optimiser.step()\n",
    "    discriminator_optimiser.step()\n",
    "    generator_optimiser.zero_grad()\n",
    "    discriminator_optimiser.zero_grad()\n",
    "\n",
    "    ###################\n",
    "    # We constrain the Lipschitz constant of the discriminator using carefully-chosen clipping (and the use of\n",
    "    # LipSwish activation functions).\n",
    "    ###################\n",
    "    with torch.no_grad():\n",
    "        for module in discriminator.modules():\n",
    "            if isinstance(module, torch.nn.Linear):\n",
    "                lim = 1 / module.out_features\n",
    "                module.weight.clamp_(-lim, lim)\n",
    "\n",
    "    # Stochastic weight averaging typically improves performance.\n",
    "    if step > swa_step_start:\n",
    "        averaged_generator.update_parameters(generator)\n",
    "        averaged_discriminator.update_parameters(discriminator)\n",
    "\n",
    "    if (step % steps_per_print) == 0 or step == steps - 1:\n",
    "        total_unaveraged_loss = evaluate_loss(ts, batch_size, train_dataloader, generator, discriminator)\n",
    "        if step > swa_step_start:\n",
    "            total_averaged_loss = evaluate_loss(ts, batch_size, train_dataloader, averaged_generator.module,\n",
    "                                                averaged_discriminator.module)\n",
    "            trange.write(f\"Step: {step:3} Loss (unaveraged): {total_unaveraged_loss:.4f} \"\n",
    "                         f\"Loss (averaged): {total_averaged_loss:.4f}\")\n",
    "        else:\n",
    "            trange.write(f\"Step: {step:3} Loss (unaveraged): {total_unaveraged_loss:.4f}\")\n",
    "generator.load_state_dict(averaged_generator.module.state_dict())\n",
    "discriminator.load_state_dict(averaged_discriminator.module.state_dict())\n",
    "\n",
    "# _, _, test_dataloader = get_data(batch_size=batch_size, device=device)"
   ]
  },
  {
   "cell_type": "code",
   "execution_count": 68,
   "id": "054fa22e",
   "metadata": {},
   "outputs": [
    {
     "data": {
      "text/plain": [
       "tensor([6.9205e-03, 3.9936e+00, 5.6164e+00, 1.2225e+01, 1.2021e+01, 3.5876e+01,\n",
       "        2.2663e+01, 2.5705e-01, 6.7881e+00, 2.2482e+01, 2.7177e+00, 4.1491e+01,\n",
       "        1.3807e+01, 1.6522e+01, 1.6904e+00, 1.4342e+00, 9.6739e-01, 2.5793e+00,\n",
       "        8.4931e-01, 5.5797e-01, 7.8448e+00, 1.1761e+02],\n",
       "       grad_fn=<AbsBackward0>)"
      ]
     },
     "execution_count": 68,
     "metadata": {},
     "output_type": "execute_result"
    }
   ],
   "source": [
    "prova=generator(ts, batch_size=1)\n",
    "prova.shape\n",
    "prova=prova[0]\n",
    "torch.abs(prova[-1])"
   ]
  },
  {
   "cell_type": "code",
   "execution_count": 69,
   "id": "52ecad67",
   "metadata": {
    "scrolled": true
   },
   "outputs": [
    {
     "data": {
      "text/html": [
       "<div>\n",
       "<style scoped>\n",
       "    .dataframe tbody tr th:only-of-type {\n",
       "        vertical-align: middle;\n",
       "    }\n",
       "\n",
       "    .dataframe tbody tr th {\n",
       "        vertical-align: top;\n",
       "    }\n",
       "\n",
       "    .dataframe thead th {\n",
       "        text-align: right;\n",
       "    }\n",
       "</style>\n",
       "<table border=\"1\" class=\"dataframe\">\n",
       "  <thead>\n",
       "    <tr style=\"text-align: right;\">\n",
       "      <th></th>\n",
       "      <th>LBDHDDSI</th>\n",
       "      <th>LBDTCSI</th>\n",
       "      <th>LBXSUA</th>\n",
       "      <th>LBXSATSI</th>\n",
       "      <th>LBXSASSI</th>\n",
       "      <th>LBDSTPSI</th>\n",
       "      <th>LBDSALSI</th>\n",
       "      <th>LBXSTB</th>\n",
       "      <th>LBXHGB</th>\n",
       "      <th>LBXHCT</th>\n",
       "      <th>...</th>\n",
       "      <th>LBXMCHSI</th>\n",
       "      <th>LBXMC</th>\n",
       "      <th>LBXWBCSI</th>\n",
       "      <th>LBDNENO</th>\n",
       "      <th>LBDLYMNO</th>\n",
       "      <th>LBDMONO</th>\n",
       "      <th>LBDEONO</th>\n",
       "      <th>LBDBANO</th>\n",
       "      <th>LBDSIRSI</th>\n",
       "      <th>LBXPLTSI</th>\n",
       "    </tr>\n",
       "  </thead>\n",
       "  <tbody>\n",
       "    <tr>\n",
       "      <th>count</th>\n",
       "      <td>6547.000000</td>\n",
       "      <td>6547.000000</td>\n",
       "      <td>6547.00000</td>\n",
       "      <td>6547.000000</td>\n",
       "      <td>6547.000000</td>\n",
       "      <td>6547.000000</td>\n",
       "      <td>6547.000000</td>\n",
       "      <td>6547.000000</td>\n",
       "      <td>6547.000000</td>\n",
       "      <td>6547.000000</td>\n",
       "      <td>...</td>\n",
       "      <td>6547.000000</td>\n",
       "      <td>6547.000000</td>\n",
       "      <td>6547.000000</td>\n",
       "      <td>6547.000000</td>\n",
       "      <td>6547.000000</td>\n",
       "      <td>6547.000000</td>\n",
       "      <td>6547.000000</td>\n",
       "      <td>6547.000000</td>\n",
       "      <td>6547.000000</td>\n",
       "      <td>6547.000000</td>\n",
       "    </tr>\n",
       "    <tr>\n",
       "      <th>mean</th>\n",
       "      <td>1.362269</td>\n",
       "      <td>4.729313</td>\n",
       "      <td>5.34984</td>\n",
       "      <td>24.068144</td>\n",
       "      <td>25.112758</td>\n",
       "      <td>71.077810</td>\n",
       "      <td>42.822514</td>\n",
       "      <td>0.639306</td>\n",
       "      <td>13.960883</td>\n",
       "      <td>41.284924</td>\n",
       "      <td>...</td>\n",
       "      <td>29.953093</td>\n",
       "      <td>33.785215</td>\n",
       "      <td>7.293111</td>\n",
       "      <td>4.272518</td>\n",
       "      <td>2.191575</td>\n",
       "      <td>0.581158</td>\n",
       "      <td>0.202773</td>\n",
       "      <td>0.044838</td>\n",
       "      <td>14.949778</td>\n",
       "      <td>237.965175</td>\n",
       "    </tr>\n",
       "    <tr>\n",
       "      <th>std</th>\n",
       "      <td>0.401247</td>\n",
       "      <td>1.076347</td>\n",
       "      <td>1.40365</td>\n",
       "      <td>18.486176</td>\n",
       "      <td>17.743534</td>\n",
       "      <td>4.679562</td>\n",
       "      <td>3.435935</td>\n",
       "      <td>0.308692</td>\n",
       "      <td>1.507656</td>\n",
       "      <td>4.081439</td>\n",
       "      <td>...</td>\n",
       "      <td>2.489708</td>\n",
       "      <td>1.072428</td>\n",
       "      <td>2.301252</td>\n",
       "      <td>1.793620</td>\n",
       "      <td>0.921684</td>\n",
       "      <td>0.193684</td>\n",
       "      <td>0.183908</td>\n",
       "      <td>0.052067</td>\n",
       "      <td>6.507336</td>\n",
       "      <td>59.704024</td>\n",
       "    </tr>\n",
       "    <tr>\n",
       "      <th>min</th>\n",
       "      <td>0.260000</td>\n",
       "      <td>1.780000</td>\n",
       "      <td>0.70000</td>\n",
       "      <td>6.000000</td>\n",
       "      <td>9.000000</td>\n",
       "      <td>47.000000</td>\n",
       "      <td>24.000000</td>\n",
       "      <td>0.100000</td>\n",
       "      <td>6.400000</td>\n",
       "      <td>17.900000</td>\n",
       "      <td>...</td>\n",
       "      <td>16.800000</td>\n",
       "      <td>28.000000</td>\n",
       "      <td>2.300000</td>\n",
       "      <td>0.400000</td>\n",
       "      <td>0.400000</td>\n",
       "      <td>0.100000</td>\n",
       "      <td>0.000000</td>\n",
       "      <td>0.000000</td>\n",
       "      <td>0.900000</td>\n",
       "      <td>18.000000</td>\n",
       "    </tr>\n",
       "    <tr>\n",
       "      <th>25%</th>\n",
       "      <td>1.090000</td>\n",
       "      <td>3.960000</td>\n",
       "      <td>4.30000</td>\n",
       "      <td>15.000000</td>\n",
       "      <td>19.000000</td>\n",
       "      <td>68.000000</td>\n",
       "      <td>41.000000</td>\n",
       "      <td>0.400000</td>\n",
       "      <td>13.000000</td>\n",
       "      <td>38.600000</td>\n",
       "      <td>...</td>\n",
       "      <td>28.800000</td>\n",
       "      <td>33.200000</td>\n",
       "      <td>5.700000</td>\n",
       "      <td>3.100000</td>\n",
       "      <td>1.700000</td>\n",
       "      <td>0.400000</td>\n",
       "      <td>0.100000</td>\n",
       "      <td>0.000000</td>\n",
       "      <td>10.600000</td>\n",
       "      <td>198.000000</td>\n",
       "    </tr>\n",
       "    <tr>\n",
       "      <th>50%</th>\n",
       "      <td>1.290000</td>\n",
       "      <td>4.630000</td>\n",
       "      <td>5.20000</td>\n",
       "      <td>20.000000</td>\n",
       "      <td>22.000000</td>\n",
       "      <td>71.000000</td>\n",
       "      <td>43.000000</td>\n",
       "      <td>0.600000</td>\n",
       "      <td>13.900000</td>\n",
       "      <td>41.300000</td>\n",
       "      <td>...</td>\n",
       "      <td>30.200000</td>\n",
       "      <td>33.800000</td>\n",
       "      <td>7.000000</td>\n",
       "      <td>4.000000</td>\n",
       "      <td>2.100000</td>\n",
       "      <td>0.600000</td>\n",
       "      <td>0.200000</td>\n",
       "      <td>0.000000</td>\n",
       "      <td>14.100000</td>\n",
       "      <td>232.000000</td>\n",
       "    </tr>\n",
       "    <tr>\n",
       "      <th>75%</th>\n",
       "      <td>1.580000</td>\n",
       "      <td>5.380000</td>\n",
       "      <td>6.20000</td>\n",
       "      <td>27.000000</td>\n",
       "      <td>27.000000</td>\n",
       "      <td>74.000000</td>\n",
       "      <td>45.000000</td>\n",
       "      <td>0.800000</td>\n",
       "      <td>15.000000</td>\n",
       "      <td>44.100000</td>\n",
       "      <td>...</td>\n",
       "      <td>31.500000</td>\n",
       "      <td>34.400000</td>\n",
       "      <td>8.400000</td>\n",
       "      <td>5.100000</td>\n",
       "      <td>2.600000</td>\n",
       "      <td>0.700000</td>\n",
       "      <td>0.202773</td>\n",
       "      <td>0.100000</td>\n",
       "      <td>18.400000</td>\n",
       "      <td>272.000000</td>\n",
       "    </tr>\n",
       "    <tr>\n",
       "      <th>max</th>\n",
       "      <td>4.470000</td>\n",
       "      <td>21.020000</td>\n",
       "      <td>13.30000</td>\n",
       "      <td>536.000000</td>\n",
       "      <td>882.000000</td>\n",
       "      <td>102.000000</td>\n",
       "      <td>56.000000</td>\n",
       "      <td>7.100000</td>\n",
       "      <td>19.500000</td>\n",
       "      <td>56.500000</td>\n",
       "      <td>...</td>\n",
       "      <td>74.500000</td>\n",
       "      <td>69.600000</td>\n",
       "      <td>55.700000</td>\n",
       "      <td>25.600000</td>\n",
       "      <td>49.000000</td>\n",
       "      <td>3.400000</td>\n",
       "      <td>4.300000</td>\n",
       "      <td>0.800000</td>\n",
       "      <td>99.800000</td>\n",
       "      <td>669.000000</td>\n",
       "    </tr>\n",
       "  </tbody>\n",
       "</table>\n",
       "<p>8 rows × 22 columns</p>\n",
       "</div>"
      ],
      "text/plain": [
       "          LBDHDDSI      LBDTCSI      LBXSUA     LBXSATSI     LBXSASSI  \\\n",
       "count  6547.000000  6547.000000  6547.00000  6547.000000  6547.000000   \n",
       "mean      1.362269     4.729313     5.34984    24.068144    25.112758   \n",
       "std       0.401247     1.076347     1.40365    18.486176    17.743534   \n",
       "min       0.260000     1.780000     0.70000     6.000000     9.000000   \n",
       "25%       1.090000     3.960000     4.30000    15.000000    19.000000   \n",
       "50%       1.290000     4.630000     5.20000    20.000000    22.000000   \n",
       "75%       1.580000     5.380000     6.20000    27.000000    27.000000   \n",
       "max       4.470000    21.020000    13.30000   536.000000   882.000000   \n",
       "\n",
       "          LBDSTPSI     LBDSALSI       LBXSTB       LBXHGB       LBXHCT  ...  \\\n",
       "count  6547.000000  6547.000000  6547.000000  6547.000000  6547.000000  ...   \n",
       "mean     71.077810    42.822514     0.639306    13.960883    41.284924  ...   \n",
       "std       4.679562     3.435935     0.308692     1.507656     4.081439  ...   \n",
       "min      47.000000    24.000000     0.100000     6.400000    17.900000  ...   \n",
       "25%      68.000000    41.000000     0.400000    13.000000    38.600000  ...   \n",
       "50%      71.000000    43.000000     0.600000    13.900000    41.300000  ...   \n",
       "75%      74.000000    45.000000     0.800000    15.000000    44.100000  ...   \n",
       "max     102.000000    56.000000     7.100000    19.500000    56.500000  ...   \n",
       "\n",
       "          LBXMCHSI        LBXMC     LBXWBCSI      LBDNENO     LBDLYMNO  \\\n",
       "count  6547.000000  6547.000000  6547.000000  6547.000000  6547.000000   \n",
       "mean     29.953093    33.785215     7.293111     4.272518     2.191575   \n",
       "std       2.489708     1.072428     2.301252     1.793620     0.921684   \n",
       "min      16.800000    28.000000     2.300000     0.400000     0.400000   \n",
       "25%      28.800000    33.200000     5.700000     3.100000     1.700000   \n",
       "50%      30.200000    33.800000     7.000000     4.000000     2.100000   \n",
       "75%      31.500000    34.400000     8.400000     5.100000     2.600000   \n",
       "max      74.500000    69.600000    55.700000    25.600000    49.000000   \n",
       "\n",
       "           LBDMONO      LBDEONO      LBDBANO     LBDSIRSI     LBXPLTSI  \n",
       "count  6547.000000  6547.000000  6547.000000  6547.000000  6547.000000  \n",
       "mean      0.581158     0.202773     0.044838    14.949778   237.965175  \n",
       "std       0.193684     0.183908     0.052067     6.507336    59.704024  \n",
       "min       0.100000     0.000000     0.000000     0.900000    18.000000  \n",
       "25%       0.400000     0.100000     0.000000    10.600000   198.000000  \n",
       "50%       0.600000     0.200000     0.000000    14.100000   232.000000  \n",
       "75%       0.700000     0.202773     0.100000    18.400000   272.000000  \n",
       "max       3.400000     4.300000     0.800000    99.800000   669.000000  \n",
       "\n",
       "[8 rows x 22 columns]"
      ]
     },
     "execution_count": 69,
     "metadata": {},
     "output_type": "execute_result"
    }
   ],
   "source": [
    "labs_clean.iloc[:,1:].describe()"
   ]
  },
  {
   "cell_type": "code",
   "execution_count": 70,
   "id": "05fc5e77",
   "metadata": {},
   "outputs": [
    {
     "data": {
      "text/plain": [
       "Generator(\n",
       "  (_initial): MLP(\n",
       "    (_model): Sequential(\n",
       "      (0): Linear(in_features=15, out_features=32, bias=True)\n",
       "      (1): ReLU()\n",
       "      (2): Linear(in_features=32, out_features=32, bias=True)\n",
       "      (3): ReLU()\n",
       "      (4): Linear(in_features=32, out_features=16, bias=True)\n",
       "    )\n",
       "  )\n",
       "  (_func): GeneratorFunc(\n",
       "    (_drift): MLP(\n",
       "      (_model): Sequential(\n",
       "        (0): Linear(in_features=17, out_features=32, bias=True)\n",
       "        (1): ReLU()\n",
       "        (2): Linear(in_features=32, out_features=32, bias=True)\n",
       "        (3): ReLU()\n",
       "        (4): Linear(in_features=32, out_features=16, bias=True)\n",
       "      )\n",
       "    )\n",
       "    (_diffusion): MLP(\n",
       "      (_model): Sequential(\n",
       "        (0): Linear(in_features=17, out_features=32, bias=True)\n",
       "        (1): ReLU()\n",
       "        (2): Linear(in_features=32, out_features=32, bias=True)\n",
       "        (3): ReLU()\n",
       "        (4): Linear(in_features=32, out_features=160, bias=True)\n",
       "      )\n",
       "    )\n",
       "  )\n",
       "  (_readout): Linear(in_features=16, out_features=22, bias=True)\n",
       ")"
      ]
     },
     "execution_count": 70,
     "metadata": {},
     "output_type": "execute_result"
    }
   ],
   "source": [
    "generator"
   ]
  },
  {
   "cell_type": "code",
   "execution_count": 71,
   "id": "86c8a617",
   "metadata": {},
   "outputs": [
    {
     "data": {
      "text/plain": [
       "Discriminator(\n",
       "  (_initial): MLP(\n",
       "    (_model): Sequential(\n",
       "      (0): Linear(in_features=22, out_features=32, bias=True)\n",
       "      (1): ReLU()\n",
       "      (2): Linear(in_features=32, out_features=32, bias=True)\n",
       "      (3): ReLU()\n",
       "      (4): Linear(in_features=32, out_features=16, bias=True)\n",
       "    )\n",
       "  )\n",
       "  (_readout): Linear(in_features=16, out_features=1, bias=True)\n",
       ")"
      ]
     },
     "execution_count": 71,
     "metadata": {},
     "output_type": "execute_result"
    }
   ],
   "source": [
    "discriminator"
   ]
  },
  {
   "cell_type": "code",
   "execution_count": 72,
   "id": "35913d50",
   "metadata": {},
   "outputs": [],
   "source": [
    "torch.save(generator.state_dict(), './Models/Model_2/generator')"
   ]
  },
  {
   "cell_type": "code",
   "execution_count": 73,
   "id": "10312ec6",
   "metadata": {},
   "outputs": [],
   "source": [
    "torch.save(discriminator.state_dict(), './Models/Model_2/discriminator')"
   ]
  },
  {
   "cell_type": "code",
   "execution_count": null,
   "id": "67be5fb5",
   "metadata": {},
   "outputs": [],
   "source": []
  },
  {
   "cell_type": "code",
   "execution_count": 35,
   "id": "bea22037",
   "metadata": {},
   "outputs": [],
   "source": [
    "# generator = Generator()\n",
    "# generator.load_state_dict(torch.load('./Models/Model_2/generator'))\n",
    "# generator.eval()"
   ]
  },
  {
   "cell_type": "code",
   "execution_count": 36,
   "id": "cd3458f9",
   "metadata": {},
   "outputs": [],
   "source": [
    "# prova=generator(ts, batch_size=1)\n",
    "# prova.shape\n",
    "# prova=prova[0]\n",
    "# torch.abs(prova[-1])"
   ]
  },
  {
   "cell_type": "code",
   "execution_count": null,
   "id": "385d6e5a",
   "metadata": {},
   "outputs": [],
   "source": []
  },
  {
   "cell_type": "code",
   "execution_count": null,
   "id": "e320fd74",
   "metadata": {},
   "outputs": [],
   "source": []
  },
  {
   "cell_type": "code",
   "execution_count": null,
   "id": "777527cc",
   "metadata": {},
   "outputs": [],
   "source": []
  }
 ],
 "metadata": {
  "kernelspec": {
   "display_name": "NSDE_GANS",
   "language": "python",
   "name": "nsde_gans"
  },
  "language_info": {
   "codemirror_mode": {
    "name": "ipython",
    "version": 3
   },
   "file_extension": ".py",
   "mimetype": "text/x-python",
   "name": "python",
   "nbconvert_exporter": "python",
   "pygments_lexer": "ipython3",
   "version": "3.10.11"
  }
 },
 "nbformat": 4,
 "nbformat_minor": 5
}
